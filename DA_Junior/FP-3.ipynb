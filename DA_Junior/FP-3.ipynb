{
 "cells": [
  {
   "cell_type": "code",
   "execution_count": 2,
   "id": "fd34f840",
   "metadata": {},
   "outputs": [],
   "source": [
    "import os\n",
    "import numpy as np\n",
    "import sqlite3\n",
    "import pandas as pd\n",
    "from sklearn.model_selection import train_test_split,cross_val_score,StratifiedKFold\n",
    "from sklearn.preprocessing import OneHotEncoder, LabelEncoder\n",
    "from sklearn.ensemble import RandomForestClassifier\n",
    "from sklearn.metrics import f1_score,accuracy_score, confusion_matrix, classification_report\n",
    "from sklearn.linear_model import LogisticRegression\n",
    "from sklearn.model_selection import RandomizedSearchCV\n",
    "from sklearn.preprocessing import StandardScaler\n",
    "from sklearn.decomposition import FactorAnalysis,PCA\n",
    "import re\n",
    "from scipy.stats import ttest_ind\n",
    "from statsmodels.stats.proportion import proportions_ztest\n",
    "from sklearn.cluster import KMeans\n",
    "import matplotlib.pyplot as plt"
   ]
  },
  {
   "cell_type": "markdown",
   "id": "02d881d2",
   "metadata": {},
   "source": [
    "# 1. Предобработка данных"
   ]
  },
  {
   "cell_type": "code",
   "execution_count": 181,
   "id": "2ab8c54d",
   "metadata": {},
   "outputs": [
    {
     "name": "stdout",
     "output_type": "stream",
     "text": [
      "Таблицы базы данных:\n",
      "purchases\n",
      "personal_data_coeffs\n",
      "personal_data\n",
      "Список всех созданных DataFrame:\n",
      "personal_data_coeffs_df\n",
      "personal_data_df\n",
      "purchases_df\n"
     ]
    }
   ],
   "source": [
    "# Указываем полный путь к базе данных на диске D\n",
    "db_path = r'D:\\DO_NOT_REMOVE\\Data_Analyst_Junior\\FP\\result_data\\shop_database.db'\n",
    "\n",
    "# Проверяем, существует ли файл базы данных\n",
    "if os.path.exists(db_path):\n",
    "    # Подключаемся к базе данных\n",
    "    conn = sqlite3.connect(db_path)\n",
    "\n",
    "    # Создаем курсор для выполнения SQL-запросов\n",
    "    cursor = conn.cursor()\n",
    "\n",
    "    # Пример выполнения SQL-запроса (получение всех таблиц в базе)\n",
    "    cursor.execute(\"SELECT name FROM sqlite_master WHERE type='table';\")\n",
    "\n",
    "    # Получаем результат\n",
    "    tables = cursor.fetchall()\n",
    "    if tables:\n",
    "        print(\"Таблицы базы данных:\")\n",
    "        for table in tables:\n",
    "            print(table[0])\n",
    "        \n",
    "        unique_tables = list(set(table[0] for table in tables))\n",
    "        dataframes = {}\n",
    "        for table in unique_tables:\n",
    "            table_name = f\"{table}_df\"\n",
    "            query = f\"SELECT * FROM {table}\" \n",
    "            dataframes[table_name] = pd.read_sql_query(query, conn)\n",
    "       \n",
    "        # Создаем отдельные переменные для каждого DataFrame\n",
    "        for table_name, df in dataframes.items():\n",
    "            locals()[table_name] = df\n",
    "            \n",
    "        # Создаем список всех созданных DataFrame\n",
    "        list_of_dfs = list(dataframes.keys())\n",
    "        print(\"Список всех созданных DataFrame:\")\n",
    "        for df_name in list_of_dfs:\n",
    "            df = dataframes[df_name]  # Получаем DataFrame по имени ключа\n",
    "            print(df_name)\n",
    "            # Сохранить каждый DataFrame в файл с именем {df_name}.csv\n",
    "            file_path = fr'D:\\DO_NOT_REMOVE\\Data_Analyst_Junior\\FP\\{df_name}.csv'\n",
    "            df.to_csv(file_path, index=False)\n",
    "    else:\n",
    "        print(\"В базе данных таблиц не найдено.\")\n",
    "\n",
    "    # Закрываем соединение с базой данных\n",
    "    conn.close()\n",
    "else:\n",
    "    print(f\"База данных по пути {db_path} не найдена.\")"
   ]
  },
  {
   "cell_type": "markdown",
   "id": "9e344833",
   "metadata": {},
   "source": [
    "personal_data — ID клиентов, их пол, возраст, образование, страна и город проживания;\n",
    "\n",
    "personal_data_coeffs — данные с персональными коэффициентами клиентов, которые рассчитываются по некоторой закрытой схеме (вам потребуется коэффициент personal_coef);\n",
    "\n",
    "purchases — данные о покупках: ID покупателя, название товара, цвет, стоимость, гендерная принадлежность потенциальных покупателей товара, наличие скидки (поле base_sale. Значение 1 соответствует наличию скидки на момент покупки) и дата покупки."
   ]
  },
  {
   "cell_type": "code",
   "execution_count": 182,
   "id": "8a097e10",
   "metadata": {},
   "outputs": [],
   "source": [
    "# Рассчитываем базовые показатели качества данных\n",
    "def calculate_quality_metrics(df):\n",
    "    metrics = {}\n",
    "    metrics['Пропуски'] = df.isna().sum()\n",
    "    metrics['Процент ропущенных значений'] = df.isna().mean() * 100\n",
    "    metrics['Уникальные значения'] = df.nunique()\n",
    "    metrics['Дубликаты'] = df.duplicated().sum()\n",
    "    return pd.DataFrame(metrics)"
   ]
  },
  {
   "cell_type": "markdown",
   "id": "5d89a393",
   "metadata": {},
   "source": [
    " ### Восстановление закрытых утерянных данных (пол покупателей)."
   ]
  },
  {
   "cell_type": "code",
   "execution_count": 183,
   "id": "1d299774",
   "metadata": {},
   "outputs": [
    {
     "data": {
      "text/html": [
       "<div>\n",
       "<style scoped>\n",
       "    .dataframe tbody tr th:only-of-type {\n",
       "        vertical-align: middle;\n",
       "    }\n",
       "\n",
       "    .dataframe tbody tr th {\n",
       "        vertical-align: top;\n",
       "    }\n",
       "\n",
       "    .dataframe thead th {\n",
       "        text-align: right;\n",
       "    }\n",
       "</style>\n",
       "<table border=\"1\" class=\"dataframe\">\n",
       "  <thead>\n",
       "    <tr style=\"text-align: right;\">\n",
       "      <th></th>\n",
       "      <th>id</th>\n",
       "      <th>age</th>\n",
       "      <th>education</th>\n",
       "      <th>city</th>\n",
       "      <th>country</th>\n",
       "    </tr>\n",
       "  </thead>\n",
       "  <tbody>\n",
       "    <tr>\n",
       "      <th>0</th>\n",
       "      <td>101492</td>\n",
       "      <td>32</td>\n",
       "      <td>среднее</td>\n",
       "      <td>1188</td>\n",
       "      <td>32</td>\n",
       "    </tr>\n",
       "    <tr>\n",
       "      <th>1</th>\n",
       "      <td>42690</td>\n",
       "      <td>20</td>\n",
       "      <td>высшее</td>\n",
       "      <td>1134</td>\n",
       "      <td>32</td>\n",
       "    </tr>\n",
       "    <tr>\n",
       "      <th>2</th>\n",
       "      <td>113001</td>\n",
       "      <td>27</td>\n",
       "      <td>среднее</td>\n",
       "      <td>1187</td>\n",
       "      <td>32</td>\n",
       "    </tr>\n",
       "    <tr>\n",
       "      <th>3</th>\n",
       "      <td>163654</td>\n",
       "      <td>49</td>\n",
       "      <td>высшее</td>\n",
       "      <td>1160</td>\n",
       "      <td>32</td>\n",
       "    </tr>\n",
       "    <tr>\n",
       "      <th>4</th>\n",
       "      <td>69523</td>\n",
       "      <td>44</td>\n",
       "      <td>среднее</td>\n",
       "      <td>1137</td>\n",
       "      <td>32</td>\n",
       "    </tr>\n",
       "  </tbody>\n",
       "</table>\n",
       "</div>"
      ],
      "text/plain": [
       "       id  age education  city  country\n",
       "0  101492   32   среднее  1188       32\n",
       "1   42690   20    высшее  1134       32\n",
       "2  113001   27   среднее  1187       32\n",
       "3  163654   49    высшее  1160       32\n",
       "4   69523   44   среднее  1137       32"
      ]
     },
     "execution_count": 183,
     "metadata": {},
     "output_type": "execute_result"
    }
   ],
   "source": [
    "personal_data_ext_df = pd.read_csv(r'D:\\DO_NOT_REMOVE\\Data_Analyst_Junior\\FP\\personal_data.csv')\n",
    "personal_data_ext_df.head()"
   ]
  },
  {
   "cell_type": "code",
   "execution_count": 184,
   "id": "9e14ee30",
   "metadata": {
    "scrolled": true
   },
   "outputs": [
    {
     "name": "stdout",
     "output_type": "stream",
     "text": [
      "<class 'pandas.core.frame.DataFrame'>\n",
      "RangeIndex: 15748 entries, 0 to 15747\n",
      "Data columns (total 5 columns):\n",
      " #   Column     Non-Null Count  Dtype \n",
      "---  ------     --------------  ----- \n",
      " 0   id         15748 non-null  int64 \n",
      " 1   age        15748 non-null  int64 \n",
      " 2   education  15748 non-null  object\n",
      " 3   city       15748 non-null  int64 \n",
      " 4   country    15748 non-null  int64 \n",
      "dtypes: int64(4), object(1)\n",
      "memory usage: 615.3+ KB\n"
     ]
    }
   ],
   "source": [
    "personal_data_ext_df.info()"
   ]
  },
  {
   "cell_type": "code",
   "execution_count": 185,
   "id": "081171e1",
   "metadata": {},
   "outputs": [
    {
     "name": "stdout",
     "output_type": "stream",
     "text": [
      "Показатели качества данных:\n",
      "           Пропуски  Процент ропущенных значений  Уникальные значения  \\\n",
      "id                0                          0.0                15748   \n",
      "age               0                          0.0                   73   \n",
      "education         0                          0.0                    2   \n",
      "city              0                          0.0                  345   \n",
      "country           0                          0.0                   16   \n",
      "\n",
      "           Дубликаты  \n",
      "id                 0  \n",
      "age                0  \n",
      "education          0  \n",
      "city               0  \n",
      "country            0  \n"
     ]
    }
   ],
   "source": [
    "metrics = calculate_quality_metrics(personal_data_ext_df)\n",
    "print(\"Показатели качества данных:\")\n",
    "print(metrics)"
   ]
  },
  {
   "cell_type": "code",
   "execution_count": 186,
   "id": "e426169c",
   "metadata": {},
   "outputs": [
    {
     "data": {
      "text/html": [
       "<div>\n",
       "<style scoped>\n",
       "    .dataframe tbody tr th:only-of-type {\n",
       "        vertical-align: middle;\n",
       "    }\n",
       "\n",
       "    .dataframe tbody tr th {\n",
       "        vertical-align: top;\n",
       "    }\n",
       "\n",
       "    .dataframe thead th {\n",
       "        text-align: right;\n",
       "    }\n",
       "</style>\n",
       "<table border=\"1\" class=\"dataframe\">\n",
       "  <thead>\n",
       "    <tr style=\"text-align: right;\">\n",
       "      <th></th>\n",
       "      <th>id</th>\n",
       "      <th>gender</th>\n",
       "      <th>age</th>\n",
       "      <th>education</th>\n",
       "      <th>city</th>\n",
       "      <th>country</th>\n",
       "    </tr>\n",
       "  </thead>\n",
       "  <tbody>\n",
       "    <tr>\n",
       "      <th>0</th>\n",
       "      <td>0</td>\n",
       "      <td>0</td>\n",
       "      <td>36</td>\n",
       "      <td>среднее</td>\n",
       "      <td>1201</td>\n",
       "      <td>32</td>\n",
       "    </tr>\n",
       "    <tr>\n",
       "      <th>1</th>\n",
       "      <td>4</td>\n",
       "      <td>0</td>\n",
       "      <td>35</td>\n",
       "      <td>среднее</td>\n",
       "      <td>1134</td>\n",
       "      <td>32</td>\n",
       "    </tr>\n",
       "    <tr>\n",
       "      <th>2</th>\n",
       "      <td>6</td>\n",
       "      <td>1</td>\n",
       "      <td>52</td>\n",
       "      <td>среднее</td>\n",
       "      <td>1188</td>\n",
       "      <td>32</td>\n",
       "    </tr>\n",
       "    <tr>\n",
       "      <th>3</th>\n",
       "      <td>7</td>\n",
       "      <td>0</td>\n",
       "      <td>37</td>\n",
       "      <td>среднее</td>\n",
       "      <td>1198</td>\n",
       "      <td>32</td>\n",
       "    </tr>\n",
       "    <tr>\n",
       "      <th>4</th>\n",
       "      <td>9</td>\n",
       "      <td>0</td>\n",
       "      <td>48</td>\n",
       "      <td>среднее</td>\n",
       "      <td>1134</td>\n",
       "      <td>32</td>\n",
       "    </tr>\n",
       "  </tbody>\n",
       "</table>\n",
       "</div>"
      ],
      "text/plain": [
       "   id  gender  age education  city  country\n",
       "0   0       0   36   среднее  1201       32\n",
       "1   4       0   35   среднее  1134       32\n",
       "2   6       1   52   среднее  1188       32\n",
       "3   7       0   37   среднее  1198       32\n",
       "4   9       0   48   среднее  1134       32"
      ]
     },
     "execution_count": 186,
     "metadata": {},
     "output_type": "execute_result"
    }
   ],
   "source": [
    "personal_data_df.head()"
   ]
  },
  {
   "cell_type": "code",
   "execution_count": 187,
   "id": "02593ec8",
   "metadata": {},
   "outputs": [
    {
     "name": "stdout",
     "output_type": "stream",
     "text": [
      "<class 'pandas.core.frame.DataFrame'>\n",
      "RangeIndex: 89241 entries, 0 to 89240\n",
      "Data columns (total 6 columns):\n",
      " #   Column     Non-Null Count  Dtype \n",
      "---  ------     --------------  ----- \n",
      " 0   id         89241 non-null  int64 \n",
      " 1   gender     89241 non-null  int64 \n",
      " 2   age        89241 non-null  int64 \n",
      " 3   education  89241 non-null  object\n",
      " 4   city       89241 non-null  int64 \n",
      " 5   country    89241 non-null  int64 \n",
      "dtypes: int64(5), object(1)\n",
      "memory usage: 4.1+ MB\n"
     ]
    }
   ],
   "source": [
    "personal_data_df.info()"
   ]
  },
  {
   "cell_type": "code",
   "execution_count": 188,
   "id": "611b3be1",
   "metadata": {},
   "outputs": [
    {
     "name": "stdout",
     "output_type": "stream",
     "text": [
      "Показатели качества данных:\n",
      "           Пропуски  Процент ропущенных значений  Уникальные значения  \\\n",
      "id                0                          0.0                89241   \n",
      "gender            0                          0.0                    2   \n",
      "age               0                          0.0                   73   \n",
      "education         0                          0.0                    2   \n",
      "city              0                          0.0                  707   \n",
      "country           0                          0.0                   30   \n",
      "\n",
      "           Дубликаты  \n",
      "id                 0  \n",
      "gender             0  \n",
      "age                0  \n",
      "education          0  \n",
      "city               0  \n",
      "country            0  \n"
     ]
    }
   ],
   "source": [
    "metrics = calculate_quality_metrics(personal_data_df)\n",
    "print(\"Показатели качества данных:\")\n",
    "print(metrics)"
   ]
  },
  {
   "cell_type": "code",
   "execution_count": 189,
   "id": "575fd4a2",
   "metadata": {},
   "outputs": [
    {
     "data": {
      "text/html": [
       "<div>\n",
       "<style scoped>\n",
       "    .dataframe tbody tr th:only-of-type {\n",
       "        vertical-align: middle;\n",
       "    }\n",
       "\n",
       "    .dataframe tbody tr th {\n",
       "        vertical-align: top;\n",
       "    }\n",
       "\n",
       "    .dataframe thead th {\n",
       "        text-align: right;\n",
       "    }\n",
       "</style>\n",
       "<table border=\"1\" class=\"dataframe\">\n",
       "  <thead>\n",
       "    <tr style=\"text-align: right;\">\n",
       "      <th></th>\n",
       "      <th>id</th>\n",
       "      <th>lbt_coef</th>\n",
       "      <th>ac_coef</th>\n",
       "      <th>sm_coef</th>\n",
       "      <th>personal_coef</th>\n",
       "    </tr>\n",
       "  </thead>\n",
       "  <tbody>\n",
       "    <tr>\n",
       "      <th>0</th>\n",
       "      <td>0</td>\n",
       "      <td>5.078678</td>\n",
       "      <td>-0.307147</td>\n",
       "      <td>0.959027</td>\n",
       "      <td>0.5072</td>\n",
       "    </tr>\n",
       "    <tr>\n",
       "      <th>1</th>\n",
       "      <td>3</td>\n",
       "      <td>7.764766</td>\n",
       "      <td>-0.030225</td>\n",
       "      <td>0.794720</td>\n",
       "      <td>0.4304</td>\n",
       "    </tr>\n",
       "    <tr>\n",
       "      <th>2</th>\n",
       "      <td>4</td>\n",
       "      <td>4.569378</td>\n",
       "      <td>0.063693</td>\n",
       "      <td>0.820892</td>\n",
       "      <td>0.5072</td>\n",
       "    </tr>\n",
       "    <tr>\n",
       "      <th>3</th>\n",
       "      <td>6</td>\n",
       "      <td>8.150379</td>\n",
       "      <td>0.075200</td>\n",
       "      <td>0.836140</td>\n",
       "      <td>0.4304</td>\n",
       "    </tr>\n",
       "    <tr>\n",
       "      <th>4</th>\n",
       "      <td>7</td>\n",
       "      <td>5.188231</td>\n",
       "      <td>-0.000134</td>\n",
       "      <td>0.944113</td>\n",
       "      <td>0.5072</td>\n",
       "    </tr>\n",
       "  </tbody>\n",
       "</table>\n",
       "</div>"
      ],
      "text/plain": [
       "   id  lbt_coef   ac_coef   sm_coef  personal_coef\n",
       "0   0  5.078678 -0.307147  0.959027         0.5072\n",
       "1   3  7.764766 -0.030225  0.794720         0.4304\n",
       "2   4  4.569378  0.063693  0.820892         0.5072\n",
       "3   6  8.150379  0.075200  0.836140         0.4304\n",
       "4   7  5.188231 -0.000134  0.944113         0.5072"
      ]
     },
     "execution_count": 189,
     "metadata": {},
     "output_type": "execute_result"
    }
   ],
   "source": [
    "personal_data_coeffs_df.head()"
   ]
  },
  {
   "cell_type": "code",
   "execution_count": 190,
   "id": "538bbb6e",
   "metadata": {},
   "outputs": [
    {
     "name": "stdout",
     "output_type": "stream",
     "text": [
      "<class 'pandas.core.frame.DataFrame'>\n",
      "RangeIndex: 104989 entries, 0 to 104988\n",
      "Data columns (total 5 columns):\n",
      " #   Column         Non-Null Count   Dtype  \n",
      "---  ------         --------------   -----  \n",
      " 0   id             104989 non-null  int64  \n",
      " 1   lbt_coef       104989 non-null  float64\n",
      " 2   ac_coef        104989 non-null  float64\n",
      " 3   sm_coef        104989 non-null  float64\n",
      " 4   personal_coef  104989 non-null  float64\n",
      "dtypes: float64(4), int64(1)\n",
      "memory usage: 4.0 MB\n"
     ]
    }
   ],
   "source": [
    "personal_data_coeffs_df.info()"
   ]
  },
  {
   "cell_type": "code",
   "execution_count": 191,
   "id": "eabad98c",
   "metadata": {},
   "outputs": [
    {
     "name": "stdout",
     "output_type": "stream",
     "text": [
      "Показатели качества данных:\n",
      "               Пропуски  Процент ропущенных значений  Уникальные значения  \\\n",
      "id                    0                          0.0               104989   \n",
      "lbt_coef              0                          0.0               104989   \n",
      "ac_coef               0                          0.0               104945   \n",
      "sm_coef               0                          0.0               104989   \n",
      "personal_coef         0                          0.0                   15   \n",
      "\n",
      "               Дубликаты  \n",
      "id                     0  \n",
      "lbt_coef               0  \n",
      "ac_coef                0  \n",
      "sm_coef                0  \n",
      "personal_coef          0  \n"
     ]
    }
   ],
   "source": [
    "metrics = calculate_quality_metrics(personal_data_coeffs_df)\n",
    "print(\"Показатели качества данных:\")\n",
    "print(metrics)"
   ]
  },
  {
   "cell_type": "code",
   "execution_count": 192,
   "id": "3e681907",
   "metadata": {},
   "outputs": [
    {
     "data": {
      "text/html": [
       "<div>\n",
       "<style scoped>\n",
       "    .dataframe tbody tr th:only-of-type {\n",
       "        vertical-align: middle;\n",
       "    }\n",
       "\n",
       "    .dataframe tbody tr th {\n",
       "        vertical-align: top;\n",
       "    }\n",
       "\n",
       "    .dataframe thead th {\n",
       "        text-align: right;\n",
       "    }\n",
       "</style>\n",
       "<table border=\"1\" class=\"dataframe\">\n",
       "  <thead>\n",
       "    <tr style=\"text-align: right;\">\n",
       "      <th></th>\n",
       "      <th>id</th>\n",
       "      <th>product</th>\n",
       "      <th>colour</th>\n",
       "      <th>cost</th>\n",
       "      <th>product_sex</th>\n",
       "      <th>base_sale</th>\n",
       "      <th>dt</th>\n",
       "    </tr>\n",
       "  </thead>\n",
       "  <tbody>\n",
       "    <tr>\n",
       "      <th>0</th>\n",
       "      <td>0</td>\n",
       "      <td>Велосипед горный женский Stern Mira 2.0 26\"</td>\n",
       "      <td>белый/синий</td>\n",
       "      <td>13599</td>\n",
       "      <td>0.0</td>\n",
       "      <td>1</td>\n",
       "      <td>7</td>\n",
       "    </tr>\n",
       "    <tr>\n",
       "      <th>1</th>\n",
       "      <td>0</td>\n",
       "      <td>Стол Outventure</td>\n",
       "      <td>зелёный</td>\n",
       "      <td>1499</td>\n",
       "      <td>NaN</td>\n",
       "      <td>0</td>\n",
       "      <td>37</td>\n",
       "    </tr>\n",
       "    <tr>\n",
       "      <th>2</th>\n",
       "      <td>0</td>\n",
       "      <td>Набор Outventure: стол + 4 стула</td>\n",
       "      <td>бежевый</td>\n",
       "      <td>4799</td>\n",
       "      <td>NaN</td>\n",
       "      <td>0</td>\n",
       "      <td>37</td>\n",
       "    </tr>\n",
       "    <tr>\n",
       "      <th>3</th>\n",
       "      <td>3</td>\n",
       "      <td>Бутсы мужские GSD Astro</td>\n",
       "      <td>белый</td>\n",
       "      <td>1599</td>\n",
       "      <td>1.0</td>\n",
       "      <td>0</td>\n",
       "      <td>13</td>\n",
       "    </tr>\n",
       "    <tr>\n",
       "      <th>4</th>\n",
       "      <td>3</td>\n",
       "      <td>Мяч футбольный PUMA TEAMFINAL 21.2 FIFA QUALIT...</td>\n",
       "      <td>мультицвет</td>\n",
       "      <td>7199</td>\n",
       "      <td>NaN</td>\n",
       "      <td>0</td>\n",
       "      <td>27</td>\n",
       "    </tr>\n",
       "  </tbody>\n",
       "</table>\n",
       "</div>"
      ],
      "text/plain": [
       "   id                                            product       colour   cost  \\\n",
       "0   0        Велосипед горный женский Stern Mira 2.0 26\"  белый/синий  13599   \n",
       "1   0                                    Стол Outventure      зелёный   1499   \n",
       "2   0                   Набор Outventure: стол + 4 стула      бежевый   4799   \n",
       "3   3                            Бутсы мужские GSD Astro        белый   1599   \n",
       "4   3  Мяч футбольный PUMA TEAMFINAL 21.2 FIFA QUALIT...   мультицвет   7199   \n",
       "\n",
       "   product_sex  base_sale  dt  \n",
       "0          0.0          1   7  \n",
       "1          NaN          0  37  \n",
       "2          NaN          0  37  \n",
       "3          1.0          0  13  \n",
       "4          NaN          0  27  "
      ]
     },
     "execution_count": 192,
     "metadata": {},
     "output_type": "execute_result"
    }
   ],
   "source": [
    "purchases_df.head()"
   ]
  },
  {
   "cell_type": "code",
   "execution_count": 193,
   "id": "8dcb7666",
   "metadata": {},
   "outputs": [
    {
     "name": "stdout",
     "output_type": "stream",
     "text": [
      "<class 'pandas.core.frame.DataFrame'>\n",
      "RangeIndex: 786260 entries, 0 to 786259\n",
      "Data columns (total 7 columns):\n",
      " #   Column       Non-Null Count   Dtype  \n",
      "---  ------       --------------   -----  \n",
      " 0   id           786260 non-null  int64  \n",
      " 1   product      786260 non-null  object \n",
      " 2   colour       666736 non-null  object \n",
      " 3   cost         786260 non-null  int64  \n",
      " 4   product_sex  471548 non-null  float64\n",
      " 5   base_sale    786260 non-null  int64  \n",
      " 6   dt           786260 non-null  int64  \n",
      "dtypes: float64(1), int64(4), object(2)\n",
      "memory usage: 42.0+ MB\n"
     ]
    }
   ],
   "source": [
    "purchases_df.info()"
   ]
  },
  {
   "cell_type": "code",
   "execution_count": 194,
   "id": "a4b5fead",
   "metadata": {},
   "outputs": [
    {
     "name": "stdout",
     "output_type": "stream",
     "text": [
      "Показатели качества данных:\n",
      "             Пропуски  Процент ропущенных значений  Уникальные значения  \\\n",
      "id                  0                     0.000000               104989   \n",
      "product             0                     0.000000                23145   \n",
      "colour         119524                    15.201587                 1693   \n",
      "cost                0                     0.000000                 2402   \n",
      "product_sex    314712                    40.026454                    2   \n",
      "base_sale           0                     0.000000                    2   \n",
      "dt                  0                     0.000000                   59   \n",
      "\n",
      "             Дубликаты  \n",
      "id                   0  \n",
      "product              0  \n",
      "colour               0  \n",
      "cost                 0  \n",
      "product_sex          0  \n",
      "base_sale            0  \n",
      "dt                   0  \n"
     ]
    }
   ],
   "source": [
    "metrics = calculate_quality_metrics(purchases_df)\n",
    "print(\"Показатели качества данных:\")\n",
    "print(metrics)"
   ]
  },
  {
   "cell_type": "code",
   "execution_count": 195,
   "id": "d892867f",
   "metadata": {},
   "outputs": [],
   "source": [
    "# Функция для заполнения значений на основе текста в колонке product\n",
    "def fill_product_sex(row):\n",
    "    if pd.isna(row['product_sex']):\n",
    "        if \"мужской\" in row['product'].lower() or \"для мальчиков\" in row['product'].lower():\n",
    "            return 0.0\n",
    "        elif \"женский\" in row['product'].lower() or \"для девочек\" in row['product'].lower():\n",
    "            return 1.0\n",
    "        else:\n",
    "            return 2.0\n",
    "    return row['product_sex']  # Возвращаем текущее значение, если оно не NaN"
   ]
  },
  {
   "cell_type": "code",
   "execution_count": 196,
   "id": "c7738d28",
   "metadata": {},
   "outputs": [],
   "source": [
    "# Применяем функцию к каждому ряду\n",
    "purchases_df['product_sex'] = purchases_df.apply(fill_product_sex, axis=1)"
   ]
  },
  {
   "cell_type": "code",
   "execution_count": 197,
   "id": "bf3d4ec1",
   "metadata": {},
   "outputs": [],
   "source": [
    "purchases_df['colour'] = purchases_df['colour'].fillna('не указан')"
   ]
  },
  {
   "cell_type": "code",
   "execution_count": 198,
   "id": "ff27e76d",
   "metadata": {},
   "outputs": [],
   "source": [
    "purchases_df['colour'] = purchases_df['colour'].astype(str)"
   ]
  },
  {
   "cell_type": "code",
   "execution_count": 199,
   "id": "01a39341",
   "metadata": {},
   "outputs": [
    {
     "data": {
      "text/plain": [
       "5"
      ]
     },
     "execution_count": 199,
     "metadata": {},
     "output_type": "execute_result"
    }
   ],
   "source": [
    "max_splits = purchases_df['colour'].str.split('/').apply(len).max()\n",
    "max_splits"
   ]
  },
  {
   "cell_type": "code",
   "execution_count": 200,
   "id": "067a13ba",
   "metadata": {},
   "outputs": [],
   "source": [
    "# Разделение строки на колонки\n",
    "colour_split = purchases_df['colour'].str.split('/', expand=True, n=max_splits-1)"
   ]
  },
  {
   "cell_type": "code",
   "execution_count": 201,
   "id": "868ad17d",
   "metadata": {},
   "outputs": [],
   "source": [
    "# Заполнение пропусков пустыми строками (если есть строки с меньше количеством частей)\n",
    "colour_split = colour_split.fillna('')\n",
    "\n",
    "# Переименование колонок\n",
    "colour_split.columns = [f'colour_{i+1}' for i in range(colour_split.shape[1])]\n",
    "\n",
    "# Объединение с исходным DataFrame\n",
    "purchases_df = pd.concat([purchases_df, colour_split], axis=1)"
   ]
  },
  {
   "cell_type": "code",
   "execution_count": 202,
   "id": "d088edbf",
   "metadata": {},
   "outputs": [],
   "source": [
    "for i in range(colour_split.shape[1]):\n",
    "    purchases_df[f'colour_{i+1}'] = purchases_df[f'colour_{i+1}'].replace('', 'не задан').fillna('не задан')"
   ]
  },
  {
   "cell_type": "code",
   "execution_count": 203,
   "id": "dd0a8e40",
   "metadata": {
    "scrolled": true
   },
   "outputs": [
    {
     "data": {
      "text/html": [
       "<div>\n",
       "<style scoped>\n",
       "    .dataframe tbody tr th:only-of-type {\n",
       "        vertical-align: middle;\n",
       "    }\n",
       "\n",
       "    .dataframe tbody tr th {\n",
       "        vertical-align: top;\n",
       "    }\n",
       "\n",
       "    .dataframe thead th {\n",
       "        text-align: right;\n",
       "    }\n",
       "</style>\n",
       "<table border=\"1\" class=\"dataframe\">\n",
       "  <thead>\n",
       "    <tr style=\"text-align: right;\">\n",
       "      <th></th>\n",
       "      <th>id</th>\n",
       "      <th>product</th>\n",
       "      <th>colour</th>\n",
       "      <th>cost</th>\n",
       "      <th>product_sex</th>\n",
       "      <th>base_sale</th>\n",
       "      <th>dt</th>\n",
       "      <th>colour_1</th>\n",
       "      <th>colour_2</th>\n",
       "      <th>colour_3</th>\n",
       "      <th>colour_4</th>\n",
       "      <th>colour_5</th>\n",
       "    </tr>\n",
       "  </thead>\n",
       "  <tbody>\n",
       "    <tr>\n",
       "      <th>0</th>\n",
       "      <td>0</td>\n",
       "      <td>Велосипед горный женский Stern Mira 2.0 26\"</td>\n",
       "      <td>белый/синий</td>\n",
       "      <td>13599</td>\n",
       "      <td>0.0</td>\n",
       "      <td>1</td>\n",
       "      <td>7</td>\n",
       "      <td>белый</td>\n",
       "      <td>синий</td>\n",
       "      <td>не задан</td>\n",
       "      <td>не задан</td>\n",
       "      <td>не задан</td>\n",
       "    </tr>\n",
       "    <tr>\n",
       "      <th>1</th>\n",
       "      <td>0</td>\n",
       "      <td>Стол Outventure</td>\n",
       "      <td>зелёный</td>\n",
       "      <td>1499</td>\n",
       "      <td>2.0</td>\n",
       "      <td>0</td>\n",
       "      <td>37</td>\n",
       "      <td>зелёный</td>\n",
       "      <td>не задан</td>\n",
       "      <td>не задан</td>\n",
       "      <td>не задан</td>\n",
       "      <td>не задан</td>\n",
       "    </tr>\n",
       "    <tr>\n",
       "      <th>2</th>\n",
       "      <td>0</td>\n",
       "      <td>Набор Outventure: стол + 4 стула</td>\n",
       "      <td>бежевый</td>\n",
       "      <td>4799</td>\n",
       "      <td>2.0</td>\n",
       "      <td>0</td>\n",
       "      <td>37</td>\n",
       "      <td>бежевый</td>\n",
       "      <td>не задан</td>\n",
       "      <td>не задан</td>\n",
       "      <td>не задан</td>\n",
       "      <td>не задан</td>\n",
       "    </tr>\n",
       "    <tr>\n",
       "      <th>3</th>\n",
       "      <td>3</td>\n",
       "      <td>Бутсы мужские GSD Astro</td>\n",
       "      <td>белый</td>\n",
       "      <td>1599</td>\n",
       "      <td>1.0</td>\n",
       "      <td>0</td>\n",
       "      <td>13</td>\n",
       "      <td>белый</td>\n",
       "      <td>не задан</td>\n",
       "      <td>не задан</td>\n",
       "      <td>не задан</td>\n",
       "      <td>не задан</td>\n",
       "    </tr>\n",
       "    <tr>\n",
       "      <th>4</th>\n",
       "      <td>3</td>\n",
       "      <td>Мяч футбольный PUMA TEAMFINAL 21.2 FIFA QUALIT...</td>\n",
       "      <td>мультицвет</td>\n",
       "      <td>7199</td>\n",
       "      <td>2.0</td>\n",
       "      <td>0</td>\n",
       "      <td>27</td>\n",
       "      <td>мультицвет</td>\n",
       "      <td>не задан</td>\n",
       "      <td>не задан</td>\n",
       "      <td>не задан</td>\n",
       "      <td>не задан</td>\n",
       "    </tr>\n",
       "  </tbody>\n",
       "</table>\n",
       "</div>"
      ],
      "text/plain": [
       "   id                                            product       colour   cost  \\\n",
       "0   0        Велосипед горный женский Stern Mira 2.0 26\"  белый/синий  13599   \n",
       "1   0                                    Стол Outventure      зелёный   1499   \n",
       "2   0                   Набор Outventure: стол + 4 стула      бежевый   4799   \n",
       "3   3                            Бутсы мужские GSD Astro        белый   1599   \n",
       "4   3  Мяч футбольный PUMA TEAMFINAL 21.2 FIFA QUALIT...   мультицвет   7199   \n",
       "\n",
       "   product_sex  base_sale  dt    colour_1  colour_2  colour_3  colour_4  \\\n",
       "0          0.0          1   7       белый     синий  не задан  не задан   \n",
       "1          2.0          0  37     зелёный  не задан  не задан  не задан   \n",
       "2          2.0          0  37     бежевый  не задан  не задан  не задан   \n",
       "3          1.0          0  13       белый  не задан  не задан  не задан   \n",
       "4          2.0          0  27  мультицвет  не задан  не задан  не задан   \n",
       "\n",
       "   colour_5  \n",
       "0  не задан  \n",
       "1  не задан  \n",
       "2  не задан  \n",
       "3  не задан  \n",
       "4  не задан  "
      ]
     },
     "execution_count": 203,
     "metadata": {},
     "output_type": "execute_result"
    }
   ],
   "source": [
    "purchases_df.head(5)"
   ]
  },
  {
   "cell_type": "markdown",
   "id": "aeb48407",
   "metadata": {},
   "source": [
    "### Объединение данных из обоих источников personal_data"
   ]
  },
  {
   "cell_type": "code",
   "execution_count": 204,
   "id": "681920ce",
   "metadata": {},
   "outputs": [
    {
     "data": {
      "text/plain": [
       "(104989, 6)"
      ]
     },
     "execution_count": 204,
     "metadata": {},
     "output_type": "execute_result"
    }
   ],
   "source": [
    "personal_data = pd.concat([personal_data_ext_df,personal_data_df], axis=0)\n",
    "personal_data.shape"
   ]
  },
  {
   "cell_type": "markdown",
   "id": "7992f667",
   "metadata": {},
   "source": [
    "# 2. Бинарная классификация"
   ]
  },
  {
   "cell_type": "code",
   "execution_count": 205,
   "id": "77d9c942",
   "metadata": {},
   "outputs": [],
   "source": [
    "label_encoder = LabelEncoder()\n",
    "personal_data['education'] = label_encoder.fit_transform(personal_data['education'])"
   ]
  },
  {
   "cell_type": "code",
   "execution_count": 206,
   "id": "a3079f62",
   "metadata": {
    "scrolled": true
   },
   "outputs": [
    {
     "name": "stdout",
     "output_type": "stream",
     "text": [
      "<class 'pandas.core.frame.DataFrame'>\n",
      "Index: 104989 entries, 0 to 89240\n",
      "Data columns (total 6 columns):\n",
      " #   Column     Non-Null Count   Dtype  \n",
      "---  ------     --------------   -----  \n",
      " 0   id         104989 non-null  int64  \n",
      " 1   age        104989 non-null  int64  \n",
      " 2   education  104989 non-null  int32  \n",
      " 3   city       104989 non-null  int64  \n",
      " 4   country    104989 non-null  int64  \n",
      " 5   gender     89241 non-null   float64\n",
      "dtypes: float64(1), int32(1), int64(4)\n",
      "memory usage: 5.2 MB\n"
     ]
    }
   ],
   "source": [
    "personal_data.info()"
   ]
  },
  {
   "cell_type": "code",
   "execution_count": 209,
   "id": "e2d3c11e",
   "metadata": {},
   "outputs": [
    {
     "data": {
      "text/html": [
       "<div>\n",
       "<style scoped>\n",
       "    .dataframe tbody tr th:only-of-type {\n",
       "        vertical-align: middle;\n",
       "    }\n",
       "\n",
       "    .dataframe tbody tr th {\n",
       "        vertical-align: top;\n",
       "    }\n",
       "\n",
       "    .dataframe thead th {\n",
       "        text-align: right;\n",
       "    }\n",
       "</style>\n",
       "<table border=\"1\" class=\"dataframe\">\n",
       "  <thead>\n",
       "    <tr style=\"text-align: right;\">\n",
       "      <th></th>\n",
       "      <th>id</th>\n",
       "      <th>age</th>\n",
       "      <th>education</th>\n",
       "      <th>city</th>\n",
       "      <th>country</th>\n",
       "      <th>gender</th>\n",
       "    </tr>\n",
       "  </thead>\n",
       "  <tbody>\n",
       "    <tr>\n",
       "      <th>0</th>\n",
       "      <td>101492</td>\n",
       "      <td>32</td>\n",
       "      <td>1</td>\n",
       "      <td>1188</td>\n",
       "      <td>32</td>\n",
       "      <td>NaN</td>\n",
       "    </tr>\n",
       "    <tr>\n",
       "      <th>1</th>\n",
       "      <td>42690</td>\n",
       "      <td>20</td>\n",
       "      <td>0</td>\n",
       "      <td>1134</td>\n",
       "      <td>32</td>\n",
       "      <td>NaN</td>\n",
       "    </tr>\n",
       "    <tr>\n",
       "      <th>2</th>\n",
       "      <td>113001</td>\n",
       "      <td>27</td>\n",
       "      <td>1</td>\n",
       "      <td>1187</td>\n",
       "      <td>32</td>\n",
       "      <td>NaN</td>\n",
       "    </tr>\n",
       "    <tr>\n",
       "      <th>3</th>\n",
       "      <td>163654</td>\n",
       "      <td>49</td>\n",
       "      <td>0</td>\n",
       "      <td>1160</td>\n",
       "      <td>32</td>\n",
       "      <td>NaN</td>\n",
       "    </tr>\n",
       "    <tr>\n",
       "      <th>4</th>\n",
       "      <td>69523</td>\n",
       "      <td>44</td>\n",
       "      <td>1</td>\n",
       "      <td>1137</td>\n",
       "      <td>32</td>\n",
       "      <td>NaN</td>\n",
       "    </tr>\n",
       "  </tbody>\n",
       "</table>\n",
       "</div>"
      ],
      "text/plain": [
       "       id  age  education  city  country  gender\n",
       "0  101492   32          1  1188       32     NaN\n",
       "1   42690   20          0  1134       32     NaN\n",
       "2  113001   27          1  1187       32     NaN\n",
       "3  163654   49          0  1160       32     NaN\n",
       "4   69523   44          1  1137       32     NaN"
      ]
     },
     "execution_count": 209,
     "metadata": {},
     "output_type": "execute_result"
    }
   ],
   "source": [
    "personal_data.head()"
   ]
  },
  {
   "cell_type": "code",
   "execution_count": 210,
   "id": "0ae479a7",
   "metadata": {},
   "outputs": [],
   "source": [
    "# Разделение данных на обучающий и тестовый наборы\n",
    "train_data = personal_data.dropna()  # Удаляем строки с пропущенными значениями в поле \"gender\" для обучения модели\n",
    "X_train = train_data.drop(['id', 'gender'], axis=1)\n",
    "y_train = train_data['gender']"
   ]
  },
  {
   "cell_type": "code",
   "execution_count": 211,
   "id": "5d899694",
   "metadata": {},
   "outputs": [
    {
     "data": {
      "text/html": [
       "<style>#sk-container-id-6 {color: black;}#sk-container-id-6 pre{padding: 0;}#sk-container-id-6 div.sk-toggleable {background-color: white;}#sk-container-id-6 label.sk-toggleable__label {cursor: pointer;display: block;width: 100%;margin-bottom: 0;padding: 0.3em;box-sizing: border-box;text-align: center;}#sk-container-id-6 label.sk-toggleable__label-arrow:before {content: \"▸\";float: left;margin-right: 0.25em;color: #696969;}#sk-container-id-6 label.sk-toggleable__label-arrow:hover:before {color: black;}#sk-container-id-6 div.sk-estimator:hover label.sk-toggleable__label-arrow:before {color: black;}#sk-container-id-6 div.sk-toggleable__content {max-height: 0;max-width: 0;overflow: hidden;text-align: left;background-color: #f0f8ff;}#sk-container-id-6 div.sk-toggleable__content pre {margin: 0.2em;color: black;border-radius: 0.25em;background-color: #f0f8ff;}#sk-container-id-6 input.sk-toggleable__control:checked~div.sk-toggleable__content {max-height: 200px;max-width: 100%;overflow: auto;}#sk-container-id-6 input.sk-toggleable__control:checked~label.sk-toggleable__label-arrow:before {content: \"▾\";}#sk-container-id-6 div.sk-estimator input.sk-toggleable__control:checked~label.sk-toggleable__label {background-color: #d4ebff;}#sk-container-id-6 div.sk-label input.sk-toggleable__control:checked~label.sk-toggleable__label {background-color: #d4ebff;}#sk-container-id-6 input.sk-hidden--visually {border: 0;clip: rect(1px 1px 1px 1px);clip: rect(1px, 1px, 1px, 1px);height: 1px;margin: -1px;overflow: hidden;padding: 0;position: absolute;width: 1px;}#sk-container-id-6 div.sk-estimator {font-family: monospace;background-color: #f0f8ff;border: 1px dotted black;border-radius: 0.25em;box-sizing: border-box;margin-bottom: 0.5em;}#sk-container-id-6 div.sk-estimator:hover {background-color: #d4ebff;}#sk-container-id-6 div.sk-parallel-item::after {content: \"\";width: 100%;border-bottom: 1px solid gray;flex-grow: 1;}#sk-container-id-6 div.sk-label:hover label.sk-toggleable__label {background-color: #d4ebff;}#sk-container-id-6 div.sk-serial::before {content: \"\";position: absolute;border-left: 1px solid gray;box-sizing: border-box;top: 0;bottom: 0;left: 50%;z-index: 0;}#sk-container-id-6 div.sk-serial {display: flex;flex-direction: column;align-items: center;background-color: white;padding-right: 0.2em;padding-left: 0.2em;position: relative;}#sk-container-id-6 div.sk-item {position: relative;z-index: 1;}#sk-container-id-6 div.sk-parallel {display: flex;align-items: stretch;justify-content: center;background-color: white;position: relative;}#sk-container-id-6 div.sk-item::before, #sk-container-id-6 div.sk-parallel-item::before {content: \"\";position: absolute;border-left: 1px solid gray;box-sizing: border-box;top: 0;bottom: 0;left: 50%;z-index: -1;}#sk-container-id-6 div.sk-parallel-item {display: flex;flex-direction: column;z-index: 1;position: relative;background-color: white;}#sk-container-id-6 div.sk-parallel-item:first-child::after {align-self: flex-end;width: 50%;}#sk-container-id-6 div.sk-parallel-item:last-child::after {align-self: flex-start;width: 50%;}#sk-container-id-6 div.sk-parallel-item:only-child::after {width: 0;}#sk-container-id-6 div.sk-dashed-wrapped {border: 1px dashed gray;margin: 0 0.4em 0.5em 0.4em;box-sizing: border-box;padding-bottom: 0.4em;background-color: white;}#sk-container-id-6 div.sk-label label {font-family: monospace;font-weight: bold;display: inline-block;line-height: 1.2em;}#sk-container-id-6 div.sk-label-container {text-align: center;}#sk-container-id-6 div.sk-container {/* jupyter's `normalize.less` sets `[hidden] { display: none; }` but bootstrap.min.css set `[hidden] { display: none !important; }` so we also need the `!important` here to be able to override the default hidden behavior on the sphinx rendered scikit-learn.org. See: https://github.com/scikit-learn/scikit-learn/issues/21755 */display: inline-block !important;position: relative;}#sk-container-id-6 div.sk-text-repr-fallback {display: none;}</style><div id=\"sk-container-id-6\" class=\"sk-top-container\"><div class=\"sk-text-repr-fallback\"><pre>RandomForestClassifier(random_state=42)</pre><b>In a Jupyter environment, please rerun this cell to show the HTML representation or trust the notebook. <br />On GitHub, the HTML representation is unable to render, please try loading this page with nbviewer.org.</b></div><div class=\"sk-container\" hidden><div class=\"sk-item\"><div class=\"sk-estimator sk-toggleable\"><input class=\"sk-toggleable__control sk-hidden--visually\" id=\"sk-estimator-id-6\" type=\"checkbox\" checked><label for=\"sk-estimator-id-6\" class=\"sk-toggleable__label sk-toggleable__label-arrow\">RandomForestClassifier</label><div class=\"sk-toggleable__content\"><pre>RandomForestClassifier(random_state=42)</pre></div></div></div></div></div>"
      ],
      "text/plain": [
       "RandomForestClassifier(random_state=42)"
      ]
     },
     "execution_count": 211,
     "metadata": {},
     "output_type": "execute_result"
    }
   ],
   "source": [
    "# Обучение модели случайного леса\n",
    "model = RandomForestClassifier(n_estimators=100, random_state=42)\n",
    "model.fit(X_train, y_train)"
   ]
  },
  {
   "cell_type": "code",
   "execution_count": 212,
   "id": "4a5b3979",
   "metadata": {},
   "outputs": [],
   "source": [
    "# Прогнозирование пропущенных значений в поле \"gender\"\n",
    "missing_data = personal_data[personal_data['gender'].isnull()].drop(['id', 'gender'], axis=1)\n",
    "predicted_gender = model.predict(missing_data)"
   ]
  },
  {
   "cell_type": "code",
   "execution_count": 213,
   "id": "470d5854",
   "metadata": {},
   "outputs": [],
   "source": [
    "# Заполнение пропущенных значений предсказанными значениями пола\n",
    "personal_data.loc[personal_data['gender'].isnull(), 'gender'] = predicted_gender"
   ]
  },
  {
   "cell_type": "code",
   "execution_count": 214,
   "id": "bf707243",
   "metadata": {},
   "outputs": [],
   "source": [
    "# Разделение данных на обучающий и тестовый наборы для оценки модели\n",
    "X = personal_data.drop(['id', 'gender'], axis=1)\n",
    "y = personal_data['gender']\n",
    "X_train, X_test, y_train, y_test = train_test_split(X, y, test_size=0.2, random_state=42)"
   ]
  },
  {
   "cell_type": "code",
   "execution_count": 215,
   "id": "562ddb2d",
   "metadata": {},
   "outputs": [],
   "source": [
    "y_pred = model.predict(X_test)"
   ]
  },
  {
   "cell_type": "code",
   "execution_count": 216,
   "id": "2e7f8a6e",
   "metadata": {},
   "outputs": [
    {
     "name": "stdout",
     "output_type": "stream",
     "text": [
      "F-мера: 0.6660698870272258\n",
      "Accuracy score: 0.6854938565577674\n"
     ]
    }
   ],
   "source": [
    "# Оценка качества модели на тестовом наборе данных\n",
    "accuracy = model.score(X_test, y_test)\n",
    "f1 = f1_score(y_test, y_pred, average='weighted')\n",
    "print(f'F-мера: {f1}')\n",
    "print(\"Accuracy score:\", accuracy)"
   ]
  },
  {
   "cell_type": "code",
   "execution_count": null,
   "id": "22bdfa2f",
   "metadata": {},
   "outputs": [],
   "source": []
  },
  {
   "cell_type": "markdown",
   "id": "852feb29",
   "metadata": {},
   "source": [
    "### Полное объединение данных "
   ]
  },
  {
   "cell_type": "code",
   "execution_count": 217,
   "id": "3c7ee08e",
   "metadata": {},
   "outputs": [],
   "source": [
    "data_full = personal_data.merge(personal_data_coeffs_df[['id', 'personal_coef']], on='id', how='left') \\\n",
    "                       .merge(purchases_df, on='id', how='left') \\\n",
    "                       .reset_index(drop=True)"
   ]
  },
  {
   "cell_type": "code",
   "execution_count": 218,
   "id": "2e637b06",
   "metadata": {},
   "outputs": [
    {
     "name": "stdout",
     "output_type": "stream",
     "text": [
      "<class 'pandas.core.frame.DataFrame'>\n",
      "RangeIndex: 786260 entries, 0 to 786259\n",
      "Data columns (total 18 columns):\n",
      " #   Column         Non-Null Count   Dtype  \n",
      "---  ------         --------------   -----  \n",
      " 0   id             786260 non-null  int64  \n",
      " 1   age            786260 non-null  int64  \n",
      " 2   education      786260 non-null  int32  \n",
      " 3   city           786260 non-null  int64  \n",
      " 4   country        786260 non-null  int64  \n",
      " 5   gender         786260 non-null  float64\n",
      " 6   personal_coef  786260 non-null  float64\n",
      " 7   product        786260 non-null  object \n",
      " 8   colour         786260 non-null  object \n",
      " 9   cost           786260 non-null  int64  \n",
      " 10  product_sex    786260 non-null  float64\n",
      " 11  base_sale      786260 non-null  int64  \n",
      " 12  dt             786260 non-null  int64  \n",
      " 13  colour_1       786260 non-null  object \n",
      " 14  colour_2       786260 non-null  object \n",
      " 15  colour_3       786260 non-null  object \n",
      " 16  colour_4       786260 non-null  object \n",
      " 17  colour_5       786260 non-null  object \n",
      "dtypes: float64(3), int32(1), int64(7), object(7)\n",
      "memory usage: 105.0+ MB\n"
     ]
    }
   ],
   "source": [
    "data_full.info()"
   ]
  },
  {
   "cell_type": "code",
   "execution_count": 219,
   "id": "409b35f8",
   "metadata": {},
   "outputs": [
    {
     "name": "stdout",
     "output_type": "stream",
     "text": [
      "Показатели качества данных:\n",
      "               Пропуски  Процент ропущенных значений  Уникальные значения  \\\n",
      "id                    0                          0.0               104989   \n",
      "age                   0                          0.0                   73   \n",
      "education             0                          0.0                    2   \n",
      "city                  0                          0.0                  765   \n",
      "country               0                          0.0                   33   \n",
      "gender                0                          0.0                    2   \n",
      "personal_coef         0                          0.0                   15   \n",
      "product               0                          0.0                23145   \n",
      "colour                0                          0.0                 1694   \n",
      "cost                  0                          0.0                 2402   \n",
      "product_sex           0                          0.0                    3   \n",
      "base_sale             0                          0.0                    2   \n",
      "dt                    0                          0.0                   59   \n",
      "colour_1              0                          0.0                  332   \n",
      "colour_2              0                          0.0                  136   \n",
      "colour_3              0                          0.0                   58   \n",
      "colour_4              0                          0.0                   16   \n",
      "colour_5              0                          0.0                    6   \n",
      "\n",
      "               Дубликаты  \n",
      "id                     0  \n",
      "age                    0  \n",
      "education              0  \n",
      "city                   0  \n",
      "country                0  \n",
      "gender                 0  \n",
      "personal_coef          0  \n",
      "product                0  \n",
      "colour                 0  \n",
      "cost                   0  \n",
      "product_sex            0  \n",
      "base_sale              0  \n",
      "dt                     0  \n",
      "colour_1               0  \n",
      "colour_2               0  \n",
      "colour_3               0  \n",
      "colour_4               0  \n",
      "colour_5               0  \n"
     ]
    }
   ],
   "source": [
    "metrics = calculate_quality_metrics(data_full)\n",
    "print(\"Показатели качества данных:\")\n",
    "print(metrics)"
   ]
  },
  {
   "cell_type": "code",
   "execution_count": 220,
   "id": "abbeb595",
   "metadata": {},
   "outputs": [],
   "source": [
    "# Отбор данных только о жителях страны 32 \n",
    "data_for_analysis = data_full[data_full['country']==32].copy()"
   ]
  },
  {
   "cell_type": "code",
   "execution_count": 225,
   "id": "cf419130",
   "metadata": {},
   "outputs": [],
   "source": [
    "# Приводим колонки 'education','gender','city', 'country','product_sex','base_sale'  к типу \"category\"\n",
    "data_for_analysis[['education','gender','city', 'country','product_sex','base_sale']] = data_full[\n",
    "                            ['education','gender','city', 'country','product_sex','base_sale']].astype('category')"
   ]
  },
  {
   "cell_type": "code",
   "execution_count": 226,
   "id": "6d7b684c",
   "metadata": {},
   "outputs": [
    {
     "data": {
      "text/plain": [
       "(780117, 18)"
      ]
     },
     "execution_count": 226,
     "metadata": {},
     "output_type": "execute_result"
    }
   ],
   "source": [
    "data_for_analysis.shape"
   ]
  },
  {
   "cell_type": "code",
   "execution_count": 227,
   "id": "82c8b982",
   "metadata": {},
   "outputs": [],
   "source": [
    "columns_to_drop = ['id','product', 'colour','colour_1', 'colour_2','colour_3','colour_4', 'colour_5']"
   ]
  },
  {
   "cell_type": "code",
   "execution_count": 228,
   "id": "bda02ea8",
   "metadata": {},
   "outputs": [],
   "source": [
    "clean_data_for_analysis = data_for_analysis.copy().drop(columns_to_drop, axis =1)"
   ]
  },
  {
   "cell_type": "code",
   "execution_count": 229,
   "id": "b7937a74",
   "metadata": {},
   "outputs": [
    {
     "data": {
      "text/html": [
       "<div>\n",
       "<style scoped>\n",
       "    .dataframe tbody tr th:only-of-type {\n",
       "        vertical-align: middle;\n",
       "    }\n",
       "\n",
       "    .dataframe tbody tr th {\n",
       "        vertical-align: top;\n",
       "    }\n",
       "\n",
       "    .dataframe thead th {\n",
       "        text-align: right;\n",
       "    }\n",
       "</style>\n",
       "<table border=\"1\" class=\"dataframe\">\n",
       "  <thead>\n",
       "    <tr style=\"text-align: right;\">\n",
       "      <th></th>\n",
       "      <th>age</th>\n",
       "      <th>education</th>\n",
       "      <th>city</th>\n",
       "      <th>country</th>\n",
       "      <th>gender</th>\n",
       "      <th>personal_coef</th>\n",
       "      <th>cost</th>\n",
       "      <th>product_sex</th>\n",
       "      <th>base_sale</th>\n",
       "      <th>dt</th>\n",
       "    </tr>\n",
       "  </thead>\n",
       "  <tbody>\n",
       "    <tr>\n",
       "      <th>0</th>\n",
       "      <td>32</td>\n",
       "      <td>1</td>\n",
       "      <td>1188</td>\n",
       "      <td>32</td>\n",
       "      <td>1.0</td>\n",
       "      <td>0.4304</td>\n",
       "      <td>11999</td>\n",
       "      <td>2.0</td>\n",
       "      <td>0</td>\n",
       "      <td>0</td>\n",
       "    </tr>\n",
       "    <tr>\n",
       "      <th>1</th>\n",
       "      <td>32</td>\n",
       "      <td>1</td>\n",
       "      <td>1188</td>\n",
       "      <td>32</td>\n",
       "      <td>1.0</td>\n",
       "      <td>0.4304</td>\n",
       "      <td>69499</td>\n",
       "      <td>2.0</td>\n",
       "      <td>0</td>\n",
       "      <td>39</td>\n",
       "    </tr>\n",
       "    <tr>\n",
       "      <th>2</th>\n",
       "      <td>20</td>\n",
       "      <td>0</td>\n",
       "      <td>1134</td>\n",
       "      <td>32</td>\n",
       "      <td>1.0</td>\n",
       "      <td>0.4688</td>\n",
       "      <td>4190</td>\n",
       "      <td>2.0</td>\n",
       "      <td>0</td>\n",
       "      <td>6</td>\n",
       "    </tr>\n",
       "    <tr>\n",
       "      <th>3</th>\n",
       "      <td>20</td>\n",
       "      <td>0</td>\n",
       "      <td>1134</td>\n",
       "      <td>32</td>\n",
       "      <td>1.0</td>\n",
       "      <td>0.4688</td>\n",
       "      <td>499</td>\n",
       "      <td>1.0</td>\n",
       "      <td>0</td>\n",
       "      <td>21</td>\n",
       "    </tr>\n",
       "    <tr>\n",
       "      <th>4</th>\n",
       "      <td>20</td>\n",
       "      <td>0</td>\n",
       "      <td>1134</td>\n",
       "      <td>32</td>\n",
       "      <td>1.0</td>\n",
       "      <td>0.4688</td>\n",
       "      <td>5249</td>\n",
       "      <td>1.0</td>\n",
       "      <td>1</td>\n",
       "      <td>21</td>\n",
       "    </tr>\n",
       "  </tbody>\n",
       "</table>\n",
       "</div>"
      ],
      "text/plain": [
       "   age education  city country gender  personal_coef   cost product_sex  \\\n",
       "0   32         1  1188      32    1.0         0.4304  11999         2.0   \n",
       "1   32         1  1188      32    1.0         0.4304  69499         2.0   \n",
       "2   20         0  1134      32    1.0         0.4688   4190         2.0   \n",
       "3   20         0  1134      32    1.0         0.4688    499         1.0   \n",
       "4   20         0  1134      32    1.0         0.4688   5249         1.0   \n",
       "\n",
       "  base_sale  dt  \n",
       "0         0   0  \n",
       "1         0  39  \n",
       "2         0   6  \n",
       "3         0  21  \n",
       "4         1  21  "
      ]
     },
     "execution_count": 229,
     "metadata": {},
     "output_type": "execute_result"
    }
   ],
   "source": [
    "clean_data_for_analysis.head(5)"
   ]
  },
  {
   "cell_type": "code",
   "execution_count": 230,
   "id": "decf3577",
   "metadata": {},
   "outputs": [
    {
     "data": {
      "text/plain": [
       "(780117, 10)"
      ]
     },
     "execution_count": 230,
     "metadata": {},
     "output_type": "execute_result"
    }
   ],
   "source": [
    "clean_data_for_analysis.shape"
   ]
  },
  {
   "cell_type": "code",
   "execution_count": 231,
   "id": "655f8cb0",
   "metadata": {},
   "outputs": [],
   "source": [
    "# Вычисление корреляции\n",
    "correlation_matrix = clean_data_for_analysis.corr()"
   ]
  },
  {
   "cell_type": "code",
   "execution_count": 232,
   "id": "7fc5d5b7",
   "metadata": {},
   "outputs": [
    {
     "data": {
      "image/png": "[encoded data removed]",
      "text/plain": [
       "<Figure size 1000x800 with 2 Axes>"
      ]
     },
     "metadata": {},
     "output_type": "display_data"
    }
   ],
   "source": [
    "import matplotlib.pyplot as plt\n",
    "import seaborn as sns\n",
    "# Визуализация корреляционной матрицы с помощью Seaborn\n",
    "plt.figure(figsize=(10, 8))\n",
    "sns.heatmap(correlation_matrix, annot=True, cmap='coolwarm', fmt=\".2f\", center=0, square=True, linewidths=.5)\n",
    "plt.title('Корреляционная матрица')\n",
    "plt.show()"
   ]
  },
  {
   "cell_type": "markdown",
   "id": "a16b604d",
   "metadata": {},
   "source": [
    "#  3. Проведение A/B-тестирования"
   ]
  },
  {
   "cell_type": "code",
   "execution_count": 233,
   "id": "30533971",
   "metadata": {},
   "outputs": [],
   "source": [
    "def read_custom_file(file_path):\n",
    "    with open(file_path, 'r') as file:\n",
    "        # Читаем первую строку\n",
    "        first_line = file.readline().strip()\n",
    "        \n",
    "        # Используем регулярное выражение для разделения буквенной части (заголовка) и числовой части\n",
    "        match = re.match(r'([A-Za-z\\s]+)(.*)', first_line)\n",
    "        if match:\n",
    "            header = match.group(1).strip()  # Заголовок - буквенная часть\n",
    "            first_line_values = match.group(2).strip()  # Числовая часть\n",
    "        else:\n",
    "            raise ValueError(\"Невозможно выделить заголовок и значения из первой строки\")\n",
    "        \n",
    "        # Читаем оставшиеся строки\n",
    "        data = file.read().strip()\n",
    "        \n",
    "        # Объединяем числовую часть первой строки и остальные строки\n",
    "        all_values = first_line_values + \" \" + data\n",
    "        \n",
    "    # Разделяем данные по любому из разделителей: запятая, точка с запятой или пробел\n",
    "    values = re.split(r'[ ,;]+', all_values.strip())\n",
    "\n",
    "    # Создаем DataFrame с одним столбцом и всеми значениями\n",
    "    df = pd.DataFrame({header: values})\n",
    "    return df"
   ]
  },
  {
   "cell_type": "code",
   "execution_count": 234,
   "id": "73796744",
   "metadata": {},
   "outputs": [
    {
     "data": {
      "text/html": [
       "<div>\n",
       "<style scoped>\n",
       "    .dataframe tbody tr th:only-of-type {\n",
       "        vertical-align: middle;\n",
       "    }\n",
       "\n",
       "    .dataframe tbody tr th {\n",
       "        vertical-align: top;\n",
       "    }\n",
       "\n",
       "    .dataframe thead th {\n",
       "        text-align: right;\n",
       "    }\n",
       "</style>\n",
       "<table border=\"1\" class=\"dataframe\">\n",
       "  <thead>\n",
       "    <tr style=\"text-align: right;\">\n",
       "      <th></th>\n",
       "      <th>Ids of positive AB people</th>\n",
       "    </tr>\n",
       "  </thead>\n",
       "  <tbody>\n",
       "    <tr>\n",
       "      <th>0</th>\n",
       "      <td>88128</td>\n",
       "    </tr>\n",
       "    <tr>\n",
       "      <th>1</th>\n",
       "      <td>171960</td>\n",
       "    </tr>\n",
       "    <tr>\n",
       "      <th>2</th>\n",
       "      <td>142117</td>\n",
       "    </tr>\n",
       "    <tr>\n",
       "      <th>3</th>\n",
       "      <td>114589</td>\n",
       "    </tr>\n",
       "    <tr>\n",
       "      <th>4</th>\n",
       "      <td>146123</td>\n",
       "    </tr>\n",
       "  </tbody>\n",
       "</table>\n",
       "</div>"
      ],
      "text/plain": [
       "  Ids of positive AB people\n",
       "0                     88128\n",
       "1                    171960\n",
       "2                    142117\n",
       "3                    114589\n",
       "4                    146123"
      ]
     },
     "execution_count": 234,
     "metadata": {},
     "output_type": "execute_result"
    }
   ],
   "source": [
    "# Пользователи, которым предоставили скидку\n",
    "file_path = r'D:\\DO_NOT_REMOVE\\Data_Analyst_Junior\\FP\\result_data\\ids_first_company_positive.txt'\n",
    "ids_first_company_positive_df = read_custom_file(file_path)\n",
    "ids_first_company_positive_df.head()"
   ]
  },
  {
   "cell_type": "code",
   "execution_count": 235,
   "id": "2bf7fcfc",
   "metadata": {},
   "outputs": [
    {
     "data": {
      "text/plain": [
       "(5001, 1)"
      ]
     },
     "execution_count": 235,
     "metadata": {},
     "output_type": "execute_result"
    }
   ],
   "source": [
    "ids_first_company_positive_df.shape"
   ]
  },
  {
   "cell_type": "code",
   "execution_count": 236,
   "id": "995672b6",
   "metadata": {},
   "outputs": [
    {
     "data": {
      "text/html": [
       "<div>\n",
       "<style scoped>\n",
       "    .dataframe tbody tr th:only-of-type {\n",
       "        vertical-align: middle;\n",
       "    }\n",
       "\n",
       "    .dataframe tbody tr th {\n",
       "        vertical-align: top;\n",
       "    }\n",
       "\n",
       "    .dataframe thead th {\n",
       "        text-align: right;\n",
       "    }\n",
       "</style>\n",
       "<table border=\"1\" class=\"dataframe\">\n",
       "  <thead>\n",
       "    <tr style=\"text-align: right;\">\n",
       "      <th></th>\n",
       "      <th>Ids of negative AB people</th>\n",
       "    </tr>\n",
       "  </thead>\n",
       "  <tbody>\n",
       "    <tr>\n",
       "      <th>0</th>\n",
       "      <td>82450</td>\n",
       "    </tr>\n",
       "    <tr>\n",
       "      <th>1</th>\n",
       "      <td>63400</td>\n",
       "    </tr>\n",
       "    <tr>\n",
       "      <th>2</th>\n",
       "      <td>7138</td>\n",
       "    </tr>\n",
       "    <tr>\n",
       "      <th>3</th>\n",
       "      <td>102118</td>\n",
       "    </tr>\n",
       "    <tr>\n",
       "      <th>4</th>\n",
       "      <td>153511</td>\n",
       "    </tr>\n",
       "  </tbody>\n",
       "</table>\n",
       "</div>"
      ],
      "text/plain": [
       "  Ids of negative AB people\n",
       "0                     82450\n",
       "1                     63400\n",
       "2                      7138\n",
       "3                    102118\n",
       "4                    153511"
      ]
     },
     "execution_count": 236,
     "metadata": {},
     "output_type": "execute_result"
    }
   ],
   "source": [
    "# Пользователи, которым НЕ предоставили скидку\n",
    "file_path = r'D:\\DO_NOT_REMOVE\\Data_Analyst_Junior\\FP\\result_data\\ids_first_company_negative.txt'\n",
    "ids_first_company_negative_df = read_custom_file(file_path)\n",
    "ids_first_company_negative_df.head()"
   ]
  },
  {
   "cell_type": "code",
   "execution_count": 237,
   "id": "dfec4b44",
   "metadata": {},
   "outputs": [
    {
     "data": {
      "text/plain": [
       "(5000, 1)"
      ]
     },
     "execution_count": 237,
     "metadata": {},
     "output_type": "execute_result"
    }
   ],
   "source": [
    "ids_first_company_negative_df.shape"
   ]
  },
  {
   "cell_type": "code",
   "execution_count": 238,
   "id": "97519077",
   "metadata": {},
   "outputs": [
    {
     "data": {
      "text/plain": [
       "(5001, 5000)"
      ]
     },
     "execution_count": 238,
     "metadata": {},
     "output_type": "execute_result"
    }
   ],
   "source": [
    "ids_first_company_positive_df['Ids of positive AB people'].nunique(), ids_first_company_negative_df['Ids of negative AB people'].nunique()"
   ]
  },
  {
   "cell_type": "code",
   "execution_count": 239,
   "id": "40843baa",
   "metadata": {},
   "outputs": [],
   "source": [
    "clean_ids_first_company_positive_df = ids_first_company_positive_df.copy()\n",
    "clean_ids_first_company_negative_df = ids_first_company_negative_df.copy()"
   ]
  },
  {
   "cell_type": "code",
   "execution_count": 240,
   "id": "7e0db65b",
   "metadata": {},
   "outputs": [],
   "source": [
    "# Преобразование значений в clean_ids_first_company_***_df в целочисленный тип (если это возможно)\n",
    "clean_ids_first_company_positive_df['Ids of positive AB people'] = pd.to_numeric(clean_ids_first_company_positive_df['Ids of positive AB people'], errors='coerce')\n",
    "clean_ids_first_company_negative_df['Ids of negative AB people'] = pd.to_numeric(clean_ids_first_company_negative_df['Ids of negative AB people'], errors='coerce')"
   ]
  },
  {
   "cell_type": "code",
   "execution_count": 241,
   "id": "148a8182",
   "metadata": {
    "scrolled": true
   },
   "outputs": [
    {
     "data": {
      "text/plain": [
       "((5001, 1), (5000, 1))"
      ]
     },
     "execution_count": 241,
     "metadata": {},
     "output_type": "execute_result"
    }
   ],
   "source": [
    "clean_ids_first_company_positive_df.shape, clean_ids_first_company_negative_df.shape"
   ]
  },
  {
   "cell_type": "code",
   "execution_count": 242,
   "id": "425b10d7",
   "metadata": {},
   "outputs": [
    {
     "data": {
      "text/plain": [
       "(5001, 5000)"
      ]
     },
     "execution_count": 242,
     "metadata": {},
     "output_type": "execute_result"
    }
   ],
   "source": [
    "ids_first_company_positive_df['Ids of positive AB people'].nunique(), ids_first_company_negative_df['Ids of negative AB people'].nunique()"
   ]
  },
  {
   "cell_type": "code",
   "execution_count": 243,
   "id": "5be607fd",
   "metadata": {},
   "outputs": [],
   "source": [
    "# Удаление возможных NaN после преобразования и приведение к целочисленному типу\n",
    "clean_ids_first_company_positive_df = clean_ids_first_company_positive_df.dropna().astype(int)\n",
    "clean_ids_first_company_negative_df = clean_ids_first_company_negative_df.dropna().astype(int)"
   ]
  },
  {
   "cell_type": "code",
   "execution_count": 244,
   "id": "b5ff4c1d",
   "metadata": {},
   "outputs": [
    {
     "data": {
      "text/plain": [
       "(4975, 4976)"
      ]
     },
     "execution_count": 244,
     "metadata": {},
     "output_type": "execute_result"
    }
   ],
   "source": [
    "clean_ids_first_company_positive_df['Ids of positive AB people'].nunique(), clean_ids_first_company_negative_df['Ids of negative AB people'].nunique()"
   ]
  },
  {
   "cell_type": "code",
   "execution_count": 246,
   "id": "4b1a4c1b",
   "metadata": {},
   "outputs": [],
   "source": [
    "# Фильтрация данных ( отбор по id)\n",
    "positive_filtered_df = data_for_analysis[data_for_analysis['id'].isin(clean_ids_first_company_positive_df['Ids of positive AB people'])]\n",
    "negative_filtered_df = data_for_analysis[data_for_analysis['id'].isin(clean_ids_first_company_negative_df['Ids of negative AB people'])]"
   ]
  },
  {
   "cell_type": "code",
   "execution_count": 247,
   "id": "685944f9",
   "metadata": {},
   "outputs": [],
   "source": [
    "# Данные по тем пользователям, которые совершили покупку во время маркетинговой компании\n",
    "positive_with_dt = positive_filtered_df[positive_filtered_df['dt'].between(5, 16)]\n",
    "negative_with_dt = negative_filtered_df[negative_filtered_df['dt'].between(5, 16)]"
   ]
  },
  {
   "cell_type": "code",
   "execution_count": 248,
   "id": "a4851eed",
   "metadata": {
    "scrolled": true
   },
   "outputs": [
    {
     "data": {
      "text/plain": [
       "((24875, 18), (19820, 18))"
      ]
     },
     "execution_count": 248,
     "metadata": {},
     "output_type": "execute_result"
    }
   ],
   "source": [
    "positive_with_dt.shape,negative_with_dt.shape"
   ]
  },
  {
   "cell_type": "markdown",
   "id": "9e24e891",
   "metadata": {},
   "source": [
    "### Расчет метрик"
   ]
  },
  {
   "cell_type": "code",
   "execution_count": 249,
   "id": "97bf2851",
   "metadata": {},
   "outputs": [],
   "source": [
    " # Общая группа пользователей со скидкой\n",
    "total_users_with_discount = ids_first_company_positive_df['Ids of positive AB people'].nunique()"
   ]
  },
  {
   "cell_type": "code",
   "execution_count": 250,
   "id": "4bc8f38c",
   "metadata": {},
   "outputs": [],
   "source": [
    "# Общая группа пользователей без скидки\n",
    "total_users_without_discount = ids_first_company_negative_df['Ids of negative AB people'].nunique()"
   ]
  },
  {
   "cell_type": "code",
   "execution_count": 251,
   "id": "98369f05",
   "metadata": {},
   "outputs": [],
   "source": [
    "# Подсчет уникальных пользователей\n",
    "buyers_with_discount = positive_with_dt['id'].nunique()\n",
    "buyers_without_discount = negative_with_dt['id'].nunique()"
   ]
  },
  {
   "cell_type": "code",
   "execution_count": 252,
   "id": "61f9b389",
   "metadata": {},
   "outputs": [],
   "source": [
    "# Подсчет общего дохода\n",
    "total_revenue_with_discount = positive_with_dt['cost'].sum()\n",
    "total_revenue_without_discount = negative_with_dt['cost'].sum()"
   ]
  },
  {
   "cell_type": "code",
   "execution_count": 253,
   "id": "97a54733",
   "metadata": {},
   "outputs": [],
   "source": [
    "# Конверсия\n",
    "conversion_with_discount = buyers_with_discount / total_users_with_discount\n",
    "conversion_without_discount = buyers_without_discount / total_users_without_discount"
   ]
  },
  {
   "cell_type": "code",
   "execution_count": 254,
   "id": "bf2e2b76",
   "metadata": {},
   "outputs": [],
   "source": [
    "# Средний чек\n",
    "average_order_value_with_discount = total_revenue_with_discount / buyers_with_discount\n",
    "average_order_value_without_discount = total_revenue_without_discount / buyers_without_discount"
   ]
  },
  {
   "cell_type": "code",
   "execution_count": 256,
   "id": "3c3374e9",
   "metadata": {},
   "outputs": [
    {
     "name": "stdout",
     "output_type": "stream",
     "text": [
      "Общая группа пользователей со скидкой, человек: 5001\n",
      "Общая группа пользователей без скидки, человек: 5000\n",
      "Количество уникальных пользователей (со скидкой): 4750\n",
      "Количество уникальных пользователей (без скидки): 4935\n",
      "Общий доход (со скидкой): 132156647\n",
      "Общий доход (без скидки): 110753333\n",
      "Конверсия (со скидкой): 94.98%\n",
      "Конверсия (без скидки): 98.70%\n",
      "Средний чек (со скидкой): 27822.45\n",
      "Средний чек (без скидки): 22442.42\n"
     ]
    }
   ],
   "source": [
    "# Вывод метрик\n",
    "print(f\"Общая группа пользователей со скидкой, человек: {total_users_with_discount}\")\n",
    "print(f\"Общая группа пользователей без скидки, человек: {total_users_without_discount}\")\n",
    "print(f\"Количество уникальных пользователей (со скидкой): {buyers_with_discount}\")\n",
    "print(f\"Количество уникальных пользователей (без скидки): {buyers_without_discount}\")\n",
    "print(f\"Общий доход (со скидкой): {total_revenue_with_discount}\")\n",
    "print(f\"Общий доход (без скидки): {total_revenue_without_discount}\")\n",
    "print(f\"Конверсия (со скидкой): {conversion_with_discount:.2%}\")\n",
    "print(f\"Конверсия (без скидки): {conversion_without_discount:.2%}\")\n",
    "print(f\"Средний чек (со скидкой): {average_order_value_with_discount:.2f}\")\n",
    "print(f\"Средний чек (без скидки): {average_order_value_without_discount:.2f}\")"
   ]
  },
  {
   "cell_type": "code",
   "execution_count": null,
   "id": "e6b841ae",
   "metadata": {},
   "outputs": [],
   "source": []
  },
  {
   "cell_type": "code",
   "execution_count": 261,
   "id": "1619b8e8",
   "metadata": {},
   "outputs": [
    {
     "data": {
      "image/png": "[encoded data removed]",
      "text/plain": [
       "<Figure size 2000x500 with 5 Axes>"
      ]
     },
     "metadata": {},
     "output_type": "display_data"
    }
   ],
   "source": [
    "# Данные\n",
    "categories = ['Общая группа', 'Уникальные пользователи', 'Общий доход', 'Конверсия', 'Средний чек']\n",
    "with_discount = [total_users_with_discount,buyers_with_discount, total_revenue_with_discount, \n",
    "                 conversion_with_discount, average_order_value_with_discount]\n",
    "without_discount = [total_users_without_discount, buyers_without_discount, total_revenue_without_discount,\n",
    "                    conversion_without_discount, average_order_value_without_discount]\n",
    "\n",
    "# Создание подграфиков\n",
    "fig, axs = plt.subplots(1, 5, figsize=(20, 5))\n",
    "\n",
    "# Настройка цветов и заголовков\n",
    "colors = ['#1f77b4', '#ff7f0e']  # Цвета для групп со скидкой и без скидки\n",
    "\n",
    "for i, ax in enumerate(axs):\n",
    "    ax.bar(['Со скидкой', 'Без скидки'], [with_discount[i], without_discount[i]], color=colors)\n",
    "    ax.set_title(categories[i])\n",
    "    ax.set_ylabel('Значение')\n",
    "    ax.set_xticks(['Со скидкой', 'Без скидки'])\n",
    "    if categories[i] in ['Общий доход', 'Средний чек']:\n",
    "        ax.ticklabel_format(style='plain', axis='y')  # Отключение научного формата\n",
    "\n",
    "plt.tight_layout()\n",
    "plt.show()"
   ]
  },
  {
   "cell_type": "markdown",
   "id": "9bd13213",
   "metadata": {},
   "source": [
    "### Статистическое тестирование"
   ]
  },
  {
   "cell_type": "code",
   "execution_count": 262,
   "id": "f9aa2f9c",
   "metadata": {},
   "outputs": [],
   "source": [
    "# Статистический тест для проверки значимости разницы в конверсии\n",
    "total_users = total_users_with_discount+ total_users_without_discount"
   ]
  },
  {
   "cell_type": "code",
   "execution_count": 263,
   "id": "ea881ae7",
   "metadata": {},
   "outputs": [],
   "source": [
    "# Z-тест для конверсии\n",
    "z_stat, p_value_conversion = proportions_ztest([buyers_with_discount, buyers_without_discount], total_users)"
   ]
  },
  {
   "cell_type": "code",
   "execution_count": 264,
   "id": "34aa1f0e",
   "metadata": {},
   "outputs": [],
   "source": [
    "# T-тест для среднего чека\n",
    "t_stat, p_value_aov = ttest_ind(positive_with_dt['cost'], negative_with_dt['cost'])"
   ]
  },
  {
   "cell_type": "code",
   "execution_count": 265,
   "id": "768b95bb",
   "metadata": {},
   "outputs": [
    {
     "name": "stdout",
     "output_type": "stream",
     "text": [
      "\n",
      "Z-тест для конверсии\n",
      "Z-статистика: -2.62, p-значение: 0.0089\n",
      "\n",
      "T-тест для среднего чека\n",
      "T-статистика: -3.11, p-значение: 0.0019\n"
     ]
    }
   ],
   "source": [
    "# Вывод результатов тестов\n",
    "print(\"\\nZ-тест для конверсии\")\n",
    "print(f\"Z-статистика: {z_stat:.2f}, p-значение: {p_value_conversion:.4f}\")\n",
    "\n",
    "print(\"\\nT-тест для среднего чека\")\n",
    "print(f\"T-статистика: {t_stat:.2f}, p-значение: {p_value_aov:.4f}\")"
   ]
  },
  {
   "cell_type": "markdown",
   "id": "95f58d61",
   "metadata": {},
   "source": [
    "### Оценка и рекомендации"
   ]
  },
  {
   "cell_type": "code",
   "execution_count": 266,
   "id": "e3be75ff",
   "metadata": {},
   "outputs": [
    {
     "name": "stdout",
     "output_type": "stream",
     "text": [
      "\n",
      "Разница в конверсии статистически значима.\n",
      "Разница в среднем чеке статистически значима.\n"
     ]
    }
   ],
   "source": [
    "# Рекомендации\n",
    "if p_value_conversion < 0.05:\n",
    "    print(\"\\nРазница в конверсии статистически значима.\")\n",
    "else:\n",
    "    print(\"\\nРазница в конверсии не является статистически значимой.\")\n",
    "\n",
    "if p_value_aov < 0.05:\n",
    "    print(\"Разница в среднем чеке статистически значима.\")\n",
    "else:\n",
    "    print(\"Разница в среднем чеке не является статистически значимой.\")"
   ]
  },
  {
   "cell_type": "markdown",
   "id": "a7a869ca",
   "metadata": {},
   "source": [
    " Z-тест для конверсии\n",
    " \n",
    "Низкое p-значение (< 0.05) указывает на то, что разница в конверсии между пользователями со скидкой и без скидки статистически значима.\n",
    "\n",
    "Отрицательная Z-статистика показывает, что конверсия в группе со скидкой ниже, чем в группе без скидки.\n",
    "\n",
    "Следовательно, несмотря на значительную долю пользователей со скидкой, пользователи без скидки конвертируются в покупки эффективнее."
   ]
  },
  {
   "cell_type": "markdown",
   "id": "0736a261",
   "metadata": {},
   "source": [
    " T-тест для среднего чека\n",
    " \n",
    "T-статистика равна -3.11 с p-значением 0.0019. Низкое p-значение (< 0.05) указывает на то, что различие в среднем чеке между пользователями со скидкой и без скидки статистически значимо.\n",
    "\n",
    "Отрицательная T-статистика показывает, что средний чек для пользователей со скидкой выше, чем для пользователей без скидки.\n",
    "\n",
    "Это свидетельствует о том, что пользователи, получившие скидку, тратят в среднем больше, что может свидетельствовать об эффективности скидок для увеличения дохода с покупок."
   ]
  },
  {
   "cell_type": "markdown",
   "id": "e91ea0eb",
   "metadata": {},
   "source": [
    "##  Бизнес-рекомендации по результатам A/B-теста маркетинговой кампании"
   ]
  },
  {
   "cell_type": "markdown",
   "id": "53768cbe",
   "metadata": {},
   "source": [
    "Конверсия\n",
    "\n",
    "Вывод: Группа пользователей со скидкой показала значимо более низкую конверсию (94.98%) по сравнению с группой без скидки (98.70%) на основе Z-теста (Z-статистика = -2.62, p-значение = 0.0089). Это говорит о том, что предложение скидок, вероятно, не побудило больше пользователей совершить покупку, а в некоторых случаях могло снизить мотивацию.\n",
    "\n",
    "Рекомендация: Необходимо пересмотреть стратегию скидок. Возможно, скидка воспринимается не как стимул, а наоборот, как снижающее восприятие ценности продукта предложение. Альтернативным решением может стать тестирование других типов стимулов, например, программ лояльности, бесплатных подарков или бонусов.\n",
    "\n",
    "Средний чек\n",
    "\n",
    "Вывод: Средний чек среди пользователей со скидкой оказался выше (27,822.45) по сравнению с пользователями без скидки (22,442.42). T-тест для этой метрики показал статистически значимую разницу (T-статистика = -3.11, p-значение = 0.0019).\n",
    "\n",
    "Рекомендация: Хотя скидка не улучшила конверсию, она привела к увеличению среднего чека. Это может означать, что пользователи, решившие совершить покупку, предпочитают делать более крупные заказы. Для увеличения продаж можно внедрить предложения «купи больше, получи больше», пакетные предложения или скидки на следующий заказ.\n",
    "\n",
    "Общий доход\n",
    "\n",
    "Вывод: Несмотря на более высокий средний чек в группе со скидкой, общий доход был выше в группе без скидки. Это связано с более высокой конверсией среди пользователей без скидок.\n",
    "\n",
    "Рекомендация: Возможно, стоит пересмотреть политику предложений и учитывать влияние скидок на общее количество покупок. Например, тестирование динамических скидок в зависимости от суммы заказа или применение персонализированных предложений на основе поведения пользователей.\n",
    "\n",
    "Общие выводы и стратегия\n",
    "\n",
    "Скидочная стратегия неэффективна для увеличения объема покупателей, но эффективна для повышения среднего чека.\n",
    "Рекомендуется провести дополнительное тестирование альтернативных стимулов, которые будут влиять на конверсию, и при необходимости пересмотреть ценовую стратегию для долгосрочного увеличения прибыли.\n",
    "Инвестиции в дополнительные механизмы удержания клиентов, такие как программы лояльности, могли бы повысить ценность клиента без необходимости значительного снижения цен."
   ]
  },
  {
   "cell_type": "code",
   "execution_count": null,
   "id": "47fab7a5",
   "metadata": {},
   "outputs": [],
   "source": []
  },
  {
   "cell_type": "markdown",
   "id": "c6f2dbfc",
   "metadata": {},
   "source": [
    "# 4. Кластерный анализ"
   ]
  },
  {
   "cell_type": "code",
   "execution_count": 267,
   "id": "0b5bb042",
   "metadata": {
    "scrolled": true
   },
   "outputs": [
    {
     "name": "stdout",
     "output_type": "stream",
     "text": [
      "<class 'pandas.core.frame.DataFrame'>\n",
      "Index: 780117 entries, 0 to 786259\n",
      "Data columns (total 18 columns):\n",
      " #   Column         Non-Null Count   Dtype   \n",
      "---  ------         --------------   -----   \n",
      " 0   id             780117 non-null  int64   \n",
      " 1   age            780117 non-null  int64   \n",
      " 2   education      780117 non-null  category\n",
      " 3   city           780117 non-null  category\n",
      " 4   country        780117 non-null  category\n",
      " 5   gender         780117 non-null  category\n",
      " 6   personal_coef  780117 non-null  float64 \n",
      " 7   product        780117 non-null  object  \n",
      " 8   colour         780117 non-null  object  \n",
      " 9   cost           780117 non-null  int64   \n",
      " 10  product_sex    780117 non-null  category\n",
      " 11  base_sale      780117 non-null  category\n",
      " 12  dt             780117 non-null  int64   \n",
      " 13  colour_1       780117 non-null  object  \n",
      " 14  colour_2       780117 non-null  object  \n",
      " 15  colour_3       780117 non-null  object  \n",
      " 16  colour_4       780117 non-null  object  \n",
      " 17  colour_5       780117 non-null  object  \n",
      "dtypes: category(6), float64(1), int64(4), object(7)\n",
      "memory usage: 82.6+ MB\n"
     ]
    }
   ],
   "source": [
    "data_for_analysis.info()"
   ]
  },
  {
   "cell_type": "code",
   "execution_count": 268,
   "id": "6cf33689",
   "metadata": {},
   "outputs": [],
   "source": [
    "data_for_analysis.reset_index(drop=True, inplace=True)"
   ]
  },
  {
   "cell_type": "code",
   "execution_count": 291,
   "id": "8cc90f8d",
   "metadata": {
    "scrolled": true
   },
   "outputs": [
    {
     "name": "stdout",
     "output_type": "stream",
     "text": [
      "<class 'pandas.core.frame.DataFrame'>\n",
      "RangeIndex: 780117 entries, 0 to 780116\n",
      "Data columns (total 19 columns):\n",
      " #   Column         Non-Null Count   Dtype   \n",
      "---  ------         --------------   -----   \n",
      " 0   id             780117 non-null  int64   \n",
      " 1   age            780117 non-null  int64   \n",
      " 2   education      780117 non-null  category\n",
      " 3   city           780117 non-null  category\n",
      " 4   country        780117 non-null  category\n",
      " 5   gender         780117 non-null  category\n",
      " 6   personal_coef  780117 non-null  float64 \n",
      " 7   product        780117 non-null  object  \n",
      " 8   colour         780117 non-null  object  \n",
      " 9   cost           780117 non-null  int64   \n",
      " 10  product_sex    780117 non-null  category\n",
      " 11  base_sale      780117 non-null  category\n",
      " 12  dt             780117 non-null  int64   \n",
      " 13  colour_1       780117 non-null  object  \n",
      " 14  colour_2       780117 non-null  object  \n",
      " 15  colour_3       780117 non-null  object  \n",
      " 16  colour_4       780117 non-null  object  \n",
      " 17  colour_5       780117 non-null  object  \n",
      " 18  cluster        780117 non-null  int32   \n",
      "dtypes: category(6), float64(1), int32(1), int64(4), object(7)\n",
      "memory usage: 79.6+ MB\n"
     ]
    }
   ],
   "source": [
    "data_for_analysis.info()"
   ]
  },
  {
   "cell_type": "code",
   "execution_count": 292,
   "id": "27bcbd2a",
   "metadata": {},
   "outputs": [],
   "source": [
    "# Выбираем числовые признаки для кластеризации\n",
    "features = ['age', 'education','gender', 'product_sex','cost','base_sale', 'dt']\n",
    "X = data_for_analysis[features]"
   ]
  },
  {
   "cell_type": "code",
   "execution_count": 293,
   "id": "911c6578",
   "metadata": {},
   "outputs": [],
   "source": [
    "# Стандартизация данных\n",
    "scaler = StandardScaler()\n",
    "X_scaled = scaler.fit_transform(X)"
   ]
  },
  {
   "cell_type": "code",
   "execution_count": 294,
   "id": "e4d7bfcc",
   "metadata": {},
   "outputs": [],
   "source": [
    "# Определение оптимального количества кластеров с помощью метода локтя\n",
    "inertia = []\n",
    "for k in range(1, 11):\n",
    "    kmeans = KMeans(n_clusters=k, random_state=42, n_init='auto')\n",
    "    kmeans.fit(X_scaled)\n",
    "    inertia.append(kmeans.inertia_)"
   ]
  },
  {
   "cell_type": "code",
   "execution_count": 295,
   "id": "3d2b72d6",
   "metadata": {},
   "outputs": [
    {
     "data": {
      "image/png": "[encoded data removed]",
      "text/plain": [
       "<Figure size 800x400 with 1 Axes>"
      ]
     },
     "metadata": {},
     "output_type": "display_data"
    }
   ],
   "source": [
    "# Визуализация метода локтя\n",
    "plt.figure(figsize=(8, 4))\n",
    "plt.plot(range(1, 11), inertia, marker='o')\n",
    "plt.xlabel('Количество кластеров')\n",
    "plt.ylabel('Inertia')\n",
    "plt.title('Метод локтя для выбора количества кластеров')\n",
    "plt.show()"
   ]
  },
  {
   "cell_type": "code",
   "execution_count": 296,
   "id": "0a317bd0",
   "metadata": {},
   "outputs": [],
   "source": [
    "# Кластеризация на основе выбранного количества кластеров\n",
    "optimal_clusters = 6  \n",
    "kmeans = KMeans(n_clusters=optimal_clusters, random_state=42, n_init='auto')\n",
    "clusters = kmeans.fit_predict(X_scaled)\n",
    "data_for_analysis['cluster'] = clusters"
   ]
  },
  {
   "cell_type": "code",
   "execution_count": 297,
   "id": "6e940907",
   "metadata": {},
   "outputs": [
    {
     "name": "stdout",
     "output_type": "stream",
     "text": [
      "\n",
      "Кластер 0\n",
      "Средний возраст: 40.97\n",
      "Средняя стоимость покупки: 4451.12\n",
      "Предпочтительные товары: ['Сумка FILA']\n",
      "Влияние скидки: base_sale\n",
      "0    64596\n",
      "1    17301\n",
      "Name: count, dtype: int64\n",
      "\n",
      "Кластер 1\n",
      "Средний возраст: 41.68\n",
      "Средняя стоимость покупки: 4734.31\n",
      "Предпочтительные товары: ['Брюки мужские Demix']\n",
      "Влияние скидки: base_sale\n",
      "0    73153\n",
      "1    62713\n",
      "Name: count, dtype: int64\n",
      "\n",
      "Кластер 2\n",
      "Средний возраст: 42.76\n",
      "Средняя стоимость покупки: 3150.17\n",
      "Предпочтительные товары: ['Футболка женская Demix']\n",
      "Влияние скидки: base_sale\n",
      "1    117150\n",
      "0         0\n",
      "Name: count, dtype: int64\n",
      "\n",
      "Кластер 3\n",
      "Средний возраст: 41.21\n",
      "Средняя стоимость покупки: 7854.77\n",
      "Предпочтительные товары: ['Брюки мужские Demix']\n",
      "Влияние скидки: base_sale\n",
      "0    162938\n",
      "1     29983\n",
      "Name: count, dtype: int64\n",
      "\n",
      "Кластер 4\n",
      "Средний возраст: 43.68\n",
      "Средняя стоимость покупки: 4592.21\n",
      "Предпочтительные товары: ['Брюки женские Outventure']\n",
      "Влияние скидки: base_sale\n",
      "0    105656\n",
      "1         0\n",
      "Name: count, dtype: int64\n",
      "\n",
      "Кластер 5\n",
      "Средний возраст: 23.37\n",
      "Средняя стоимость покупки: 5763.02\n",
      "Предпочтительные товары: ['Шорты мужские Demix']\n",
      "Влияние скидки: base_sale\n",
      "0    95843\n",
      "1    50784\n",
      "Name: count, dtype: int64\n"
     ]
    }
   ],
   "source": [
    "# Анализ кластеров\n",
    "for i in range(optimal_clusters):\n",
    "    cluster_data = data_for_analysis[data_for_analysis['cluster'] == i]\n",
    "    print(f\"\\nКластер {i}\")\n",
    "    print(f\"Средний возраст: {cluster_data['age'].mean():.2f}\")\n",
    "    print(f\"Средняя стоимость покупки: {cluster_data['cost'].mean():.2f}\")\n",
    "    print(f\"Предпочтительные товары: {cluster_data['product'].mode().values}\")\n",
    "    print(f\"Влияние скидки: {cluster_data['base_sale'].value_counts()}\")"
   ]
  },
  {
   "cell_type": "code",
   "execution_count": 288,
   "id": "352e186a",
   "metadata": {},
   "outputs": [],
   "source": [
    "# PCA для уменьшения размерности до 2D\n",
    "pca = PCA(n_components=2)\n",
    "X_pca = pca.fit_transform(X_scaled)"
   ]
  },
  {
   "cell_type": "code",
   "execution_count": 298,
   "id": "2244355e",
   "metadata": {},
   "outputs": [
    {
     "data": {
      "image/png": "[encoded data removed]",
      "text/plain": [
       "<Figure size 1000x600 with 1 Axes>"
      ]
     },
     "metadata": {},
     "output_type": "display_data"
    }
   ],
   "source": [
    "# Визуализация кластеров\n",
    "plt.figure(figsize=(10, 6))\n",
    "for cluster_num in range(optimal_clusters):\n",
    "    plt.scatter(\n",
    "        X_pca[clusters == cluster_num, 0], \n",
    "        X_pca[clusters == cluster_num, 1], \n",
    "        label=f'Cluster {cluster_num}'\n",
    "    )\n",
    "\n",
    "plt.scatter(\n",
    "    kmeans.cluster_centers_[:, 0], \n",
    "    kmeans.cluster_centers_[:, 1], \n",
    "    s=200, c='red', label='Centroids', marker='X'\n",
    ")\n",
    "plt.title('Кластеры клиентов (уменьшенная размерность с помощью PCA)')\n",
    "plt.xlabel('Главный компонент 1')\n",
    "plt.ylabel('Главный компонент 2')\n",
    "plt.legend()\n",
    "plt.show()"
   ]
  },
  {
   "cell_type": "markdown",
   "id": "618db7da",
   "metadata": {},
   "source": [
    "### Выводы:"
   ]
  },
  {
   "cell_type": "markdown",
   "id": "f804ae65",
   "metadata": {},
   "source": [
    "Кластер 0:\n",
    "\n",
    "Средний возраст: 40.97 лет.\n",
    "Средняя стоимость покупки: 4451.12.\n",
    "Предпочтительные товары: Сумка FILA.\n",
    "Влияние скидки: Большинство покупок совершается без скидки.\n",
    "Рекомендации: Этот кластер состоит из покупателей среднего возраста, которые предпочитают аксессуары. Можно предложить новые модели сумок и акцентировать внимание на качестве и функциональности товаров.\n",
    "\n",
    "Кластер 1:\n",
    "\n",
    "Средний возраст: 41.68 лет.\n",
    "Средняя стоимость покупки: 4734.31.\n",
    "Предпочтительные товары: Брюки мужские Demix.\n",
    "Влияние скидки: Практически равное распределение покупок со скидкой и без.\n",
    "Рекомендации: Учитывая интерес к мужской одежде, стоит внедрить кампании, включающие скидки, и регулярно обновлять ассортимент спортивной одежды для мужчин.\n",
    "\n",
    "Кластер 2:\n",
    "\n",
    "Средний возраст: 42.76 лет.\n",
    "Средняя стоимость покупки: 3150.17.\n",
    "Предпочтительные товары: Футболка женская Demix.\n",
    "Влияние скидки: Все покупки совершаются исключительно по скидке.\n",
    "Рекомендации: Этот кластер сильно реагирует на скидки. Для их привлечения стоит регулярно предлагать акции на женскую одежду, особенно спортивные футболки.\n",
    "\n",
    "Кластер 3:\n",
    "\n",
    "Средний возраст: 41.21 года.\n",
    "Средняя стоимость покупки: 7854.77.\n",
    "Предпочтительные товары: Брюки мужские Demix.\n",
    "Влияние скидки: Большинство покупок совершается без скидок.\n",
    "Рекомендации: Это платежеспособная аудитория, предпочитающая мужскую одежду. Им стоит предлагать премиальные коллекции и подчеркивать качество товаров.\n",
    "\n",
    "Кластер 4:\n",
    "\n",
    "Средний возраст: 43.68 года.\n",
    "Средняя стоимость покупки: 4592.21.\n",
    "Предпочтительные товары: Брюки женские Outventure.\n",
    "Влияние скидки: Все покупки совершаются без скидок.\n",
    "Рекомендации: Этот кластер ценит женскую одежду высокого качества. Можно предложить эксклюзивные коллекции или индивидуальные услуги, такие как персонализированные подборки.\n",
    "\n",
    "Кластер 5:\n",
    "\n",
    "Средний возраст: 23.37 года.\n",
    "Средняя стоимость покупки: 5763.02.\n",
    "Предпочтительные товары: Шорты мужские Demix.\n",
    "Влияние скидки: Покупки равномерно распределяются между скидками и их отсутствием.\n",
    "Рекомендации: Молодая аудитория, активно интересующаяся мужской одеждой. Для них можно использовать современные маркетинговые подходы, такие как таргетированная реклама в соцсетях, и акцент на новинках ассортимента."
   ]
  },
  {
   "cell_type": "code",
   "execution_count": null,
   "id": "c425e474",
   "metadata": {},
   "outputs": [],
   "source": []
  },
  {
   "cell_type": "markdown",
   "id": "9a1c043e",
   "metadata": {},
   "source": [
    "# 5. Mодель склонности клиента к покупке определённого товара для жителей страны 32 города 1 188"
   ]
  },
  {
   "cell_type": "code",
   "execution_count": 299,
   "id": "ae678413",
   "metadata": {},
   "outputs": [
    {
     "data": {
      "text/plain": [
       "(88889, 19)"
      ]
     },
     "execution_count": 299,
     "metadata": {},
     "output_type": "execute_result"
    }
   ],
   "source": [
    "# Отбор данных\n",
    "filtered_data = data_for_analysis[(data_for_analysis['city'] == 1188) & (data_for_analysis['country'] == 32)]\n",
    "filtered_data.shape"
   ]
  },
  {
   "cell_type": "code",
   "execution_count": 300,
   "id": "3aa7fcf2",
   "metadata": {
    "scrolled": true
   },
   "outputs": [
    {
     "name": "stderr",
     "output_type": "stream",
     "text": [
      "C:\\Users\\felix\\AppData\\Local\\Temp\\ipykernel_17092\\600278397.py:2: SettingWithCopyWarning: \n",
      "A value is trying to be set on a copy of a slice from a DataFrame.\n",
      "Try using .loc[row_indexer,col_indexer] = value instead\n",
      "\n",
      "See the caveats in the documentation: https://pandas.pydata.org/pandas-docs/stable/user_guide/indexing.html#returning-a-view-versus-a-copy\n",
      "  filtered_data.loc[:, 'purchase'] = (filtered_data['cost'] > 0).astype(int)\n"
     ]
    }
   ],
   "source": [
    "# Создаем целевую переменную (предположительно бинарная: 1 - покупка, 0 - нет)\n",
    "filtered_data.loc[:, 'purchase'] = (filtered_data['cost'] > 0).astype(int)"
   ]
  },
  {
   "cell_type": "code",
   "execution_count": 301,
   "id": "19f331df",
   "metadata": {},
   "outputs": [
    {
     "data": {
      "text/plain": [
       "Index(['id', 'age', 'education', 'city', 'country', 'gender', 'personal_coef',\n",
       "       'product', 'colour', 'cost', 'product_sex', 'base_sale', 'dt',\n",
       "       'colour_1', 'colour_2', 'colour_3', 'colour_4', 'colour_5', 'cluster',\n",
       "       'purchase'],\n",
       "      dtype='object')"
      ]
     },
     "execution_count": 301,
     "metadata": {},
     "output_type": "execute_result"
    }
   ],
   "source": [
    "filtered_data.columns"
   ]
  },
  {
   "cell_type": "code",
   "execution_count": 302,
   "id": "fa39d6e2",
   "metadata": {},
   "outputs": [],
   "source": [
    "# Выбираем признаки для обучения модели\n",
    "features = ['age', 'gender', 'dt', 'cluster', 'product_sex']\n",
    "X = filtered_data[features]\n",
    "y = filtered_data['purchase']"
   ]
  },
  {
   "cell_type": "code",
   "execution_count": 303,
   "id": "09d0cd33",
   "metadata": {},
   "outputs": [],
   "source": [
    "# Разделение данных на обучающую и тестовую выборки\n",
    "X_train, X_test, y_train, y_test = train_test_split(X, y, test_size=0.3, random_state=42)"
   ]
  },
  {
   "cell_type": "code",
   "execution_count": 304,
   "id": "c26d0c8b",
   "metadata": {},
   "outputs": [
    {
     "data": {
      "text/html": [
       "<style>#sk-container-id-7 {color: black;}#sk-container-id-7 pre{padding: 0;}#sk-container-id-7 div.sk-toggleable {background-color: white;}#sk-container-id-7 label.sk-toggleable__label {cursor: pointer;display: block;width: 100%;margin-bottom: 0;padding: 0.3em;box-sizing: border-box;text-align: center;}#sk-container-id-7 label.sk-toggleable__label-arrow:before {content: \"▸\";float: left;margin-right: 0.25em;color: #696969;}#sk-container-id-7 label.sk-toggleable__label-arrow:hover:before {color: black;}#sk-container-id-7 div.sk-estimator:hover label.sk-toggleable__label-arrow:before {color: black;}#sk-container-id-7 div.sk-toggleable__content {max-height: 0;max-width: 0;overflow: hidden;text-align: left;background-color: #f0f8ff;}#sk-container-id-7 div.sk-toggleable__content pre {margin: 0.2em;color: black;border-radius: 0.25em;background-color: #f0f8ff;}#sk-container-id-7 input.sk-toggleable__control:checked~div.sk-toggleable__content {max-height: 200px;max-width: 100%;overflow: auto;}#sk-container-id-7 input.sk-toggleable__control:checked~label.sk-toggleable__label-arrow:before {content: \"▾\";}#sk-container-id-7 div.sk-estimator input.sk-toggleable__control:checked~label.sk-toggleable__label {background-color: #d4ebff;}#sk-container-id-7 div.sk-label input.sk-toggleable__control:checked~label.sk-toggleable__label {background-color: #d4ebff;}#sk-container-id-7 input.sk-hidden--visually {border: 0;clip: rect(1px 1px 1px 1px);clip: rect(1px, 1px, 1px, 1px);height: 1px;margin: -1px;overflow: hidden;padding: 0;position: absolute;width: 1px;}#sk-container-id-7 div.sk-estimator {font-family: monospace;background-color: #f0f8ff;border: 1px dotted black;border-radius: 0.25em;box-sizing: border-box;margin-bottom: 0.5em;}#sk-container-id-7 div.sk-estimator:hover {background-color: #d4ebff;}#sk-container-id-7 div.sk-parallel-item::after {content: \"\";width: 100%;border-bottom: 1px solid gray;flex-grow: 1;}#sk-container-id-7 div.sk-label:hover label.sk-toggleable__label {background-color: #d4ebff;}#sk-container-id-7 div.sk-serial::before {content: \"\";position: absolute;border-left: 1px solid gray;box-sizing: border-box;top: 0;bottom: 0;left: 50%;z-index: 0;}#sk-container-id-7 div.sk-serial {display: flex;flex-direction: column;align-items: center;background-color: white;padding-right: 0.2em;padding-left: 0.2em;position: relative;}#sk-container-id-7 div.sk-item {position: relative;z-index: 1;}#sk-container-id-7 div.sk-parallel {display: flex;align-items: stretch;justify-content: center;background-color: white;position: relative;}#sk-container-id-7 div.sk-item::before, #sk-container-id-7 div.sk-parallel-item::before {content: \"\";position: absolute;border-left: 1px solid gray;box-sizing: border-box;top: 0;bottom: 0;left: 50%;z-index: -1;}#sk-container-id-7 div.sk-parallel-item {display: flex;flex-direction: column;z-index: 1;position: relative;background-color: white;}#sk-container-id-7 div.sk-parallel-item:first-child::after {align-self: flex-end;width: 50%;}#sk-container-id-7 div.sk-parallel-item:last-child::after {align-self: flex-start;width: 50%;}#sk-container-id-7 div.sk-parallel-item:only-child::after {width: 0;}#sk-container-id-7 div.sk-dashed-wrapped {border: 1px dashed gray;margin: 0 0.4em 0.5em 0.4em;box-sizing: border-box;padding-bottom: 0.4em;background-color: white;}#sk-container-id-7 div.sk-label label {font-family: monospace;font-weight: bold;display: inline-block;line-height: 1.2em;}#sk-container-id-7 div.sk-label-container {text-align: center;}#sk-container-id-7 div.sk-container {/* jupyter's `normalize.less` sets `[hidden] { display: none; }` but bootstrap.min.css set `[hidden] { display: none !important; }` so we also need the `!important` here to be able to override the default hidden behavior on the sphinx rendered scikit-learn.org. See: https://github.com/scikit-learn/scikit-learn/issues/21755 */display: inline-block !important;position: relative;}#sk-container-id-7 div.sk-text-repr-fallback {display: none;}</style><div id=\"sk-container-id-7\" class=\"sk-top-container\"><div class=\"sk-text-repr-fallback\"><pre>RandomForestClassifier(random_state=42)</pre><b>In a Jupyter environment, please rerun this cell to show the HTML representation or trust the notebook. <br />On GitHub, the HTML representation is unable to render, please try loading this page with nbviewer.org.</b></div><div class=\"sk-container\" hidden><div class=\"sk-item\"><div class=\"sk-estimator sk-toggleable\"><input class=\"sk-toggleable__control sk-hidden--visually\" id=\"sk-estimator-id-7\" type=\"checkbox\" checked><label for=\"sk-estimator-id-7\" class=\"sk-toggleable__label sk-toggleable__label-arrow\">RandomForestClassifier</label><div class=\"sk-toggleable__content\"><pre>RandomForestClassifier(random_state=42)</pre></div></div></div></div></div>"
      ],
      "text/plain": [
       "RandomForestClassifier(random_state=42)"
      ]
     },
     "execution_count": 304,
     "metadata": {},
     "output_type": "execute_result"
    }
   ],
   "source": [
    "# Обучение модели\n",
    "model = RandomForestClassifier(random_state=42)\n",
    "model.fit(X_train, y_train)"
   ]
  },
  {
   "cell_type": "code",
   "execution_count": 305,
   "id": "53fe15c5",
   "metadata": {},
   "outputs": [
    {
     "name": "stdout",
     "output_type": "stream",
     "text": [
      "Accuracy: 1.00\n",
      "              precision    recall  f1-score   support\n",
      "\n",
      "           0       0.00      0.00      0.00         0\n",
      "           1       1.00      1.00      1.00     26667\n",
      "\n",
      "    accuracy                           1.00     26667\n",
      "   macro avg       0.50      0.50      0.50     26667\n",
      "weighted avg       1.00      1.00      1.00     26667\n",
      "\n"
     ]
    },
    {
     "name": "stderr",
     "output_type": "stream",
     "text": [
      "C:\\Users\\felix\\anaconda3\\Lib\\site-packages\\sklearn\\metrics\\_classification.py:1469: UndefinedMetricWarning: Recall and F-score are ill-defined and being set to 0.0 in labels with no true samples. Use `zero_division` parameter to control this behavior.\n",
      "  _warn_prf(average, modifier, msg_start, len(result))\n",
      "C:\\Users\\felix\\anaconda3\\Lib\\site-packages\\sklearn\\metrics\\_classification.py:1469: UndefinedMetricWarning: Recall and F-score are ill-defined and being set to 0.0 in labels with no true samples. Use `zero_division` parameter to control this behavior.\n",
      "  _warn_prf(average, modifier, msg_start, len(result))\n",
      "C:\\Users\\felix\\anaconda3\\Lib\\site-packages\\sklearn\\metrics\\_classification.py:1469: UndefinedMetricWarning: Recall and F-score are ill-defined and being set to 0.0 in labels with no true samples. Use `zero_division` parameter to control this behavior.\n",
      "  _warn_prf(average, modifier, msg_start, len(result))\n"
     ]
    }
   ],
   "source": [
    "# Оценка модели на тестовых данных\n",
    "y_pred = model.predict(X_test)\n",
    "print(f\"Accuracy: {accuracy_score(y_test, y_pred):.2f}\")\n",
    "print(classification_report(y_test, y_pred))"
   ]
  },
  {
   "cell_type": "code",
   "execution_count": 306,
   "id": "59e8338f",
   "metadata": {},
   "outputs": [],
   "source": [
    "# Создаем стратифицированный k-фолд\n",
    "cv = StratifiedKFold(n_splits=3, shuffle=True, random_state=42)"
   ]
  },
  {
   "cell_type": "code",
   "execution_count": 307,
   "id": "a75b6a7a",
   "metadata": {},
   "outputs": [
    {
     "name": "stderr",
     "output_type": "stream",
     "text": [
      "C:\\Users\\felix\\anaconda3\\Lib\\site-packages\\sklearn\\model_selection\\_split.py:725: UserWarning: The least populated class in y has only 1 members, which is less than n_splits=3.\n",
      "  warnings.warn(\n"
     ]
    },
    {
     "name": "stdout",
     "output_type": "stream",
     "text": [
      "Cross-validated accuracy scores: [1.         0.99996625 0.99996625]\n",
      "Mean cross-validated accuracy: 1.00\n"
     ]
    }
   ],
   "source": [
    "# Оценка модели с использованием стратифицированной кросс-валидации\n",
    "cross_val_scores = cross_val_score(model, X, y, cv=cv, scoring='accuracy')\n",
    "print(f\"Cross-validated accuracy scores: {cross_val_scores}\")\n",
    "print(f\"Mean cross-validated accuracy: {cross_val_scores.mean():.2f}\")"
   ]
  },
  {
   "cell_type": "code",
   "execution_count": 308,
   "id": "53ab2a27",
   "metadata": {},
   "outputs": [
    {
     "name": "stdout",
     "output_type": "stream",
     "text": [
      "age: 0.60\n",
      "gender: 0.00\n",
      "dt: 0.32\n",
      "cluster: 0.02\n",
      "product_sex: 0.06\n"
     ]
    }
   ],
   "source": [
    "# Вывод значимости признаков\n",
    "feature_importances = model.feature_importances_\n",
    "for feature, importance in zip(features, feature_importances):\n",
    "    print(f\"{feature}: {importance:.2f}\")"
   ]
  },
  {
   "cell_type": "code",
   "execution_count": 8,
   "id": "4221bfed",
   "metadata": {},
   "outputs": [
    {
     "data": {
      "image/png": "[encoded data removed]",
      "text/plain": [
       "<Figure size 800x500 with 1 Axes>"
      ]
     },
     "metadata": {},
     "output_type": "display_data"
    }
   ],
   "source": [
    "# Данные для значимости признаков\n",
    "features = ['age', 'gender', 'dt', 'cluster', 'product_sex']\n",
    "feature_importances = [0.60, 0.00, 0.32, 0.02, 0.06]\n",
    "\n",
    "# Построение графика\n",
    "plt.figure(figsize=(8, 5))\n",
    "plt.barh(features, feature_importances, color='#CD853F', edgecolor='black')\n",
    "plt.xlabel(\"Важность признаков\", fontsize=12)\n",
    "plt.ylabel(\"Признаки\", fontsize=12)\n",
    "plt.title(\"Значимость\", fontsize=14)\n",
    "plt.gca().invert_yaxis()  # Перевернуть ось Y для удобства\n",
    "plt.grid(axis='x', linestyle='--', alpha=0.7)\n",
    "plt.tight_layout()\n",
    "plt.show()"
   ]
  },
  {
   "cell_type": "code",
   "execution_count": 309,
   "id": "0820b67e",
   "metadata": {},
   "outputs": [],
   "source": [
    "# Предсказания вероятностей для тестовых данных\n",
    "y_pred_proba = model.predict_proba(X_test)[:, 1]  # Получаем вероятности для класса \"покупка\" (1)\n"
   ]
  }
 ],
 "metadata": {
  "kernelspec": {
   "display_name": "Python [conda env:base] *",
   "language": "python",
   "name": "conda-base-py"
  },
  "language_info": {
   "codemirror_mode": {
    "name": "ipython",
    "version": 3
   },
   "file_extension": ".py",
   "mimetype": "text/x-python",
   "name": "python",
   "nbconvert_exporter": "python",
   "pygments_lexer": "ipython3",
   "version": "3.11.5"
  }
 },
 "nbformat": 4,
 "nbformat_minor": 5
}
