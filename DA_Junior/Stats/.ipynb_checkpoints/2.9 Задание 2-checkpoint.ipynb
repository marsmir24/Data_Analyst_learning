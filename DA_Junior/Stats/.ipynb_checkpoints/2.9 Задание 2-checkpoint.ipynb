{
 "cells": [
  {
   "cell_type": "markdown",
   "id": "a7881756",
   "metadata": {
    "id": "a7881756"
   },
   "source": [
    "# Практическая работа\n",
    "\n",
    "**Цели работы**\n",
    "\n",
    "Научиться применять метод максимального правдоподобия.\n",
    "\n",
    "**Что нужно сделать**\n",
    "\n",
    "Плотность некоторого распределения имеет вид: \n",
    "\n",
    "$$f(x)=\\frac{2x^3}{\\sqrt{2\\pi}} \\cdot e^{-\\frac{(x^4-\\theta)^2}{2}}$$\n",
    "\n",
    "Необходимо оценить параметр $\\theta$ методом максимального правдоподобия.\n",
    "\n",
    "В рамках данной практической работы необходимо выполнить следующие шаги:\n",
    "0. Написать функцию правдоподобия.\n",
    "1. Упростить функцию правдоподобия.\n",
    "2. Прологарифмировать функцию правдоподобия.\n",
    "3. Найти частную производную функции правдоподобия относительно неизвестного параметра.\n",
    "4. Приравнять частную производную к нулю.\n",
    "\n",
    "Результатом будет нахождение оценки неизвестного параметра.\n",
    "\n",
    "**Рекомендации по выполнению**\n",
    "\n",
    "- Выполняйте задания в приведённой последовательности.\n",
    "- Пользуйтесь материалами, о которых говорилось в видео.\n",
    "- Используйте подсказки: \n",
    "\n",
    "**Подсказка 1** — функция правдоподобия (шаг 0):\n",
    "\n",
    "$$L(X_1,...,X_n, \\theta)=\\prod_{i=1}^n p(x_i, \\theta) = \n",
    "\\prod_{i=1}^n \\left(\\frac{2x_i^3}{\\sqrt{2\\pi}} \\cdot e^{-\\frac{(x_i^4-\\theta)^2}{2}}\\right)$$\n",
    "\n",
    "**Подсказка 2** — свойство степени:\n",
    "\n",
    "$$a^n \\cdot a^m = a^{n+m}$$\n",
    "\n",
    "**Подсказка 3** — cвойства логарифма:\n",
    "\n",
    "$$log_a(x_1\\cdot x_2) = log_a x_1 + log_a x_2$$\n",
    "\n",
    "$$log_a \\frac{x_1}{x_2} = log_a x_1 - log_a x2$$\n",
    "\n",
    "$$ln(e^x) = x$$\n",
    "\n",
    "**Что оценивается**\n",
    "\n",
    "- Выполнены все оставшиеся 4 шага задания (1-4).\n",
    "- Для всех шагов получены правильные математические выкладки.\n",
    "- Получен верный финальный ответ.\n",
    "\n",
    "\n",
    "\n",
    "**Как отправить работу на проверку**\n",
    "\n",
    "Отправьте решение на проверку в конце модуля. К решению прикрепите:\n",
    "- расчёты на бумаге / в документе;\n",
    "- (необязательно) если пишете на latex, jupyter notebook с решением."
   ]
  },
  {
   "cell_type": "markdown",
   "id": "2541bede",
   "metadata": {
    "id": "2541bede"
   },
   "source": [
    "# Решение"
   ]
  },
  {
   "cell_type": "markdown",
   "id": "2550f38c",
   "metadata": {
    "id": "2550f38c"
   },
   "source": [
    "## 0. Функция правдоподобия"
   ]
  },
  {
   "cell_type": "markdown",
   "id": "baa74278",
   "metadata": {
    "id": "baa74278"
   },
   "source": [
    "$$L(X_1,...,X_n, \\theta)=\\prod_{i=1}^n p(x_i, \\theta) = \n",
    "\\prod_{i=1}^n \\left(\\frac{2x_i^3}{\\sqrt{2\\pi}} \\cdot e^{-\\frac{(x_i^4-\\theta)^2}{2}}\\right)$$"
   ]
  },
  {
   "cell_type": "markdown",
   "id": "f8808b18",
   "metadata": {
    "id": "f8808b18"
   },
   "source": [
    "## 1. Упрощение функции правдоподобия\n",
    "\n",
    "Примечание: свойство степени\n",
    "\n",
    "$$a^n \\cdot a^m = a^{n+m}$$"
   ]
  },
  {
   "cell_type": "markdown",
   "id": "a18b8ec3",
   "metadata": {
    "id": "a18b8ec3"
   },
   "source": [
    "$$L(X_1,...,X_n, \\theta)=\\prod_{i=1}^n p(x_i, \\theta) = \n",
    "\\prod_{i=1}^n \\left(\\frac{2x_i^3}{\\sqrt{2\\pi}} \\cdot e^{-\\frac{(x_i^4-\\theta)^2}{2}}\\right)=\\\\=\n",
    "\\left(\\frac{2}{\\sqrt{2\\pi}}\\right)^n \\cdot \\left(\\prod_{i=1}^n x_i^3\\right) \\cdot e^{- \\sum_{i=1}^{n}\\frac{(x_i^4-\\theta)^2}{2}}$$"
   ]
  },
  {
   "cell_type": "markdown",
   "id": "6d29fd1f",
   "metadata": {
    "id": "6d29fd1f"
   },
   "source": [
    "## 2. Логарифмируем\n",
    "\n",
    "Примечание: cвойства логарифма\n",
    "\n",
    "$$log_a(x_1\\cdot x_2) = log_a x_1 + log_a x_2$$\n",
    "\n",
    "$$log_a \\frac{x_1}{x_2} = log_a x_1 - log_a x2$$\n",
    "\n",
    "$$ln(e^x) = x$$"
   ]
  },
  {
   "cell_type": "markdown",
   "id": "d9c1386e",
   "metadata": {
    "id": "d9c1386e"
   },
   "source": [
    "$$\\ln L(X_1,...,X_n, \\theta)=\\ln 2^n - \\ln (\\sqrt{2\\pi})^n + \\ln \\left(\\prod_{i=1}^n x_i^3\\right) + \\ln e^{- \\sum_{i=1}^{n}\\frac{(x_i^4-\\theta)^2}{2}}$$"
   ]
  },
  {
   "cell_type": "markdown",
   "id": "a958cff8",
   "metadata": {
    "id": "a958cff8"
   },
   "source": [
    "$$\\ln L(X_1,...,X_n, \\theta)=\\ln 2^n - \\ln (\\sqrt{2\\pi})^n + \\sum_{x=1}^{n} \\ln x_i^3 + - \\sum_{i=1}^{n}\\frac{(x_i^4-\\theta)^2}{2}$$"
   ]
  },
  {
   "cell_type": "markdown",
   "id": "6a996f2a",
   "metadata": {
    "id": "6a996f2a"
   },
   "source": [
    "## 3. Находим частную производную"
   ]
  },
  {
   "cell_type": "markdown",
   "id": "13f82028",
   "metadata": {
    "id": "13f82028"
   },
   "source": [
    "$$\\frac{\\partial ln L}{\\partial \\theta} = \\frac{\\partial}{\\partial \\theta} \\left( \\ln 2^n - \\ln (\\sqrt{2\\pi})^n + \\sum_{x=1}^{n} \\ln x_i^3 + - \\sum_{i=1}^{n}\\frac{(x_i^4-\\theta)^2}{2} \\right)$$"
   ]
  },
  {
   "cell_type": "markdown",
   "id": "2fc2d95d",
   "metadata": {
    "id": "2fc2d95d"
   },
   "source": [
    "$$\\frac{\\partial ln L}{\\partial \\theta} = -\\frac{\\partial}{\\partial \\theta} \\left( \\sum_{i=1}^{n}\\frac{(x_i^4-\\theta)^2}{2} \\right) = -\\sum_{i=1}^{n}\\frac{2(x_i^4-\\theta)}{2} = -\\sum_{i=1}^{n} (x_i^4-\\theta)$$"
   ]
  },
  {
   "cell_type": "markdown",
   "id": "cfb340d0",
   "metadata": {
    "id": "cfb340d0"
   },
   "source": [
    "## 4. Приравниваем производную к нулю"
   ]
  },
  {
   "cell_type": "markdown",
   "id": "a2eefdcc",
   "metadata": {
    "id": "a2eefdcc"
   },
   "source": [
    "$$-\\sum_{i=1}^{n} (x_i^4-\\theta)=0$$\n",
    "\n",
    "$$\\sum_{i=1}^{n} x_i^4 = n\\cdot \\theta$$\n",
    "\n",
    "$$\\theta = \\frac{\\sum_{i=1}^{n} x_i^4}{n}$$"
   ]
  },
  {
   "cell_type": "code",
   "execution_count": null,
   "id": "0293c689",
   "metadata": {},
   "outputs": [],
   "source": []
  },
  {
   "cell_type": "code",
   "execution_count": 15,
   "id": "fcc95f60",
   "metadata": {},
   "outputs": [],
   "source": [
    "import numpy as np\n",
    "import sympy as sp"
   ]
  },
  {
   "cell_type": "code",
   "execution_count": 16,
   "id": "04d3a521",
   "metadata": {},
   "outputs": [],
   "source": [
    "# 0. Функция правдоподобия\n",
    "def likelihood(X, theta):\n",
    "    n = len(X)\n",
    "    f = (2 * X**3 / np.sqrt(2 * np.pi)) * np.exp(-((X**4 - theta)**2) / 2)\n",
    "    L = np.prod(f)\n",
    "    return L"
   ]
  },
  {
   "cell_type": "code",
   "execution_count": 17,
   "id": "108b444c",
   "metadata": {},
   "outputs": [],
   "source": [
    "# 1. Упрощение функции правдоподобия\n",
    "def simplified_likelihood(X, theta):\n",
    "    n = len(X)\n",
    "    term1 = (2 / np.sqrt(2 * np.pi)) ** n\n",
    "    term2 = np.prod(X**3)\n",
    "    term3 = np.exp(-np.sum((X**4 - theta)**2) / 2)\n",
    "    L = term1 * term2 * term3\n",
    "    return L"
   ]
  },
  {
   "cell_type": "code",
   "execution_count": 18,
   "id": "15ee998d",
   "metadata": {},
   "outputs": [],
   "source": [
    "# 2. Логарифмирование функции правдоподобия\n",
    "def log_likelihood(X, theta):\n",
    "    n = len(X)\n",
    "    term1 = n * np.log(2 / np.sqrt(2 * np.pi))\n",
    "    term2 = 3 * np.sum(np.log(X))\n",
    "    term3 = -np.sum((X**4 - theta)**2) / 2\n",
    "    logL = term1 + term2 + term3\n",
    "    return logL"
   ]
  },
  {
   "cell_type": "code",
   "execution_count": 19,
   "id": "57703691",
   "metadata": {},
   "outputs": [],
   "source": [
    "# 3. Частная производная функции правдоподобия относительно θ\n",
    "def partial_derivative_log_likelihood(n):\n",
    "    theta = sp.symbols('theta')\n",
    "    i = sp.symbols('i')\n",
    "    X_sym = sp.IndexedBase('X')\n",
    "    \n",
    "    term1 = n * sp.log(2 / sp.sqrt(2 * sp.pi))\n",
    "    term2 = 3 * sp.Sum(sp.log(X_sym[i]), (i, 0, n-1))\n",
    "    term3 = -sp.Sum((X_sym[i]**4 - theta)**2 / 2, (i, 0, n-1))\n",
    "    \n",
    "    logL = term1 + term2 + term3\n",
    "    partial_derivative = sp.diff(logL, theta)\n",
    "    return partial_derivative"
   ]
  },
  {
   "cell_type": "code",
   "execution_count": 20,
   "id": "bfcffcf3",
   "metadata": {},
   "outputs": [],
   "source": [
    "# 4. Приравнивание частной производной к нулю для нахождения оценки θ\n",
    "def mle_estimate(X):\n",
    "    n = len(X)\n",
    "    theta = sp.symbols('theta')\n",
    "    partial_derivative = partial_derivative_log_likelihood(n)\n",
    "    \n",
    "    # Создаем уравнение, приравниваем частную производную к нулю\n",
    "    X_sym = sp.IndexedBase('X')\n",
    "    eq = partial_derivative.subs({X_sym[i]: X[i] for i in range(n)})\n",
    "    theta_solution = sp.solve(eq, theta)\n",
    "    \n",
    "    return theta_solution"
   ]
  },
  {
   "cell_type": "code",
   "execution_count": 21,
   "id": "d17e2d12",
   "metadata": {},
   "outputs": [
    {
     "name": "stdout",
     "output_type": "stream",
     "text": [
      "Likelihood: 0.0\n",
      "Simplified Likelihood: 0.0\n",
      "Log Likelihood: -35468.369003919535\n",
      "Partial Derivative of Log Likelihood: -Sum(theta - X[i]**4, (i, 0, 3))\n",
      "MLE Estimate of theta: []\n"
     ]
    }
   ],
   "source": [
    "# Пример использования\n",
    "X = np.array([1.0, 2.0, 3.0, 4.0])  # Пример данных\n",
    "\n",
    "likelihood_value = likelihood(X, theta=2.0)\n",
    "simplified_likelihood_value = simplified_likelihood(X, theta=2.0)\n",
    "log_likelihood_value = log_likelihood(X, theta=2.0)\n",
    "partial_derivative = partial_derivative_log_likelihood(len(X))\n",
    "theta_estimate = mle_estimate(X)\n",
    "\n",
    "print(\"Likelihood:\", likelihood_value)\n",
    "print(\"Simplified Likelihood:\", simplified_likelihood_value)\n",
    "print(\"Log Likelihood:\", log_likelihood_value)\n",
    "print(\"Partial Derivative of Log Likelihood:\", partial_derivative)\n",
    "print(\"MLE Estimate of theta:\", theta_estimate)"
   ]
  },
  {
   "cell_type": "code",
   "execution_count": null,
   "id": "58841993",
   "metadata": {},
   "outputs": [],
   "source": []
  }
 ],
 "metadata": {
  "colab": {
   "provenance": []
  },
  "kernelspec": {
   "display_name": "Python 3 (ipykernel)",
   "language": "python",
   "name": "python3"
  },
  "language_info": {
   "codemirror_mode": {
    "name": "ipython",
    "version": 3
   },
   "file_extension": ".py",
   "mimetype": "text/x-python",
   "name": "python",
   "nbconvert_exporter": "python",
   "pygments_lexer": "ipython3",
   "version": "3.11.5"
  }
 },
 "nbformat": 4,
 "nbformat_minor": 5
}
