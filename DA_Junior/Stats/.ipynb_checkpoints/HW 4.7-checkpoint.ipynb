{
 "cells": [
  {
   "cell_type": "code",
   "execution_count": 8,
   "id": "6976da7a",
   "metadata": {},
   "outputs": [],
   "source": [
    "import numpy as np\n",
    "from scipy import stats\n",
    "from statsmodels.stats.proportion import proportions_ztest"
   ]
  },
  {
   "cell_type": "code",
   "execution_count": 4,
   "id": "46b377c3",
   "metadata": {},
   "outputs": [
    {
     "data": {
      "text/plain": [
       "(2.1578017974978794, 0.07430190210562304)"
      ]
     },
     "execution_count": 4,
     "metadata": {},
     "output_type": "execute_result"
    }
   ],
   "source": [
    "#Задача 1\n",
    "# Данные\n",
    "data = [12.9, 11.6, 13.5, 13.9, 12.1, 11.9, 13.0]\n",
    "\n",
    "# t-тест\n",
    "t_stat, p_value = stats.ttest_1samp(data, 12)\n",
    "t_stat, p_value"
   ]
  },
  {
   "cell_type": "code",
   "execution_count": 5,
   "id": "33c3fd92",
   "metadata": {},
   "outputs": [
    {
     "data": {
      "text/plain": [
       "0.9999999999999987"
      ]
     },
     "execution_count": 5,
     "metadata": {},
     "output_type": "execute_result"
    }
   ],
   "source": [
    "#Задача 2\n",
    "# Данные\n",
    "method1 = [23.1, 23.2, 26.5, 26.6, 27.1, 48.3, 40.5, 25.0, 38.4, 23.5]\n",
    "method2 = [22.7, 23.6, 27.1, 27.4, 27.4, 46.8, 40.4, 24.9, 38.1, 23.8]\n",
    "\n",
    "# Парный t-тест\n",
    "t_stat, p_value = stats.ttest_rel(method1, method2)\n",
    "p_value"
   ]
  },
  {
   "cell_type": "code",
   "execution_count": 6,
   "id": "1e93d8e1",
   "metadata": {},
   "outputs": [
    {
     "data": {
      "text/plain": [
       "0.486178812200461"
      ]
     },
     "execution_count": 6,
     "metadata": {},
     "output_type": "execute_result"
    }
   ],
   "source": [
    "#Задача 3\n",
    "# Данные\n",
    "city = [132, 111, 119, 138, 200, 131, 138, 170, 159, 140]\n",
    "village = [115, 190, 127, 155, 148, 121, 116, 121, 197]\n",
    "\n",
    "# Двухвыборочный t-тест\n",
    "t_stat, p_value = stats.ttest_ind(city, village, alternative='greater')\n",
    "p_value"
   ]
  },
  {
   "cell_type": "code",
   "execution_count": 9,
   "id": "1d740056",
   "metadata": {},
   "outputs": [
    {
     "data": {
      "text/plain": [
       "0.00467773498104723"
      ]
     },
     "execution_count": 9,
     "metadata": {},
     "output_type": "execute_result"
    }
   ],
   "source": [
    "#Задача 4\n",
    "# Данные\n",
    "count = 2500\n",
    "nobs = 5000\n",
    "value = 0.52\n",
    "\n",
    "# Z-тест для доли\n",
    "stat, p_value = proportions_ztest(count, nobs, value)\n",
    "p_value"
   ]
  },
  {
   "cell_type": "code",
   "execution_count": 10,
   "id": "c76d22e8",
   "metadata": {},
   "outputs": [
    {
     "data": {
      "text/plain": [
       "2.091609395051036e-06"
      ]
     },
     "execution_count": 10,
     "metadata": {},
     "output_type": "execute_result"
    }
   ],
   "source": [
    "#Задача 5\n",
    "# Данные\n",
    "count = np.array([3, 32])\n",
    "nobs = np.array([175, 200])\n",
    "\n",
    "# Z-тест для разности долей\n",
    "stat, p_value = proportions_ztest(count, nobs)\n",
    "p_value"
   ]
  }
 ],
 "metadata": {
  "kernelspec": {
   "display_name": "Python 3 (ipykernel)",
   "language": "python",
   "name": "python3"
  },
  "language_info": {
   "codemirror_mode": {
    "name": "ipython",
    "version": 3
   },
   "file_extension": ".py",
   "mimetype": "text/x-python",
   "name": "python",
   "nbconvert_exporter": "python",
   "pygments_lexer": "ipython3",
   "version": "3.11.5"
  }
 },
 "nbformat": 4,
 "nbformat_minor": 5
}
