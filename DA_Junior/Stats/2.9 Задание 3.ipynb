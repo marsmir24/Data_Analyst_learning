{
 "cells": [
  {
   "cell_type": "markdown",
   "id": "0031c614",
   "metadata": {
    "id": "0031c614"
   },
   "source": [
    "# Практическая работа\n",
    "\n",
    "**Цели работы**\n",
    "\n",
    "Научиться строить точный доверительный интервал для среднего.\n",
    "\n",
    "**Что нужно сделать**\n",
    "\n",
    "Известно, что генеральная совокупность распределена нормально со средним квадратическим отклонением $\\sigma=5$.\n",
    "\n",
    "Найдите доверительный интервал для оценки математического ожидания $\\mu$ с надёжностью 0.95, если выборочная средняя $\\bar x = 24.15$, а объем выборки $n=100$.\n",
    "\n",
    "Для этого выполните следующее:\n",
    "1. Выберите подходящую формулу доверительного интервала.\n",
    "2. Примените формулу для доверительного интервала.\n",
    "3. Получите конкретный доверительный интервал для среднего.\n",
    "\n",
    "Результатом будут границы доверительного интервала.\n",
    "\n",
    "**Рекомендации по выполнению**\n",
    "\n",
    "- Выполняйте задания в приведённой последовательности.\n",
    "- Пользуйтесь материалами, о которых говорилось в видео.\n",
    "- Используйте подсказки и справочные значения.\n",
    "\n",
    "**Теоретическая подсказка:**\n",
    "\n",
    "- Асимптотический доверительный интервал для среднего:\n",
    "\n",
    "$$P \\left(\\bar x-z_{1-\\frac{\\alpha}{2}}\\cdot \\frac{\\hat\\sigma}{\\sqrt{n}} \\leq {\\mu} \\leq \\bar x+z_{1-\\frac{\\alpha}{2}}\\cdot \\frac{\\hat\\sigma}{\\sqrt{n}} \\right) = 1-\\alpha$$\n",
    "\n",
    "- Точный доверительный интервал для среднего, дисперсия известна:\n",
    "$$P \\left(\\bar x-z_{1-\\frac{\\alpha}{2}}\\cdot \\frac{\\sigma}{\\sqrt{n}} \\leq {\\mu} \\leq \\bar x+z_{1-\\frac{\\alpha}{2}}\\cdot \\frac{\\sigma}{\\sqrt{n}} \\right) = 1-\\alpha$$\n",
    "\n",
    "- Точный доверительный интервал для среднего, дисперсия неизвестна:\n",
    "$$P \\left(\\bar x-t_{1-\\frac{\\alpha}{2}}\\cdot \\frac{s}{\\sqrt{n}} \\leq {\\mu} \\leq \\bar x+t_{1-\\frac{\\alpha}{2}}\\cdot \\frac{s}{\\sqrt{n}} \\right) = 1-\\alpha$$\n",
    "\n",
    "**Справочные значения:**\n",
    "$$ \\alpha = 5\\%, z_{1-\\frac{\\alpha}{2}} = 1.96$$\n",
    "$$ \\alpha = 5\\%, t_{1-\\frac{\\alpha}{2}} = 2.26$$\n",
    "\n",
    "**Что оценивается**\n",
    "\n",
    "- Выбрана верная формула для доверительного интервала.\n",
    "- Получены верные границы для доверительного интервала.\n",
    "\n",
    "**Как отправить работу на проверку**\n",
    "\n",
    "Отправьте решение на проверку в конце модуля. К решению прикрепите:\n",
    "\n",
    "- расчёты на бумаге / в документе;\n",
    "- (необязательно) если пишете на latex, jupyter notebook с решением."
   ]
  },
  {
   "cell_type": "code",
   "execution_count": null,
   "id": "5217e378",
   "metadata": {},
   "outputs": [],
   "source": []
  },
  {
   "cell_type": "code",
   "execution_count": 1,
   "id": "b39fb5ea",
   "metadata": {},
   "outputs": [],
   "source": [
    "import numpy as np"
   ]
  },
  {
   "cell_type": "code",
   "execution_count": 2,
   "id": "cc8efd87",
   "metadata": {},
   "outputs": [],
   "source": [
    "# Данные задачи\n",
    "x_bar = 24.15  # Выборочная средняя\n",
    "sigma = 5      # Стандартное отклонение генеральной совокупности\n",
    "n = 100        # Объем выборки\n",
    "alpha = 0.05   # Уровень значимости\n",
    "z = 1.96       # Квантиль нормального распределения для 95% доверительного интервала"
   ]
  },
  {
   "cell_type": "code",
   "execution_count": 3,
   "id": "7010e36e",
   "metadata": {},
   "outputs": [],
   "source": [
    "# Рассчитаем стандартную ошибку\n",
    "SE = sigma / np.sqrt(n)"
   ]
  },
  {
   "cell_type": "code",
   "execution_count": 4,
   "id": "7cd54e62",
   "metadata": {},
   "outputs": [],
   "source": [
    "# Найдем границы доверительного интервала\n",
    "lower_bound = x_bar - z * SE\n",
    "upper_bound = x_bar + z * SE"
   ]
  },
  {
   "cell_type": "code",
   "execution_count": 5,
   "id": "a03a49b2",
   "metadata": {},
   "outputs": [
    {
     "data": {
      "text/plain": [
       "(23.169999999999998, 25.13)"
      ]
     },
     "execution_count": 5,
     "metadata": {},
     "output_type": "execute_result"
    }
   ],
   "source": [
    "# Выведем результаты\n",
    "(lower_bound, upper_bound)"
   ]
  }
 ],
 "metadata": {
  "colab": {
   "collapsed_sections": [],
   "provenance": []
  },
  "kernelspec": {
   "display_name": "Python 3 (ipykernel)",
   "language": "python",
   "name": "python3"
  },
  "language_info": {
   "codemirror_mode": {
    "name": "ipython",
    "version": 3
   },
   "file_extension": ".py",
   "mimetype": "text/x-python",
   "name": "python",
   "nbconvert_exporter": "python",
   "pygments_lexer": "ipython3",
   "version": "3.11.5"
  }
 },
 "nbformat": 4,
 "nbformat_minor": 5
}
