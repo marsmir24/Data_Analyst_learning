{
 "cells": [
  {
   "cell_type": "markdown",
   "id": "22f11c36",
   "metadata": {
    "id": "22f11c36"
   },
   "source": [
    "# Практическая работа\n",
    "\n",
    "**Цели работы**\n",
    "\n",
    "Научиться применять метод моментов для нормального распределения.\n",
    "\n",
    "**Что нужно сделать**\n",
    "\n",
    "Пусть дано нормальное распределение с параметрами $\\mu$ и $\\sigma$.\n",
    "\n",
    "Выполните описанные ниже шаги:\n",
    "1. Найдите оценки обоих параметров с помощью метода моментов.\n",
    "2. Примените формулы данных оценок для нормального распределения с параметрами mu = 2 sigma = 4.\n",
    "3. Сравните свои оценки и значения 2 и 16 для размера выборки 200 и 1000.\n",
    "\n",
    "Результатом будет нахождение оценок неизвестных параметров, а также проверка их в Python.\n",
    "\n",
    "**Рекомендации по выполнению**\n",
    "\n",
    "- Выполняйте задания в приведённой последовательности.\n",
    "- Пользуйтесь материалами, о которых говорилось в видео.\n",
    "- Используйте приложенный к данной теме ноутбук.\n",
    "- Используйте материалы предыдущего модуля про нормальное распределение.\n",
    "\n",
    "**Что оценивается**\n",
    "\n",
    "- Найдены оценки методом моментов.\n",
    "- Получены результаты с помощью Python.\n",
    "- Полученные оценки близки к параметрам 2 и 4.\n",
    "\n",
    "**Как отправить работу на проверку**\n",
    "\n",
    "Отправьте решение на проверку в конце модуля. К решению прикрепите:\n",
    "- расчёты на бумаге / в документе;\n",
    "- (необязательно) если пишете на latex, jupyter notebook с решением;\n",
    "- jupyter notebook со скриптом на Python."
   ]
  },
  {
   "cell_type": "code",
   "execution_count": 1,
   "id": "0648e881",
   "metadata": {},
   "outputs": [],
   "source": [
    "import numpy as np"
   ]
  },
  {
   "cell_type": "code",
   "execution_count": 2,
   "id": "d17cd210",
   "metadata": {},
   "outputs": [],
   "source": [
    "# Параметры истинного распределения\n",
    "mu_true = 2\n",
    "sigma_true = 4"
   ]
  },
  {
   "cell_type": "code",
   "execution_count": 3,
   "id": "8b74aef1",
   "metadata": {},
   "outputs": [],
   "source": [
    "# Функция для оценки параметров методом моментов\n",
    "def estimate_moments(sample):\n",
    "    mu_est = np.mean(sample)\n",
    "    sigma_est = np.std(sample, ddof=1)  # Используем смещенную оценку для дисперсии\n",
    "    return mu_est, sigma_est"
   ]
  },
  {
   "cell_type": "code",
   "execution_count": 4,
   "id": "a7479e06",
   "metadata": {},
   "outputs": [],
   "source": [
    "# Генерация выборок размером 200 и 1000\n",
    "np.random.seed(0)  # Фиксируем зерно для воспроизводимости\n",
    "sample_200 = np.random.normal(mu_true, sigma_true, 200)\n",
    "sample_1000 = np.random.normal(mu_true, sigma_true, 1000)"
   ]
  },
  {
   "cell_type": "code",
   "execution_count": 5,
   "id": "91930972",
   "metadata": {},
   "outputs": [
    {
     "data": {
      "text/plain": [
       "((2.2836419725646446, 4.09594376612347),\n",
       " (1.8391069658217918, 3.874353305143312))"
      ]
     },
     "execution_count": 5,
     "metadata": {},
     "output_type": "execute_result"
    }
   ],
   "source": [
    "# Оценки методом моментов\n",
    "mu_est_200, sigma_est_200 = estimate_moments(sample_200)\n",
    "mu_est_1000, sigma_est_1000 = estimate_moments(sample_1000)\n",
    "\n",
    "(mu_est_200, sigma_est_200), (mu_est_1000, sigma_est_1000)"
   ]
  },
  {
   "cell_type": "markdown",
   "id": "8c1eaba5",
   "metadata": {},
   "source": [
    "Оценки параметров методом моментов для нормального распределения с параметрами μ=2 и σ=4 на выборках размером 200 и 1000:\n",
    "\n",
    "Для выборки размером 200:\n",
    "Оценка μ: 2.284\n",
    "Оценка σ: 4.096\n",
    "\n",
    "Для выборки размером 1000:\n",
    "\n",
    "Оценка μ: 1.839\n",
    "Оценка σ: 3.874\n",
    "\n",
    "Эти оценки близки к истинным значениям параметров μ=2 и σ=4, что подтверждает корректность метода моментов."
   ]
  }
 ],
 "metadata": {
  "colab": {
   "provenance": []
  },
  "kernelspec": {
   "display_name": "Python 3 (ipykernel)",
   "language": "python",
   "name": "python3"
  },
  "language_info": {
   "codemirror_mode": {
    "name": "ipython",
    "version": 3
   },
   "file_extension": ".py",
   "mimetype": "text/x-python",
   "name": "python",
   "nbconvert_exporter": "python",
   "pygments_lexer": "ipython3",
   "version": "3.11.5"
  }
 },
 "nbformat": 4,
 "nbformat_minor": 5
}
