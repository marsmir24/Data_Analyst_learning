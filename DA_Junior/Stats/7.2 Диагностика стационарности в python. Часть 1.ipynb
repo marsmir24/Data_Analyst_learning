{
  "cells": [
    {
      "cell_type": "markdown",
      "metadata": {
        "id": "hZl3WBo2M8yd"
      },
      "source": [
        "# 7.2.1. Диагностика стационарности ряда в Python"
      ]
    },
    {
      "cell_type": "markdown",
      "metadata": {
        "id": "Ptu-xATvM8yh"
      },
      "source": [
        "# 1. Стационарность\n",
        "\n",
        "## 1.1. Определение стационарности\n",
        "\n",
        "**Стационарный временной ряд** — это временной ряд, статистические свойства (среднее, дисперсия) которого не меняются со временем. Таким образом, временные ряды с трендами или сезонностью не являются стационарными, потому что тренд и сезонность будут влиять на значение временного ряда в разные моменты времени. \n",
        "\n",
        "С другой стороны, временной ряд, являющийся белым шумом, является стационарным, поскольку он будет выглядеть примерно одинаково в любой момент времени. Некоторые случаи могут сбивать с толку — например, временной ряд с циклическим поведением (но без тренда или сезонности) является стационарным. Это связано с тем, что циклы не имеют фиксированной длины, поэтому мы не знаем, где будут пики и спады циклов."
      ]
    },
    {
      "cell_type": "markdown",
      "metadata": {
        "id": "Qo8qVi4ZM8yi"
      },
      "source": [
        "Примером стационарного временного ряда является гауссовский белый шум. \n",
        "\n",
        "Гауссовский белый шум задаётся формулой: \n",
        "\n",
        "$$y_t = iid N(0,\\sigma^2),$$ \n",
        "\n",
        "где iid обозначает, что значения временного ряда в любой момент времени являются независимыми и одинаково распределёнными случайными величинами (а значит, вместе они не коррелируют). Гауссовский белый шум имеет постоянное среднее, равное нулю ($E[Y_t] = 0$), и постоянную дисперсию, равную $\\sigma^2$ ($Var[Y_t] = \\sigma^2$).\n",
        "\n",
        "![image.png](attachment:image.png)"
      ]
    },
    {
      "cell_type": "markdown",
      "metadata": {
        "id": "4qbudnHzM8yi"
      },
      "source": [
        "## 1.2. Важность стационарности\n",
        "\n",
        "Процессы стационарных временных рядов `легче анализировать и моделировать`, поскольку основное предположение состоит в том, что `их свойства не зависят от времени` и будут такими же в будущем, как и в предыдущий исторический период времени.\n",
        "\n",
        "`Большинство методов` прогнозирования `предназначены для работы со стационарными` временными рядами. \n",
        "\n",
        "Первым шагом в процессе прогнозирования обычно является преобразование нестационарного ряда в стационарный. Прогнозировать стационарный ряд относительно проще, а прогнозы будут более надёжными. \n",
        "\n",
        "Например, мы знаем, что линейная регрессия работает лучше всего, если предикторы (переменные X) не коррелируют друг с другом. Таким образом, стационаризация ряда решает эту проблему, поскольку устраняет любую стойкую автокорреляцию, тем самым делая предикторы (лаги временного ряда) в моделях прогнозирования почти независимыми.\n",
        "\n",
        "`AR-модели, МА-модели и ARIMA-модели требуют стационарный временной ряд.` Методы экспоненциального сглаживания применяются для нестационарных временных рядов. Применение методов экспоненциального сглаживания для стационарных рядов не будет ошибкой, но само по себе субоптимально. Модели скользящего среднего, предсказывающие на основе скользящего среднего N последних наблюдений, могут работать с некоторыми видами нестационарных данных, но будут плохо работать с трендами и сезонностью."
      ]
    },
    {
      "cell_type": "markdown",
      "metadata": {
        "id": "kgi_1vCYM8yj"
      },
      "source": [
        "## 1.3. Способы определения нестационарности\n",
        "\n",
        "Существует несколько способов определить нестационарность временного ряда:\n",
        "- разбить временной ряд на две части и вычислить описательные статистики (если они отличаются, ряд не является стационарным);\n",
        "- построить ящичковые диаграммы для соответствующих моментов времени и оценить изменение размаха;\n",
        "- построить графики автокорреляционной функции и частной автокорреляционной функции;\n",
        "- применить тесты на единичные корни: расширенный тест Дикки — Фуллера (ADF-тест), тест Филлипса — Перрона (РР-тест), тест Квятковского — Филлипса — Шмидта — Шина (KPSS-тест).\n",
        "\n",
        "Для преобразования нестационарного ряда в стационарный обычно применяется:\n",
        "- **дифференцирование ряда** (переход к попарным разностям его соседних значений), которое позволяет стабилизировать среднее значение временного ряда, удаляя изменения уровня временного ряда и, таким образом, удаляя (уменьшая) тренд и сезонность;\n",
        "- логарифмирование, которое позволяет стабилизировать дисперсию временного ряда."
      ]
    },
    {
      "cell_type": "markdown",
      "metadata": {
        "id": "6f_akKQaM8yj"
      },
      "source": [
        "## 2. Стационарность в Python"
      ]
    },
    {
      "cell_type": "markdown",
      "metadata": {
        "id": "MK4bB0vBM8yk"
      },
      "source": [
        "Проиллюстрируем диагностику стационарности на конкретном примере. \n",
        "\n",
        "Мы будем прогнозировать ежемесячное количество авиапассажиров. В работе мы будем использовать набор данных Airline Passengers. В нём содержится информация об авиаперевозках за некоторый период времени. Каждая запись содержит данные о количестве авиапассажиров в тысячах. \n",
        "\n",
        "Всего в наборе присутствует 144 ежемесячных наблюдения с 1949 по 1960 год."
      ]
    },
    {
      "cell_type": "code",
      "execution_count": null,
      "metadata": {
        "id": "fb_A6FctM8yk"
      },
      "outputs": [],
      "source": [
        "# Импортируем библиотеки NumPy и pandas\n",
        "import numpy as np\n",
        "import pandas as pd\n",
        "\n",
        "# Импортируем необходимые функции\n",
        "from pandas.plotting import lag_plot\n",
        "from statsmodels.tsa.seasonal import seasonal_decompose\n",
        "from statsmodels.compat.python import lzip\n",
        "from scipy import stats\n",
        "\n",
        "# Импортируем библиотеку matplotlib для построения графиков\n",
        "import matplotlib.pyplot as plt\n",
        "%config InlineBackend.figure_format = 'retina'"
      ]
    },
    {
      "cell_type": "code",
      "execution_count": null,
      "metadata": {
        "scrolled": true,
        "id": "7IiIfqISM8ym"
      },
      "outputs": [],
      "source": [
        "# Загружаем данные об авиаперевозках\n",
        "air_passengers = pd.read_csv(\n",
        "    './data/AirPassengers.csv', \n",
        "    header=0, \n",
        "    index_col=0, \n",
        "    parse_dates=True, \n",
        "    squeeze=True)"
      ]
    },
    {
      "cell_type": "code",
      "execution_count": null,
      "metadata": {
        "id": "zY6ZLRycM8ym",
        "outputId": "c1e9c027-2b8e-4fe6-be2a-d38da0c613d6"
      },
      "outputs": [
        {
          "name": "stdout",
          "output_type": "stream",
          "text": [
            "Month\n",
            "1949-01-01    112\n",
            "1949-02-01    118\n",
            "1949-03-01    132\n",
            "1949-04-01    129\n",
            "1949-05-01    121\n",
            "1949-06-01    135\n",
            "1949-07-01    148\n",
            "1949-08-01    148\n",
            "1949-09-01    136\n",
            "1949-10-01    119\n",
            "Name: #Passengers, dtype: int64\n"
          ]
        }
      ],
      "source": [
        "# Печатаем первые десять наблюдений\n",
        "print(air_passengers.head(10))"
      ]
    },
    {
      "cell_type": "markdown",
      "metadata": {
        "id": "4CsCL14_M8yn"
      },
      "source": [
        "Теперь визуализируем временной ряд."
      ]
    },
    {
      "cell_type": "code",
      "execution_count": null,
      "metadata": {
        "id": "D8c5twfxM8yn",
        "outputId": "feb2b766-994f-45b3-f9f7-76da2eadea32"
      },
      "outputs": [
        {
          "data": {
            "image/png": "[encoded data removed]",
            "text/plain": [
              "<Figure size 432x288 with 1 Axes>"
            ]
          },
          "metadata": {
            "image/png": {
              "height": 261,
              "width": 375
            },
            "needs_background": "light"
          },
          "output_type": "display_data"
        }
      ],
      "source": [
        "# Визуализируем временной ряд\n",
        "air_passengers.plot();"
      ]
    },
    {
      "cell_type": "markdown",
      "metadata": {
        "id": "PREFrtGPM8yo"
      },
      "source": [
        "На графике видно, что в данных присутствует восходящий тренд — увеличение количества пассажиров со временем. \n",
        "\n",
        "Кроме того, можно наблюдать сезонность, связанную с ежегодным туристическим сезоном. И похоже, что амплитуда сезонных колебаний растёт от года к году, что предполагает мультипликативную зависимость."
      ]
    },
    {
      "cell_type": "markdown",
      "metadata": {
        "id": "74WkJnY3M8yo"
      },
      "source": [
        "## 2.1. Ящичковые диаграммы\n",
        "Давайте убедимся в нестационарности нашего временного ряда, содержащего информацию об авиаперевозках. Мы рассмотрим данные по месяцам для каждого года и сравним, как изменяется разброс значений от года к году. Для анализа воспользуемся ящичковыми диаграммами."
      ]
    },
    {
      "cell_type": "code",
      "execution_count": null,
      "metadata": {
        "id": "3Y9Ub3aDM8yo",
        "outputId": "ecbe7ab0-39e6-456c-f8a3-bacda40ab986"
      },
      "outputs": [
        {
          "data": {
            "image/png": "[encoded data removed]",
            "text/plain": [
              "<Figure size 432x288 with 1 Axes>"
            ]
          },
          "metadata": {
            "image/png": {
              "height": 248,
              "width": 375
            },
            "needs_background": "light"
          },
          "output_type": "display_data"
        }
      ],
      "source": [
        "# Группируем данные по годам\n",
        "groups = air_passengers['1949':'1960'].groupby(pd.Grouper(freq='A'))\n",
        "years = pd.DataFrame()\n",
        "for name, group in groups:\n",
        "    years[name.year] = group.values\n",
        "# Для каждого года строим ящичковую диаграмму\n",
        "years.boxplot();"
      ]
    },
    {
      "cell_type": "markdown",
      "metadata": {
        "id": "Q200stpsM8yp"
      },
      "source": [
        "Изменение размаха данных (расстояния от края нижнего хвоста до края верхнего) указывает на восходящий тренд с течением времени, что также подтверждает нестационарность нашего временного ряда."
      ]
    },
    {
      "cell_type": "markdown",
      "metadata": {
        "id": "FGKF1b9gM8yp"
      },
      "source": [
        "## 2.2. Графики автокорреляционной функции и частной автокорреляционной функции"
      ]
    },
    {
      "cell_type": "markdown",
      "metadata": {
        "id": "DRyk7oSFM8yp"
      },
      "source": [
        "Теперь для проверки стационарности, определения тренда и сезонной компоненты во временном ряду применим аппарат корреляционного анализа. \n",
        "\n",
        "Корреляция характеризует силу связи между наблюдениями. Если связь между наблюдениями присутствует, то данные называются коррелированными. \n",
        "\n",
        "`Когда определяется сильная связь между значениями одного временного ряда, то имеет место автокорреляция.` \n",
        "\n",
        "В этом случае вычисляется корреляция между временным рядом и его копией, сдвинутой на заданное количество интервалов (величину лага). Здесь и далее лаги и сдвиги используются как синонимы.\n",
        "\n",
        "Смысл корреляционного анализа заключается в следующем: детерминированная составляющая характеризуется плавными изменениями значений ряда, то есть соседние значения ряда не должны сильно отличаться, и, следовательно, между ними присутствует сильная связь. Если значения ряда в большей степени обусловлены случайной составляющей и соседние значения могут существенно отличаться друг от друга, то корреляция будет меньше.\n",
        "\n",
        "Главными инструментами корреляционного анализа будут (полная) автокорреляция и частная автокорреляция. \n",
        "\n",
        "(Полная) автокорреляция даёт нам значения автокорреляции текущего наблюдения ряда с его сдвинутыми на определённое количество шагов назад наблюдениями — лагами. Проще говоря, автокорреляция показывает, насколько сильно текущее наблюдение ряда связано с его прошлыми наблюдениями. \n",
        "\n",
        "Полученные коэффициенты автокорреляции для соответствующих лагов (включая нулевой) вместе с доверительным интервалом представляют собой автокорреляционную функцию (autocorrelation function, ACF). Значение коэффициента автокорреляции при нулевом лаге равно 1, поскольку ряд полностью коррелирован с самим собой. Обратите внимание, что в других программах нулевой сдвиг может не выводиться. Лаг, после которого график ACF впервые пересекает границы доверительного интервала, определяет порядок МА-процесса."
      ]
    },
    {
      "cell_type": "markdown",
      "metadata": {
        "id": "4QFTPvvyM8yp"
      },
      "source": [
        "Давайте вычислим коэффициент автокорреляции для k = 2.\n",
        "Загружаем данные, содержащие временной ряд, и визуализируем их."
      ]
    },
    {
      "cell_type": "code",
      "execution_count": null,
      "metadata": {
        "scrolled": true,
        "id": "2hK0BWtfM8yq",
        "outputId": "da8b2ddb-ef45-46b2-eef7-c79b0621e5ee"
      },
      "outputs": [
        {
          "data": {
            "text/html": [
              "<div>\n",
              "<style scoped>\n",
              "    .dataframe tbody tr th:only-of-type {\n",
              "        vertical-align: middle;\n",
              "    }\n",
              "\n",
              "    .dataframe tbody tr th {\n",
              "        vertical-align: top;\n",
              "    }\n",
              "\n",
              "    .dataframe thead th {\n",
              "        text-align: right;\n",
              "    }\n",
              "</style>\n",
              "<table border=\"1\" class=\"dataframe\">\n",
              "  <thead>\n",
              "    <tr style=\"text-align: right;\">\n",
              "      <th></th>\n",
              "      <th>Month</th>\n",
              "      <th>Sales</th>\n",
              "    </tr>\n",
              "  </thead>\n",
              "  <tbody>\n",
              "    <tr>\n",
              "      <th>0</th>\n",
              "      <td>2019-01-01</td>\n",
              "      <td>23.4</td>\n",
              "    </tr>\n",
              "    <tr>\n",
              "      <th>1</th>\n",
              "      <td>2019-02-01</td>\n",
              "      <td>24.1</td>\n",
              "    </tr>\n",
              "    <tr>\n",
              "      <th>2</th>\n",
              "      <td>2019-03-01</td>\n",
              "      <td>44.4</td>\n",
              "    </tr>\n",
              "    <tr>\n",
              "      <th>3</th>\n",
              "      <td>2019-04-01</td>\n",
              "      <td>25.5</td>\n",
              "    </tr>\n",
              "    <tr>\n",
              "      <th>4</th>\n",
              "      <td>2019-05-01</td>\n",
              "      <td>19.2</td>\n",
              "    </tr>\n",
              "    <tr>\n",
              "      <th>5</th>\n",
              "      <td>2019-06-01</td>\n",
              "      <td>37.1</td>\n",
              "    </tr>\n",
              "    <tr>\n",
              "      <th>6</th>\n",
              "      <td>2019-07-01</td>\n",
              "      <td>45.0</td>\n",
              "    </tr>\n",
              "    <tr>\n",
              "      <th>7</th>\n",
              "      <td>2019-08-01</td>\n",
              "      <td>61.8</td>\n",
              "    </tr>\n",
              "    <tr>\n",
              "      <th>8</th>\n",
              "      <td>2019-09-01</td>\n",
              "      <td>56.7</td>\n",
              "    </tr>\n",
              "    <tr>\n",
              "      <th>9</th>\n",
              "      <td>2019-10-01</td>\n",
              "      <td>62.3</td>\n",
              "    </tr>\n",
              "    <tr>\n",
              "      <th>10</th>\n",
              "      <td>2019-11-01</td>\n",
              "      <td>30.9</td>\n",
              "    </tr>\n",
              "    <tr>\n",
              "      <th>11</th>\n",
              "      <td>2019-12-01</td>\n",
              "      <td>69.6</td>\n",
              "    </tr>\n",
              "    <tr>\n",
              "      <th>12</th>\n",
              "      <td>2020-01-01</td>\n",
              "      <td>11.0</td>\n",
              "    </tr>\n",
              "    <tr>\n",
              "      <th>13</th>\n",
              "      <td>2020-02-01</td>\n",
              "      <td>56.6</td>\n",
              "    </tr>\n",
              "    <tr>\n",
              "      <th>14</th>\n",
              "      <td>2020-03-01</td>\n",
              "      <td>83.4</td>\n",
              "    </tr>\n",
              "    <tr>\n",
              "      <th>15</th>\n",
              "      <td>2020-04-01</td>\n",
              "      <td>33.9</td>\n",
              "    </tr>\n",
              "    <tr>\n",
              "      <th>16</th>\n",
              "      <td>2020-05-01</td>\n",
              "      <td>75.5</td>\n",
              "    </tr>\n",
              "    <tr>\n",
              "      <th>17</th>\n",
              "      <td>2020-06-01</td>\n",
              "      <td>87.3</td>\n",
              "    </tr>\n",
              "    <tr>\n",
              "      <th>18</th>\n",
              "      <td>2020-07-01</td>\n",
              "      <td>55.4</td>\n",
              "    </tr>\n",
              "    <tr>\n",
              "      <th>19</th>\n",
              "      <td>2020-08-01</td>\n",
              "      <td>95.2</td>\n",
              "    </tr>\n",
              "  </tbody>\n",
              "</table>\n",
              "</div>"
            ],
            "text/plain": [
              "        Month  Sales\n",
              "0  2019-01-01   23.4\n",
              "1  2019-02-01   24.1\n",
              "2  2019-03-01   44.4\n",
              "3  2019-04-01   25.5\n",
              "4  2019-05-01   19.2\n",
              "5  2019-06-01   37.1\n",
              "6  2019-07-01   45.0\n",
              "7  2019-08-01   61.8\n",
              "8  2019-09-01   56.7\n",
              "9  2019-10-01   62.3\n",
              "10 2019-11-01   30.9\n",
              "11 2019-12-01   69.6\n",
              "12 2020-01-01   11.0\n",
              "13 2020-02-01   56.6\n",
              "14 2020-03-01   83.4\n",
              "15 2020-04-01   33.9\n",
              "16 2020-05-01   75.5\n",
              "17 2020-06-01   87.3\n",
              "18 2020-07-01   55.4\n",
              "19 2020-08-01   95.2"
            ]
          },
          "execution_count": 7,
          "metadata": {},
          "output_type": "execute_result"
        }
      ],
      "source": [
        "# Загружаем данные о продажах\n",
        "sales = pd.read_csv(\n",
        "    './data/sales.csv', \n",
        "    index_col=0,\n",
        "    parse_dates=True, \n",
        "    squeeze=True)\n",
        "\n",
        "# Печатаем значения временного ряда по продажам\n",
        "pd.DataFrame(sales).reset_index()"
      ]
    },
    {
      "cell_type": "code",
      "execution_count": null,
      "metadata": {
        "id": "sbt0fGFkM8yq",
        "outputId": "57d817f6-46ec-447a-d396-1fe97d43fca8"
      },
      "outputs": [
        {
          "data": {
            "image/png": "[encoded data removed]",
            "text/plain": [
              "<Figure size 432x288 with 1 Axes>"
            ]
          },
          "metadata": {
            "image/png": {
              "height": 272,
              "width": 368
            },
            "needs_background": "light"
          },
          "output_type": "display_data"
        }
      ],
      "source": [
        "# Визуализируем ряд по продажам\n",
        "sales.plot();"
      ]
    },
    {
      "cell_type": "markdown",
      "metadata": {
        "id": "kANRoLqaM8yq"
      },
      "source": [
        "Запишем в отдельные переменные длину и величину лага временного ряда. Затем вычислим среднее значение и дисперсию временного ряда (в знаменателе будем использовать деление на Т — длину ряда)."
      ]
    },
    {
      "cell_type": "code",
      "execution_count": null,
      "metadata": {
        "id": "iR4kDz6eM8yq",
        "outputId": "ac4f93ba-1f84-4ea9-d517-8604fdf1e805"
      },
      "outputs": [
        {
          "name": "stdout",
          "output_type": "stream",
          "text": [
            "Лаг:  2\n",
            "Длина временного ряда:  20\n"
          ]
        }
      ],
      "source": [
        "# Записываем информацию о лаге и длине временного ряда\n",
        "k = 2\n",
        "T = len(sales)\n",
        "\n",
        "print('Лаг: ', k)\n",
        "print('Длина временного ряда: ', T)"
      ]
    },
    {
      "cell_type": "code",
      "execution_count": null,
      "metadata": {
        "id": "L2IYY7OJM8yr",
        "outputId": "52765f21-6cfe-4a89-f3da-41cc93da5780"
      },
      "outputs": [
        {
          "name": "stdout",
          "output_type": "stream",
          "text": [
            "Среднее временного ряда:  49.915\n",
            "Дисперсия временного ряда:  564.3672750000002\n"
          ]
        }
      ],
      "source": [
        "# Вычисляем среднее временного ряда\n",
        "mean = sales.mean()\n",
        "\n",
        "# Вычисляем дисперсию временного ряда\n",
        "variance = sales.var(ddof=0)\n",
        "\n",
        "print('Среднее временного ряда: ', mean)\n",
        "print('Дисперсия временного ряда: ', variance)"
      ]
    },
    {
      "cell_type": "code",
      "execution_count": null,
      "metadata": {
        "id": "cellkaskM8yr",
        "outputId": "0125833e-22db-4e1c-a99b-9781790f2c69"
      },
      "outputs": [
        {
          "data": {
            "text/plain": [
              "564.3672750000002"
            ]
          },
          "execution_count": 11,
          "metadata": {},
          "output_type": "execute_result"
        }
      ],
      "source": [
        "# Распишем формулу вычисления дисперсии\n",
        "variance = sum((sales - mean) ** 2) / T\n",
        "variance"
      ]
    },
    {
      "cell_type": "markdown",
      "metadata": {
        "id": "XdO6numdM8yr"
      },
      "source": [
        "Теперь создаём два сравниваемых ряда для лага 2."
      ]
    },
    {
      "cell_type": "code",
      "execution_count": null,
      "metadata": {
        "id": "T0thPFRuM8yr"
      },
      "outputs": [],
      "source": [
        "# Создаём исходный ряд\n",
        "orig_series = sales.head(T - k).reset_index(drop=True)\n",
        "\n",
        "# Создаём сдвинутый ряд\n",
        "lagged_series = sales.tail(T - k).reset_index(drop=True)"
      ]
    },
    {
      "cell_type": "code",
      "execution_count": null,
      "metadata": {
        "scrolled": true,
        "id": "PgfRNFlNM8yr",
        "outputId": "3e556e44-efa7-4d88-86bc-1f36647e8b1b"
      },
      "outputs": [
        {
          "data": {
            "text/html": [
              "<div>\n",
              "<style scoped>\n",
              "    .dataframe tbody tr th:only-of-type {\n",
              "        vertical-align: middle;\n",
              "    }\n",
              "\n",
              "    .dataframe tbody tr th {\n",
              "        vertical-align: top;\n",
              "    }\n",
              "\n",
              "    .dataframe thead th {\n",
              "        text-align: right;\n",
              "    }\n",
              "</style>\n",
              "<table border=\"1\" class=\"dataframe\">\n",
              "  <thead>\n",
              "    <tr style=\"text-align: right;\">\n",
              "      <th></th>\n",
              "      <th>orig_series</th>\n",
              "      <th>lagged_series</th>\n",
              "    </tr>\n",
              "  </thead>\n",
              "  <tbody>\n",
              "    <tr>\n",
              "      <th>0</th>\n",
              "      <td>23.4</td>\n",
              "      <td>44.4</td>\n",
              "    </tr>\n",
              "    <tr>\n",
              "      <th>1</th>\n",
              "      <td>24.1</td>\n",
              "      <td>25.5</td>\n",
              "    </tr>\n",
              "    <tr>\n",
              "      <th>2</th>\n",
              "      <td>44.4</td>\n",
              "      <td>19.2</td>\n",
              "    </tr>\n",
              "    <tr>\n",
              "      <th>3</th>\n",
              "      <td>25.5</td>\n",
              "      <td>37.1</td>\n",
              "    </tr>\n",
              "    <tr>\n",
              "      <th>4</th>\n",
              "      <td>19.2</td>\n",
              "      <td>45.0</td>\n",
              "    </tr>\n",
              "    <tr>\n",
              "      <th>5</th>\n",
              "      <td>37.1</td>\n",
              "      <td>61.8</td>\n",
              "    </tr>\n",
              "    <tr>\n",
              "      <th>6</th>\n",
              "      <td>45.0</td>\n",
              "      <td>56.7</td>\n",
              "    </tr>\n",
              "    <tr>\n",
              "      <th>7</th>\n",
              "      <td>61.8</td>\n",
              "      <td>62.3</td>\n",
              "    </tr>\n",
              "    <tr>\n",
              "      <th>8</th>\n",
              "      <td>56.7</td>\n",
              "      <td>30.9</td>\n",
              "    </tr>\n",
              "    <tr>\n",
              "      <th>9</th>\n",
              "      <td>62.3</td>\n",
              "      <td>69.6</td>\n",
              "    </tr>\n",
              "    <tr>\n",
              "      <th>10</th>\n",
              "      <td>30.9</td>\n",
              "      <td>11.0</td>\n",
              "    </tr>\n",
              "    <tr>\n",
              "      <th>11</th>\n",
              "      <td>69.6</td>\n",
              "      <td>56.6</td>\n",
              "    </tr>\n",
              "    <tr>\n",
              "      <th>12</th>\n",
              "      <td>11.0</td>\n",
              "      <td>83.4</td>\n",
              "    </tr>\n",
              "    <tr>\n",
              "      <th>13</th>\n",
              "      <td>56.6</td>\n",
              "      <td>33.9</td>\n",
              "    </tr>\n",
              "    <tr>\n",
              "      <th>14</th>\n",
              "      <td>83.4</td>\n",
              "      <td>75.5</td>\n",
              "    </tr>\n",
              "    <tr>\n",
              "      <th>15</th>\n",
              "      <td>33.9</td>\n",
              "      <td>87.3</td>\n",
              "    </tr>\n",
              "    <tr>\n",
              "      <th>16</th>\n",
              "      <td>75.5</td>\n",
              "      <td>55.4</td>\n",
              "    </tr>\n",
              "    <tr>\n",
              "      <th>17</th>\n",
              "      <td>87.3</td>\n",
              "      <td>95.2</td>\n",
              "    </tr>\n",
              "  </tbody>\n",
              "</table>\n",
              "</div>"
            ],
            "text/plain": [
              "    orig_series  lagged_series\n",
              "0          23.4           44.4\n",
              "1          24.1           25.5\n",
              "2          44.4           19.2\n",
              "3          25.5           37.1\n",
              "4          19.2           45.0\n",
              "5          37.1           61.8\n",
              "6          45.0           56.7\n",
              "7          61.8           62.3\n",
              "8          56.7           30.9\n",
              "9          62.3           69.6\n",
              "10         30.9           11.0\n",
              "11         69.6           56.6\n",
              "12         11.0           83.4\n",
              "13         56.6           33.9\n",
              "14         83.4           75.5\n",
              "15         33.9           87.3\n",
              "16         75.5           55.4\n",
              "17         87.3           95.2"
            ]
          },
          "execution_count": 13,
          "metadata": {},
          "output_type": "execute_result"
        }
      ],
      "source": [
        "# Длина полученных рядов 18 (было 20), так как два значения — нулевые\n",
        "\n",
        "res=pd.DataFrame()\n",
        "res['orig_series']=orig_series\n",
        "res['lagged_series']=lagged_series\n",
        "\n",
        "res"
      ]
    },
    {
      "cell_type": "code",
      "execution_count": null,
      "metadata": {
        "id": "5OumOl-8M8ys",
        "outputId": "434ce66d-9654-4009-d6b5-6cba6930ae99"
      },
      "outputs": [
        {
          "data": {
            "text/plain": [
              "0.26922207262991976"
            ]
          },
          "execution_count": 14,
          "metadata": {},
          "output_type": "execute_result"
        }
      ],
      "source": [
        "# Вычисляем коэффициент автокорреляции для лага 2\n",
        "autocovariance = sum((orig_series - mean) * (lagged_series - mean)) / T\n",
        "coeff_for_lag2 = autocovariance / variance\n",
        "coeff_for_lag2"
      ]
    },
    {
      "cell_type": "markdown",
      "metadata": {
        "id": "ouKiDP_YM8ys"
      },
      "source": [
        "Можно написать функцию, которая автоматически вычислит значения автокорреляции для соответствующих лагов. Однако сначала надо написать функцию автоковариации."
      ]
    },
    {
      "cell_type": "code",
      "execution_count": null,
      "metadata": {
        "id": "JcES0mwWM8ys"
      },
      "outputs": [],
      "source": [
        "# Пишем функцию автоковариации\n",
        "def autocovariance(series, lag):\n",
        "    len_series = len(series)\n",
        "    mean_series = np.mean(series)\n",
        "\n",
        "    covariances = []\n",
        "    for index in range(lag, len_series):\n",
        "        # Вычисляем простую ковариацию, её легко вычислить с помощью np.cov,\n",
        "        # но в образовательных целях вычисляем её самостоятельно\n",
        "        covariance = (series[index] - mean_series) * (series[index - lag] - mean_series)\n",
        "        covariances.append(covariance)\n",
        "\n",
        "    autocovariance = np.sum(covariances) / len_series\n",
        "    return autocovariance"
      ]
    },
    {
      "cell_type": "markdown",
      "metadata": {
        "id": "Q-bFGSwEM8yt"
      },
      "source": [
        "А вот теперь пишем функцию вычисления автокорреляции, внутри которой используется ранее написанная нами функция вычисления автоковариации."
      ]
    },
    {
      "cell_type": "code",
      "execution_count": null,
      "metadata": {
        "id": "a4s__6x8M8yt"
      },
      "outputs": [],
      "source": [
        "# Пишем функцию автокорреляции\n",
        "def autocorrelation_function(series, max_lags=20):\n",
        "    lag_list = list(range(max_lags))\n",
        "    autocovariances = []\n",
        "    for lag in lag_list:  # Вычисляем автоковариации для каждого лага\n",
        "        autocovariances.append(autocovariance(series, lag))\n",
        "\n",
        "    autocorrelations = np.divide(autocovariances, autocovariances[0])\n",
        "    return autocorrelations"
      ]
    },
    {
      "cell_type": "code",
      "execution_count": null,
      "metadata": {
        "id": "X3ZR81b6M8yt",
        "outputId": "c4454c53-32a6-4379-fe8e-0dc8fbb44bdd"
      },
      "outputs": [
        {
          "data": {
            "text/plain": [
              "array([ 1.        ,  0.11748088,  0.26922207,  0.3714417 , -0.13980713,\n",
              "        0.0802596 ,  0.04020149, -0.17649102,  0.11544519,  0.01885979,\n",
              "        0.01247395, -0.00168609,  0.02763411, -0.26748091, -0.20173766,\n",
              "       -0.17425376, -0.24623709, -0.12249163, -0.11645493, -0.10637858])"
            ]
          },
          "execution_count": 17,
          "metadata": {},
          "output_type": "execute_result"
        }
      ],
      "source": [
        "# Вычисляем автокорреляцию с помощью нашей функции\n",
        "autocorrelation_function(sales)"
      ]
    },
    {
      "cell_type": "markdown",
      "metadata": {
        "id": "UKRvYficM8yt"
      },
      "source": [
        "Теперь импортируем функцию acf() для вычисления значений автокорреляционной функции и plot_acf() для построения графика автокорреляционной функции."
      ]
    },
    {
      "cell_type": "code",
      "execution_count": null,
      "metadata": {
        "id": "rzYWQO0SM8yt"
      },
      "outputs": [],
      "source": [
        "# Импортируем функции для вычисления значений автокорреляционной \n",
        "# функции и построения графика автокорреляционной функции\n",
        "from statsmodels.tsa.stattools import acf\n",
        "from statsmodels.graphics.tsaplots import plot_acf"
      ]
    },
    {
      "cell_type": "markdown",
      "metadata": {
        "id": "LTJ3tooVM8yu"
      },
      "source": [
        "Давайте выведем значения автокорреляционной функции с помощью функции acf(). Сравним полученное значение для лага 2 со значением, вычисленным вручную. Они совпадают."
      ]
    },
    {
      "cell_type": "code",
      "execution_count": null,
      "metadata": {
        "scrolled": true,
        "id": "tT2nyzmkM8yu",
        "outputId": "85add131-5704-430c-eabe-625f5092093b"
      },
      "outputs": [
        {
          "data": {
            "text/plain": [
              "array([ 1.        ,  0.11748088,  0.26922207,  0.3714417 , -0.13980713,\n",
              "        0.0802596 ,  0.04020149, -0.17649102,  0.11544519,  0.01885979,\n",
              "        0.01247395, -0.00168609,  0.02763411, -0.26748091, -0.20173766,\n",
              "       -0.17425376, -0.24623709, -0.12249163, -0.11645493, -0.10637858])"
            ]
          },
          "execution_count": 19,
          "metadata": {},
          "output_type": "execute_result"
        }
      ],
      "source": [
        "# Выведем значения автокорреляционной функции\n",
        "k = len(sales) - 1\n",
        "acf(sales, nlags=k)"
      ]
    },
    {
      "cell_type": "markdown",
      "metadata": {
        "id": "HZCeV6jHM8yu"
      },
      "source": [
        "Параметр nlags функции acf() задаёт количество лагов. Поскольку у нас 20 значений — моментов времени, у нас будет 19 лагов, то есть длина ряда — 1.\n",
        "\n",
        "У нас будет 20 коэффициентов автокорреляции для нулевого лага и 19 ненулевых лагов. Эти коэффициенты показывают автокорреляционную функцию. Все коэффициенты совпадают с коэффициентами, вычисленными с помощью нашей функции autocorrelation_function().\n",
        "Кроме того, можно вывести границы доверительного интервала для каждого коэффициента автокорреляции. По умолчанию используется 95%-ный доверительный интервал."
      ]
    },
    {
      "cell_type": "code",
      "execution_count": null,
      "metadata": {
        "scrolled": true,
        "id": "eJGumgFSM8yv",
        "outputId": "5323d7b0-cb91-4933-98f6-b64b6a5cd908"
      },
      "outputs": [
        {
          "data": {
            "text/plain": [
              "(array([ 1.        ,  0.11748088,  0.26922207,  0.3714417 , -0.13980713,\n",
              "         0.0802596 ,  0.04020149, -0.17649102,  0.11544519,  0.01885979,\n",
              "         0.01247395, -0.00168609,  0.02763411, -0.26748091, -0.20173766,\n",
              "        -0.17425376, -0.24623709, -0.12249163, -0.11645493, -0.10637858]),\n",
              " array([[ 1.        ,  1.        ],\n",
              "        [-0.32078039,  0.55574215],\n",
              "        [-0.1750468 ,  0.71349094],\n",
              "        [-0.1031296 ,  0.84601301],\n",
              "        [-0.66727099,  0.38765673],\n",
              "        [-0.45427445,  0.61479365],\n",
              "        [-0.49664222,  0.5770452 ],\n",
              "        [-0.71391265,  0.36093061],\n",
              "        [-0.43299606,  0.66388643],\n",
              "        [-0.5342293 ,  0.57194888],\n",
              "        [-0.54073865,  0.56568654],\n",
              "        [-0.55495271,  0.55158053],\n",
              "        [-0.52563349,  0.58090172],\n",
              "        [-0.82101356,  0.28605174],\n",
              "        [-0.77956333,  0.37608801],\n",
              "        [-0.76545297,  0.41694545],\n",
              "        [-0.84722033,  0.35474615],\n",
              "        [-0.74255022,  0.49756697],\n",
              "        [-0.74114402,  0.50823416],\n",
              "        [-0.73522367,  0.52246651]]))"
            ]
          },
          "execution_count": 20,
          "metadata": {},
          "output_type": "execute_result"
        }
      ],
      "source": [
        "# Можно вывести границы доверительного интервала\n",
        "# для каждого коэффициента автокорреляции\n",
        "acf_ = acf(sales, nlags=k, alpha=0.05)\n",
        "acf_"
      ]
    },
    {
      "cell_type": "code",
      "execution_count": null,
      "metadata": {
        "id": "hgBSFbvzM8yv"
      },
      "outputs": [],
      "source": [
        "# Запишем информацию только о коэффициентах автокорреляции\n",
        "acf_ = acf_[0]\n",
        "# Фиксируем размер выборки\n",
        "nobs = len(sales)\n",
        "# Задаём уровень значимости\n",
        "alpha = 0.05\n",
        "# Создаём массив, в которой будем записывать \n",
        "# значения дисперсии коэффициентов корреляции,\n",
        "# имеет ту же длину, что и массив acf_\n",
        "varacf = np.ones_like(acf_) / nobs\n",
        "# Помним, что по формуле VAR(r_0)=0\n",
        "varacf[0] = 0\n",
        "# Помним, что по формуле VAR(r_1)=1/N\n",
        "varacf[1] = 1.0 / nobs\n",
        "# Вычисляем VAR для всех лагов, начиная с лага 2,\n",
        "# по формуле 1 + 2 * sum_{i=1}^{k-1}r_i^{2}, k>1\n",
        "varacf[2:] *= 1 + 2 * np.cumsum(acf_[1:-1] ** 2)"
      ]
    },
    {
      "cell_type": "code",
      "execution_count": null,
      "metadata": {
        "id": "ycLlTKx0M8yv",
        "outputId": "0dd18386-caed-4e70-a108-cec8c64ab3f7"
      },
      "outputs": [
        {
          "data": {
            "text/plain": [
              "array([0.        , 0.43826127, 0.44426887, 0.47457131, 0.52746386,\n",
              "       0.53453405, 0.53684371, 0.53742163, 0.54844125, 0.55308909,\n",
              "       0.5532126 , 0.55326662, 0.5532676 , 0.55353265, 0.57782567,\n",
              "       0.59119921, 0.60098324, 0.62005859, 0.62468909, 0.62884509])"
            ]
          },
          "execution_count": 22,
          "metadata": {},
          "output_type": "execute_result"
        }
      ],
      "source": [
        "# Вычисляем пределы погрешности\n",
        "interval = stats.norm.ppf(1 - alpha / 2.0) * np.sqrt(varacf)\n",
        "interval"
      ]
    },
    {
      "cell_type": "code",
      "execution_count": null,
      "metadata": {
        "scrolled": false,
        "id": "0Q8kwtKBM8yv",
        "outputId": "05fe92e8-e187-4545-ad6e-2443012ee579"
      },
      "outputs": [
        {
          "data": {
            "text/plain": [
              "array([[ 1.        ,  1.        ],\n",
              "       [-0.32078039,  0.55574215],\n",
              "       [-0.1750468 ,  0.71349094],\n",
              "       [-0.1031296 ,  0.84601301],\n",
              "       [-0.66727099,  0.38765673],\n",
              "       [-0.45427445,  0.61479365],\n",
              "       [-0.49664222,  0.5770452 ],\n",
              "       [-0.71391265,  0.36093061],\n",
              "       [-0.43299606,  0.66388643],\n",
              "       [-0.5342293 ,  0.57194888],\n",
              "       [-0.54073865,  0.56568654],\n",
              "       [-0.55495271,  0.55158053],\n",
              "       [-0.52563349,  0.58090172],\n",
              "       [-0.82101356,  0.28605174],\n",
              "       [-0.77956333,  0.37608801],\n",
              "       [-0.76545297,  0.41694545],\n",
              "       [-0.84722033,  0.35474615],\n",
              "       [-0.74255022,  0.49756697],\n",
              "       [-0.74114402,  0.50823416],\n",
              "       [-0.73522367,  0.52246651]])"
            ]
          },
          "execution_count": 23,
          "metadata": {},
          "output_type": "execute_result"
        }
      ],
      "source": [
        "# Вычисляем границы доверительного интервала\n",
        "confint = np.array(lzip(acf_ - interval, acf_ + interval))\n",
        "confint"
      ]
    },
    {
      "cell_type": "markdown",
      "metadata": {
        "id": "pCiPko0nM8yv"
      },
      "source": [
        "Теперь с помощью функции plot_acf() построим график автокорреляционной функции."
      ]
    },
    {
      "cell_type": "code",
      "execution_count": null,
      "metadata": {
        "id": "d0BDLfBbM8yv",
        "outputId": "c56e0c45-2e71-4d27-cd82-1fcff4fb7280"
      },
      "outputs": [
        {
          "data": {
            "image/png": "[encoded data removed]",
            "text/plain": [
              "<Figure size 432x288 with 1 Axes>"
            ]
          },
          "metadata": {
            "image/png": {
              "height": 263,
              "width": 390
            },
            "needs_background": "light"
          },
          "output_type": "display_data"
        }
      ],
      "source": [
        "# Строим график автокорреляционной функции\n",
        "plot_acf(sales, lags=k);"
      ]
    },
    {
      "cell_type": "markdown",
      "metadata": {
        "id": "AosQ8gnwM8yw"
      },
      "source": [
        "По оси абсцисс откладываются сдвиги (включая нулевой сдвиг), по оси ординат — значения коэффициентов автокорреляции. Синим фоном изображены пределы погрешности, прибавленные к нулевым значениям коэффициентов автокорреляции. Таким образом, если коэффициент автокорреляции выходит за пределы синего фона, то он является значимым."
      ]
    },
    {
      "cell_type": "markdown",
      "metadata": {
        "id": "0xVDzOhwM8yw"
      },
      "source": [
        "Для нестационарного временного ряда значение в первом лаге, то есть ACF(1), близко к единице, а затем график автокорреляционной функции медленно затухает. \n",
        "\n",
        "- Если ряд содержит тренд, то коэффициент автокорреляции значителен для первых нескольких сдвигов ряда, а в дальнейшем медленно стремится к нулю. \n",
        "\n",
        "- Если ряд содержит сезонную компоненту, то коэффициент автокорреляции будет большим для значений сдвига, равных периоду сезонной составляющей или кратных ему. \n",
        "\n",
        "- Для стационарного временного ряда, независимо от значений в первом лаге, график автокорреляционной функции быстро затухает после несколько первых значений.\n",
        "\n",
        "![image.png](attachment:image.png)"
      ]
    },
    {
      "cell_type": "code",
      "execution_count": null,
      "metadata": {
        "id": "j14J3s_zM8yw"
      },
      "outputs": [],
      "source": []
    },
    {
      "cell_type": "code",
      "execution_count": null,
      "metadata": {
        "id": "Ne7x6gDyM8yw"
      },
      "outputs": [],
      "source": []
    }
  ],
  "metadata": {
    "kernelspec": {
      "display_name": "Python 3 (ipykernel)",
      "language": "python",
      "name": "python3"
    },
    "language_info": {
      "codemirror_mode": {
        "name": "ipython",
        "version": 3
      },
      "file_extension": ".py",
      "mimetype": "text/x-python",
      "name": "python",
      "nbconvert_exporter": "python",
      "pygments_lexer": "ipython3",
      "version": "3.9.7"
    },
    "colab": {
      "provenance": [],
      "collapsed_sections": []
    }
  },
  "nbformat": 4,
  "nbformat_minor": 0
}