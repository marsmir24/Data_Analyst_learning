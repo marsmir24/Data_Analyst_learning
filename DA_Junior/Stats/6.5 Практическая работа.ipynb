{
 "cells": [
  {
   "cell_type": "code",
   "execution_count": 6,
   "id": "7e155426",
   "metadata": {},
   "outputs": [],
   "source": [
    "import scipy.stats as stats\n",
    "import numpy as np\n",
    "from scipy.stats import pearsonr, spearmanr, kendalltau"
   ]
  },
  {
   "cell_type": "markdown",
   "id": "bab1855f",
   "metadata": {},
   "source": [
    "### Задача 1"
   ]
  },
  {
   "cell_type": "code",
   "execution_count": 2,
   "id": "59bb465b",
   "metadata": {},
   "outputs": [
    {
     "name": "stdout",
     "output_type": "stream",
     "text": [
      "Chi2: 38.27\n",
      "P-value: 0.0000\n",
      "Коэффициент контингенции: 0.2311\n"
     ]
    }
   ],
   "source": [
    "# Данные задачи\n",
    "observed = np.array([[197, 158], [102, 221]])\n",
    "\n",
    "# Расчет статистики критерия и p-значения\n",
    "chi2, p_value, _, _ = stats.chi2_contingency(observed)\n",
    "\n",
    "# Коэффициент контингенции\n",
    "C = np.sqrt(chi2 / (chi2 + np.sum(observed)))\n",
    "\n",
    "print(f\"Chi2: {chi2:.2f}\")\n",
    "print(f\"P-value: {p_value:.4f}\")\n",
    "print(f\"Коэффициент контингенции: {C:.4f}\")"
   ]
  },
  {
   "cell_type": "markdown",
   "id": "0604e1c2",
   "metadata": {},
   "source": [
    "Вывод\n",
    "    \n",
    "    Наблюдаемое значение χ 2 =39.30.\n",
    "    𝑝≈0.0000, что значительно меньше уровня значимости 0.05.\n",
    "    Коэффициент контингенции 𝐶≈0.236, что указывает на наличие зависимости."
   ]
  },
  {
   "cell_type": "markdown",
   "id": "83851e70",
   "metadata": {},
   "source": [
    "### Задача 2"
   ]
  },
  {
   "cell_type": "code",
   "execution_count": 5,
   "id": "4bd6de60",
   "metadata": {},
   "outputs": [
    {
     "name": "stdout",
     "output_type": "stream",
     "text": [
      "Коэффициент Спирмена: 0.4061\n",
      "P-value: 0.2443\n",
      "T-статистика: 1.2568\n"
     ]
    }
   ],
   "source": [
    "# Данные задачи\n",
    "jury_ranks = [8, 2, 9, 6, 4, 5, 3, 7, 10, 1]\n",
    "audience_ranks = [10, 7, 8, 2, 5, 1, 6, 3, 9, 4]\n",
    "\n",
    "# Вычисление коэффициента Спирмена и p-значения\n",
    "rho, p_value = spearmanr(jury_ranks, audience_ranks)\n",
    "\n",
    "# Преобразуем коэффициент Спирмена в t-статистику\n",
    "n = len(jury_ranks)\n",
    "t_stat = rho * np.sqrt((n - 2) / (1 - rho**2))\n",
    "\n",
    "print(f\"Коэффициент Спирмена: {rho:.4f}\")\n",
    "print(f\"P-value: {p_value:.4f}\")\n",
    "print(f\"T-статистика: {t_stat:.4f}\")\n"
   ]
  },
  {
   "cell_type": "markdown",
   "id": "c22a1c57",
   "metadata": {},
   "source": [
    "Вывод\n",
    "\n",
    "    Коэффициент Спирмена 𝜌𝑠=0.406\n",
    "    P-значение 𝑝≈0.2227, что больше уровня значимости 0.05.\n",
    "    T-статистика 𝑡≈1.172\n",
    "    Таким образом, мнения жюри и зрителей статистически независимы."
   ]
  },
  {
   "cell_type": "markdown",
   "id": "bba77bf9",
   "metadata": {},
   "source": [
    "### Задача 3"
   ]
  },
  {
   "cell_type": "code",
   "execution_count": 7,
   "id": "f95c198a",
   "metadata": {},
   "outputs": [
    {
     "name": "stdout",
     "output_type": "stream",
     "text": [
      "Коэффициент Пирсона: r = 0.8894, p-value = 0.0000\n",
      "Коэффициент Спирмена: ρ = 0.8583, p-value = 0.0000\n",
      "Коэффициент Кендалла: τ = 0.7404, p-value = 0.0001\n"
     ]
    }
   ],
   "source": [
    "# Данные задачи\n",
    "X = np.array([66, 61, 67, 73, 51, 59, 48, 47, 58, 44, 41, 54, 52, 47, 51, 45])\n",
    "Y = np.array([38, 31, 36, 43, 29, 33, 28, 25, 36, 26, 21, 30, 20, 27, 28, 26])\n",
    "\n",
    "# Коэффициент Пирсона\n",
    "pearson_corr, pearson_p_value = pearsonr(X, Y)\n",
    "\n",
    "# Коэффициент Спирмена\n",
    "spearman_corr, spearman_p_value = spearmanr(X, Y)\n",
    "\n",
    "# Коэффициент Кендалла\n",
    "kendall_corr, kendall_p_value = kendalltau(X, Y)\n",
    "\n",
    "print(f\"Коэффициент Пирсона: r = {pearson_corr:.4f}, p-value = {pearson_p_value:.4f}\")\n",
    "print(f\"Коэффициент Спирмена: ρ = {spearman_corr:.4f}, p-value = {spearman_p_value:.4f}\")\n",
    "print(f\"Коэффициент Кендалла: τ = {kendall_corr:.4f}, p-value = {kendall_p_value:.4f}\")"
   ]
  },
  {
   "cell_type": "markdown",
   "id": "f1d6195d",
   "metadata": {},
   "source": [
    "Пирсон: Сильная положительная зависимость, значимая на уровне 0.05.\n",
    "\n",
    "Спирмен: Сильная положительная монотонная зависимость, значимая на уровне 0.05.\n",
    "\n",
    "Кендалл: Умеренная положительная зависимость, значимая на уровне 0.05.\n",
    "\n",
    "Заключение: Во всех трех случаях, предположения подтверждаются, и существует положительная значимая зависимость между длиной головы и длиной грудного плавника у окуней."
   ]
  }
 ],
 "metadata": {
  "kernelspec": {
   "display_name": "Python 3 (ipykernel)",
   "language": "python",
   "name": "python3"
  },
  "language_info": {
   "codemirror_mode": {
    "name": "ipython",
    "version": 3
   },
   "file_extension": ".py",
   "mimetype": "text/x-python",
   "name": "python",
   "nbconvert_exporter": "python",
   "pygments_lexer": "ipython3",
   "version": "3.11.5"
  }
 },
 "nbformat": 4,
 "nbformat_minor": 5
}
