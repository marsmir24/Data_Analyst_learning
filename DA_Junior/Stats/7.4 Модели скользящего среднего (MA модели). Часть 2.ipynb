{
 "cells": [
  {
   "cell_type": "markdown",
   "metadata": {
    "id": "sD0VzhUWgW5s"
   },
   "source": [
    "# 1. Модели скользящего среднего (МА-модели)"
   ]
  },
  {
   "cell_type": "markdown",
   "metadata": {
    "id": "jwSfppI3gW5x"
   },
   "source": [
    "## 1.1 Введение"
   ]
  },
  {
   "cell_type": "markdown",
   "metadata": {
    "id": "myDS1U1NgW5z"
   },
   "source": [
    "Вместо прошлых значений прогнозируемой переменной модель скользящего среднего использует прошлые ошибки прогноза. Модель скользящего среднего порядка q или MA(q)-модель можно записать следующим образом:\n",
    "\n",
    "$$y_t=c+\\epsilon_t+\\theta_1\\epsilon_{t-1}+\\theta_2\\epsilon_{t-2}+...+\\theta_q\\epsilon_{t-q}$$\n",
    "\n",
    "где \n",
    "- c - константа, \n",
    "- $\\theta_1,...,\\theta_p$ - параметры модели\n",
    "- $\\epsilon_t$ - белый шум.\n",
    "\n",
    "Конечно, мы не можем наблюдать значения $\\epsilon_t$, поэтому здесь нельзя говорить о регрессии в обычном смысле. Обратите внимание, что каждое значение можно рассматривать как взвешенное скользящее среднее нескольких последних ошибок прогноза. Однако модели скользящего среднего не следует путать со сглаживанием на основе скользящего среднего и моделью скользящего среднего, которая прогнозирует с помощью скользящего среднего N последних наблюдений, где N - размер скользящего окна, и используется для построения базовой модели."
   ]
  },
  {
   "cell_type": "markdown",
   "metadata": {
    "id": "gWD68SvKgW50"
   },
   "source": [
    "На рисунке ниже показаны МА(1)-модель и МА(2)-модель. Изменение параметров $\\theta_1,...,\\theta_p$ приведет к различным паттернам временных рядов. Как и в случае с авторегрессионными моделями, дисперсия ошибки изменит только масштаб значений временного ряда, но не паттерны временного ряда.\n",
    "\n",
    "- MA(1): $y_t=20+\\epsilon_t+0.8\\epsilon_{t-1}$\n",
    "\n",
    "![image.png](attachment:image.png)\n",
    "\n",
    "- MA(2): $y_t=\\epsilon_t-\\epsilon_{t-1}+0.8\\epsilon_{t-2}$\n",
    "\n",
    "![image-2.png](attachment:image-2.png)"
   ]
  },
  {
   "cell_type": "markdown",
   "metadata": {
    "id": "eHVY1fPFgW51"
   },
   "source": [
    "Специального класса для построения MA-моделей в библиотеки Statsmodels нет, однако их можно построить с помощью класса ARMA (начиная с версии 0.12 считается устаревшим), задав ARMA(0,q), или с помощью класса ARIMA, задав ARIMA(0,0,q).\n",
    "\n",
    "Для работы снова загрузим набор данных FEDFUNDS.csv, содержащий информацию о процентной ставке по федеральным фондам с июля 1954 года по февраль 2021 года. Оставим данные только до 2008 года."
   ]
  },
  {
   "cell_type": "code",
   "execution_count": null,
   "metadata": {
    "id": "qxLmP4tEgW52"
   },
   "outputs": [],
   "source": [
    "# импортируем необходимые библиотеки, классы и функции\n",
    "import pandas as pd\n",
    "import numpy as np\n",
    "from statsmodels.tsa.arima.model import ARIMA\n",
    "from sklearn.metrics import mean_squared_error\n",
    "import matplotlib.pyplot as plt\n",
    "%config InlineBackend.figure_format = 'retina'"
   ]
  },
  {
   "cell_type": "code",
   "execution_count": null,
   "metadata": {
    "id": "5DU7btgrgW54"
   },
   "outputs": [],
   "source": [
    "# отключаем предупреждения\n",
    "import warnings\n",
    "warnings.filterwarnings('ignore')"
   ]
  },
  {
   "cell_type": "code",
   "execution_count": null,
   "metadata": {
    "id": "d4Sa0uXogW55"
   },
   "outputs": [],
   "source": [
    "# настроим удобное отображение графиков и таблиц\n",
    "%matplotlib inline\n",
    "plt.rc('figure', figsize=(18, 3))\n",
    "pd.set_option('display.float_format', lambda x: '%.2f' % x)\n",
    "pd.options.display.max_rows = 20"
   ]
  },
  {
   "cell_type": "code",
   "execution_count": null,
   "metadata": {
    "id": "VS5o07eogW56"
   },
   "outputs": [],
   "source": [
    "# загрузим данные\n",
    "s = pd.read_csv(\n",
    "    './data/FEDFUNDS.csv', \n",
    "    header=0, \n",
    "    index_col=0, \n",
    "    parse_dates=True, \n",
    "    squeeze=True)\n",
    "\n",
    "# оставим данные только до 2008 года\n",
    "s = s[:'2007']"
   ]
  },
  {
   "cell_type": "markdown",
   "metadata": {
    "id": "Qj-2-YJagW56"
   },
   "source": [
    "Разбиваем набор данных на обучающую и тестовую выборки так, чтобы в тестовой выборке оказалось 7 наблюдений."
   ]
  },
  {
   "cell_type": "code",
   "execution_count": null,
   "metadata": {
    "id": "PKIgc9E1gW57"
   },
   "outputs": [],
   "source": [
    "# разобьем данные на обучающую и тестовую выборки так,\n",
    "# чтобы в тесте оказалось 7 наблюдений\n",
    "X = s.values\n",
    "train, test = X[0:len(X)-7], X[len(X)-7:]"
   ]
  },
  {
   "cell_type": "markdown",
   "metadata": {
    "id": "oESCiu70gW58"
   },
   "source": [
    "Теперь обучаем модель скользящего среднего на обучающей выборке, задав ARIMA(0,0,1), т.е. MA(1)-модель."
   ]
  },
  {
   "cell_type": "code",
   "execution_count": null,
   "metadata": {
    "id": "03lMcPkDgW58"
   },
   "outputs": [],
   "source": [
    "# обучим MA(1)-модель\n",
    "model = ARIMA(train, order=(0, 0, 1))\n",
    "model_fit = model.fit()"
   ]
  },
  {
   "cell_type": "markdown",
   "metadata": {
    "id": "hAeyV1N_gW58"
   },
   "source": [
    "Давайте выведем сводку о построенной модели."
   ]
  },
  {
   "cell_type": "code",
   "execution_count": null,
   "metadata": {
    "id": "iOUa0QsSgW59",
    "outputId": "19259645-85ef-49ef-98f8-6a4af8e4a610"
   },
   "outputs": [
    {
     "data": {
      "text/html": [
       "<table class=\"simpletable\">\n",
       "<caption>SARIMAX Results</caption>\n",
       "<tr>\n",
       "  <th>Dep. Variable:</th>           <td>y</td>        <th>  No. Observations:  </th>    <td>635</td>   \n",
       "</tr>\n",
       "<tr>\n",
       "  <th>Model:</th>            <td>ARIMA(0, 0, 1)</td>  <th>  Log Likelihood     </th> <td>-1271.596</td>\n",
       "</tr>\n",
       "<tr>\n",
       "  <th>Date:</th>            <td>Tue, 11 Oct 2022</td> <th>  AIC                </th> <td>2549.191</td> \n",
       "</tr>\n",
       "<tr>\n",
       "  <th>Time:</th>                <td>19:01:59</td>     <th>  BIC                </th> <td>2562.552</td> \n",
       "</tr>\n",
       "<tr>\n",
       "  <th>Sample:</th>                  <td>0</td>        <th>  HQIC               </th> <td>2554.379</td> \n",
       "</tr>\n",
       "<tr>\n",
       "  <th></th>                      <td> - 635</td>      <th>                     </th>     <td> </td>    \n",
       "</tr>\n",
       "<tr>\n",
       "  <th>Covariance Type:</th>        <td>opg</td>       <th>                     </th>     <td> </td>    \n",
       "</tr>\n",
       "</table>\n",
       "<table class=\"simpletable\">\n",
       "<tr>\n",
       "     <td></td>       <th>coef</th>     <th>std err</th>      <th>z</th>      <th>P>|z|</th>  <th>[0.025</th>    <th>0.975]</th>  \n",
       "</tr>\n",
       "<tr>\n",
       "  <th>const</th>  <td>    5.6950</td> <td>    0.173</td> <td>   32.835</td> <td> 0.000</td> <td>    5.355</td> <td>    6.035</td>\n",
       "</tr>\n",
       "<tr>\n",
       "  <th>ma.L1</th>  <td>    0.9354</td> <td>    0.009</td> <td>  102.774</td> <td> 0.000</td> <td>    0.918</td> <td>    0.953</td>\n",
       "</tr>\n",
       "<tr>\n",
       "  <th>sigma2</th> <td>    3.2023</td> <td>    0.150</td> <td>   21.326</td> <td> 0.000</td> <td>    2.908</td> <td>    3.497</td>\n",
       "</tr>\n",
       "</table>\n",
       "<table class=\"simpletable\">\n",
       "<tr>\n",
       "  <th>Ljung-Box (L1) (Q):</th>     <td>468.80</td> <th>  Jarque-Bera (JB):  </th> <td>376.14</td>\n",
       "</tr>\n",
       "<tr>\n",
       "  <th>Prob(Q):</th>                 <td>0.00</td>  <th>  Prob(JB):          </th>  <td>0.00</td> \n",
       "</tr>\n",
       "<tr>\n",
       "  <th>Heteroskedasticity (H):</th>  <td>0.69</td>  <th>  Skew:              </th>  <td>1.33</td> \n",
       "</tr>\n",
       "<tr>\n",
       "  <th>Prob(H) (two-sided):</th>     <td>0.01</td>  <th>  Kurtosis:          </th>  <td>5.67</td> \n",
       "</tr>\n",
       "</table><br/><br/>Warnings:<br/>[1] Covariance matrix calculated using the outer product of gradients (complex-step)."
      ],
      "text/plain": [
       "<class 'statsmodels.iolib.summary.Summary'>\n",
       "\"\"\"\n",
       "                               SARIMAX Results                                \n",
       "==============================================================================\n",
       "Dep. Variable:                      y   No. Observations:                  635\n",
       "Model:                 ARIMA(0, 0, 1)   Log Likelihood               -1271.596\n",
       "Date:                Tue, 11 Oct 2022   AIC                           2549.191\n",
       "Time:                        19:01:59   BIC                           2562.552\n",
       "Sample:                             0   HQIC                          2554.379\n",
       "                                - 635                                         \n",
       "Covariance Type:                  opg                                         \n",
       "==============================================================================\n",
       "                 coef    std err          z      P>|z|      [0.025      0.975]\n",
       "------------------------------------------------------------------------------\n",
       "const          5.6950      0.173     32.835      0.000       5.355       6.035\n",
       "ma.L1          0.9354      0.009    102.774      0.000       0.918       0.953\n",
       "sigma2         3.2023      0.150     21.326      0.000       2.908       3.497\n",
       "===================================================================================\n",
       "Ljung-Box (L1) (Q):                 468.80   Jarque-Bera (JB):               376.14\n",
       "Prob(Q):                              0.00   Prob(JB):                         0.00\n",
       "Heteroskedasticity (H):               0.69   Skew:                             1.33\n",
       "Prob(H) (two-sided):                  0.01   Kurtosis:                         5.67\n",
       "===================================================================================\n",
       "\n",
       "Warnings:\n",
       "[1] Covariance matrix calculated using the outer product of gradients (complex-step).\n",
       "\"\"\""
      ]
     },
     "execution_count": 7,
     "metadata": {},
     "output_type": "execute_result"
    }
   ],
   "source": [
    "# выведем сводку по модели\n",
    "model_fit.summary()"
   ]
  },
  {
   "cell_type": "code",
   "execution_count": null,
   "metadata": {
    "id": "4tfuk-t5gW5-",
    "outputId": "42ae3ae0-95b7-481f-a850-35617df501e6"
   },
   "outputs": [
    {
     "name": "stdout",
     "output_type": "stream",
     "text": [
      "Константа и коэффициенты:\n",
      "\n",
      "[5.69496955 0.93539622 3.20231277]\n"
     ]
    }
   ],
   "source": [
    "# выведем константу и коэффициенты модели с помощью атрибута .params\n",
    "coef = model_fit.params\n",
    "print('Константа и коэффициенты:\\n\\n%s' % coef)"
   ]
  },
  {
   "cell_type": "code",
   "execution_count": null,
   "metadata": {
    "id": "wQRg5SuSgW5_",
    "outputId": "a47f5571-3b5e-4348-dbdc-a04c8e7720a6"
   },
   "outputs": [
    {
     "data": {
      "text/plain": [
       "5.517907572161527"
      ]
     },
     "execution_count": 9,
     "metadata": {},
     "output_type": "execute_result"
    }
   ],
   "source": [
    "# взглянем, как был получен первый прогноз\n",
    "forecast_frst = coef[0] + (model_fit.resid[-1:] * coef[1])[0]\n",
    "forecast_frst"
   ]
  },
  {
   "cell_type": "code",
   "execution_count": null,
   "metadata": {
    "id": "aMWIgnvTgW5_"
   },
   "outputs": [],
   "source": [
    "# делаем прогнозы на 7 временных шагов вперед\n",
    "# для этого в методе .predict() задаем начало и конец \n",
    "# периода прогнозирования\n",
    "predictions = model_fit.predict(\n",
    "    start=len(train), end=len(train)+len(test)-1, dynamic=False)"
   ]
  },
  {
   "cell_type": "code",
   "execution_count": null,
   "metadata": {
    "id": "TNFbIrgrgW6A",
    "outputId": "16a75aa2-6dc3-480d-948e-6016fcf6c87c"
   },
   "outputs": [
    {
     "name": "stdout",
     "output_type": "stream",
     "text": [
      "спрогнозированное=5.517908, фактическое=5.250000\n",
      "спрогнозированное=5.694970, фактическое=5.260000\n",
      "спрогнозированное=5.694970, фактическое=5.020000\n",
      "спрогнозированное=5.694970, фактическое=4.940000\n",
      "спрогнозированное=5.694970, фактическое=4.760000\n",
      "спрогнозированное=5.694970, фактическое=4.490000\n",
      "спрогнозированное=5.694970, фактическое=4.240000\n",
      "\n",
      "RMSE на тестовой выборке: 0.905\n"
     ]
    }
   ],
   "source": [
    "# напечатаем прогнозы на 7 временных шагов вперед\n",
    "for i in range(len(predictions)):\n",
    "    print('спрогнозированное=%f, фактическое=%f' % (predictions[i], test[i]))\n",
    "# вычислим значение метрики RMSE\n",
    "rmse = np.sqrt(\n",
    "    mean_squared_error(test, predictions))\n",
    "\n",
    "print('\\nRMSE на тестовой выборке: %.3f' % rmse)"
   ]
  },
  {
   "cell_type": "code",
   "execution_count": null,
   "metadata": {
    "id": "QYsQM34pgW6A",
    "outputId": "d2ec2f56-cad6-488a-e1ce-55a0b08b5a8b"
   },
   "outputs": [
    {
     "data": {
      "image/png": "[encoded data removed]",
      "text/plain": [
       "<Figure size 1296x216 with 1 Axes>"
      ]
     },
     "metadata": {
      "image/png": {
       "height": 195,
       "width": 1048
      },
      "needs_background": "light"
     },
     "output_type": "display_data"
    }
   ],
   "source": [
    "# визуализируем прогнозы\n",
    "plt.plot(test, label='тестовые данные')\n",
    "plt.plot(predictions, color='red', label='прогнозы')\n",
    "plt.legend();"
   ]
  },
  {
   "cell_type": "code",
   "execution_count": null,
   "metadata": {
    "id": "7vTzOLzGgW6B"
   },
   "outputs": [],
   "source": []
  },
  {
   "cell_type": "code",
   "execution_count": null,
   "metadata": {
    "id": "rLJadILagW6B"
   },
   "outputs": [],
   "source": []
  }
 ],
 "metadata": {
  "colab": {
   "provenance": []
  },
  "kernelspec": {
   "display_name": "Python 3 (ipykernel)",
   "language": "python",
   "name": "python3"
  },
  "language_info": {
   "codemirror_mode": {
    "name": "ipython",
    "version": 3
   },
   "file_extension": ".py",
   "mimetype": "text/x-python",
   "name": "python",
   "nbconvert_exporter": "python",
   "pygments_lexer": "ipython3",
   "version": "3.11.5"
  }
 },
 "nbformat": 4,
 "nbformat_minor": 1
}
