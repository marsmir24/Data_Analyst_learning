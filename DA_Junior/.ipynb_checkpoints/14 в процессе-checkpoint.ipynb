{
 "cells": [
  {
   "cell_type": "code",
   "execution_count": null,
   "id": "01b11cfd",
   "metadata": {},
   "outputs": [],
   "source": [
    "import pandas as pd\n",
    "import sqlite3\n",
    "\n",
    "# Подключение к базе данных (укажите путь к вашей базе данных)\n",
    "conn = sqlite3.connect('path_to_your_database.db')\n",
    "\n",
    "# Загрузка таблиц в DataFrame\n",
    "customers_df = pd.read_sql_query(\"SELECT * FROM Customers\", conn)\n",
    "orders_df = pd.read_sql_query(\"SELECT * FROM Orders\", conn)\n",
    "products_df = pd.read_sql_query(\"SELECT * FROM Products\", conn)\n",
    "orders_products_df = pd.read_sql_query(\"SELECT * FROM Orders_Products\", conn)\n",
    "delivery_info_df = pd.read_sql_query(\"SELECT * FROM Delivery_info\", conn)\n",
    "app_sessions_info_df = pd.read_sql_query(\"SELECT * FROM App_sessions_info\", conn)\n"
   ]
  },
  {
   "cell_type": "markdown",
   "id": "59d901a2",
   "metadata": {},
   "source": [
    "Шаг 2: Объединение данных и создание признаков\n",
    "Создадим признаки для каждого заказа. Примерные признаки могут включать:\n",
    "\n",
    "Информацию о клиенте (например, возраст на момент заказа).\n",
    "Информацию о заказе (например, количество товаров, общая сумма).\n",
    "Информацию о доставке (исключая дату доставки).\n",
    "python\n"
   ]
  },
  {
   "cell_type": "code",
   "execution_count": null,
   "id": "cb8ecf2f",
   "metadata": {},
   "outputs": [],
   "source": [
    "# Объединение таблиц\n",
    "orders_extended_df = orders_df.merge(customers_df, on='customer_id', how='left')\n",
    "orders_extended_df = orders_extended_df.merge(orders_products_df, on='order_id', how='left')\n",
    "orders_extended_df = orders_extended_df.merge(products_df, on='product_id', how='left')\n",
    "orders_extended_df = orders_extended_df.merge(delivery_info_df, on='order_id', how='left')\n",
    "\n",
    "# Создание признаков\n",
    "orders_extended_df['order_dt'] = pd.to_datetime(orders_extended_df['order_dt'])\n",
    "orders_extended_df['delivery_dt'] = pd.to_datetime(orders_extended_df['delivery_dt'])\n",
    "\n",
    "# Признаки клиента\n",
    "orders_extended_df['age_at_order'] = (orders_extended_df['order_dt'] - pd.to_datetime(orders_extended_df['birth_dt'])).dt.days / 365.25\n",
    "\n",
    "# Признаки заказа\n",
    "orders_extended_df['total_amount'] = orders_extended_df.groupby('order_id')['amount'].transform('sum')\n",
    "orders_extended_df['total_price'] = orders_extended_df['amount'] * orders_extended_df['price']\n",
    "orders_extended_df['total_price_sum'] = orders_extended_df.groupby('order_id')['total_price'].transform('sum')\n",
    "\n",
    "# Прогнозируемая переменная\n",
    "orders_extended_df['delivery_time_days'] = (orders_extended_df['delivery_dt'] - orders_extended_df['order_dt']).dt.days\n",
    "\n",
    "# Удаление лишних колонок\n",
    "orders_extended_df = orders_extended_df.drop(columns=['birth_dt', 'delivery_dt', 'order_dt', 'first_name', 'middle_name', 'last_name', 'phone_number', 'address'])\n",
    "\n",
    "# Удаление дубликатов\n",
    "orders_extended_df = orders_extended_df.drop_duplicates(subset=['order_id'])\n"
   ]
  },
  {
   "cell_type": "markdown",
   "id": "0aca745c",
   "metadata": {},
   "source": [
    "2. Предобработка данных\n",
    "Шаг 3: Обработка категориальных признаков"
   ]
  },
  {
   "cell_type": "code",
   "execution_count": null,
   "id": "c3bd86f7",
   "metadata": {},
   "outputs": [],
   "source": [
    "# Преобразование категориальных признаков\n",
    "orders_extended_df = pd.get_dummies(orders_extended_df, columns=['payment_method', 'product_group_name', 'device_name'])\n"
   ]
  },
  {
   "cell_type": "markdown",
   "id": "4a5ed06e",
   "metadata": {},
   "source": [
    "Шаг 4: Нормализация данных"
   ]
  },
  {
   "cell_type": "code",
   "execution_count": null,
   "id": "4b20251c",
   "metadata": {},
   "outputs": [],
   "source": [
    "from sklearn.preprocessing import StandardScaler\n",
    "\n",
    "# Нормализация числовых признаков\n",
    "scaler = StandardScaler()\n",
    "numerical_features = ['age_at_order', 'total_amount', 'total_price_sum']\n",
    "orders_extended_df[numerical_features] = scaler.fit_transform(orders_extended_df[numerical_features])\n"
   ]
  },
  {
   "cell_type": "markdown",
   "id": "42a36038",
   "metadata": {},
   "source": [
    "Шаг 5: Заполнение пропусков"
   ]
  },
  {
   "cell_type": "code",
   "execution_count": null,
   "id": "3de9ef6e",
   "metadata": {},
   "outputs": [],
   "source": [
    "# Заполнение пропусков средними значениями\n",
    "orders_extended_df = orders_extended_df.fillna(orders_extended_df.mean())\n"
   ]
  },
  {
   "cell_type": "markdown",
   "id": "bb57b7d6",
   "metadata": {},
   "source": [
    "3. Определение типа задачи прогнозирования и выбор метрики\n",
    "Тип задачи: регрессия (мы прогнозируем время доставки в днях, которое является непрерывной переменной).\n",
    "\n",
    "Метрика: RMSE (Root Mean Squared Error), поскольку она измеряет среднюю квадратическую ошибку между предсказанными и фактическими значениями."
   ]
  },
  {
   "cell_type": "markdown",
   "id": "5b7a372f",
   "metadata": {},
   "source": [
    "4. Построение и сравнение моделей"
   ]
  },
  {
   "cell_type": "code",
   "execution_count": null,
   "id": "b0940028",
   "metadata": {},
   "outputs": [],
   "source": [
    "from sklearn.model_selection import cross_val_score, KFold\n",
    "from sklearn.linear_model import LinearRegression\n",
    "from sklearn.tree import DecisionTreeRegressor\n",
    "from sklearn.ensemble import RandomForestRegressor\n",
    "from sklearn.metrics import mean_squared_error\n",
    "import numpy as np\n",
    "\n",
    "# Признаки и целевая переменная\n",
    "X = orders_extended_df.drop(columns=['delivery_time_days', 'order_id', 'customer_id', 'product_id'])\n",
    "y = orders_extended_df['delivery_time_days']\n",
    "\n",
    "# Определение моделей\n",
    "models = {\n",
    "    'Linear Regression': LinearRegression(),\n",
    "    'Decision Tree': DecisionTreeRegressor(),\n",
    "    'Random Forest': RandomForestRegressor()\n",
    "}\n",
    "\n",
    "# Кросс-валидация и оценка моделей\n",
    "kf = KFold(n_splits=5, shuffle=True, random_state=42)\n",
    "\n",
    "for name, model in models.items():\n",
    "    cv_scores = cross_val_score(model, X, y, cv=kf, scoring='neg_mean_squared_error')\n",
    "    rmse_scores = np.sqrt(-cv_scores)\n",
    "    print(f\"{name}: RMSE = {rmse_scores.mean():.2f} ± {rmse_scores.std():.2f}\")\n"
   ]
  },
  {
   "cell_type": "markdown",
   "id": "8af9c3be",
   "metadata": {},
   "source": [
    "5. Комментарии\n",
    "Признаки\n",
    "age_at_order: возраст клиента на момент заказа, потому что возраст может влиять на скорость обработки заказа.\n",
    "total_amount: общее количество товаров в заказе, так как это может влиять на время доставки.\n",
    "total_price_sum: общая стоимость заказа, что также может быть значимым фактором.\n",
    "Методы обработки данных\n",
    "Кодирование категориальных признаков: использование метода get_dummies для преобразования категориальных переменных.\n",
    "Нормализация данных: использование StandardScaler для нормализации числовых признаков.\n",
    "Заполнение пропусков: заполнение пропусков средними значениями, чтобы избежать ошибок при обучении моделей.\n",
    "Тип задачи и метрика\n",
    "Тип задачи: регрессия.\n",
    "Метрика: RMSE, так как она дает ясное представление о средней ошибке в тех же единицах, что и целевая переменная.\n",
    "Лучший алгоритм\n",
    "Результаты кросс-валидации покажут, какой из алгоритмов наиболее эффективен для данной задачи на основании метрики RMSE.\n",
    "\n",
    "Пожалуйста, загрузите свой Jupyter-блокнот, следуя этим шагам и дополнив его своими комментариями и наблюдениями."
   ]
  },
  {
   "cell_type": "code",
   "execution_count": null,
   "id": "4b13e123",
   "metadata": {},
   "outputs": [],
   "source": []
  },
  {
   "cell_type": "code",
   "execution_count": null,
   "id": "13d04cb7",
   "metadata": {},
   "outputs": [],
   "source": []
  }
 ],
 "metadata": {
  "kernelspec": {
   "display_name": "Python 3 (ipykernel)",
   "language": "python",
   "name": "python3"
  },
  "language_info": {
   "codemirror_mode": {
    "name": "ipython",
    "version": 3
   },
   "file_extension": ".py",
   "mimetype": "text/x-python",
   "name": "python",
   "nbconvert_exporter": "python",
   "pygments_lexer": "ipython3",
   "version": "3.11.5"
  }
 },
 "nbformat": 4,
 "nbformat_minor": 5
}
