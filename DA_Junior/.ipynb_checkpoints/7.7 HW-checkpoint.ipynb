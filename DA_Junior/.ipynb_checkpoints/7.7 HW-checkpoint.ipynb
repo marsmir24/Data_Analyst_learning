{
 "cells": [
  {
   "cell_type": "code",
   "execution_count": 2,
   "id": "3cd1826b",
   "metadata": {},
   "outputs": [],
   "source": [
    "import pandas as pd\n",
    "import numpy as np\n",
    "import json"
   ]
  },
  {
   "cell_type": "markdown",
   "id": "9a2f9cbd",
   "metadata": {},
   "source": [
    "## Считываем 9 исходных файлов в дф"
   ]
  },
  {
   "cell_type": "markdown",
   "id": "a7c67da7",
   "metadata": {},
   "source": [
    "### 1 json-файл"
   ]
  },
  {
   "cell_type": "code",
   "execution_count": 20,
   "id": "ae29770e",
   "metadata": {},
   "outputs": [
    {
     "data": {
      "text/plain": [
       "(8, 2)"
      ]
     },
     "execution_count": 20,
     "metadata": {},
     "output_type": "execute_result"
    }
   ],
   "source": [
    "df_advertising_information = pd.read_json('D:/DO_NOT_REMOVE/Data_Analyst_Junior/7_11/Данные для кейса/Копия advertising_information.json')\n",
    "df_advertising_information.shape"
   ]
  },
  {
   "cell_type": "code",
   "execution_count": 21,
   "id": "db8d98f9",
   "metadata": {},
   "outputs": [
    {
     "data": {
      "text/html": [
       "<div>\n",
       "<style scoped>\n",
       "    .dataframe tbody tr th:only-of-type {\n",
       "        vertical-align: middle;\n",
       "    }\n",
       "\n",
       "    .dataframe tbody tr th {\n",
       "        vertical-align: top;\n",
       "    }\n",
       "\n",
       "    .dataframe thead th {\n",
       "        text-align: right;\n",
       "    }\n",
       "</style>\n",
       "<table border=\"1\" class=\"dataframe\">\n",
       "  <thead>\n",
       "    <tr style=\"text-align: right;\">\n",
       "      <th></th>\n",
       "      <th>ad_channel</th>\n",
       "      <th>price</th>\n",
       "    </tr>\n",
       "  </thead>\n",
       "  <tbody>\n",
       "    <tr>\n",
       "      <th>0</th>\n",
       "      <td>search</td>\n",
       "      <td>1.50</td>\n",
       "    </tr>\n",
       "    <tr>\n",
       "      <th>1</th>\n",
       "      <td>banner</td>\n",
       "      <td>0.50</td>\n",
       "    </tr>\n",
       "    <tr>\n",
       "      <th>2</th>\n",
       "      <td>video</td>\n",
       "      <td>0.75</td>\n",
       "    </tr>\n",
       "    <tr>\n",
       "      <th>3</th>\n",
       "      <td>native</td>\n",
       "      <td>2.00</td>\n",
       "    </tr>\n",
       "    <tr>\n",
       "      <th>4</th>\n",
       "      <td>partner_network</td>\n",
       "      <td>1.00</td>\n",
       "    </tr>\n",
       "    <tr>\n",
       "      <th>5</th>\n",
       "      <td>rich</td>\n",
       "      <td>2.50</td>\n",
       "    </tr>\n",
       "    <tr>\n",
       "      <th>6</th>\n",
       "      <td>organic_traffic</td>\n",
       "      <td>0.00</td>\n",
       "    </tr>\n",
       "    <tr>\n",
       "      <th>7</th>\n",
       "      <td>other</td>\n",
       "      <td>NaN</td>\n",
       "    </tr>\n",
       "  </tbody>\n",
       "</table>\n",
       "</div>"
      ],
      "text/plain": [
       "        ad_channel  price\n",
       "0           search   1.50\n",
       "1           banner   0.50\n",
       "2            video   0.75\n",
       "3           native   2.00\n",
       "4  partner_network   1.00\n",
       "5             rich   2.50\n",
       "6  organic_traffic   0.00\n",
       "7            other    NaN"
      ]
     },
     "execution_count": 21,
     "metadata": {},
     "output_type": "execute_result"
    }
   ],
   "source": [
    "df_advertising_information"
   ]
  },
  {
   "cell_type": "markdown",
   "id": "bd4ffd65",
   "metadata": {},
   "source": [
    "### 2 xlsx-файла"
   ]
  },
  {
   "cell_type": "code",
   "execution_count": 22,
   "id": "b3dcb77d",
   "metadata": {},
   "outputs": [
    {
     "data": {
      "text/plain": [
       "(576169, 5)"
      ]
     },
     "execution_count": 22,
     "metadata": {},
     "output_type": "execute_result"
    }
   ],
   "source": [
    "df_banner = pd.read_excel(\"D:/DO_NOT_REMOVE/Data_Analyst_Junior/7_11/Данные для кейса/Копия banner.xlsx\")\n",
    "df_banner.shape"
   ]
  },
  {
   "cell_type": "code",
   "execution_count": 23,
   "id": "4c43ea61",
   "metadata": {},
   "outputs": [
    {
     "data": {
      "text/html": [
       "<div>\n",
       "<style scoped>\n",
       "    .dataframe tbody tr th:only-of-type {\n",
       "        vertical-align: middle;\n",
       "    }\n",
       "\n",
       "    .dataframe tbody tr th {\n",
       "        vertical-align: top;\n",
       "    }\n",
       "\n",
       "    .dataframe thead th {\n",
       "        text-align: right;\n",
       "    }\n",
       "</style>\n",
       "<table border=\"1\" class=\"dataframe\">\n",
       "  <thead>\n",
       "    <tr style=\"text-align: right;\">\n",
       "      <th></th>\n",
       "      <th>user_id</th>\n",
       "      <th>funnel_stage</th>\n",
       "      <th>timestamp</th>\n",
       "      <th>profit</th>\n",
       "      <th>os</th>\n",
       "    </tr>\n",
       "  </thead>\n",
       "  <tbody>\n",
       "    <tr>\n",
       "      <th>0</th>\n",
       "      <td>219687</td>\n",
       "      <td>interest</td>\n",
       "      <td>150000</td>\n",
       "      <td>NaN</td>\n",
       "      <td>Android</td>\n",
       "    </tr>\n",
       "    <tr>\n",
       "      <th>1</th>\n",
       "      <td>335514</td>\n",
       "      <td>interest</td>\n",
       "      <td>150000</td>\n",
       "      <td>NaN</td>\n",
       "      <td>Android</td>\n",
       "    </tr>\n",
       "    <tr>\n",
       "      <th>2</th>\n",
       "      <td>108759</td>\n",
       "      <td>interest</td>\n",
       "      <td>150000</td>\n",
       "      <td>NaN</td>\n",
       "      <td>Android</td>\n",
       "    </tr>\n",
       "    <tr>\n",
       "      <th>3</th>\n",
       "      <td>795063</td>\n",
       "      <td>interest</td>\n",
       "      <td>150000</td>\n",
       "      <td>NaN</td>\n",
       "      <td>Android</td>\n",
       "    </tr>\n",
       "    <tr>\n",
       "      <th>4</th>\n",
       "      <td>928373</td>\n",
       "      <td>interest</td>\n",
       "      <td>150000</td>\n",
       "      <td>NaN</td>\n",
       "      <td>iOS</td>\n",
       "    </tr>\n",
       "  </tbody>\n",
       "</table>\n",
       "</div>"
      ],
      "text/plain": [
       "   user_id funnel_stage  timestamp  profit       os\n",
       "0   219687     interest     150000     NaN  Android\n",
       "1   335514     interest     150000     NaN  Android\n",
       "2   108759     interest     150000     NaN  Android\n",
       "3   795063     interest     150000     NaN  Android\n",
       "4   928373     interest     150000     NaN      iOS"
      ]
     },
     "execution_count": 23,
     "metadata": {},
     "output_type": "execute_result"
    }
   ],
   "source": [
    "df_banner.head(5)"
   ]
  },
  {
   "cell_type": "code",
   "execution_count": 24,
   "id": "e2e94579",
   "metadata": {},
   "outputs": [
    {
     "data": {
      "text/plain": [
       "(64088, 5)"
      ]
     },
     "execution_count": 24,
     "metadata": {},
     "output_type": "execute_result"
    }
   ],
   "source": [
    "df_rich = pd.read_excel(\"D:/DO_NOT_REMOVE/Data_Analyst_Junior/7_11/Данные для кейса/Копия rich.xlsx\")\n",
    "df_rich.shape"
   ]
  },
  {
   "cell_type": "code",
   "execution_count": 25,
   "id": "1b3b414d",
   "metadata": {},
   "outputs": [
    {
     "data": {
      "text/html": [
       "<div>\n",
       "<style scoped>\n",
       "    .dataframe tbody tr th:only-of-type {\n",
       "        vertical-align: middle;\n",
       "    }\n",
       "\n",
       "    .dataframe tbody tr th {\n",
       "        vertical-align: top;\n",
       "    }\n",
       "\n",
       "    .dataframe thead th {\n",
       "        text-align: right;\n",
       "    }\n",
       "</style>\n",
       "<table border=\"1\" class=\"dataframe\">\n",
       "  <thead>\n",
       "    <tr style=\"text-align: right;\">\n",
       "      <th></th>\n",
       "      <th>user_id</th>\n",
       "      <th>funnel_stage</th>\n",
       "      <th>timestamp</th>\n",
       "      <th>profit</th>\n",
       "      <th>os</th>\n",
       "    </tr>\n",
       "  </thead>\n",
       "  <tbody>\n",
       "    <tr>\n",
       "      <th>0</th>\n",
       "      <td>263061</td>\n",
       "      <td>INTEREST</td>\n",
       "      <td>150020</td>\n",
       "      <td>NaN</td>\n",
       "      <td>iOS</td>\n",
       "    </tr>\n",
       "    <tr>\n",
       "      <th>1</th>\n",
       "      <td>803654</td>\n",
       "      <td>CONSIDERATION</td>\n",
       "      <td>150041</td>\n",
       "      <td>NaN</td>\n",
       "      <td>iOS</td>\n",
       "    </tr>\n",
       "    <tr>\n",
       "      <th>2</th>\n",
       "      <td>320634</td>\n",
       "      <td>INTEREST</td>\n",
       "      <td>150042</td>\n",
       "      <td>NaN</td>\n",
       "      <td>iOS</td>\n",
       "    </tr>\n",
       "    <tr>\n",
       "      <th>3</th>\n",
       "      <td>654929</td>\n",
       "      <td>CONSIDERATION</td>\n",
       "      <td>150042</td>\n",
       "      <td>NaN</td>\n",
       "      <td>iOS</td>\n",
       "    </tr>\n",
       "    <tr>\n",
       "      <th>4</th>\n",
       "      <td>401613</td>\n",
       "      <td>INTEREST</td>\n",
       "      <td>150045</td>\n",
       "      <td>NaN</td>\n",
       "      <td>iOS</td>\n",
       "    </tr>\n",
       "  </tbody>\n",
       "</table>\n",
       "</div>"
      ],
      "text/plain": [
       "   user_id   funnel_stage  timestamp  profit   os\n",
       "0   263061       INTEREST     150020     NaN  iOS\n",
       "1   803654  CONSIDERATION     150041     NaN  iOS\n",
       "2   320634       INTEREST     150042     NaN  iOS\n",
       "3   654929  CONSIDERATION     150042     NaN  iOS\n",
       "4   401613       INTEREST     150045     NaN  iOS"
      ]
     },
     "execution_count": 25,
     "metadata": {},
     "output_type": "execute_result"
    }
   ],
   "source": [
    "df_rich.head(5)"
   ]
  },
  {
   "cell_type": "markdown",
   "id": "cd9e23ea",
   "metadata": {},
   "source": [
    "### 6 csv-файлов"
   ]
  },
  {
   "cell_type": "code",
   "execution_count": 115,
   "id": "95bfedc9",
   "metadata": {},
   "outputs": [
    {
     "data": {
      "text/plain": [
       "(1491205, 5)"
      ]
     },
     "execution_count": 115,
     "metadata": {},
     "output_type": "execute_result"
    }
   ],
   "source": [
    "df_search = pd.read_csv(\"D:/DO_NOT_REMOVE/Data_Analyst_Junior/7_11/Данные для кейса/Копия search.csv\")\n",
    "df_search = df_search.drop(\"Unnamed: 0\", axis=1)\n",
    "df_search.shape"
   ]
  },
  {
   "cell_type": "code",
   "execution_count": 116,
   "id": "f8c900b0",
   "metadata": {
    "scrolled": false
   },
   "outputs": [
    {
     "data": {
      "text/html": [
       "<div>\n",
       "<style scoped>\n",
       "    .dataframe tbody tr th:only-of-type {\n",
       "        vertical-align: middle;\n",
       "    }\n",
       "\n",
       "    .dataframe tbody tr th {\n",
       "        vertical-align: top;\n",
       "    }\n",
       "\n",
       "    .dataframe thead th {\n",
       "        text-align: right;\n",
       "    }\n",
       "</style>\n",
       "<table border=\"1\" class=\"dataframe\">\n",
       "  <thead>\n",
       "    <tr style=\"text-align: right;\">\n",
       "      <th></th>\n",
       "      <th>user_id</th>\n",
       "      <th>funnel_stage</th>\n",
       "      <th>timestamp</th>\n",
       "      <th>profit</th>\n",
       "      <th>os</th>\n",
       "    </tr>\n",
       "  </thead>\n",
       "  <tbody>\n",
       "    <tr>\n",
       "      <th>0</th>\n",
       "      <td>387356</td>\n",
       "      <td>INTEREST</td>\n",
       "      <td>150000</td>\n",
       "      <td>NaN</td>\n",
       "      <td>iOS</td>\n",
       "    </tr>\n",
       "    <tr>\n",
       "      <th>1</th>\n",
       "      <td>619571</td>\n",
       "      <td>CONSIDERATION</td>\n",
       "      <td>150000</td>\n",
       "      <td>NaN</td>\n",
       "      <td>iOS</td>\n",
       "    </tr>\n",
       "    <tr>\n",
       "      <th>2</th>\n",
       "      <td>230119</td>\n",
       "      <td>INTEREST</td>\n",
       "      <td>150000</td>\n",
       "      <td>NaN</td>\n",
       "      <td>iOS</td>\n",
       "    </tr>\n",
       "    <tr>\n",
       "      <th>3</th>\n",
       "      <td>399556</td>\n",
       "      <td>INTEREST</td>\n",
       "      <td>150000</td>\n",
       "      <td>NaN</td>\n",
       "      <td>iOS</td>\n",
       "    </tr>\n",
       "    <tr>\n",
       "      <th>4</th>\n",
       "      <td>556959</td>\n",
       "      <td>INTEREST</td>\n",
       "      <td>150001</td>\n",
       "      <td>NaN</td>\n",
       "      <td>Android</td>\n",
       "    </tr>\n",
       "  </tbody>\n",
       "</table>\n",
       "</div>"
      ],
      "text/plain": [
       "   user_id   funnel_stage  timestamp  profit       os\n",
       "0   387356       INTEREST     150000     NaN      iOS\n",
       "1   619571  CONSIDERATION     150000     NaN      iOS\n",
       "2   230119       INTEREST     150000     NaN      iOS\n",
       "3   399556       INTEREST     150000     NaN      iOS\n",
       "4   556959       INTEREST     150001     NaN  Android"
      ]
     },
     "execution_count": 116,
     "metadata": {},
     "output_type": "execute_result"
    }
   ],
   "source": [
    "df_search.head(5)"
   ]
  },
  {
   "cell_type": "code",
   "execution_count": 48,
   "id": "a8c4c17a",
   "metadata": {},
   "outputs": [],
   "source": [
    "df_search = df_search.drop(\"Unnamed: 0\", axis=1)"
   ]
  },
  {
   "cell_type": "code",
   "execution_count": 49,
   "id": "5c028879",
   "metadata": {},
   "outputs": [
    {
     "data": {
      "text/html": [
       "<div>\n",
       "<style scoped>\n",
       "    .dataframe tbody tr th:only-of-type {\n",
       "        vertical-align: middle;\n",
       "    }\n",
       "\n",
       "    .dataframe tbody tr th {\n",
       "        vertical-align: top;\n",
       "    }\n",
       "\n",
       "    .dataframe thead th {\n",
       "        text-align: right;\n",
       "    }\n",
       "</style>\n",
       "<table border=\"1\" class=\"dataframe\">\n",
       "  <thead>\n",
       "    <tr style=\"text-align: right;\">\n",
       "      <th></th>\n",
       "      <th>user_id</th>\n",
       "      <th>funnel_stage</th>\n",
       "      <th>timestamp</th>\n",
       "      <th>profit</th>\n",
       "      <th>os</th>\n",
       "    </tr>\n",
       "  </thead>\n",
       "  <tbody>\n",
       "    <tr>\n",
       "      <th>0</th>\n",
       "      <td>387356</td>\n",
       "      <td>INTEREST</td>\n",
       "      <td>150000</td>\n",
       "      <td>NaN</td>\n",
       "      <td>iOS</td>\n",
       "    </tr>\n",
       "    <tr>\n",
       "      <th>1</th>\n",
       "      <td>619571</td>\n",
       "      <td>CONSIDERATION</td>\n",
       "      <td>150000</td>\n",
       "      <td>NaN</td>\n",
       "      <td>iOS</td>\n",
       "    </tr>\n",
       "    <tr>\n",
       "      <th>2</th>\n",
       "      <td>230119</td>\n",
       "      <td>INTEREST</td>\n",
       "      <td>150000</td>\n",
       "      <td>NaN</td>\n",
       "      <td>iOS</td>\n",
       "    </tr>\n",
       "    <tr>\n",
       "      <th>3</th>\n",
       "      <td>399556</td>\n",
       "      <td>INTEREST</td>\n",
       "      <td>150000</td>\n",
       "      <td>NaN</td>\n",
       "      <td>iOS</td>\n",
       "    </tr>\n",
       "    <tr>\n",
       "      <th>4</th>\n",
       "      <td>556959</td>\n",
       "      <td>INTEREST</td>\n",
       "      <td>150001</td>\n",
       "      <td>NaN</td>\n",
       "      <td>Android</td>\n",
       "    </tr>\n",
       "  </tbody>\n",
       "</table>\n",
       "</div>"
      ],
      "text/plain": [
       "   user_id   funnel_stage  timestamp  profit       os\n",
       "0   387356       INTEREST     150000     NaN      iOS\n",
       "1   619571  CONSIDERATION     150000     NaN      iOS\n",
       "2   230119       INTEREST     150000     NaN      iOS\n",
       "3   399556       INTEREST     150000     NaN      iOS\n",
       "4   556959       INTEREST     150001     NaN  Android"
      ]
     },
     "execution_count": 49,
     "metadata": {},
     "output_type": "execute_result"
    }
   ],
   "source": [
    "df_search.head(5)"
   ]
  },
  {
   "cell_type": "code",
   "execution_count": null,
   "id": "749142aa",
   "metadata": {},
   "outputs": [],
   "source": []
  },
  {
   "cell_type": "code",
   "execution_count": 50,
   "id": "abd74a6d",
   "metadata": {},
   "outputs": [
    {
     "data": {
      "text/plain": [
       "(117575, 5)"
      ]
     },
     "execution_count": 50,
     "metadata": {},
     "output_type": "execute_result"
    }
   ],
   "source": [
    "df_native = pd.read_csv(\"D:/DO_NOT_REMOVE/Data_Analyst_Junior/7_11/Данные для кейса/Копия native.csv\")\n",
    "df_native = df_native.drop(\"Unnamed: 0\", axis=1)\n",
    "df_native.shape"
   ]
  },
  {
   "cell_type": "code",
   "execution_count": 51,
   "id": "a3c2c9e1",
   "metadata": {
    "scrolled": false
   },
   "outputs": [
    {
     "data": {
      "text/html": [
       "<div>\n",
       "<style scoped>\n",
       "    .dataframe tbody tr th:only-of-type {\n",
       "        vertical-align: middle;\n",
       "    }\n",
       "\n",
       "    .dataframe tbody tr th {\n",
       "        vertical-align: top;\n",
       "    }\n",
       "\n",
       "    .dataframe thead th {\n",
       "        text-align: right;\n",
       "    }\n",
       "</style>\n",
       "<table border=\"1\" class=\"dataframe\">\n",
       "  <thead>\n",
       "    <tr style=\"text-align: right;\">\n",
       "      <th></th>\n",
       "      <th>user_id</th>\n",
       "      <th>funnel_stage</th>\n",
       "      <th>timestamp</th>\n",
       "      <th>profit</th>\n",
       "      <th>os</th>\n",
       "    </tr>\n",
       "  </thead>\n",
       "  <tbody>\n",
       "    <tr>\n",
       "      <th>0</th>\n",
       "      <td>991236</td>\n",
       "      <td>interest</td>\n",
       "      <td>150000</td>\n",
       "      <td>NaN</td>\n",
       "      <td>Android</td>\n",
       "    </tr>\n",
       "    <tr>\n",
       "      <th>1</th>\n",
       "      <td>622708</td>\n",
       "      <td>interest</td>\n",
       "      <td>150002</td>\n",
       "      <td>NaN</td>\n",
       "      <td>iOS</td>\n",
       "    </tr>\n",
       "    <tr>\n",
       "      <th>2</th>\n",
       "      <td>334823</td>\n",
       "      <td>interest</td>\n",
       "      <td>150003</td>\n",
       "      <td>NaN</td>\n",
       "      <td>Android</td>\n",
       "    </tr>\n",
       "    <tr>\n",
       "      <th>3</th>\n",
       "      <td>699175</td>\n",
       "      <td>consideration</td>\n",
       "      <td>150004</td>\n",
       "      <td>NaN</td>\n",
       "      <td>iOS</td>\n",
       "    </tr>\n",
       "    <tr>\n",
       "      <th>4</th>\n",
       "      <td>855631</td>\n",
       "      <td>interest</td>\n",
       "      <td>150010</td>\n",
       "      <td>NaN</td>\n",
       "      <td>iOS</td>\n",
       "    </tr>\n",
       "  </tbody>\n",
       "</table>\n",
       "</div>"
      ],
      "text/plain": [
       "   user_id   funnel_stage  timestamp  profit       os\n",
       "0   991236       interest     150000     NaN  Android\n",
       "1   622708       interest     150002     NaN      iOS\n",
       "2   334823       interest     150003     NaN  Android\n",
       "3   699175  consideration     150004     NaN      iOS\n",
       "4   855631       interest     150010     NaN      iOS"
      ]
     },
     "execution_count": 51,
     "metadata": {},
     "output_type": "execute_result"
    }
   ],
   "source": [
    "df_native.head(5)"
   ]
  },
  {
   "cell_type": "code",
   "execution_count": null,
   "id": "f3b7c2db",
   "metadata": {},
   "outputs": [],
   "source": []
  },
  {
   "cell_type": "code",
   "execution_count": 56,
   "id": "5b721ef1",
   "metadata": {},
   "outputs": [],
   "source": [
    "column_names = ['Unnamed: 0','user_id','funnel_stage','timestamp','profit','os']  # Список с именами колонок"
   ]
  },
  {
   "cell_type": "code",
   "execution_count": 59,
   "id": "8c5e17c9",
   "metadata": {},
   "outputs": [
    {
     "data": {
      "text/plain": [
       "(531584, 5)"
      ]
     },
     "execution_count": 59,
     "metadata": {},
     "output_type": "execute_result"
    }
   ],
   "source": [
    "df_organic_traffic = pd.read_csv(\"D:/DO_NOT_REMOVE/Data_Analyst_Junior/7_11/Данные для кейса/Копия organic_traffic.csv\", names=column_names)\n",
    "df_organic_traffic = df_organic_traffic.drop(\"Unnamed: 0\", axis=1)\n",
    "df_organic_traffic.shape"
   ]
  },
  {
   "cell_type": "code",
   "execution_count": 60,
   "id": "5a9c495b",
   "metadata": {
    "scrolled": false
   },
   "outputs": [
    {
     "data": {
      "text/html": [
       "<div>\n",
       "<style scoped>\n",
       "    .dataframe tbody tr th:only-of-type {\n",
       "        vertical-align: middle;\n",
       "    }\n",
       "\n",
       "    .dataframe tbody tr th {\n",
       "        vertical-align: top;\n",
       "    }\n",
       "\n",
       "    .dataframe thead th {\n",
       "        text-align: right;\n",
       "    }\n",
       "</style>\n",
       "<table border=\"1\" class=\"dataframe\">\n",
       "  <thead>\n",
       "    <tr style=\"text-align: right;\">\n",
       "      <th></th>\n",
       "      <th>user_id</th>\n",
       "      <th>funnel_stage</th>\n",
       "      <th>timestamp</th>\n",
       "      <th>profit</th>\n",
       "      <th>os</th>\n",
       "    </tr>\n",
       "  </thead>\n",
       "  <tbody>\n",
       "    <tr>\n",
       "      <th>0</th>\n",
       "      <td>897013</td>\n",
       "      <td>interest</td>\n",
       "      <td>150000</td>\n",
       "      <td>NaN</td>\n",
       "      <td>Android</td>\n",
       "    </tr>\n",
       "    <tr>\n",
       "      <th>1</th>\n",
       "      <td>242700</td>\n",
       "      <td>interest</td>\n",
       "      <td>150000</td>\n",
       "      <td>NaN</td>\n",
       "      <td>Android</td>\n",
       "    </tr>\n",
       "    <tr>\n",
       "      <th>2</th>\n",
       "      <td>143856</td>\n",
       "      <td>interest</td>\n",
       "      <td>150000</td>\n",
       "      <td>NaN</td>\n",
       "      <td>Android</td>\n",
       "    </tr>\n",
       "    <tr>\n",
       "      <th>3</th>\n",
       "      <td>26717</td>\n",
       "      <td>consideration</td>\n",
       "      <td>150000</td>\n",
       "      <td>NaN</td>\n",
       "      <td>Android</td>\n",
       "    </tr>\n",
       "    <tr>\n",
       "      <th>4</th>\n",
       "      <td>286799</td>\n",
       "      <td>interest</td>\n",
       "      <td>150001</td>\n",
       "      <td>NaN</td>\n",
       "      <td>Android</td>\n",
       "    </tr>\n",
       "  </tbody>\n",
       "</table>\n",
       "</div>"
      ],
      "text/plain": [
       "   user_id   funnel_stage  timestamp  profit       os\n",
       "0   897013       interest     150000     NaN  Android\n",
       "1   242700       interest     150000     NaN  Android\n",
       "2   143856       interest     150000     NaN  Android\n",
       "3    26717  consideration     150000     NaN  Android\n",
       "4   286799       interest     150001     NaN  Android"
      ]
     },
     "execution_count": 60,
     "metadata": {},
     "output_type": "execute_result"
    }
   ],
   "source": [
    "df_organic_traffic.head(5)"
   ]
  },
  {
   "cell_type": "code",
   "execution_count": null,
   "id": "5b6a1daf",
   "metadata": {},
   "outputs": [],
   "source": []
  },
  {
   "cell_type": "code",
   "execution_count": 63,
   "id": "a5c7e0f2",
   "metadata": {},
   "outputs": [
    {
     "data": {
      "text/plain": [
       "(655068, 5)"
      ]
     },
     "execution_count": 63,
     "metadata": {},
     "output_type": "execute_result"
    }
   ],
   "source": [
    "df_video = pd.read_csv(\"D:/DO_NOT_REMOVE/Data_Analyst_Junior/7_11/Данные для кейса/Копия video.csv\")\n",
    "df_video = df_video.drop(\"Unnamed: 0\", axis=1)\n",
    "df_video.shape"
   ]
  },
  {
   "cell_type": "code",
   "execution_count": 64,
   "id": "081ce764",
   "metadata": {
    "scrolled": false
   },
   "outputs": [
    {
     "data": {
      "text/html": [
       "<div>\n",
       "<style scoped>\n",
       "    .dataframe tbody tr th:only-of-type {\n",
       "        vertical-align: middle;\n",
       "    }\n",
       "\n",
       "    .dataframe tbody tr th {\n",
       "        vertical-align: top;\n",
       "    }\n",
       "\n",
       "    .dataframe thead th {\n",
       "        text-align: right;\n",
       "    }\n",
       "</style>\n",
       "<table border=\"1\" class=\"dataframe\">\n",
       "  <thead>\n",
       "    <tr style=\"text-align: right;\">\n",
       "      <th></th>\n",
       "      <th>user_id</th>\n",
       "      <th>funnel_stage</th>\n",
       "      <th>timestamp</th>\n",
       "      <th>profit</th>\n",
       "      <th>os</th>\n",
       "    </tr>\n",
       "  </thead>\n",
       "  <tbody>\n",
       "    <tr>\n",
       "      <th>0</th>\n",
       "      <td>111649</td>\n",
       "      <td>consideration</td>\n",
       "      <td>150000</td>\n",
       "      <td>NaN</td>\n",
       "      <td>Android</td>\n",
       "    </tr>\n",
       "    <tr>\n",
       "      <th>1</th>\n",
       "      <td>793204</td>\n",
       "      <td>consideration</td>\n",
       "      <td>150000</td>\n",
       "      <td>NaN</td>\n",
       "      <td>Android</td>\n",
       "    </tr>\n",
       "    <tr>\n",
       "      <th>2</th>\n",
       "      <td>107750</td>\n",
       "      <td>interest</td>\n",
       "      <td>150001</td>\n",
       "      <td>NaN</td>\n",
       "      <td>Android</td>\n",
       "    </tr>\n",
       "    <tr>\n",
       "      <th>3</th>\n",
       "      <td>438176</td>\n",
       "      <td>interest</td>\n",
       "      <td>150001</td>\n",
       "      <td>NaN</td>\n",
       "      <td>Android</td>\n",
       "    </tr>\n",
       "    <tr>\n",
       "      <th>4</th>\n",
       "      <td>515596</td>\n",
       "      <td>consideration</td>\n",
       "      <td>150003</td>\n",
       "      <td>NaN</td>\n",
       "      <td>Android</td>\n",
       "    </tr>\n",
       "  </tbody>\n",
       "</table>\n",
       "</div>"
      ],
      "text/plain": [
       "   user_id   funnel_stage  timestamp  profit       os\n",
       "0   111649  consideration     150000     NaN  Android\n",
       "1   793204  consideration     150000     NaN  Android\n",
       "2   107750       interest     150001     NaN  Android\n",
       "3   438176       interest     150001     NaN  Android\n",
       "4   515596  consideration     150003     NaN  Android"
      ]
     },
     "execution_count": 64,
     "metadata": {},
     "output_type": "execute_result"
    }
   ],
   "source": [
    "df_video.head(5)"
   ]
  },
  {
   "cell_type": "code",
   "execution_count": null,
   "id": "9194611b",
   "metadata": {},
   "outputs": [],
   "source": []
  },
  {
   "cell_type": "code",
   "execution_count": 67,
   "id": "9ed4cdb3",
   "metadata": {},
   "outputs": [
    {
     "data": {
      "text/plain": [
       "(387430, 5)"
      ]
     },
     "execution_count": 67,
     "metadata": {},
     "output_type": "execute_result"
    }
   ],
   "source": [
    "df_partner_network = pd.read_csv(\"D:/DO_NOT_REMOVE/Data_Analyst_Junior/7_11/Данные для кейса/Копия partner_network.csv\", names=column_names)\n",
    "df_partner_network = df_partner_network.drop(\"Unnamed: 0\", axis=1)\n",
    "df_partner_network.shape"
   ]
  },
  {
   "cell_type": "code",
   "execution_count": 68,
   "id": "9b1c8b72",
   "metadata": {
    "scrolled": false
   },
   "outputs": [
    {
     "data": {
      "text/html": [
       "<div>\n",
       "<style scoped>\n",
       "    .dataframe tbody tr th:only-of-type {\n",
       "        vertical-align: middle;\n",
       "    }\n",
       "\n",
       "    .dataframe tbody tr th {\n",
       "        vertical-align: top;\n",
       "    }\n",
       "\n",
       "    .dataframe thead th {\n",
       "        text-align: right;\n",
       "    }\n",
       "</style>\n",
       "<table border=\"1\" class=\"dataframe\">\n",
       "  <thead>\n",
       "    <tr style=\"text-align: right;\">\n",
       "      <th></th>\n",
       "      <th>user_id</th>\n",
       "      <th>funnel_stage</th>\n",
       "      <th>timestamp</th>\n",
       "      <th>profit</th>\n",
       "      <th>os</th>\n",
       "    </tr>\n",
       "  </thead>\n",
       "  <tbody>\n",
       "    <tr>\n",
       "      <th>0</th>\n",
       "      <td>829539</td>\n",
       "      <td>interest</td>\n",
       "      <td>150003</td>\n",
       "      <td>NaN</td>\n",
       "      <td>iOS</td>\n",
       "    </tr>\n",
       "    <tr>\n",
       "      <th>1</th>\n",
       "      <td>817640</td>\n",
       "      <td>interest</td>\n",
       "      <td>150003</td>\n",
       "      <td>NaN</td>\n",
       "      <td>Android</td>\n",
       "    </tr>\n",
       "    <tr>\n",
       "      <th>2</th>\n",
       "      <td>890248</td>\n",
       "      <td>purchase</td>\n",
       "      <td>150003</td>\n",
       "      <td>2136.0</td>\n",
       "      <td>Android</td>\n",
       "    </tr>\n",
       "    <tr>\n",
       "      <th>3</th>\n",
       "      <td>1050415</td>\n",
       "      <td>interest</td>\n",
       "      <td>150004</td>\n",
       "      <td>NaN</td>\n",
       "      <td>Android</td>\n",
       "    </tr>\n",
       "    <tr>\n",
       "      <th>4</th>\n",
       "      <td>586829</td>\n",
       "      <td>interest</td>\n",
       "      <td>150004</td>\n",
       "      <td>NaN</td>\n",
       "      <td>iOS</td>\n",
       "    </tr>\n",
       "  </tbody>\n",
       "</table>\n",
       "</div>"
      ],
      "text/plain": [
       "   user_id funnel_stage  timestamp  profit       os\n",
       "0   829539     interest     150003     NaN      iOS\n",
       "1   817640     interest     150003     NaN  Android\n",
       "2   890248     purchase     150003  2136.0  Android\n",
       "3  1050415     interest     150004     NaN  Android\n",
       "4   586829     interest     150004     NaN      iOS"
      ]
     },
     "execution_count": 68,
     "metadata": {},
     "output_type": "execute_result"
    }
   ],
   "source": [
    "df_partner_network.head(5)"
   ]
  },
  {
   "cell_type": "code",
   "execution_count": null,
   "id": "7beb2c4e",
   "metadata": {},
   "outputs": [],
   "source": []
  },
  {
   "cell_type": "code",
   "execution_count": 71,
   "id": "0eb2fedc",
   "metadata": {},
   "outputs": [
    {
     "data": {
      "text/plain": [
       "(22588, 5)"
      ]
     },
     "execution_count": 71,
     "metadata": {},
     "output_type": "execute_result"
    }
   ],
   "source": [
    "df_other = pd.read_csv(\"D:/DO_NOT_REMOVE/Data_Analyst_Junior/7_11/Данные для кейса/Копия other.csv\")\n",
    "df_other = df_other.drop(\"Unnamed: 0\", axis=1)\n",
    "df_other.shape"
   ]
  },
  {
   "cell_type": "code",
   "execution_count": 72,
   "id": "1f1c6202",
   "metadata": {
    "scrolled": true
   },
   "outputs": [
    {
     "data": {
      "text/html": [
       "<div>\n",
       "<style scoped>\n",
       "    .dataframe tbody tr th:only-of-type {\n",
       "        vertical-align: middle;\n",
       "    }\n",
       "\n",
       "    .dataframe tbody tr th {\n",
       "        vertical-align: top;\n",
       "    }\n",
       "\n",
       "    .dataframe thead th {\n",
       "        text-align: right;\n",
       "    }\n",
       "</style>\n",
       "<table border=\"1\" class=\"dataframe\">\n",
       "  <thead>\n",
       "    <tr style=\"text-align: right;\">\n",
       "      <th></th>\n",
       "      <th>user_id</th>\n",
       "      <th>funnel_stage</th>\n",
       "      <th>timestamp</th>\n",
       "      <th>profit</th>\n",
       "      <th>os</th>\n",
       "    </tr>\n",
       "  </thead>\n",
       "  <tbody>\n",
       "    <tr>\n",
       "      <th>0</th>\n",
       "      <td>619081</td>\n",
       "      <td>consideration</td>\n",
       "      <td>150013</td>\n",
       "      <td>NaN</td>\n",
       "      <td>iOS</td>\n",
       "    </tr>\n",
       "    <tr>\n",
       "      <th>1</th>\n",
       "      <td>900637</td>\n",
       "      <td>consideration</td>\n",
       "      <td>150013</td>\n",
       "      <td>NaN</td>\n",
       "      <td>iOS</td>\n",
       "    </tr>\n",
       "    <tr>\n",
       "      <th>2</th>\n",
       "      <td>551565</td>\n",
       "      <td>interest</td>\n",
       "      <td>150017</td>\n",
       "      <td>NaN</td>\n",
       "      <td>iOS</td>\n",
       "    </tr>\n",
       "    <tr>\n",
       "      <th>3</th>\n",
       "      <td>1037574</td>\n",
       "      <td>interest</td>\n",
       "      <td>150023</td>\n",
       "      <td>NaN</td>\n",
       "      <td>Android</td>\n",
       "    </tr>\n",
       "    <tr>\n",
       "      <th>4</th>\n",
       "      <td>1048472</td>\n",
       "      <td>interest</td>\n",
       "      <td>150047</td>\n",
       "      <td>NaN</td>\n",
       "      <td>Android</td>\n",
       "    </tr>\n",
       "  </tbody>\n",
       "</table>\n",
       "</div>"
      ],
      "text/plain": [
       "   user_id   funnel_stage  timestamp  profit       os\n",
       "0   619081  consideration     150013     NaN      iOS\n",
       "1   900637  consideration     150013     NaN      iOS\n",
       "2   551565       interest     150017     NaN      iOS\n",
       "3  1037574       interest     150023     NaN  Android\n",
       "4  1048472       interest     150047     NaN  Android"
      ]
     },
     "execution_count": 72,
     "metadata": {},
     "output_type": "execute_result"
    }
   ],
   "source": [
    "df_other.head(5)"
   ]
  },
  {
   "cell_type": "code",
   "execution_count": null,
   "id": "c19c55a8",
   "metadata": {},
   "outputs": [],
   "source": []
  },
  {
   "cell_type": "markdown",
   "id": "74b42bb4",
   "metadata": {},
   "source": [
    "## Объединяем все каналы коммуникации в один дф"
   ]
  },
  {
   "cell_type": "code",
   "execution_count": 117,
   "id": "c57c6802",
   "metadata": {},
   "outputs": [
    {
     "data": {
      "text/plain": [
       "['search',\n",
       " 'banner',\n",
       " 'video',\n",
       " 'native',\n",
       " 'partner_network',\n",
       " 'rich',\n",
       " 'organic_traffic',\n",
       " 'other']"
      ]
     },
     "execution_count": 117,
     "metadata": {},
     "output_type": "execute_result"
    }
   ],
   "source": [
    "channels = df_advertising_information['ad_channel'].tolist()\n",
    "channels"
   ]
  },
  {
   "cell_type": "code",
   "execution_count": 118,
   "id": "c1706782",
   "metadata": {},
   "outputs": [
    {
     "data": {
      "text/plain": [
       "['df_search',\n",
       " 'df_banner',\n",
       " 'df_video',\n",
       " 'df_native',\n",
       " 'df_partner_network',\n",
       " 'df_rich',\n",
       " 'df_organic_traffic',\n",
       " 'df_other']"
      ]
     },
     "execution_count": 118,
     "metadata": {},
     "output_type": "execute_result"
    }
   ],
   "source": [
    "prefixed_channels = [f\"df_{channel}\" for channel in channels]\n",
    "prefixed_channels"
   ]
  },
  {
   "cell_type": "code",
   "execution_count": 119,
   "id": "08ac4d1a",
   "metadata": {},
   "outputs": [],
   "source": [
    "dfs = [globals()[channel] for channel in prefixed_channels]"
   ]
  },
  {
   "cell_type": "code",
   "execution_count": 131,
   "id": "62af6065",
   "metadata": {},
   "outputs": [
    {
     "data": {
      "text/html": [
       "<div>\n",
       "<style scoped>\n",
       "    .dataframe tbody tr th:only-of-type {\n",
       "        vertical-align: middle;\n",
       "    }\n",
       "\n",
       "    .dataframe tbody tr th {\n",
       "        vertical-align: top;\n",
       "    }\n",
       "\n",
       "    .dataframe thead th {\n",
       "        text-align: right;\n",
       "    }\n",
       "</style>\n",
       "<table border=\"1\" class=\"dataframe\">\n",
       "  <thead>\n",
       "    <tr style=\"text-align: right;\">\n",
       "      <th></th>\n",
       "      <th>ad_channel</th>\n",
       "      <th>price</th>\n",
       "    </tr>\n",
       "  </thead>\n",
       "  <tbody>\n",
       "    <tr>\n",
       "      <th>0</th>\n",
       "      <td>search</td>\n",
       "      <td>1.50</td>\n",
       "    </tr>\n",
       "    <tr>\n",
       "      <th>1</th>\n",
       "      <td>banner</td>\n",
       "      <td>0.50</td>\n",
       "    </tr>\n",
       "    <tr>\n",
       "      <th>2</th>\n",
       "      <td>video</td>\n",
       "      <td>0.75</td>\n",
       "    </tr>\n",
       "    <tr>\n",
       "      <th>3</th>\n",
       "      <td>native</td>\n",
       "      <td>2.00</td>\n",
       "    </tr>\n",
       "    <tr>\n",
       "      <th>4</th>\n",
       "      <td>partner_network</td>\n",
       "      <td>1.00</td>\n",
       "    </tr>\n",
       "    <tr>\n",
       "      <th>5</th>\n",
       "      <td>rich</td>\n",
       "      <td>2.50</td>\n",
       "    </tr>\n",
       "    <tr>\n",
       "      <th>6</th>\n",
       "      <td>organic_traffic</td>\n",
       "      <td>0.00</td>\n",
       "    </tr>\n",
       "    <tr>\n",
       "      <th>7</th>\n",
       "      <td>other</td>\n",
       "      <td>NaN</td>\n",
       "    </tr>\n",
       "  </tbody>\n",
       "</table>\n",
       "</div>"
      ],
      "text/plain": [
       "        ad_channel  price\n",
       "0           search   1.50\n",
       "1           banner   0.50\n",
       "2            video   0.75\n",
       "3           native   2.00\n",
       "4  partner_network   1.00\n",
       "5             rich   2.50\n",
       "6  organic_traffic   0.00\n",
       "7            other    NaN"
      ]
     },
     "execution_count": 131,
     "metadata": {},
     "output_type": "execute_result"
    }
   ],
   "source": [
    "df_advertising_information"
   ]
  },
  {
   "cell_type": "code",
   "execution_count": 137,
   "id": "239cedca",
   "metadata": {},
   "outputs": [],
   "source": [
    "# Функция для добавления колонок 'ad_channel' и 'price' к каждому DataFrame\n",
    "def add_columns(df, ad_info_row):\n",
    "    df['ad_channel'] = ad_info_row['ad_channel']\n",
    "    df['price'] = ad_info_row['price']\n",
    "    return df\n",
    "\n",
    "# Применяем функцию к каждому DataFrame в списке dfs\n",
    "dfs_with_columns = [add_columns(df.copy(), df_advertising_information.iloc[i]) for i, df in enumerate(dfs)]"
   ]
  },
  {
   "cell_type": "code",
   "execution_count": null,
   "id": "5fb11897",
   "metadata": {},
   "outputs": [],
   "source": []
  },
  {
   "cell_type": "code",
   "execution_count": 138,
   "id": "fdcdf6a8",
   "metadata": {},
   "outputs": [],
   "source": [
    "joined_df = pd.concat(dfs_with_columns, axis=0)"
   ]
  },
  {
   "cell_type": "code",
   "execution_count": 139,
   "id": "b0133d1e",
   "metadata": {},
   "outputs": [
    {
     "data": {
      "text/plain": [
       "(3845707, 7)"
      ]
     },
     "execution_count": 139,
     "metadata": {},
     "output_type": "execute_result"
    }
   ],
   "source": [
    "joined_df.shape"
   ]
  },
  {
   "cell_type": "code",
   "execution_count": 142,
   "id": "8a02ac5c",
   "metadata": {},
   "outputs": [
    {
     "data": {
      "text/html": [
       "<div>\n",
       "<style scoped>\n",
       "    .dataframe tbody tr th:only-of-type {\n",
       "        vertical-align: middle;\n",
       "    }\n",
       "\n",
       "    .dataframe tbody tr th {\n",
       "        vertical-align: top;\n",
       "    }\n",
       "\n",
       "    .dataframe thead th {\n",
       "        text-align: right;\n",
       "    }\n",
       "</style>\n",
       "<table border=\"1\" class=\"dataframe\">\n",
       "  <thead>\n",
       "    <tr style=\"text-align: right;\">\n",
       "      <th></th>\n",
       "      <th>user_id</th>\n",
       "      <th>funnel_stage</th>\n",
       "      <th>timestamp</th>\n",
       "      <th>profit</th>\n",
       "      <th>os</th>\n",
       "      <th>ad_channel</th>\n",
       "      <th>price</th>\n",
       "    </tr>\n",
       "  </thead>\n",
       "  <tbody>\n",
       "    <tr>\n",
       "      <th>0</th>\n",
       "      <td>387356</td>\n",
       "      <td>INTEREST</td>\n",
       "      <td>150000</td>\n",
       "      <td>NaN</td>\n",
       "      <td>iOS</td>\n",
       "      <td>search</td>\n",
       "      <td>1.5</td>\n",
       "    </tr>\n",
       "    <tr>\n",
       "      <th>1</th>\n",
       "      <td>619571</td>\n",
       "      <td>CONSIDERATION</td>\n",
       "      <td>150000</td>\n",
       "      <td>NaN</td>\n",
       "      <td>iOS</td>\n",
       "      <td>search</td>\n",
       "      <td>1.5</td>\n",
       "    </tr>\n",
       "    <tr>\n",
       "      <th>2</th>\n",
       "      <td>230119</td>\n",
       "      <td>INTEREST</td>\n",
       "      <td>150000</td>\n",
       "      <td>NaN</td>\n",
       "      <td>iOS</td>\n",
       "      <td>search</td>\n",
       "      <td>1.5</td>\n",
       "    </tr>\n",
       "    <tr>\n",
       "      <th>3</th>\n",
       "      <td>399556</td>\n",
       "      <td>INTEREST</td>\n",
       "      <td>150000</td>\n",
       "      <td>NaN</td>\n",
       "      <td>iOS</td>\n",
       "      <td>search</td>\n",
       "      <td>1.5</td>\n",
       "    </tr>\n",
       "    <tr>\n",
       "      <th>4</th>\n",
       "      <td>556959</td>\n",
       "      <td>INTEREST</td>\n",
       "      <td>150001</td>\n",
       "      <td>NaN</td>\n",
       "      <td>Android</td>\n",
       "      <td>search</td>\n",
       "      <td>1.5</td>\n",
       "    </tr>\n",
       "  </tbody>\n",
       "</table>\n",
       "</div>"
      ],
      "text/plain": [
       "   user_id   funnel_stage  timestamp  profit       os ad_channel  price\n",
       "0   387356       INTEREST     150000     NaN      iOS     search    1.5\n",
       "1   619571  CONSIDERATION     150000     NaN      iOS     search    1.5\n",
       "2   230119       INTEREST     150000     NaN      iOS     search    1.5\n",
       "3   399556       INTEREST     150000     NaN      iOS     search    1.5\n",
       "4   556959       INTEREST     150001     NaN  Android     search    1.5"
      ]
     },
     "execution_count": 142,
     "metadata": {},
     "output_type": "execute_result"
    }
   ],
   "source": [
    "joined_df.head(5)"
   ]
  },
  {
   "cell_type": "code",
   "execution_count": 141,
   "id": "c42634d5",
   "metadata": {},
   "outputs": [
    {
     "data": {
      "text/html": [
       "<div>\n",
       "<style scoped>\n",
       "    .dataframe tbody tr th:only-of-type {\n",
       "        vertical-align: middle;\n",
       "    }\n",
       "\n",
       "    .dataframe tbody tr th {\n",
       "        vertical-align: top;\n",
       "    }\n",
       "\n",
       "    .dataframe thead th {\n",
       "        text-align: right;\n",
       "    }\n",
       "</style>\n",
       "<table border=\"1\" class=\"dataframe\">\n",
       "  <thead>\n",
       "    <tr style=\"text-align: right;\">\n",
       "      <th></th>\n",
       "      <th>user_id</th>\n",
       "      <th>funnel_stage</th>\n",
       "      <th>timestamp</th>\n",
       "      <th>profit</th>\n",
       "      <th>os</th>\n",
       "      <th>ad_channel</th>\n",
       "      <th>price</th>\n",
       "    </tr>\n",
       "  </thead>\n",
       "  <tbody>\n",
       "    <tr>\n",
       "      <th>22583</th>\n",
       "      <td>551827</td>\n",
       "      <td>intent</td>\n",
       "      <td>212778</td>\n",
       "      <td>NaN</td>\n",
       "      <td>iOS</td>\n",
       "      <td>other</td>\n",
       "      <td>NaN</td>\n",
       "    </tr>\n",
       "    <tr>\n",
       "      <th>22584</th>\n",
       "      <td>357210</td>\n",
       "      <td>consideration</td>\n",
       "      <td>213933</td>\n",
       "      <td>NaN</td>\n",
       "      <td>Android</td>\n",
       "      <td>other</td>\n",
       "      <td>NaN</td>\n",
       "    </tr>\n",
       "    <tr>\n",
       "      <th>22585</th>\n",
       "      <td>655650</td>\n",
       "      <td>intent</td>\n",
       "      <td>216711</td>\n",
       "      <td>NaN</td>\n",
       "      <td>Android</td>\n",
       "      <td>other</td>\n",
       "      <td>NaN</td>\n",
       "    </tr>\n",
       "    <tr>\n",
       "      <th>22586</th>\n",
       "      <td>749522</td>\n",
       "      <td>interest</td>\n",
       "      <td>217120</td>\n",
       "      <td>NaN</td>\n",
       "      <td>Android</td>\n",
       "      <td>other</td>\n",
       "      <td>NaN</td>\n",
       "    </tr>\n",
       "    <tr>\n",
       "      <th>22587</th>\n",
       "      <td>707705</td>\n",
       "      <td>consideration</td>\n",
       "      <td>219223</td>\n",
       "      <td>NaN</td>\n",
       "      <td>iOS</td>\n",
       "      <td>other</td>\n",
       "      <td>NaN</td>\n",
       "    </tr>\n",
       "  </tbody>\n",
       "</table>\n",
       "</div>"
      ],
      "text/plain": [
       "       user_id   funnel_stage  timestamp  profit       os ad_channel  price\n",
       "22583   551827         intent     212778     NaN      iOS      other    NaN\n",
       "22584   357210  consideration     213933     NaN  Android      other    NaN\n",
       "22585   655650         intent     216711     NaN  Android      other    NaN\n",
       "22586   749522       interest     217120     NaN  Android      other    NaN\n",
       "22587   707705  consideration     219223     NaN      iOS      other    NaN"
      ]
     },
     "execution_count": 141,
     "metadata": {},
     "output_type": "execute_result"
    }
   ],
   "source": [
    "joined_df.tail(5)"
   ]
  },
  {
   "cell_type": "code",
   "execution_count": 143,
   "id": "de1be1f3",
   "metadata": {
    "scrolled": true
   },
   "outputs": [
    {
     "data": {
      "text/plain": [
       "3845707"
      ]
     },
     "execution_count": 143,
     "metadata": {},
     "output_type": "execute_result"
    }
   ],
   "source": [
    "# Проверка поколичеству строк\n",
    "def total_num_rows(dfs_with_columns):\n",
    "    total_rows = sum(df.shape[0] for df in dfs_with_columns)\n",
    "    return total_rows\n",
    "\n",
    "total_rows = total_num_rows(dfs_with_columns)\n",
    "total_rows"
   ]
  },
  {
   "cell_type": "code",
   "execution_count": null,
   "id": "78d1b7b2",
   "metadata": {},
   "outputs": [],
   "source": []
  },
  {
   "cell_type": "markdown",
   "id": "b2402344",
   "metadata": {},
   "source": [
    "## Сортируем по по колонке timestamp и сохраняем"
   ]
  },
  {
   "cell_type": "code",
   "execution_count": 147,
   "id": "11dd1edf",
   "metadata": {},
   "outputs": [],
   "source": [
    "final_df = joined_df.sort_values(by='timestamp', ascending=False)"
   ]
  },
  {
   "cell_type": "code",
   "execution_count": 148,
   "id": "c20df749",
   "metadata": {},
   "outputs": [
    {
     "data": {
      "text/plain": [
       "(3845707, 7)"
      ]
     },
     "execution_count": 148,
     "metadata": {},
     "output_type": "execute_result"
    }
   ],
   "source": [
    "final_df.shape"
   ]
  },
  {
   "cell_type": "code",
   "execution_count": 149,
   "id": "f940bf4d",
   "metadata": {},
   "outputs": [
    {
     "data": {
      "text/html": [
       "<div>\n",
       "<style scoped>\n",
       "    .dataframe tbody tr th:only-of-type {\n",
       "        vertical-align: middle;\n",
       "    }\n",
       "\n",
       "    .dataframe tbody tr th {\n",
       "        vertical-align: top;\n",
       "    }\n",
       "\n",
       "    .dataframe thead th {\n",
       "        text-align: right;\n",
       "    }\n",
       "</style>\n",
       "<table border=\"1\" class=\"dataframe\">\n",
       "  <thead>\n",
       "    <tr style=\"text-align: right;\">\n",
       "      <th></th>\n",
       "      <th>user_id</th>\n",
       "      <th>funnel_stage</th>\n",
       "      <th>timestamp</th>\n",
       "      <th>profit</th>\n",
       "      <th>os</th>\n",
       "      <th>ad_channel</th>\n",
       "      <th>price</th>\n",
       "    </tr>\n",
       "  </thead>\n",
       "  <tbody>\n",
       "    <tr>\n",
       "      <th>1491204</th>\n",
       "      <td>151184</td>\n",
       "      <td>INTEREST</td>\n",
       "      <td>225688</td>\n",
       "      <td>NaN</td>\n",
       "      <td>iOS</td>\n",
       "      <td>search</td>\n",
       "      <td>1.5</td>\n",
       "    </tr>\n",
       "    <tr>\n",
       "      <th>531583</th>\n",
       "      <td>720354</td>\n",
       "      <td>purchase</td>\n",
       "      <td>225495</td>\n",
       "      <td>50.0</td>\n",
       "      <td>Android</td>\n",
       "      <td>organic_traffic</td>\n",
       "      <td>0.0</td>\n",
       "    </tr>\n",
       "    <tr>\n",
       "      <th>531582</th>\n",
       "      <td>947521</td>\n",
       "      <td>consideration</td>\n",
       "      <td>225482</td>\n",
       "      <td>NaN</td>\n",
       "      <td>Android</td>\n",
       "      <td>organic_traffic</td>\n",
       "      <td>0.0</td>\n",
       "    </tr>\n",
       "    <tr>\n",
       "      <th>1491203</th>\n",
       "      <td>1034498</td>\n",
       "      <td>INTENT</td>\n",
       "      <td>225430</td>\n",
       "      <td>NaN</td>\n",
       "      <td>iOS</td>\n",
       "      <td>search</td>\n",
       "      <td>1.5</td>\n",
       "    </tr>\n",
       "    <tr>\n",
       "      <th>1491202</th>\n",
       "      <td>929180</td>\n",
       "      <td>INTENT</td>\n",
       "      <td>224682</td>\n",
       "      <td>NaN</td>\n",
       "      <td>iOS</td>\n",
       "      <td>search</td>\n",
       "      <td>1.5</td>\n",
       "    </tr>\n",
       "    <tr>\n",
       "      <th>1491201</th>\n",
       "      <td>749577</td>\n",
       "      <td>PURCHASE</td>\n",
       "      <td>224647</td>\n",
       "      <td>2136.0</td>\n",
       "      <td>iOS</td>\n",
       "      <td>search</td>\n",
       "      <td>1.5</td>\n",
       "    </tr>\n",
       "    <tr>\n",
       "      <th>1491200</th>\n",
       "      <td>501946</td>\n",
       "      <td>INTENT</td>\n",
       "      <td>224125</td>\n",
       "      <td>NaN</td>\n",
       "      <td>Android</td>\n",
       "      <td>search</td>\n",
       "      <td>1.5</td>\n",
       "    </tr>\n",
       "    <tr>\n",
       "      <th>531581</th>\n",
       "      <td>706604</td>\n",
       "      <td>intent</td>\n",
       "      <td>223417</td>\n",
       "      <td>NaN</td>\n",
       "      <td>iOS</td>\n",
       "      <td>organic_traffic</td>\n",
       "      <td>0.0</td>\n",
       "    </tr>\n",
       "    <tr>\n",
       "      <th>1491199</th>\n",
       "      <td>980989</td>\n",
       "      <td>INTEREST</td>\n",
       "      <td>223379</td>\n",
       "      <td>NaN</td>\n",
       "      <td>Android</td>\n",
       "      <td>search</td>\n",
       "      <td>1.5</td>\n",
       "    </tr>\n",
       "    <tr>\n",
       "      <th>531580</th>\n",
       "      <td>104960</td>\n",
       "      <td>purchase</td>\n",
       "      <td>223361</td>\n",
       "      <td>520.0</td>\n",
       "      <td>iOS</td>\n",
       "      <td>organic_traffic</td>\n",
       "      <td>0.0</td>\n",
       "    </tr>\n",
       "    <tr>\n",
       "      <th>387429</th>\n",
       "      <td>544693</td>\n",
       "      <td>interest</td>\n",
       "      <td>223203</td>\n",
       "      <td>NaN</td>\n",
       "      <td>iOS</td>\n",
       "      <td>partner_network</td>\n",
       "      <td>1.0</td>\n",
       "    </tr>\n",
       "    <tr>\n",
       "      <th>1491198</th>\n",
       "      <td>688043</td>\n",
       "      <td>INTEREST</td>\n",
       "      <td>223128</td>\n",
       "      <td>NaN</td>\n",
       "      <td>iOS</td>\n",
       "      <td>search</td>\n",
       "      <td>1.5</td>\n",
       "    </tr>\n",
       "    <tr>\n",
       "      <th>1491197</th>\n",
       "      <td>500009</td>\n",
       "      <td>CONSIDERATION</td>\n",
       "      <td>223110</td>\n",
       "      <td>NaN</td>\n",
       "      <td>iOS</td>\n",
       "      <td>search</td>\n",
       "      <td>1.5</td>\n",
       "    </tr>\n",
       "    <tr>\n",
       "      <th>576168</th>\n",
       "      <td>799641</td>\n",
       "      <td>consideration</td>\n",
       "      <td>223039</td>\n",
       "      <td>NaN</td>\n",
       "      <td>Android</td>\n",
       "      <td>banner</td>\n",
       "      <td>0.5</td>\n",
       "    </tr>\n",
       "    <tr>\n",
       "      <th>1491196</th>\n",
       "      <td>795944</td>\n",
       "      <td>INTEREST</td>\n",
       "      <td>222890</td>\n",
       "      <td>NaN</td>\n",
       "      <td>iOS</td>\n",
       "      <td>search</td>\n",
       "      <td>1.5</td>\n",
       "    </tr>\n",
       "    <tr>\n",
       "      <th>531579</th>\n",
       "      <td>750226</td>\n",
       "      <td>purchase</td>\n",
       "      <td>222773</td>\n",
       "      <td>260.0</td>\n",
       "      <td>Android</td>\n",
       "      <td>organic_traffic</td>\n",
       "      <td>0.0</td>\n",
       "    </tr>\n",
       "    <tr>\n",
       "      <th>1491195</th>\n",
       "      <td>152432</td>\n",
       "      <td>PURCHASE</td>\n",
       "      <td>222568</td>\n",
       "      <td>2136.0</td>\n",
       "      <td>Android</td>\n",
       "      <td>search</td>\n",
       "      <td>1.5</td>\n",
       "    </tr>\n",
       "    <tr>\n",
       "      <th>1491194</th>\n",
       "      <td>959881</td>\n",
       "      <td>CONSIDERATION</td>\n",
       "      <td>222338</td>\n",
       "      <td>NaN</td>\n",
       "      <td>Android</td>\n",
       "      <td>search</td>\n",
       "      <td>1.5</td>\n",
       "    </tr>\n",
       "    <tr>\n",
       "      <th>387428</th>\n",
       "      <td>545060</td>\n",
       "      <td>consideration</td>\n",
       "      <td>221843</td>\n",
       "      <td>NaN</td>\n",
       "      <td>iOS</td>\n",
       "      <td>partner_network</td>\n",
       "      <td>1.0</td>\n",
       "    </tr>\n",
       "    <tr>\n",
       "      <th>576167</th>\n",
       "      <td>861271</td>\n",
       "      <td>consideration</td>\n",
       "      <td>221756</td>\n",
       "      <td>NaN</td>\n",
       "      <td>iOS</td>\n",
       "      <td>banner</td>\n",
       "      <td>0.5</td>\n",
       "    </tr>\n",
       "  </tbody>\n",
       "</table>\n",
       "</div>"
      ],
      "text/plain": [
       "         user_id   funnel_stage  timestamp  profit       os       ad_channel  \\\n",
       "1491204   151184       INTEREST     225688     NaN      iOS           search   \n",
       "531583    720354       purchase     225495    50.0  Android  organic_traffic   \n",
       "531582    947521  consideration     225482     NaN  Android  organic_traffic   \n",
       "1491203  1034498         INTENT     225430     NaN      iOS           search   \n",
       "1491202   929180         INTENT     224682     NaN      iOS           search   \n",
       "1491201   749577       PURCHASE     224647  2136.0      iOS           search   \n",
       "1491200   501946         INTENT     224125     NaN  Android           search   \n",
       "531581    706604         intent     223417     NaN      iOS  organic_traffic   \n",
       "1491199   980989       INTEREST     223379     NaN  Android           search   \n",
       "531580    104960       purchase     223361   520.0      iOS  organic_traffic   \n",
       "387429    544693       interest     223203     NaN      iOS  partner_network   \n",
       "1491198   688043       INTEREST     223128     NaN      iOS           search   \n",
       "1491197   500009  CONSIDERATION     223110     NaN      iOS           search   \n",
       "576168    799641  consideration     223039     NaN  Android           banner   \n",
       "1491196   795944       INTEREST     222890     NaN      iOS           search   \n",
       "531579    750226       purchase     222773   260.0  Android  organic_traffic   \n",
       "1491195   152432       PURCHASE     222568  2136.0  Android           search   \n",
       "1491194   959881  CONSIDERATION     222338     NaN  Android           search   \n",
       "387428    545060  consideration     221843     NaN      iOS  partner_network   \n",
       "576167    861271  consideration     221756     NaN      iOS           banner   \n",
       "\n",
       "         price  \n",
       "1491204    1.5  \n",
       "531583     0.0  \n",
       "531582     0.0  \n",
       "1491203    1.5  \n",
       "1491202    1.5  \n",
       "1491201    1.5  \n",
       "1491200    1.5  \n",
       "531581     0.0  \n",
       "1491199    1.5  \n",
       "531580     0.0  \n",
       "387429     1.0  \n",
       "1491198    1.5  \n",
       "1491197    1.5  \n",
       "576168     0.5  \n",
       "1491196    1.5  \n",
       "531579     0.0  \n",
       "1491195    1.5  \n",
       "1491194    1.5  \n",
       "387428     1.0  \n",
       "576167     0.5  "
      ]
     },
     "execution_count": 149,
     "metadata": {},
     "output_type": "execute_result"
    }
   ],
   "source": [
    "final_df.head(20)"
   ]
  },
  {
   "cell_type": "code",
   "execution_count": 152,
   "id": "ec6ca09b",
   "metadata": {},
   "outputs": [],
   "source": [
    "# Сохранить DataFrame в файл CSV\n",
    "final_df.to_csv('D:/DO_NOT_REMOVE/Data_Analyst_Junior/7_11/Данные для кейса/funnel_info.csv', index=False) "
   ]
  },
  {
   "cell_type": "code",
   "execution_count": null,
   "id": "3fb792ed",
   "metadata": {},
   "outputs": [],
   "source": []
  }
 ],
 "metadata": {
  "kernelspec": {
   "display_name": "Python 3 (ipykernel)",
   "language": "python",
   "name": "python3"
  },
  "language_info": {
   "codemirror_mode": {
    "name": "ipython",
    "version": 3
   },
   "file_extension": ".py",
   "mimetype": "text/x-python",
   "name": "python",
   "nbconvert_exporter": "python",
   "pygments_lexer": "ipython3",
   "version": "3.11.5"
  }
 },
 "nbformat": 4,
 "nbformat_minor": 5
}
