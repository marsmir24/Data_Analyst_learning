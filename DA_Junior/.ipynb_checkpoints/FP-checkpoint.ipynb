{
 "cells": [
  {
   "cell_type": "code",
   "execution_count": 194,
   "id": "fd34f840",
   "metadata": {},
   "outputs": [],
   "source": [
    "import os\n",
    "import numpy as np\n",
    "import sqlite3\n",
    "import pandas as pd\n",
    "from sklearn.model_selection import train_test_split\n",
    "from sklearn.preprocessing import OneHotEncoder\n",
    "from sklearn.ensemble import RandomForestClassifier\n",
    "from sklearn.metrics import f1_score,accuracy_score, confusion_matrix, classification_report\n",
    "from sklearn.linear_model import LogisticRegression\n",
    "from sklearn.model_selection import RandomizedSearchCV\n",
    "from sklearn.preprocessing import StandardScaler\n",
    "from sklearn.decomposition import FactorAnalysis"
   ]
  },
  {
   "cell_type": "code",
   "execution_count": 2,
   "id": "2ab8c54d",
   "metadata": {},
   "outputs": [
    {
     "name": "stdout",
     "output_type": "stream",
     "text": [
      "Таблицы базы данных:\n",
      "purchases\n",
      "personal_data_coeffs\n",
      "personal_data\n",
      "Список всех созданных DataFrame:\n",
      "personal_data_df\n",
      "purchases_df\n",
      "personal_data_coeffs_df\n"
     ]
    }
   ],
   "source": [
    "# Указываем полный путь к базе данных на диске D\n",
    "db_path = r'D:\\DO_NOT_REMOVE\\Data_Analyst_Junior\\FP\\result_data\\shop_database.db'\n",
    "\n",
    "# Проверяем, существует ли файл базы данных\n",
    "if os.path.exists(db_path):\n",
    "    # Подключаемся к базе данных\n",
    "    conn = sqlite3.connect(db_path)\n",
    "\n",
    "    # Создаем курсор для выполнения SQL-запросов\n",
    "    cursor = conn.cursor()\n",
    "\n",
    "    # Пример выполнения SQL-запроса (получение всех таблиц в базе)\n",
    "    cursor.execute(\"SELECT name FROM sqlite_master WHERE type='table';\")\n",
    "\n",
    "    # Получаем результат\n",
    "    tables = cursor.fetchall()\n",
    "    if tables:\n",
    "        print(\"Таблицы базы данных:\")\n",
    "        for table in tables:\n",
    "            print(table[0])\n",
    "        \n",
    "        unique_tables = list(set(table[0] for table in tables))\n",
    "        dataframes = {}\n",
    "        for table in unique_tables:\n",
    "            table_name = f\"{table}_df\"\n",
    "            query = f\"SELECT * FROM {table}\" \n",
    "            dataframes[table_name] = pd.read_sql_query(query, conn)\n",
    "       \n",
    "        # Создаем отдельные переменные для каждого DataFrame\n",
    "        for table_name, df in dataframes.items():\n",
    "            locals()[table_name] = df\n",
    "            \n",
    "        # Создаем список всех созданных DataFrame\n",
    "        list_of_dfs = list(dataframes.keys())\n",
    "        print(\"Список всех созданных DataFrame:\")\n",
    "        for df_name in list_of_dfs:\n",
    "            df = dataframes[df_name]  # Получаем DataFrame по имени ключа\n",
    "            print(df_name)\n",
    "            # Сохранить каждый DataFrame в файл с именем {df_name}.csv\n",
    "            file_path = fr'D:\\DO_NOT_REMOVE\\Data_Analyst_Junior\\FP\\{df_name}.csv'\n",
    "            df.to_csv(file_path, index=False)\n",
    "    else:\n",
    "        print(\"В базе данных таблиц не найдено.\")\n",
    "\n",
    "    # Закрываем соединение с базой данных\n",
    "    conn.close()\n",
    "else:\n",
    "    print(f\"База данных по пути {db_path} не найдена.\")"
   ]
  },
  {
   "cell_type": "markdown",
   "id": "9e344833",
   "metadata": {},
   "source": [
    "personal_data — ID клиентов, их пол, возраст, образование, страна и город проживания;\n",
    "\n",
    "personal_data_coeffs — данные с персональными коэффициентами клиентов, которые рассчитываются по некоторой закрытой схеме (вам потребуется коэффициент personal_coef);\n",
    "\n",
    "purchases — данные о покупках: ID покупателя, название товара, цвет, стоимость, гендерная принадлежность потенциальных покупателей товара, наличие скидки (поле base_sale. Значение 1 соответствует наличию скидки на момент покупки) и дата покупки."
   ]
  },
  {
   "cell_type": "code",
   "execution_count": 3,
   "id": "8a097e10",
   "metadata": {},
   "outputs": [],
   "source": [
    "# Рассчитываем базовые показатели качества данных\n",
    "def calculate_quality_metrics(df):\n",
    "    metrics = {}\n",
    "    metrics['Пропуски'] = df.isna().sum()\n",
    "    metrics['Процент ропущенных значений'] = df.isna().mean() * 100\n",
    "    metrics['Уникальные значения'] = df.nunique()\n",
    "    metrics['Дубликаты'] = df.duplicated().sum()\n",
    "    return pd.DataFrame(metrics)"
   ]
  },
  {
   "cell_type": "markdown",
   "id": "5d89a393",
   "metadata": {},
   "source": [
    " ### Восстановление закрытых утерянных данных (пол покупателей)."
   ]
  },
  {
   "cell_type": "code",
   "execution_count": 4,
   "id": "1d299774",
   "metadata": {},
   "outputs": [
    {
     "data": {
      "text/html": [
       "<div>\n",
       "<style scoped>\n",
       "    .dataframe tbody tr th:only-of-type {\n",
       "        vertical-align: middle;\n",
       "    }\n",
       "\n",
       "    .dataframe tbody tr th {\n",
       "        vertical-align: top;\n",
       "    }\n",
       "\n",
       "    .dataframe thead th {\n",
       "        text-align: right;\n",
       "    }\n",
       "</style>\n",
       "<table border=\"1\" class=\"dataframe\">\n",
       "  <thead>\n",
       "    <tr style=\"text-align: right;\">\n",
       "      <th></th>\n",
       "      <th>id</th>\n",
       "      <th>age</th>\n",
       "      <th>education</th>\n",
       "      <th>city</th>\n",
       "      <th>country</th>\n",
       "    </tr>\n",
       "  </thead>\n",
       "  <tbody>\n",
       "    <tr>\n",
       "      <th>0</th>\n",
       "      <td>101492</td>\n",
       "      <td>32</td>\n",
       "      <td>среднее</td>\n",
       "      <td>1188</td>\n",
       "      <td>32</td>\n",
       "    </tr>\n",
       "    <tr>\n",
       "      <th>1</th>\n",
       "      <td>42690</td>\n",
       "      <td>20</td>\n",
       "      <td>высшее</td>\n",
       "      <td>1134</td>\n",
       "      <td>32</td>\n",
       "    </tr>\n",
       "    <tr>\n",
       "      <th>2</th>\n",
       "      <td>113001</td>\n",
       "      <td>27</td>\n",
       "      <td>среднее</td>\n",
       "      <td>1187</td>\n",
       "      <td>32</td>\n",
       "    </tr>\n",
       "    <tr>\n",
       "      <th>3</th>\n",
       "      <td>163654</td>\n",
       "      <td>49</td>\n",
       "      <td>высшее</td>\n",
       "      <td>1160</td>\n",
       "      <td>32</td>\n",
       "    </tr>\n",
       "    <tr>\n",
       "      <th>4</th>\n",
       "      <td>69523</td>\n",
       "      <td>44</td>\n",
       "      <td>среднее</td>\n",
       "      <td>1137</td>\n",
       "      <td>32</td>\n",
       "    </tr>\n",
       "  </tbody>\n",
       "</table>\n",
       "</div>"
      ],
      "text/plain": [
       "       id  age education  city  country\n",
       "0  101492   32   среднее  1188       32\n",
       "1   42690   20    высшее  1134       32\n",
       "2  113001   27   среднее  1187       32\n",
       "3  163654   49    высшее  1160       32\n",
       "4   69523   44   среднее  1137       32"
      ]
     },
     "execution_count": 4,
     "metadata": {},
     "output_type": "execute_result"
    }
   ],
   "source": [
    "personal_data_ext_df = pd.read_csv(r'D:\\DO_NOT_REMOVE\\Data_Analyst_Junior\\FP\\personal_data.csv')\n",
    "personal_data_ext_df.head()"
   ]
  },
  {
   "cell_type": "code",
   "execution_count": 5,
   "id": "9e14ee30",
   "metadata": {
    "scrolled": true
   },
   "outputs": [
    {
     "name": "stdout",
     "output_type": "stream",
     "text": [
      "<class 'pandas.core.frame.DataFrame'>\n",
      "RangeIndex: 15748 entries, 0 to 15747\n",
      "Data columns (total 5 columns):\n",
      " #   Column     Non-Null Count  Dtype \n",
      "---  ------     --------------  ----- \n",
      " 0   id         15748 non-null  int64 \n",
      " 1   age        15748 non-null  int64 \n",
      " 2   education  15748 non-null  object\n",
      " 3   city       15748 non-null  int64 \n",
      " 4   country    15748 non-null  int64 \n",
      "dtypes: int64(4), object(1)\n",
      "memory usage: 615.3+ KB\n"
     ]
    }
   ],
   "source": [
    "personal_data_ext_df.info()"
   ]
  },
  {
   "cell_type": "code",
   "execution_count": 6,
   "id": "081171e1",
   "metadata": {},
   "outputs": [
    {
     "name": "stdout",
     "output_type": "stream",
     "text": [
      "Показатели качества данных:\n",
      "           Пропуски  Процент ропущенных значений  Уникальные значения  \\\n",
      "id                0                          0.0                15748   \n",
      "age               0                          0.0                   73   \n",
      "education         0                          0.0                    2   \n",
      "city              0                          0.0                  345   \n",
      "country           0                          0.0                   16   \n",
      "\n",
      "           Дубликаты  \n",
      "id                 0  \n",
      "age                0  \n",
      "education          0  \n",
      "city               0  \n",
      "country            0  \n"
     ]
    }
   ],
   "source": [
    "metrics = calculate_quality_metrics(personal_data_ext_df)\n",
    "print(\"Показатели качества данных:\")\n",
    "print(metrics)"
   ]
  },
  {
   "cell_type": "code",
   "execution_count": 7,
   "id": "e426169c",
   "metadata": {
    "scrolled": false
   },
   "outputs": [
    {
     "data": {
      "text/html": [
       "<div>\n",
       "<style scoped>\n",
       "    .dataframe tbody tr th:only-of-type {\n",
       "        vertical-align: middle;\n",
       "    }\n",
       "\n",
       "    .dataframe tbody tr th {\n",
       "        vertical-align: top;\n",
       "    }\n",
       "\n",
       "    .dataframe thead th {\n",
       "        text-align: right;\n",
       "    }\n",
       "</style>\n",
       "<table border=\"1\" class=\"dataframe\">\n",
       "  <thead>\n",
       "    <tr style=\"text-align: right;\">\n",
       "      <th></th>\n",
       "      <th>id</th>\n",
       "      <th>gender</th>\n",
       "      <th>age</th>\n",
       "      <th>education</th>\n",
       "      <th>city</th>\n",
       "      <th>country</th>\n",
       "    </tr>\n",
       "  </thead>\n",
       "  <tbody>\n",
       "    <tr>\n",
       "      <th>0</th>\n",
       "      <td>0</td>\n",
       "      <td>0</td>\n",
       "      <td>36</td>\n",
       "      <td>среднее</td>\n",
       "      <td>1201</td>\n",
       "      <td>32</td>\n",
       "    </tr>\n",
       "    <tr>\n",
       "      <th>1</th>\n",
       "      <td>4</td>\n",
       "      <td>0</td>\n",
       "      <td>35</td>\n",
       "      <td>среднее</td>\n",
       "      <td>1134</td>\n",
       "      <td>32</td>\n",
       "    </tr>\n",
       "    <tr>\n",
       "      <th>2</th>\n",
       "      <td>6</td>\n",
       "      <td>1</td>\n",
       "      <td>52</td>\n",
       "      <td>среднее</td>\n",
       "      <td>1188</td>\n",
       "      <td>32</td>\n",
       "    </tr>\n",
       "    <tr>\n",
       "      <th>3</th>\n",
       "      <td>7</td>\n",
       "      <td>0</td>\n",
       "      <td>37</td>\n",
       "      <td>среднее</td>\n",
       "      <td>1198</td>\n",
       "      <td>32</td>\n",
       "    </tr>\n",
       "    <tr>\n",
       "      <th>4</th>\n",
       "      <td>9</td>\n",
       "      <td>0</td>\n",
       "      <td>48</td>\n",
       "      <td>среднее</td>\n",
       "      <td>1134</td>\n",
       "      <td>32</td>\n",
       "    </tr>\n",
       "  </tbody>\n",
       "</table>\n",
       "</div>"
      ],
      "text/plain": [
       "   id  gender  age education  city  country\n",
       "0   0       0   36   среднее  1201       32\n",
       "1   4       0   35   среднее  1134       32\n",
       "2   6       1   52   среднее  1188       32\n",
       "3   7       0   37   среднее  1198       32\n",
       "4   9       0   48   среднее  1134       32"
      ]
     },
     "execution_count": 7,
     "metadata": {},
     "output_type": "execute_result"
    }
   ],
   "source": [
    "personal_data_df.head()"
   ]
  },
  {
   "cell_type": "code",
   "execution_count": 8,
   "id": "02593ec8",
   "metadata": {},
   "outputs": [
    {
     "name": "stdout",
     "output_type": "stream",
     "text": [
      "<class 'pandas.core.frame.DataFrame'>\n",
      "RangeIndex: 89241 entries, 0 to 89240\n",
      "Data columns (total 6 columns):\n",
      " #   Column     Non-Null Count  Dtype \n",
      "---  ------     --------------  ----- \n",
      " 0   id         89241 non-null  int64 \n",
      " 1   gender     89241 non-null  int64 \n",
      " 2   age        89241 non-null  int64 \n",
      " 3   education  89241 non-null  object\n",
      " 4   city       89241 non-null  int64 \n",
      " 5   country    89241 non-null  int64 \n",
      "dtypes: int64(5), object(1)\n",
      "memory usage: 4.1+ MB\n"
     ]
    }
   ],
   "source": [
    "personal_data_df.info()"
   ]
  },
  {
   "cell_type": "code",
   "execution_count": 9,
   "id": "611b3be1",
   "metadata": {},
   "outputs": [
    {
     "name": "stdout",
     "output_type": "stream",
     "text": [
      "Показатели качества данных:\n",
      "           Пропуски  Процент ропущенных значений  Уникальные значения  \\\n",
      "id                0                          0.0                89241   \n",
      "gender            0                          0.0                    2   \n",
      "age               0                          0.0                   73   \n",
      "education         0                          0.0                    2   \n",
      "city              0                          0.0                  707   \n",
      "country           0                          0.0                   30   \n",
      "\n",
      "           Дубликаты  \n",
      "id                 0  \n",
      "gender             0  \n",
      "age                0  \n",
      "education          0  \n",
      "city               0  \n",
      "country            0  \n"
     ]
    }
   ],
   "source": [
    "metrics = calculate_quality_metrics(personal_data_df)\n",
    "print(\"Показатели качества данных:\")\n",
    "print(metrics)"
   ]
  },
  {
   "cell_type": "code",
   "execution_count": 10,
   "id": "575fd4a2",
   "metadata": {},
   "outputs": [
    {
     "data": {
      "text/html": [
       "<div>\n",
       "<style scoped>\n",
       "    .dataframe tbody tr th:only-of-type {\n",
       "        vertical-align: middle;\n",
       "    }\n",
       "\n",
       "    .dataframe tbody tr th {\n",
       "        vertical-align: top;\n",
       "    }\n",
       "\n",
       "    .dataframe thead th {\n",
       "        text-align: right;\n",
       "    }\n",
       "</style>\n",
       "<table border=\"1\" class=\"dataframe\">\n",
       "  <thead>\n",
       "    <tr style=\"text-align: right;\">\n",
       "      <th></th>\n",
       "      <th>id</th>\n",
       "      <th>lbt_coef</th>\n",
       "      <th>ac_coef</th>\n",
       "      <th>sm_coef</th>\n",
       "      <th>personal_coef</th>\n",
       "    </tr>\n",
       "  </thead>\n",
       "  <tbody>\n",
       "    <tr>\n",
       "      <th>0</th>\n",
       "      <td>0</td>\n",
       "      <td>5.078678</td>\n",
       "      <td>-0.307147</td>\n",
       "      <td>0.959027</td>\n",
       "      <td>0.5072</td>\n",
       "    </tr>\n",
       "    <tr>\n",
       "      <th>1</th>\n",
       "      <td>3</td>\n",
       "      <td>7.764766</td>\n",
       "      <td>-0.030225</td>\n",
       "      <td>0.794720</td>\n",
       "      <td>0.4304</td>\n",
       "    </tr>\n",
       "    <tr>\n",
       "      <th>2</th>\n",
       "      <td>4</td>\n",
       "      <td>4.569378</td>\n",
       "      <td>0.063693</td>\n",
       "      <td>0.820892</td>\n",
       "      <td>0.5072</td>\n",
       "    </tr>\n",
       "    <tr>\n",
       "      <th>3</th>\n",
       "      <td>6</td>\n",
       "      <td>8.150379</td>\n",
       "      <td>0.075200</td>\n",
       "      <td>0.836140</td>\n",
       "      <td>0.4304</td>\n",
       "    </tr>\n",
       "    <tr>\n",
       "      <th>4</th>\n",
       "      <td>7</td>\n",
       "      <td>5.188231</td>\n",
       "      <td>-0.000134</td>\n",
       "      <td>0.944113</td>\n",
       "      <td>0.5072</td>\n",
       "    </tr>\n",
       "  </tbody>\n",
       "</table>\n",
       "</div>"
      ],
      "text/plain": [
       "   id  lbt_coef   ac_coef   sm_coef  personal_coef\n",
       "0   0  5.078678 -0.307147  0.959027         0.5072\n",
       "1   3  7.764766 -0.030225  0.794720         0.4304\n",
       "2   4  4.569378  0.063693  0.820892         0.5072\n",
       "3   6  8.150379  0.075200  0.836140         0.4304\n",
       "4   7  5.188231 -0.000134  0.944113         0.5072"
      ]
     },
     "execution_count": 10,
     "metadata": {},
     "output_type": "execute_result"
    }
   ],
   "source": [
    "personal_data_coeffs_df.head()"
   ]
  },
  {
   "cell_type": "code",
   "execution_count": 11,
   "id": "538bbb6e",
   "metadata": {},
   "outputs": [
    {
     "name": "stdout",
     "output_type": "stream",
     "text": [
      "<class 'pandas.core.frame.DataFrame'>\n",
      "RangeIndex: 104989 entries, 0 to 104988\n",
      "Data columns (total 5 columns):\n",
      " #   Column         Non-Null Count   Dtype  \n",
      "---  ------         --------------   -----  \n",
      " 0   id             104989 non-null  int64  \n",
      " 1   lbt_coef       104989 non-null  float64\n",
      " 2   ac_coef        104989 non-null  float64\n",
      " 3   sm_coef        104989 non-null  float64\n",
      " 4   personal_coef  104989 non-null  float64\n",
      "dtypes: float64(4), int64(1)\n",
      "memory usage: 4.0 MB\n"
     ]
    }
   ],
   "source": [
    "personal_data_coeffs_df.info()"
   ]
  },
  {
   "cell_type": "code",
   "execution_count": 12,
   "id": "eabad98c",
   "metadata": {},
   "outputs": [
    {
     "name": "stdout",
     "output_type": "stream",
     "text": [
      "Показатели качества данных:\n",
      "               Пропуски  Процент ропущенных значений  Уникальные значения  \\\n",
      "id                    0                          0.0               104989   \n",
      "lbt_coef              0                          0.0               104989   \n",
      "ac_coef               0                          0.0               104945   \n",
      "sm_coef               0                          0.0               104989   \n",
      "personal_coef         0                          0.0                   15   \n",
      "\n",
      "               Дубликаты  \n",
      "id                     0  \n",
      "lbt_coef               0  \n",
      "ac_coef                0  \n",
      "sm_coef                0  \n",
      "personal_coef          0  \n"
     ]
    }
   ],
   "source": [
    "metrics = calculate_quality_metrics(personal_data_coeffs_df)\n",
    "print(\"Показатели качества данных:\")\n",
    "print(metrics)"
   ]
  },
  {
   "cell_type": "code",
   "execution_count": 13,
   "id": "3e681907",
   "metadata": {},
   "outputs": [
    {
     "data": {
      "text/html": [
       "<div>\n",
       "<style scoped>\n",
       "    .dataframe tbody tr th:only-of-type {\n",
       "        vertical-align: middle;\n",
       "    }\n",
       "\n",
       "    .dataframe tbody tr th {\n",
       "        vertical-align: top;\n",
       "    }\n",
       "\n",
       "    .dataframe thead th {\n",
       "        text-align: right;\n",
       "    }\n",
       "</style>\n",
       "<table border=\"1\" class=\"dataframe\">\n",
       "  <thead>\n",
       "    <tr style=\"text-align: right;\">\n",
       "      <th></th>\n",
       "      <th>id</th>\n",
       "      <th>product</th>\n",
       "      <th>colour</th>\n",
       "      <th>cost</th>\n",
       "      <th>product_sex</th>\n",
       "      <th>base_sale</th>\n",
       "      <th>dt</th>\n",
       "    </tr>\n",
       "  </thead>\n",
       "  <tbody>\n",
       "    <tr>\n",
       "      <th>0</th>\n",
       "      <td>0</td>\n",
       "      <td>Велосипед горный женский Stern Mira 2.0 26\"</td>\n",
       "      <td>белый/синий</td>\n",
       "      <td>13599</td>\n",
       "      <td>0.0</td>\n",
       "      <td>1</td>\n",
       "      <td>7</td>\n",
       "    </tr>\n",
       "    <tr>\n",
       "      <th>1</th>\n",
       "      <td>0</td>\n",
       "      <td>Стол Outventure</td>\n",
       "      <td>зелёный</td>\n",
       "      <td>1499</td>\n",
       "      <td>NaN</td>\n",
       "      <td>0</td>\n",
       "      <td>37</td>\n",
       "    </tr>\n",
       "    <tr>\n",
       "      <th>2</th>\n",
       "      <td>0</td>\n",
       "      <td>Набор Outventure: стол + 4 стула</td>\n",
       "      <td>бежевый</td>\n",
       "      <td>4799</td>\n",
       "      <td>NaN</td>\n",
       "      <td>0</td>\n",
       "      <td>37</td>\n",
       "    </tr>\n",
       "    <tr>\n",
       "      <th>3</th>\n",
       "      <td>3</td>\n",
       "      <td>Бутсы мужские GSD Astro</td>\n",
       "      <td>белый</td>\n",
       "      <td>1599</td>\n",
       "      <td>1.0</td>\n",
       "      <td>0</td>\n",
       "      <td>13</td>\n",
       "    </tr>\n",
       "    <tr>\n",
       "      <th>4</th>\n",
       "      <td>3</td>\n",
       "      <td>Мяч футбольный PUMA TEAMFINAL 21.2 FIFA QUALIT...</td>\n",
       "      <td>мультицвет</td>\n",
       "      <td>7199</td>\n",
       "      <td>NaN</td>\n",
       "      <td>0</td>\n",
       "      <td>27</td>\n",
       "    </tr>\n",
       "  </tbody>\n",
       "</table>\n",
       "</div>"
      ],
      "text/plain": [
       "   id                                            product       colour   cost  \\\n",
       "0   0        Велосипед горный женский Stern Mira 2.0 26\"  белый/синий  13599   \n",
       "1   0                                    Стол Outventure      зелёный   1499   \n",
       "2   0                   Набор Outventure: стол + 4 стула      бежевый   4799   \n",
       "3   3                            Бутсы мужские GSD Astro        белый   1599   \n",
       "4   3  Мяч футбольный PUMA TEAMFINAL 21.2 FIFA QUALIT...   мультицвет   7199   \n",
       "\n",
       "   product_sex  base_sale  dt  \n",
       "0          0.0          1   7  \n",
       "1          NaN          0  37  \n",
       "2          NaN          0  37  \n",
       "3          1.0          0  13  \n",
       "4          NaN          0  27  "
      ]
     },
     "execution_count": 13,
     "metadata": {},
     "output_type": "execute_result"
    }
   ],
   "source": [
    "purchases_df.head()"
   ]
  },
  {
   "cell_type": "code",
   "execution_count": 14,
   "id": "8dcb7666",
   "metadata": {},
   "outputs": [
    {
     "name": "stdout",
     "output_type": "stream",
     "text": [
      "<class 'pandas.core.frame.DataFrame'>\n",
      "RangeIndex: 786260 entries, 0 to 786259\n",
      "Data columns (total 7 columns):\n",
      " #   Column       Non-Null Count   Dtype  \n",
      "---  ------       --------------   -----  \n",
      " 0   id           786260 non-null  int64  \n",
      " 1   product      786260 non-null  object \n",
      " 2   colour       666736 non-null  object \n",
      " 3   cost         786260 non-null  int64  \n",
      " 4   product_sex  471548 non-null  float64\n",
      " 5   base_sale    786260 non-null  int64  \n",
      " 6   dt           786260 non-null  int64  \n",
      "dtypes: float64(1), int64(4), object(2)\n",
      "memory usage: 42.0+ MB\n"
     ]
    }
   ],
   "source": [
    "purchases_df.info()"
   ]
  },
  {
   "cell_type": "code",
   "execution_count": 15,
   "id": "a4b5fead",
   "metadata": {},
   "outputs": [
    {
     "name": "stdout",
     "output_type": "stream",
     "text": [
      "Показатели качества данных:\n",
      "             Пропуски  Процент ропущенных значений  Уникальные значения  \\\n",
      "id                  0                     0.000000               104989   \n",
      "product             0                     0.000000                23145   \n",
      "colour         119524                    15.201587                 1693   \n",
      "cost                0                     0.000000                 2402   \n",
      "product_sex    314712                    40.026454                    2   \n",
      "base_sale           0                     0.000000                    2   \n",
      "dt                  0                     0.000000                   59   \n",
      "\n",
      "             Дубликаты  \n",
      "id                   0  \n",
      "product              0  \n",
      "colour               0  \n",
      "cost                 0  \n",
      "product_sex          0  \n",
      "base_sale            0  \n",
      "dt                   0  \n"
     ]
    }
   ],
   "source": [
    "metrics = calculate_quality_metrics(purchases_df)\n",
    "print(\"Показатели качества данных:\")\n",
    "print(metrics)"
   ]
  },
  {
   "cell_type": "code",
   "execution_count": 16,
   "id": "d892867f",
   "metadata": {},
   "outputs": [],
   "source": [
    "# Функция для заполнения значений на основе текста в колонке product\n",
    "def fill_product_sex(row):\n",
    "    if pd.isna(row['product_sex']):\n",
    "        if \"мужской\" in row['product'].lower() or \"для мальчиков\" in row['product'].lower():\n",
    "            return 0.0\n",
    "        elif \"женский\" in row['product'].lower() or \"для девочек\" in row['product'].lower():\n",
    "            return 1.0\n",
    "        else:\n",
    "            return 2.0\n",
    "    return row['product_sex']  # Возвращаем текущее значение, если оно не NaN"
   ]
  },
  {
   "cell_type": "code",
   "execution_count": 17,
   "id": "c7738d28",
   "metadata": {},
   "outputs": [],
   "source": [
    "# Применяем функцию к каждому ряду\n",
    "purchases_df['product_sex'] = purchases_df.apply(fill_product_sex, axis=1)"
   ]
  },
  {
   "cell_type": "code",
   "execution_count": 18,
   "id": "bf3d4ec1",
   "metadata": {},
   "outputs": [],
   "source": [
    "purchases_df['colour'] = purchases_df['colour'].fillna('не указан')"
   ]
  },
  {
   "cell_type": "code",
   "execution_count": 19,
   "id": "ff27e76d",
   "metadata": {},
   "outputs": [],
   "source": [
    "purchases_df['colour'] = purchases_df['colour'].astype(str)"
   ]
  },
  {
   "cell_type": "code",
   "execution_count": 20,
   "id": "01a39341",
   "metadata": {},
   "outputs": [
    {
     "data": {
      "text/plain": [
       "5"
      ]
     },
     "execution_count": 20,
     "metadata": {},
     "output_type": "execute_result"
    }
   ],
   "source": [
    "max_splits = purchases_df['colour'].str.split('/').apply(len).max()\n",
    "max_splits"
   ]
  },
  {
   "cell_type": "code",
   "execution_count": 21,
   "id": "067a13ba",
   "metadata": {},
   "outputs": [],
   "source": [
    "# Разделение строки на колонки\n",
    "colour_split = purchases_df['colour'].str.split('/', expand=True, n=max_splits-1)"
   ]
  },
  {
   "cell_type": "code",
   "execution_count": 22,
   "id": "868ad17d",
   "metadata": {},
   "outputs": [],
   "source": [
    "# Заполнение пропусков пустыми строками (если есть строки с меньше количеством частей)\n",
    "colour_split = colour_split.fillna('')\n",
    "\n",
    "# Переименуйте колонки\n",
    "colour_split.columns = [f'colour_{i+1}' for i in range(colour_split.shape[1])]\n",
    "\n",
    "# Объедините с исходным DataFrame\n",
    "purchases_df = pd.concat([purchases_df, colour_split], axis=1)"
   ]
  },
  {
   "cell_type": "code",
   "execution_count": 23,
   "id": "d088edbf",
   "metadata": {},
   "outputs": [],
   "source": [
    "for i in range(colour_split.shape[1]):\n",
    "    purchases_df[f'colour_{i+1}'] = purchases_df[f'colour_{i+1}'].replace('', 'не задан').fillna('не задан')"
   ]
  },
  {
   "cell_type": "code",
   "execution_count": 24,
   "id": "dd0a8e40",
   "metadata": {
    "scrolled": true
   },
   "outputs": [
    {
     "data": {
      "text/html": [
       "<div>\n",
       "<style scoped>\n",
       "    .dataframe tbody tr th:only-of-type {\n",
       "        vertical-align: middle;\n",
       "    }\n",
       "\n",
       "    .dataframe tbody tr th {\n",
       "        vertical-align: top;\n",
       "    }\n",
       "\n",
       "    .dataframe thead th {\n",
       "        text-align: right;\n",
       "    }\n",
       "</style>\n",
       "<table border=\"1\" class=\"dataframe\">\n",
       "  <thead>\n",
       "    <tr style=\"text-align: right;\">\n",
       "      <th></th>\n",
       "      <th>id</th>\n",
       "      <th>product</th>\n",
       "      <th>colour</th>\n",
       "      <th>cost</th>\n",
       "      <th>product_sex</th>\n",
       "      <th>base_sale</th>\n",
       "      <th>dt</th>\n",
       "      <th>colour_1</th>\n",
       "      <th>colour_2</th>\n",
       "      <th>colour_3</th>\n",
       "      <th>colour_4</th>\n",
       "      <th>colour_5</th>\n",
       "    </tr>\n",
       "  </thead>\n",
       "  <tbody>\n",
       "    <tr>\n",
       "      <th>0</th>\n",
       "      <td>0</td>\n",
       "      <td>Велосипед горный женский Stern Mira 2.0 26\"</td>\n",
       "      <td>белый/синий</td>\n",
       "      <td>13599</td>\n",
       "      <td>0.0</td>\n",
       "      <td>1</td>\n",
       "      <td>7</td>\n",
       "      <td>белый</td>\n",
       "      <td>синий</td>\n",
       "      <td>не задан</td>\n",
       "      <td>не задан</td>\n",
       "      <td>не задан</td>\n",
       "    </tr>\n",
       "    <tr>\n",
       "      <th>1</th>\n",
       "      <td>0</td>\n",
       "      <td>Стол Outventure</td>\n",
       "      <td>зелёный</td>\n",
       "      <td>1499</td>\n",
       "      <td>2.0</td>\n",
       "      <td>0</td>\n",
       "      <td>37</td>\n",
       "      <td>зелёный</td>\n",
       "      <td>не задан</td>\n",
       "      <td>не задан</td>\n",
       "      <td>не задан</td>\n",
       "      <td>не задан</td>\n",
       "    </tr>\n",
       "    <tr>\n",
       "      <th>2</th>\n",
       "      <td>0</td>\n",
       "      <td>Набор Outventure: стол + 4 стула</td>\n",
       "      <td>бежевый</td>\n",
       "      <td>4799</td>\n",
       "      <td>2.0</td>\n",
       "      <td>0</td>\n",
       "      <td>37</td>\n",
       "      <td>бежевый</td>\n",
       "      <td>не задан</td>\n",
       "      <td>не задан</td>\n",
       "      <td>не задан</td>\n",
       "      <td>не задан</td>\n",
       "    </tr>\n",
       "    <tr>\n",
       "      <th>3</th>\n",
       "      <td>3</td>\n",
       "      <td>Бутсы мужские GSD Astro</td>\n",
       "      <td>белый</td>\n",
       "      <td>1599</td>\n",
       "      <td>1.0</td>\n",
       "      <td>0</td>\n",
       "      <td>13</td>\n",
       "      <td>белый</td>\n",
       "      <td>не задан</td>\n",
       "      <td>не задан</td>\n",
       "      <td>не задан</td>\n",
       "      <td>не задан</td>\n",
       "    </tr>\n",
       "    <tr>\n",
       "      <th>4</th>\n",
       "      <td>3</td>\n",
       "      <td>Мяч футбольный PUMA TEAMFINAL 21.2 FIFA QUALIT...</td>\n",
       "      <td>мультицвет</td>\n",
       "      <td>7199</td>\n",
       "      <td>2.0</td>\n",
       "      <td>0</td>\n",
       "      <td>27</td>\n",
       "      <td>мультицвет</td>\n",
       "      <td>не задан</td>\n",
       "      <td>не задан</td>\n",
       "      <td>не задан</td>\n",
       "      <td>не задан</td>\n",
       "    </tr>\n",
       "    <tr>\n",
       "      <th>5</th>\n",
       "      <td>3</td>\n",
       "      <td>Кеды мужские FILA A-Low</td>\n",
       "      <td>белый</td>\n",
       "      <td>2799</td>\n",
       "      <td>1.0</td>\n",
       "      <td>1</td>\n",
       "      <td>34</td>\n",
       "      <td>белый</td>\n",
       "      <td>не задан</td>\n",
       "      <td>не задан</td>\n",
       "      <td>не задан</td>\n",
       "      <td>не задан</td>\n",
       "    </tr>\n",
       "    <tr>\n",
       "      <th>6</th>\n",
       "      <td>3</td>\n",
       "      <td>Полуботинки мужские Outventure Chase</td>\n",
       "      <td>серый</td>\n",
       "      <td>2999</td>\n",
       "      <td>1.0</td>\n",
       "      <td>0</td>\n",
       "      <td>34</td>\n",
       "      <td>серый</td>\n",
       "      <td>не задан</td>\n",
       "      <td>не задан</td>\n",
       "      <td>не задан</td>\n",
       "      <td>не задан</td>\n",
       "    </tr>\n",
       "    <tr>\n",
       "      <th>7</th>\n",
       "      <td>4</td>\n",
       "      <td>Роликовые коньки детские Roces Orlando III</td>\n",
       "      <td>черный/розовый</td>\n",
       "      <td>9199</td>\n",
       "      <td>2.0</td>\n",
       "      <td>0</td>\n",
       "      <td>0</td>\n",
       "      <td>черный</td>\n",
       "      <td>розовый</td>\n",
       "      <td>не задан</td>\n",
       "      <td>не задан</td>\n",
       "      <td>не задан</td>\n",
       "    </tr>\n",
       "    <tr>\n",
       "      <th>8</th>\n",
       "      <td>4</td>\n",
       "      <td>Шлем FILA NRK FUN</td>\n",
       "      <td>белый</td>\n",
       "      <td>4999</td>\n",
       "      <td>2.0</td>\n",
       "      <td>0</td>\n",
       "      <td>0</td>\n",
       "      <td>белый</td>\n",
       "      <td>не задан</td>\n",
       "      <td>не задан</td>\n",
       "      <td>не задан</td>\n",
       "      <td>не задан</td>\n",
       "    </tr>\n",
       "    <tr>\n",
       "      <th>9</th>\n",
       "      <td>4</td>\n",
       "      <td>Роликовые коньки детские Roces Yuma TIF</td>\n",
       "      <td>мультицвет</td>\n",
       "      <td>6999</td>\n",
       "      <td>2.0</td>\n",
       "      <td>0</td>\n",
       "      <td>1</td>\n",
       "      <td>мультицвет</td>\n",
       "      <td>не задан</td>\n",
       "      <td>не задан</td>\n",
       "      <td>не задан</td>\n",
       "      <td>не задан</td>\n",
       "    </tr>\n",
       "    <tr>\n",
       "      <th>10</th>\n",
       "      <td>4</td>\n",
       "      <td>Набор защиты из 3-х предметов детский Reaction...</td>\n",
       "      <td>белый/серый</td>\n",
       "      <td>999</td>\n",
       "      <td>2.0</td>\n",
       "      <td>0</td>\n",
       "      <td>1</td>\n",
       "      <td>белый</td>\n",
       "      <td>серый</td>\n",
       "      <td>не задан</td>\n",
       "      <td>не задан</td>\n",
       "      <td>не задан</td>\n",
       "    </tr>\n",
       "    <tr>\n",
       "      <th>11</th>\n",
       "      <td>4</td>\n",
       "      <td>Шлем для девочек Reaction Urban</td>\n",
       "      <td>розовый</td>\n",
       "      <td>1499</td>\n",
       "      <td>1.0</td>\n",
       "      <td>0</td>\n",
       "      <td>2</td>\n",
       "      <td>розовый</td>\n",
       "      <td>не задан</td>\n",
       "      <td>не задан</td>\n",
       "      <td>не задан</td>\n",
       "      <td>не задан</td>\n",
       "    </tr>\n",
       "    <tr>\n",
       "      <th>12</th>\n",
       "      <td>4</td>\n",
       "      <td>Роликовые коньки детские раздвижные Reaction R...</td>\n",
       "      <td>серый/розовый</td>\n",
       "      <td>4399</td>\n",
       "      <td>2.0</td>\n",
       "      <td>0</td>\n",
       "      <td>2</td>\n",
       "      <td>серый</td>\n",
       "      <td>розовый</td>\n",
       "      <td>не задан</td>\n",
       "      <td>не задан</td>\n",
       "      <td>не задан</td>\n",
       "    </tr>\n",
       "    <tr>\n",
       "      <th>13</th>\n",
       "      <td>4</td>\n",
       "      <td>Куртка утепленная для девочек Outventure</td>\n",
       "      <td>не указан</td>\n",
       "      <td>2999</td>\n",
       "      <td>1.0</td>\n",
       "      <td>0</td>\n",
       "      <td>32</td>\n",
       "      <td>не указан</td>\n",
       "      <td>не задан</td>\n",
       "      <td>не задан</td>\n",
       "      <td>не задан</td>\n",
       "      <td>не задан</td>\n",
       "    </tr>\n",
       "    <tr>\n",
       "      <th>14</th>\n",
       "      <td>6</td>\n",
       "      <td>Кроссовки для мальчиков Geox J Sprintye Boy</td>\n",
       "      <td>лимонный/черный</td>\n",
       "      <td>4999</td>\n",
       "      <td>0.0</td>\n",
       "      <td>0</td>\n",
       "      <td>1</td>\n",
       "      <td>лимонный</td>\n",
       "      <td>черный</td>\n",
       "      <td>не задан</td>\n",
       "      <td>не задан</td>\n",
       "      <td>не задан</td>\n",
       "    </tr>\n",
       "  </tbody>\n",
       "</table>\n",
       "</div>"
      ],
      "text/plain": [
       "    id                                            product           colour  \\\n",
       "0    0        Велосипед горный женский Stern Mira 2.0 26\"      белый/синий   \n",
       "1    0                                    Стол Outventure          зелёный   \n",
       "2    0                   Набор Outventure: стол + 4 стула          бежевый   \n",
       "3    3                            Бутсы мужские GSD Astro            белый   \n",
       "4    3  Мяч футбольный PUMA TEAMFINAL 21.2 FIFA QUALIT...       мультицвет   \n",
       "5    3                            Кеды мужские FILA A-Low            белый   \n",
       "6    3               Полуботинки мужские Outventure Chase            серый   \n",
       "7    4         Роликовые коньки детские Roces Orlando III   черный/розовый   \n",
       "8    4                                  Шлем FILA NRK FUN            белый   \n",
       "9    4            Роликовые коньки детские Roces Yuma TIF       мультицвет   \n",
       "10   4  Набор защиты из 3-х предметов детский Reaction...      белый/серый   \n",
       "11   4                    Шлем для девочек Reaction Urban          розовый   \n",
       "12   4  Роликовые коньки детские раздвижные Reaction R...    серый/розовый   \n",
       "13   4           Куртка утепленная для девочек Outventure        не указан   \n",
       "14   6        Кроссовки для мальчиков Geox J Sprintye Boy  лимонный/черный   \n",
       "\n",
       "     cost  product_sex  base_sale  dt    colour_1  colour_2  colour_3  \\\n",
       "0   13599          0.0          1   7       белый     синий  не задан   \n",
       "1    1499          2.0          0  37     зелёный  не задан  не задан   \n",
       "2    4799          2.0          0  37     бежевый  не задан  не задан   \n",
       "3    1599          1.0          0  13       белый  не задан  не задан   \n",
       "4    7199          2.0          0  27  мультицвет  не задан  не задан   \n",
       "5    2799          1.0          1  34       белый  не задан  не задан   \n",
       "6    2999          1.0          0  34       серый  не задан  не задан   \n",
       "7    9199          2.0          0   0      черный   розовый  не задан   \n",
       "8    4999          2.0          0   0       белый  не задан  не задан   \n",
       "9    6999          2.0          0   1  мультицвет  не задан  не задан   \n",
       "10    999          2.0          0   1       белый     серый  не задан   \n",
       "11   1499          1.0          0   2     розовый  не задан  не задан   \n",
       "12   4399          2.0          0   2       серый   розовый  не задан   \n",
       "13   2999          1.0          0  32   не указан  не задан  не задан   \n",
       "14   4999          0.0          0   1    лимонный    черный  не задан   \n",
       "\n",
       "    colour_4  colour_5  \n",
       "0   не задан  не задан  \n",
       "1   не задан  не задан  \n",
       "2   не задан  не задан  \n",
       "3   не задан  не задан  \n",
       "4   не задан  не задан  \n",
       "5   не задан  не задан  \n",
       "6   не задан  не задан  \n",
       "7   не задан  не задан  \n",
       "8   не задан  не задан  \n",
       "9   не задан  не задан  \n",
       "10  не задан  не задан  \n",
       "11  не задан  не задан  \n",
       "12  не задан  не задан  \n",
       "13  не задан  не задан  \n",
       "14  не задан  не задан  "
      ]
     },
     "execution_count": 24,
     "metadata": {},
     "output_type": "execute_result"
    }
   ],
   "source": [
    "purchases_df.head(15)"
   ]
  },
  {
   "cell_type": "code",
   "execution_count": null,
   "id": "71a9f141",
   "metadata": {},
   "outputs": [],
   "source": []
  },
  {
   "cell_type": "code",
   "execution_count": null,
   "id": "80ecc77d",
   "metadata": {},
   "outputs": [],
   "source": []
  },
  {
   "cell_type": "code",
   "execution_count": null,
   "id": "7dbc8661",
   "metadata": {},
   "outputs": [],
   "source": []
  },
  {
   "cell_type": "code",
   "execution_count": null,
   "id": "681920ce",
   "metadata": {},
   "outputs": [],
   "source": []
  },
  {
   "cell_type": "code",
   "execution_count": 143,
   "id": "66b3a9a6",
   "metadata": {},
   "outputs": [],
   "source": [
    "# Объединение данных\n",
    "data_with_gender = personal_data_df.merge(personal_data_coeffs_df[['id', 'personal_coef']], on='id', how='left') \\\n",
    "                       .merge(purchases_df, on='id', how='left') \\\n",
    "                       .reset_index(drop=True)"
   ]
  },
  {
   "cell_type": "code",
   "execution_count": 144,
   "id": "ed9bbf90",
   "metadata": {},
   "outputs": [
    {
     "data": {
      "text/html": [
       "<div>\n",
       "<style scoped>\n",
       "    .dataframe tbody tr th:only-of-type {\n",
       "        vertical-align: middle;\n",
       "    }\n",
       "\n",
       "    .dataframe tbody tr th {\n",
       "        vertical-align: top;\n",
       "    }\n",
       "\n",
       "    .dataframe thead th {\n",
       "        text-align: right;\n",
       "    }\n",
       "</style>\n",
       "<table border=\"1\" class=\"dataframe\">\n",
       "  <thead>\n",
       "    <tr style=\"text-align: right;\">\n",
       "      <th></th>\n",
       "      <th>id</th>\n",
       "      <th>gender</th>\n",
       "      <th>age</th>\n",
       "      <th>education</th>\n",
       "      <th>city</th>\n",
       "      <th>country</th>\n",
       "      <th>personal_coef</th>\n",
       "      <th>product</th>\n",
       "      <th>colour</th>\n",
       "      <th>cost</th>\n",
       "      <th>product_sex</th>\n",
       "      <th>base_sale</th>\n",
       "      <th>dt</th>\n",
       "      <th>colour_1</th>\n",
       "      <th>colour_2</th>\n",
       "      <th>colour_3</th>\n",
       "      <th>colour_4</th>\n",
       "      <th>colour_5</th>\n",
       "    </tr>\n",
       "  </thead>\n",
       "  <tbody>\n",
       "    <tr>\n",
       "      <th>0</th>\n",
       "      <td>0</td>\n",
       "      <td>0</td>\n",
       "      <td>36</td>\n",
       "      <td>среднее</td>\n",
       "      <td>1201</td>\n",
       "      <td>32</td>\n",
       "      <td>0.5072</td>\n",
       "      <td>Велосипед горный женский Stern Mira 2.0 26\"</td>\n",
       "      <td>белый/синий</td>\n",
       "      <td>13599</td>\n",
       "      <td>0.0</td>\n",
       "      <td>1</td>\n",
       "      <td>7</td>\n",
       "      <td>белый</td>\n",
       "      <td>синий</td>\n",
       "      <td>не задан</td>\n",
       "      <td>не задан</td>\n",
       "      <td>не задан</td>\n",
       "    </tr>\n",
       "    <tr>\n",
       "      <th>1</th>\n",
       "      <td>0</td>\n",
       "      <td>0</td>\n",
       "      <td>36</td>\n",
       "      <td>среднее</td>\n",
       "      <td>1201</td>\n",
       "      <td>32</td>\n",
       "      <td>0.5072</td>\n",
       "      <td>Стол Outventure</td>\n",
       "      <td>зелёный</td>\n",
       "      <td>1499</td>\n",
       "      <td>2.0</td>\n",
       "      <td>0</td>\n",
       "      <td>37</td>\n",
       "      <td>зелёный</td>\n",
       "      <td>не задан</td>\n",
       "      <td>не задан</td>\n",
       "      <td>не задан</td>\n",
       "      <td>не задан</td>\n",
       "    </tr>\n",
       "    <tr>\n",
       "      <th>2</th>\n",
       "      <td>0</td>\n",
       "      <td>0</td>\n",
       "      <td>36</td>\n",
       "      <td>среднее</td>\n",
       "      <td>1201</td>\n",
       "      <td>32</td>\n",
       "      <td>0.5072</td>\n",
       "      <td>Набор Outventure: стол + 4 стула</td>\n",
       "      <td>бежевый</td>\n",
       "      <td>4799</td>\n",
       "      <td>2.0</td>\n",
       "      <td>0</td>\n",
       "      <td>37</td>\n",
       "      <td>бежевый</td>\n",
       "      <td>не задан</td>\n",
       "      <td>не задан</td>\n",
       "      <td>не задан</td>\n",
       "      <td>не задан</td>\n",
       "    </tr>\n",
       "    <tr>\n",
       "      <th>3</th>\n",
       "      <td>4</td>\n",
       "      <td>0</td>\n",
       "      <td>35</td>\n",
       "      <td>среднее</td>\n",
       "      <td>1134</td>\n",
       "      <td>32</td>\n",
       "      <td>0.5072</td>\n",
       "      <td>Роликовые коньки детские Roces Orlando III</td>\n",
       "      <td>черный/розовый</td>\n",
       "      <td>9199</td>\n",
       "      <td>2.0</td>\n",
       "      <td>0</td>\n",
       "      <td>0</td>\n",
       "      <td>черный</td>\n",
       "      <td>розовый</td>\n",
       "      <td>не задан</td>\n",
       "      <td>не задан</td>\n",
       "      <td>не задан</td>\n",
       "    </tr>\n",
       "    <tr>\n",
       "      <th>4</th>\n",
       "      <td>4</td>\n",
       "      <td>0</td>\n",
       "      <td>35</td>\n",
       "      <td>среднее</td>\n",
       "      <td>1134</td>\n",
       "      <td>32</td>\n",
       "      <td>0.5072</td>\n",
       "      <td>Шлем FILA NRK FUN</td>\n",
       "      <td>белый</td>\n",
       "      <td>4999</td>\n",
       "      <td>2.0</td>\n",
       "      <td>0</td>\n",
       "      <td>0</td>\n",
       "      <td>белый</td>\n",
       "      <td>не задан</td>\n",
       "      <td>не задан</td>\n",
       "      <td>не задан</td>\n",
       "      <td>не задан</td>\n",
       "    </tr>\n",
       "  </tbody>\n",
       "</table>\n",
       "</div>"
      ],
      "text/plain": [
       "   id  gender  age education  city  country  personal_coef  \\\n",
       "0   0       0   36   среднее  1201       32         0.5072   \n",
       "1   0       0   36   среднее  1201       32         0.5072   \n",
       "2   0       0   36   среднее  1201       32         0.5072   \n",
       "3   4       0   35   среднее  1134       32         0.5072   \n",
       "4   4       0   35   среднее  1134       32         0.5072   \n",
       "\n",
       "                                       product          colour   cost  \\\n",
       "0  Велосипед горный женский Stern Mira 2.0 26\"     белый/синий  13599   \n",
       "1                              Стол Outventure         зелёный   1499   \n",
       "2             Набор Outventure: стол + 4 стула         бежевый   4799   \n",
       "3   Роликовые коньки детские Roces Orlando III  черный/розовый   9199   \n",
       "4                            Шлем FILA NRK FUN           белый   4999   \n",
       "\n",
       "   product_sex  base_sale  dt colour_1  colour_2  colour_3  colour_4  colour_5  \n",
       "0          0.0          1   7    белый     синий  не задан  не задан  не задан  \n",
       "1          2.0          0  37  зелёный  не задан  не задан  не задан  не задан  \n",
       "2          2.0          0  37  бежевый  не задан  не задан  не задан  не задан  \n",
       "3          2.0          0   0   черный   розовый  не задан  не задан  не задан  \n",
       "4          2.0          0   0    белый  не задан  не задан  не задан  не задан  "
      ]
     },
     "execution_count": 144,
     "metadata": {},
     "output_type": "execute_result"
    }
   ],
   "source": [
    "data_with_gender.head()"
   ]
  },
  {
   "cell_type": "code",
   "execution_count": 145,
   "id": "4fa1618b",
   "metadata": {
    "scrolled": false
   },
   "outputs": [
    {
     "name": "stdout",
     "output_type": "stream",
     "text": [
      "Показатели качества данных:\n",
      "               Пропуски  Процент ропущенных значений  Уникальные значения  \\\n",
      "id                    0                          0.0                89241   \n",
      "gender                0                          0.0                    2   \n",
      "age                   0                          0.0                   73   \n",
      "education             0                          0.0                    2   \n",
      "city                  0                          0.0                  707   \n",
      "country               0                          0.0                   30   \n",
      "personal_coef         0                          0.0                   15   \n",
      "product               0                          0.0                22342   \n",
      "colour                0                          0.0                 1658   \n",
      "cost                  0                          0.0                 2343   \n",
      "product_sex           0                          0.0                    3   \n",
      "base_sale             0                          0.0                    2   \n",
      "dt                    0                          0.0                   59   \n",
      "colour_1              0                          0.0                  327   \n",
      "colour_2              0                          0.0                  135   \n",
      "colour_3              0                          0.0                   57   \n",
      "colour_4              0                          0.0                   16   \n",
      "colour_5              0                          0.0                    6   \n",
      "\n",
      "               Дубликаты  \n",
      "id                     0  \n",
      "gender                 0  \n",
      "age                    0  \n",
      "education              0  \n",
      "city                   0  \n",
      "country                0  \n",
      "personal_coef          0  \n",
      "product                0  \n",
      "colour                 0  \n",
      "cost                   0  \n",
      "product_sex            0  \n",
      "base_sale              0  \n",
      "dt                     0  \n",
      "colour_1               0  \n",
      "colour_2               0  \n",
      "colour_3               0  \n",
      "colour_4               0  \n",
      "colour_5               0  \n"
     ]
    }
   ],
   "source": [
    "metrics = calculate_quality_metrics(data_with_gender)\n",
    "print(\"Показатели качества данных:\")\n",
    "print(metrics)"
   ]
  },
  {
   "cell_type": "code",
   "execution_count": 146,
   "id": "344c3f13",
   "metadata": {},
   "outputs": [
    {
     "data": {
      "text/plain": [
       "(669956, 18)"
      ]
     },
     "execution_count": 146,
     "metadata": {},
     "output_type": "execute_result"
    }
   ],
   "source": [
    "data_with_gender.shape"
   ]
  },
  {
   "cell_type": "code",
   "execution_count": 147,
   "id": "04cfc608",
   "metadata": {},
   "outputs": [
    {
     "name": "stdout",
     "output_type": "stream",
     "text": [
      "<class 'pandas.core.frame.DataFrame'>\n",
      "RangeIndex: 669956 entries, 0 to 669955\n",
      "Data columns (total 18 columns):\n",
      " #   Column         Non-Null Count   Dtype  \n",
      "---  ------         --------------   -----  \n",
      " 0   id             669956 non-null  int64  \n",
      " 1   gender         669956 non-null  int64  \n",
      " 2   age            669956 non-null  int64  \n",
      " 3   education      669956 non-null  object \n",
      " 4   city           669956 non-null  int64  \n",
      " 5   country        669956 non-null  int64  \n",
      " 6   personal_coef  669956 non-null  float64\n",
      " 7   product        669956 non-null  object \n",
      " 8   colour         669956 non-null  object \n",
      " 9   cost           669956 non-null  int64  \n",
      " 10  product_sex    669956 non-null  float64\n",
      " 11  base_sale      669956 non-null  int64  \n",
      " 12  dt             669956 non-null  int64  \n",
      " 13  colour_1       669956 non-null  object \n",
      " 14  colour_2       669956 non-null  object \n",
      " 15  colour_3       669956 non-null  object \n",
      " 16  colour_4       669956 non-null  object \n",
      " 17  colour_5       669956 non-null  object \n",
      "dtypes: float64(2), int64(8), object(8)\n",
      "memory usage: 92.0+ MB\n"
     ]
    }
   ],
   "source": [
    "data_with_gender.info()"
   ]
  },
  {
   "cell_type": "code",
   "execution_count": 176,
   "id": "9294a371",
   "metadata": {},
   "outputs": [
    {
     "data": {
      "text/plain": [
       "Index(['id', 'age', 'education', 'city', 'country', 'personal_coef', 'product',\n",
       "       'colour', 'cost', 'product_sex', 'base_sale', 'dt', 'colour_1',\n",
       "       'colour_2', 'colour_3', 'colour_4', 'colour_5'],\n",
       "      dtype='object')"
      ]
     },
     "execution_count": 176,
     "metadata": {},
     "output_type": "execute_result"
    }
   ],
   "source": [
    "data_without_gender.columns"
   ]
  },
  {
   "cell_type": "code",
   "execution_count": 148,
   "id": "a003da76",
   "metadata": {},
   "outputs": [],
   "source": [
    "# Объединение данных\n",
    "data_without_gender = personal_data_ext_df.merge(personal_data_coeffs_df[['id', 'personal_coef']], on='id', how='left') \\\n",
    "                       .merge(purchases_df, on='id', how='left') \\\n",
    "                       .reset_index(drop=True)"
   ]
  },
  {
   "cell_type": "code",
   "execution_count": 150,
   "id": "eee07674",
   "metadata": {},
   "outputs": [
    {
     "name": "stdout",
     "output_type": "stream",
     "text": [
      "<class 'pandas.core.frame.DataFrame'>\n",
      "RangeIndex: 116304 entries, 0 to 116303\n",
      "Data columns (total 17 columns):\n",
      " #   Column         Non-Null Count   Dtype  \n",
      "---  ------         --------------   -----  \n",
      " 0   id             116304 non-null  int64  \n",
      " 1   age            116304 non-null  int64  \n",
      " 2   education      116304 non-null  object \n",
      " 3   city           116304 non-null  int64  \n",
      " 4   country        116304 non-null  int64  \n",
      " 5   personal_coef  116304 non-null  float64\n",
      " 6   product        116304 non-null  object \n",
      " 7   colour         116304 non-null  object \n",
      " 8   cost           116304 non-null  int64  \n",
      " 9   product_sex    116304 non-null  float64\n",
      " 10  base_sale      116304 non-null  int64  \n",
      " 11  dt             116304 non-null  int64  \n",
      " 12  colour_1       116304 non-null  object \n",
      " 13  colour_2       116304 non-null  object \n",
      " 14  colour_3       116304 non-null  object \n",
      " 15  colour_4       116304 non-null  object \n",
      " 16  colour_5       116304 non-null  object \n",
      "dtypes: float64(2), int64(7), object(8)\n",
      "memory usage: 15.1+ MB\n"
     ]
    }
   ],
   "source": [
    "data_without_gender.info()"
   ]
  },
  {
   "cell_type": "code",
   "execution_count": 151,
   "id": "2df057dc",
   "metadata": {},
   "outputs": [
    {
     "name": "stdout",
     "output_type": "stream",
     "text": [
      "Показатели качества данных:\n",
      "               Пропуски  Процент ропущенных значений  Уникальные значения  \\\n",
      "id                    0                          0.0                15748   \n",
      "age                   0                          0.0                   73   \n",
      "education             0                          0.0                    2   \n",
      "city                  0                          0.0                  345   \n",
      "country               0                          0.0                   16   \n",
      "personal_coef         0                          0.0                   14   \n",
      "product               0                          0.0                13656   \n",
      "colour                0                          0.0                 1212   \n",
      "cost                  0                          0.0                 1665   \n",
      "product_sex           0                          0.0                    3   \n",
      "base_sale             0                          0.0                    2   \n",
      "dt                    0                          0.0                   59   \n",
      "colour_1              0                          0.0                  252   \n",
      "colour_2              0                          0.0                   96   \n",
      "colour_3              0                          0.0                   46   \n",
      "colour_4              0                          0.0                   14   \n",
      "colour_5              0                          0.0                    6   \n",
      "\n",
      "               Дубликаты  \n",
      "id                     0  \n",
      "age                    0  \n",
      "education              0  \n",
      "city                   0  \n",
      "country                0  \n",
      "personal_coef          0  \n",
      "product                0  \n",
      "colour                 0  \n",
      "cost                   0  \n",
      "product_sex            0  \n",
      "base_sale              0  \n",
      "dt                     0  \n",
      "colour_1               0  \n",
      "colour_2               0  \n",
      "colour_3               0  \n",
      "colour_4               0  \n",
      "colour_5               0  \n"
     ]
    }
   ],
   "source": [
    "metrics = calculate_quality_metrics(data_without_gender)\n",
    "print(\"Показатели качества данных:\")\n",
    "print(metrics)"
   ]
  },
  {
   "cell_type": "code",
   "execution_count": 207,
   "id": "af578e0a",
   "metadata": {},
   "outputs": [],
   "source": [
    "columns_to_drop = ['product', 'colour', 'colour_2','colour_3','colour_4', 'colour_5']"
   ]
  },
  {
   "cell_type": "code",
   "execution_count": 238,
   "id": "d23d042a",
   "metadata": {},
   "outputs": [],
   "source": [
    "data_for_analysis = data_with_gender.drop(columns_to_drop, axis=1).reset_index(drop=True)"
   ]
  },
  {
   "cell_type": "code",
   "execution_count": 239,
   "id": "b995c281",
   "metadata": {},
   "outputs": [
    {
     "name": "stdout",
     "output_type": "stream",
     "text": [
      "<class 'pandas.core.frame.DataFrame'>\n",
      "RangeIndex: 669956 entries, 0 to 669955\n",
      "Data columns (total 12 columns):\n",
      " #   Column         Non-Null Count   Dtype  \n",
      "---  ------         --------------   -----  \n",
      " 0   id             669956 non-null  int64  \n",
      " 1   gender         669956 non-null  int64  \n",
      " 2   age            669956 non-null  int64  \n",
      " 3   education      669956 non-null  object \n",
      " 4   city           669956 non-null  int64  \n",
      " 5   country        669956 non-null  int64  \n",
      " 6   personal_coef  669956 non-null  float64\n",
      " 7   cost           669956 non-null  int64  \n",
      " 8   product_sex    669956 non-null  float64\n",
      " 9   base_sale      669956 non-null  int64  \n",
      " 10  dt             669956 non-null  int64  \n",
      " 11  colour_1       669956 non-null  object \n",
      "dtypes: float64(2), int64(8), object(2)\n",
      "memory usage: 61.3+ MB\n"
     ]
    }
   ],
   "source": [
    "data_for_analysis.info()"
   ]
  },
  {
   "cell_type": "code",
   "execution_count": 240,
   "id": "3e4064ec",
   "metadata": {},
   "outputs": [
    {
     "data": {
      "text/plain": [
       "(669956, 12)"
      ]
     },
     "execution_count": 240,
     "metadata": {},
     "output_type": "execute_result"
    }
   ],
   "source": [
    "data_for_analysis.shape"
   ]
  },
  {
   "cell_type": "code",
   "execution_count": 241,
   "id": "36515a67",
   "metadata": {},
   "outputs": [
    {
     "data": {
      "text/plain": [
       "1645"
      ]
     },
     "execution_count": 241,
     "metadata": {},
     "output_type": "execute_result"
    }
   ],
   "source": [
    "data_for_analysis.duplicated().sum()"
   ]
  },
  {
   "cell_type": "code",
   "execution_count": 246,
   "id": "4e6cad4a",
   "metadata": {},
   "outputs": [
    {
     "data": {
      "text/plain": [
       "(668311, 12)"
      ]
     },
     "execution_count": 246,
     "metadata": {},
     "output_type": "execute_result"
    }
   ],
   "source": [
    "data_for_analysis_clean = data_for_analysis.drop_duplicates().reset_index(drop=True)\n",
    "data_for_analysis_clean.shape"
   ]
  },
  {
   "cell_type": "code",
   "execution_count": 247,
   "id": "0a568e05",
   "metadata": {},
   "outputs": [
    {
     "name": "stdout",
     "output_type": "stream",
     "text": [
      "<class 'pandas.core.frame.DataFrame'>\n",
      "RangeIndex: 668311 entries, 0 to 668310\n",
      "Data columns (total 12 columns):\n",
      " #   Column         Non-Null Count   Dtype  \n",
      "---  ------         --------------   -----  \n",
      " 0   id             668311 non-null  int64  \n",
      " 1   gender         668311 non-null  int64  \n",
      " 2   age            668311 non-null  int64  \n",
      " 3   education      668311 non-null  object \n",
      " 4   city           668311 non-null  int64  \n",
      " 5   country        668311 non-null  int64  \n",
      " 6   personal_coef  668311 non-null  float64\n",
      " 7   cost           668311 non-null  int64  \n",
      " 8   product_sex    668311 non-null  float64\n",
      " 9   base_sale      668311 non-null  int64  \n",
      " 10  dt             668311 non-null  int64  \n",
      " 11  colour_1       668311 non-null  object \n",
      "dtypes: float64(2), int64(8), object(2)\n",
      "memory usage: 61.2+ MB\n"
     ]
    }
   ],
   "source": [
    "data_for_analysis_clean.info()"
   ]
  },
  {
   "cell_type": "code",
   "execution_count": 250,
   "id": "14f216ba",
   "metadata": {},
   "outputs": [
    {
     "data": {
      "text/html": [
       "<div>\n",
       "<style scoped>\n",
       "    .dataframe tbody tr th:only-of-type {\n",
       "        vertical-align: middle;\n",
       "    }\n",
       "\n",
       "    .dataframe tbody tr th {\n",
       "        vertical-align: top;\n",
       "    }\n",
       "\n",
       "    .dataframe thead th {\n",
       "        text-align: right;\n",
       "    }\n",
       "</style>\n",
       "<table border=\"1\" class=\"dataframe\">\n",
       "  <thead>\n",
       "    <tr style=\"text-align: right;\">\n",
       "      <th></th>\n",
       "      <th>id</th>\n",
       "      <th>gender</th>\n",
       "      <th>age</th>\n",
       "      <th>education</th>\n",
       "      <th>city</th>\n",
       "      <th>country</th>\n",
       "      <th>personal_coef</th>\n",
       "      <th>cost</th>\n",
       "      <th>product_sex</th>\n",
       "      <th>base_sale</th>\n",
       "      <th>dt</th>\n",
       "      <th>colour_1</th>\n",
       "    </tr>\n",
       "  </thead>\n",
       "  <tbody>\n",
       "    <tr>\n",
       "      <th>668306</th>\n",
       "      <td>178004</td>\n",
       "      <td>1</td>\n",
       "      <td>52</td>\n",
       "      <td>высшее</td>\n",
       "      <td>1188</td>\n",
       "      <td>32</td>\n",
       "      <td>0.4688</td>\n",
       "      <td>7999</td>\n",
       "      <td>1.0</td>\n",
       "      <td>0</td>\n",
       "      <td>12</td>\n",
       "      <td>хаки</td>\n",
       "    </tr>\n",
       "    <tr>\n",
       "      <th>668307</th>\n",
       "      <td>178004</td>\n",
       "      <td>1</td>\n",
       "      <td>52</td>\n",
       "      <td>высшее</td>\n",
       "      <td>1188</td>\n",
       "      <td>32</td>\n",
       "      <td>0.4688</td>\n",
       "      <td>24299</td>\n",
       "      <td>1.0</td>\n",
       "      <td>0</td>\n",
       "      <td>13</td>\n",
       "      <td>черный</td>\n",
       "    </tr>\n",
       "    <tr>\n",
       "      <th>668308</th>\n",
       "      <td>178004</td>\n",
       "      <td>1</td>\n",
       "      <td>52</td>\n",
       "      <td>высшее</td>\n",
       "      <td>1188</td>\n",
       "      <td>32</td>\n",
       "      <td>0.4688</td>\n",
       "      <td>24299</td>\n",
       "      <td>1.0</td>\n",
       "      <td>0</td>\n",
       "      <td>20</td>\n",
       "      <td>черный</td>\n",
       "    </tr>\n",
       "    <tr>\n",
       "      <th>668309</th>\n",
       "      <td>178004</td>\n",
       "      <td>1</td>\n",
       "      <td>52</td>\n",
       "      <td>высшее</td>\n",
       "      <td>1188</td>\n",
       "      <td>32</td>\n",
       "      <td>0.4688</td>\n",
       "      <td>12</td>\n",
       "      <td>2.0</td>\n",
       "      <td>0</td>\n",
       "      <td>20</td>\n",
       "      <td>коричневый</td>\n",
       "    </tr>\n",
       "    <tr>\n",
       "      <th>668310</th>\n",
       "      <td>178004</td>\n",
       "      <td>1</td>\n",
       "      <td>52</td>\n",
       "      <td>высшее</td>\n",
       "      <td>1188</td>\n",
       "      <td>32</td>\n",
       "      <td>0.4688</td>\n",
       "      <td>7999</td>\n",
       "      <td>1.0</td>\n",
       "      <td>0</td>\n",
       "      <td>20</td>\n",
       "      <td>синий</td>\n",
       "    </tr>\n",
       "  </tbody>\n",
       "</table>\n",
       "</div>"
      ],
      "text/plain": [
       "            id  gender  age education  city  country  personal_coef   cost  \\\n",
       "668306  178004       1   52    высшее  1188       32         0.4688   7999   \n",
       "668307  178004       1   52    высшее  1188       32         0.4688  24299   \n",
       "668308  178004       1   52    высшее  1188       32         0.4688  24299   \n",
       "668309  178004       1   52    высшее  1188       32         0.4688     12   \n",
       "668310  178004       1   52    высшее  1188       32         0.4688   7999   \n",
       "\n",
       "        product_sex  base_sale  dt    colour_1  \n",
       "668306          1.0          0  12        хаки  \n",
       "668307          1.0          0  13      черный  \n",
       "668308          1.0          0  20      черный  \n",
       "668309          2.0          0  20  коричневый  \n",
       "668310          1.0          0  20       синий  "
      ]
     },
     "execution_count": 250,
     "metadata": {},
     "output_type": "execute_result"
    }
   ],
   "source": [
    "data_for_analysis_clean.tail()"
   ]
  },
  {
   "cell_type": "code",
   "execution_count": 251,
   "id": "cf419130",
   "metadata": {},
   "outputs": [],
   "source": [
    "# Приводим колонки 'gender','city', 'country','product_sex','base_sale'  к типу \"category\"\n",
    "data_for_analysis_clean[['gender','city', 'country','product_sex','base_sale']] = data_for_analysis_clean[\n",
    "                            ['gender','city', 'country','product_sex','base_sale']].astype('category')"
   ]
  },
  {
   "cell_type": "code",
   "execution_count": 252,
   "id": "4cdc07e8",
   "metadata": {},
   "outputs": [
    {
     "name": "stdout",
     "output_type": "stream",
     "text": [
      "<class 'pandas.core.frame.DataFrame'>\n",
      "RangeIndex: 668311 entries, 0 to 668310\n",
      "Data columns (total 12 columns):\n",
      " #   Column         Non-Null Count   Dtype   \n",
      "---  ------         --------------   -----   \n",
      " 0   id             668311 non-null  int64   \n",
      " 1   gender         668311 non-null  category\n",
      " 2   age            668311 non-null  int64   \n",
      " 3   education      668311 non-null  object  \n",
      " 4   city           668311 non-null  category\n",
      " 5   country        668311 non-null  category\n",
      " 6   personal_coef  668311 non-null  float64 \n",
      " 7   cost           668311 non-null  int64   \n",
      " 8   product_sex    668311 non-null  category\n",
      " 9   base_sale      668311 non-null  category\n",
      " 10  dt             668311 non-null  int64   \n",
      " 11  colour_1       668311 non-null  object  \n",
      "dtypes: category(5), float64(1), int64(4), object(2)\n",
      "memory usage: 39.5+ MB\n"
     ]
    }
   ],
   "source": [
    "data_for_analysis_clean.info()"
   ]
  },
  {
   "cell_type": "code",
   "execution_count": 253,
   "id": "f861fa95",
   "metadata": {},
   "outputs": [],
   "source": [
    "# Закодируем категориальные данные\n",
    "encoder = OneHotEncoder()\n",
    "categorical_features = ['education']\n",
    "encoded_features = encoder.fit_transform(data_for_analysis_clean[categorical_features]).toarray()\n",
    "encoded_df = pd.DataFrame(encoded_features, columns=encoder.get_feature_names_out(['education']))"
   ]
  },
  {
   "cell_type": "code",
   "execution_count": 254,
   "id": "088da13c",
   "metadata": {},
   "outputs": [
    {
     "data": {
      "text/html": [
       "<div>\n",
       "<style scoped>\n",
       "    .dataframe tbody tr th:only-of-type {\n",
       "        vertical-align: middle;\n",
       "    }\n",
       "\n",
       "    .dataframe tbody tr th {\n",
       "        vertical-align: top;\n",
       "    }\n",
       "\n",
       "    .dataframe thead th {\n",
       "        text-align: right;\n",
       "    }\n",
       "</style>\n",
       "<table border=\"1\" class=\"dataframe\">\n",
       "  <thead>\n",
       "    <tr style=\"text-align: right;\">\n",
       "      <th></th>\n",
       "      <th>gender</th>\n",
       "      <th>age</th>\n",
       "      <th>city</th>\n",
       "      <th>country</th>\n",
       "      <th>personal_coef</th>\n",
       "      <th>cost</th>\n",
       "      <th>product_sex</th>\n",
       "      <th>base_sale</th>\n",
       "      <th>dt</th>\n",
       "      <th>education_высшее</th>\n",
       "      <th>education_среднее</th>\n",
       "    </tr>\n",
       "  </thead>\n",
       "  <tbody>\n",
       "    <tr>\n",
       "      <th>0</th>\n",
       "      <td>0</td>\n",
       "      <td>36</td>\n",
       "      <td>1201</td>\n",
       "      <td>32</td>\n",
       "      <td>0.5072</td>\n",
       "      <td>13599</td>\n",
       "      <td>0.0</td>\n",
       "      <td>1</td>\n",
       "      <td>7</td>\n",
       "      <td>0.0</td>\n",
       "      <td>1.0</td>\n",
       "    </tr>\n",
       "    <tr>\n",
       "      <th>1</th>\n",
       "      <td>0</td>\n",
       "      <td>36</td>\n",
       "      <td>1201</td>\n",
       "      <td>32</td>\n",
       "      <td>0.5072</td>\n",
       "      <td>1499</td>\n",
       "      <td>2.0</td>\n",
       "      <td>0</td>\n",
       "      <td>37</td>\n",
       "      <td>0.0</td>\n",
       "      <td>1.0</td>\n",
       "    </tr>\n",
       "    <tr>\n",
       "      <th>2</th>\n",
       "      <td>0</td>\n",
       "      <td>36</td>\n",
       "      <td>1201</td>\n",
       "      <td>32</td>\n",
       "      <td>0.5072</td>\n",
       "      <td>4799</td>\n",
       "      <td>2.0</td>\n",
       "      <td>0</td>\n",
       "      <td>37</td>\n",
       "      <td>0.0</td>\n",
       "      <td>1.0</td>\n",
       "    </tr>\n",
       "    <tr>\n",
       "      <th>3</th>\n",
       "      <td>0</td>\n",
       "      <td>35</td>\n",
       "      <td>1134</td>\n",
       "      <td>32</td>\n",
       "      <td>0.5072</td>\n",
       "      <td>9199</td>\n",
       "      <td>2.0</td>\n",
       "      <td>0</td>\n",
       "      <td>0</td>\n",
       "      <td>0.0</td>\n",
       "      <td>1.0</td>\n",
       "    </tr>\n",
       "    <tr>\n",
       "      <th>4</th>\n",
       "      <td>0</td>\n",
       "      <td>35</td>\n",
       "      <td>1134</td>\n",
       "      <td>32</td>\n",
       "      <td>0.5072</td>\n",
       "      <td>4999</td>\n",
       "      <td>2.0</td>\n",
       "      <td>0</td>\n",
       "      <td>0</td>\n",
       "      <td>0.0</td>\n",
       "      <td>1.0</td>\n",
       "    </tr>\n",
       "  </tbody>\n",
       "</table>\n",
       "</div>"
      ],
      "text/plain": [
       "  gender  age  city country  personal_coef   cost product_sex base_sale  dt  \\\n",
       "0      0   36  1201      32         0.5072  13599         0.0         1   7   \n",
       "1      0   36  1201      32         0.5072   1499         2.0         0  37   \n",
       "2      0   36  1201      32         0.5072   4799         2.0         0  37   \n",
       "3      0   35  1134      32         0.5072   9199         2.0         0   0   \n",
       "4      0   35  1134      32         0.5072   4999         2.0         0   0   \n",
       "\n",
       "   education_высшее  education_среднее  \n",
       "0               0.0                1.0  \n",
       "1               0.0                1.0  \n",
       "2               0.0                1.0  \n",
       "3               0.0                1.0  \n",
       "4               0.0                1.0  "
      ]
     },
     "execution_count": 254,
     "metadata": {},
     "output_type": "execute_result"
    }
   ],
   "source": [
    "# Объединение закодированных колонок с основным датафреймом\n",
    "enc_data_for_analysis = pd.concat([data_for_analysis_clean.drop(columns=['education', 'id', 'colour_1']), encoded_df], axis=1)\n",
    "enc_data_for_analysis.head()"
   ]
  },
  {
   "cell_type": "code",
   "execution_count": 255,
   "id": "fddfa29f",
   "metadata": {},
   "outputs": [
    {
     "data": {
      "text/plain": [
       "(668311, 11)"
      ]
     },
     "execution_count": 255,
     "metadata": {},
     "output_type": "execute_result"
    }
   ],
   "source": [
    "enc_data_for_analysis.shape"
   ]
  },
  {
   "cell_type": "code",
   "execution_count": 256,
   "id": "f09fc182",
   "metadata": {},
   "outputs": [],
   "source": [
    "# Вычисление корреляции\n",
    "correlation_matrix = enc_data_for_analysis.corr()"
   ]
  },
  {
   "cell_type": "code",
   "execution_count": 257,
   "id": "6ee431c3",
   "metadata": {},
   "outputs": [
    {
     "data": {
      "image/png": "[encoded data removed]",
      "text/plain": [
       "<Figure size 1000x800 with 2 Axes>"
      ]
     },
     "metadata": {},
     "output_type": "display_data"
    }
   ],
   "source": [
    "import matplotlib.pyplot as plt\n",
    "import seaborn as sns\n",
    "# Визуализация корреляционной матрицы с помощью Seaborn\n",
    "plt.figure(figsize=(10, 8))\n",
    "sns.heatmap(correlation_matrix, annot=True, cmap='coolwarm', fmt=\".2f\", center=0, square=True, linewidths=.5)\n",
    "plt.title('Корреляционная матрица')\n",
    "plt.show()"
   ]
  },
  {
   "cell_type": "code",
   "execution_count": null,
   "id": "3fc1f69a",
   "metadata": {},
   "outputs": [],
   "source": []
  },
  {
   "cell_type": "code",
   "execution_count": 259,
   "id": "c6047d20",
   "metadata": {},
   "outputs": [],
   "source": [
    "# Соединим закодированные данные с числовыми признаками\n",
    "X = enc_data_for_analysis.drop(columns=['gender'], axis=1)\n",
    "y = enc_data_for_analysis['gender'].dropna()"
   ]
  },
  {
   "cell_type": "code",
   "execution_count": 260,
   "id": "bff1c034",
   "metadata": {
    "scrolled": true
   },
   "outputs": [
    {
     "name": "stdout",
     "output_type": "stream",
     "text": [
      "Размер X: (668311, 10)\n",
      "Размер y: (668311,)\n"
     ]
    }
   ],
   "source": [
    "print(f\"Размер X: {X.shape}\")\n",
    "print(f\"Размер y: {y.shape}\")"
   ]
  },
  {
   "cell_type": "code",
   "execution_count": 261,
   "id": "4b7f9f9a",
   "metadata": {},
   "outputs": [],
   "source": [
    "# Разделение данных\n",
    "X_train, X_test, y_train, y_test = train_test_split(X, y, test_size=0.3, random_state=42)"
   ]
  },
  {
   "cell_type": "code",
   "execution_count": 262,
   "id": "0f640acb",
   "metadata": {},
   "outputs": [
    {
     "data": {
      "text/html": [
       "<style>#sk-container-id-4 {color: black;}#sk-container-id-4 pre{padding: 0;}#sk-container-id-4 div.sk-toggleable {background-color: white;}#sk-container-id-4 label.sk-toggleable__label {cursor: pointer;display: block;width: 100%;margin-bottom: 0;padding: 0.3em;box-sizing: border-box;text-align: center;}#sk-container-id-4 label.sk-toggleable__label-arrow:before {content: \"▸\";float: left;margin-right: 0.25em;color: #696969;}#sk-container-id-4 label.sk-toggleable__label-arrow:hover:before {color: black;}#sk-container-id-4 div.sk-estimator:hover label.sk-toggleable__label-arrow:before {color: black;}#sk-container-id-4 div.sk-toggleable__content {max-height: 0;max-width: 0;overflow: hidden;text-align: left;background-color: #f0f8ff;}#sk-container-id-4 div.sk-toggleable__content pre {margin: 0.2em;color: black;border-radius: 0.25em;background-color: #f0f8ff;}#sk-container-id-4 input.sk-toggleable__control:checked~div.sk-toggleable__content {max-height: 200px;max-width: 100%;overflow: auto;}#sk-container-id-4 input.sk-toggleable__control:checked~label.sk-toggleable__label-arrow:before {content: \"▾\";}#sk-container-id-4 div.sk-estimator input.sk-toggleable__control:checked~label.sk-toggleable__label {background-color: #d4ebff;}#sk-container-id-4 div.sk-label input.sk-toggleable__control:checked~label.sk-toggleable__label {background-color: #d4ebff;}#sk-container-id-4 input.sk-hidden--visually {border: 0;clip: rect(1px 1px 1px 1px);clip: rect(1px, 1px, 1px, 1px);height: 1px;margin: -1px;overflow: hidden;padding: 0;position: absolute;width: 1px;}#sk-container-id-4 div.sk-estimator {font-family: monospace;background-color: #f0f8ff;border: 1px dotted black;border-radius: 0.25em;box-sizing: border-box;margin-bottom: 0.5em;}#sk-container-id-4 div.sk-estimator:hover {background-color: #d4ebff;}#sk-container-id-4 div.sk-parallel-item::after {content: \"\";width: 100%;border-bottom: 1px solid gray;flex-grow: 1;}#sk-container-id-4 div.sk-label:hover label.sk-toggleable__label {background-color: #d4ebff;}#sk-container-id-4 div.sk-serial::before {content: \"\";position: absolute;border-left: 1px solid gray;box-sizing: border-box;top: 0;bottom: 0;left: 50%;z-index: 0;}#sk-container-id-4 div.sk-serial {display: flex;flex-direction: column;align-items: center;background-color: white;padding-right: 0.2em;padding-left: 0.2em;position: relative;}#sk-container-id-4 div.sk-item {position: relative;z-index: 1;}#sk-container-id-4 div.sk-parallel {display: flex;align-items: stretch;justify-content: center;background-color: white;position: relative;}#sk-container-id-4 div.sk-item::before, #sk-container-id-4 div.sk-parallel-item::before {content: \"\";position: absolute;border-left: 1px solid gray;box-sizing: border-box;top: 0;bottom: 0;left: 50%;z-index: -1;}#sk-container-id-4 div.sk-parallel-item {display: flex;flex-direction: column;z-index: 1;position: relative;background-color: white;}#sk-container-id-4 div.sk-parallel-item:first-child::after {align-self: flex-end;width: 50%;}#sk-container-id-4 div.sk-parallel-item:last-child::after {align-self: flex-start;width: 50%;}#sk-container-id-4 div.sk-parallel-item:only-child::after {width: 0;}#sk-container-id-4 div.sk-dashed-wrapped {border: 1px dashed gray;margin: 0 0.4em 0.5em 0.4em;box-sizing: border-box;padding-bottom: 0.4em;background-color: white;}#sk-container-id-4 div.sk-label label {font-family: monospace;font-weight: bold;display: inline-block;line-height: 1.2em;}#sk-container-id-4 div.sk-label-container {text-align: center;}#sk-container-id-4 div.sk-container {/* jupyter's `normalize.less` sets `[hidden] { display: none; }` but bootstrap.min.css set `[hidden] { display: none !important; }` so we also need the `!important` here to be able to override the default hidden behavior on the sphinx rendered scikit-learn.org. See: https://github.com/scikit-learn/scikit-learn/issues/21755 */display: inline-block !important;position: relative;}#sk-container-id-4 div.sk-text-repr-fallback {display: none;}</style><div id=\"sk-container-id-4\" class=\"sk-top-container\"><div class=\"sk-text-repr-fallback\"><pre>RandomForestClassifier(random_state=42)</pre><b>In a Jupyter environment, please rerun this cell to show the HTML representation or trust the notebook. <br />On GitHub, the HTML representation is unable to render, please try loading this page with nbviewer.org.</b></div><div class=\"sk-container\" hidden><div class=\"sk-item\"><div class=\"sk-estimator sk-toggleable\"><input class=\"sk-toggleable__control sk-hidden--visually\" id=\"sk-estimator-id-4\" type=\"checkbox\" checked><label for=\"sk-estimator-id-4\" class=\"sk-toggleable__label sk-toggleable__label-arrow\">RandomForestClassifier</label><div class=\"sk-toggleable__content\"><pre>RandomForestClassifier(random_state=42)</pre></div></div></div></div></div>"
      ],
      "text/plain": [
       "RandomForestClassifier(random_state=42)"
      ]
     },
     "execution_count": 262,
     "metadata": {},
     "output_type": "execute_result"
    }
   ],
   "source": [
    "# Обучение модели\n",
    "model = RandomForestClassifier(random_state=42)\n",
    "model.fit(X_train, y_train)"
   ]
  },
  {
   "cell_type": "code",
   "execution_count": 263,
   "id": "224df389",
   "metadata": {},
   "outputs": [],
   "source": [
    "# Предсказание и оценка модели\n",
    "y_pred = model.predict(X_test)"
   ]
  },
  {
   "cell_type": "code",
   "execution_count": 264,
   "id": "10a49be7",
   "metadata": {},
   "outputs": [
    {
     "name": "stdout",
     "output_type": "stream",
     "text": [
      "F-мера: 1.0\n",
      "% верных предсказаний: 1.0\n"
     ]
    }
   ],
   "source": [
    "f1 = f1_score(y_test, y_pred, average='weighted')\n",
    "print(f'F-мера: {f1}')\n",
    "a_s = accuracy_score(y_test, y_pred)\n",
    "print(f'% верных предсказаний: {a_s}')"
   ]
  },
  {
   "cell_type": "code",
   "execution_count": 269,
   "id": "a3b64b0b",
   "metadata": {},
   "outputs": [
    {
     "data": {
      "text/plain": [
       "Index(['age', 'city', 'country', 'personal_coef', 'cost', 'product_sex',\n",
       "       'base_sale', 'dt', 'education_высшее', 'education_среднее'],\n",
       "      dtype='object')"
      ]
     },
     "execution_count": 269,
     "metadata": {},
     "output_type": "execute_result"
    }
   ],
   "source": [
    "X.columns"
   ]
  },
  {
   "cell_type": "code",
   "execution_count": 270,
   "id": "cad9a358",
   "metadata": {},
   "outputs": [
    {
     "data": {
      "text/plain": [
       "Index(['id', 'age', 'education', 'city', 'country', 'personal_coef', 'product',\n",
       "       'colour', 'cost', 'product_sex', 'base_sale', 'dt', 'colour_1',\n",
       "       'colour_2', 'colour_3', 'colour_4', 'colour_5'],\n",
       "      dtype='object')"
      ]
     },
     "execution_count": 270,
     "metadata": {},
     "output_type": "execute_result"
    }
   ],
   "source": [
    "data_without_gender.columns"
   ]
  },
  {
   "cell_type": "code",
   "execution_count": null,
   "id": "2bf7fcfc",
   "metadata": {},
   "outputs": [],
   "source": []
  },
  {
   "cell_type": "code",
   "execution_count": null,
   "id": "067d0b1f",
   "metadata": {},
   "outputs": [],
   "source": []
  },
  {
   "cell_type": "code",
   "execution_count": null,
   "id": "1ee1c082",
   "metadata": {},
   "outputs": [],
   "source": []
  },
  {
   "cell_type": "code",
   "execution_count": null,
   "id": "18680193",
   "metadata": {},
   "outputs": [],
   "source": []
  },
  {
   "cell_type": "code",
   "execution_count": null,
   "id": "a4851eed",
   "metadata": {},
   "outputs": [],
   "source": []
  },
  {
   "cell_type": "code",
   "execution_count": null,
   "id": "5fccf5af",
   "metadata": {},
   "outputs": [],
   "source": []
  },
  {
   "cell_type": "code",
   "execution_count": 191,
   "id": "fca1a1a8",
   "metadata": {},
   "outputs": [],
   "source": []
  },
  {
   "cell_type": "code",
   "execution_count": null,
   "id": "4dda4a60",
   "metadata": {},
   "outputs": [],
   "source": []
  },
  {
   "cell_type": "code",
   "execution_count": null,
   "id": "26a22bc5",
   "metadata": {},
   "outputs": [],
   "source": []
  },
  {
   "cell_type": "code",
   "execution_count": 30,
   "id": "300c8bf3",
   "metadata": {},
   "outputs": [
    {
     "name": "stdout",
     "output_type": "stream",
     "text": [
      "<class 'pandas.core.frame.DataFrame'>\n",
      "RangeIndex: 664665 entries, 0 to 664664\n",
      "Data columns (total 18 columns):\n",
      " #   Column         Non-Null Count   Dtype  \n",
      "---  ------         --------------   -----  \n",
      " 0   id             664665 non-null  int64  \n",
      " 1   gender         664665 non-null  int64  \n",
      " 2   age            664665 non-null  int64  \n",
      " 3   education      664665 non-null  object \n",
      " 4   city           664665 non-null  int64  \n",
      " 5   country        664665 non-null  int64  \n",
      " 6   personal_coef  664665 non-null  float64\n",
      " 7   product        664665 non-null  object \n",
      " 8   colour         664665 non-null  object \n",
      " 9   cost           664665 non-null  int64  \n",
      " 10  product_sex    664665 non-null  float64\n",
      " 11  base_sale      664665 non-null  int64  \n",
      " 12  dt             664665 non-null  int64  \n",
      " 13  colour_1       664665 non-null  object \n",
      " 14  colour_2       664665 non-null  object \n",
      " 15  colour_3       664665 non-null  object \n",
      " 16  colour_4       664665 non-null  object \n",
      " 17  colour_5       664665 non-null  object \n",
      "dtypes: float64(2), int64(8), object(8)\n",
      "memory usage: 91.3+ MB\n"
     ]
    }
   ],
   "source": [
    "data_32  = data[data['country']== 32].reset_index(drop=True)\n",
    "data_32.info()"
   ]
  },
  {
   "cell_type": "code",
   "execution_count": 31,
   "id": "ea85c908",
   "metadata": {
    "scrolled": false
   },
   "outputs": [
    {
     "name": "stdout",
     "output_type": "stream",
     "text": [
      "Показатели качества данных:\n",
      "               Пропуски  Процент ропущенных значений  Уникальные значения  \\\n",
      "id                    0                          0.0                88786   \n",
      "gender                0                          0.0                    2   \n",
      "age                   0                          0.0                   73   \n",
      "education             0                          0.0                    2   \n",
      "city                  0                          0.0                  607   \n",
      "country               0                          0.0                    1   \n",
      "personal_coef         0                          0.0                    8   \n",
      "product               0                          0.0                22310   \n",
      "colour                0                          0.0                 1655   \n",
      "cost                  0                          0.0                 2343   \n",
      "product_sex           0                          0.0                    3   \n",
      "base_sale             0                          0.0                    2   \n",
      "dt                    0                          0.0                   59   \n",
      "colour_1              0                          0.0                  327   \n",
      "colour_2              0                          0.0                  134   \n",
      "colour_3              0                          0.0                   57   \n",
      "colour_4              0                          0.0                   16   \n",
      "colour_5              0                          0.0                    6   \n",
      "\n",
      "               Дубликаты  \n",
      "id                     0  \n",
      "gender                 0  \n",
      "age                    0  \n",
      "education              0  \n",
      "city                   0  \n",
      "country                0  \n",
      "personal_coef          0  \n",
      "product                0  \n",
      "colour                 0  \n",
      "cost                   0  \n",
      "product_sex            0  \n",
      "base_sale              0  \n",
      "dt                     0  \n",
      "colour_1               0  \n",
      "colour_2               0  \n",
      "colour_3               0  \n",
      "colour_4               0  \n",
      "colour_5               0  \n"
     ]
    }
   ],
   "source": [
    "metrics = calculate_quality_metrics(data_32)\n",
    "print(\"Показатели качества данных:\")\n",
    "print(metrics)"
   ]
  },
  {
   "cell_type": "code",
   "execution_count": 32,
   "id": "a29f6e24",
   "metadata": {},
   "outputs": [
    {
     "data": {
      "text/html": [
       "<div>\n",
       "<style scoped>\n",
       "    .dataframe tbody tr th:only-of-type {\n",
       "        vertical-align: middle;\n",
       "    }\n",
       "\n",
       "    .dataframe tbody tr th {\n",
       "        vertical-align: top;\n",
       "    }\n",
       "\n",
       "    .dataframe thead th {\n",
       "        text-align: right;\n",
       "    }\n",
       "</style>\n",
       "<table border=\"1\" class=\"dataframe\">\n",
       "  <thead>\n",
       "    <tr style=\"text-align: right;\">\n",
       "      <th></th>\n",
       "      <th>id</th>\n",
       "      <th>age</th>\n",
       "      <th>education</th>\n",
       "      <th>city</th>\n",
       "      <th>country</th>\n",
       "    </tr>\n",
       "  </thead>\n",
       "  <tbody>\n",
       "    <tr>\n",
       "      <th>0</th>\n",
       "      <td>101492</td>\n",
       "      <td>32</td>\n",
       "      <td>среднее</td>\n",
       "      <td>1188</td>\n",
       "      <td>32</td>\n",
       "    </tr>\n",
       "    <tr>\n",
       "      <th>1</th>\n",
       "      <td>42690</td>\n",
       "      <td>20</td>\n",
       "      <td>высшее</td>\n",
       "      <td>1134</td>\n",
       "      <td>32</td>\n",
       "    </tr>\n",
       "    <tr>\n",
       "      <th>2</th>\n",
       "      <td>113001</td>\n",
       "      <td>27</td>\n",
       "      <td>среднее</td>\n",
       "      <td>1187</td>\n",
       "      <td>32</td>\n",
       "    </tr>\n",
       "    <tr>\n",
       "      <th>3</th>\n",
       "      <td>163654</td>\n",
       "      <td>49</td>\n",
       "      <td>высшее</td>\n",
       "      <td>1160</td>\n",
       "      <td>32</td>\n",
       "    </tr>\n",
       "    <tr>\n",
       "      <th>4</th>\n",
       "      <td>69523</td>\n",
       "      <td>44</td>\n",
       "      <td>среднее</td>\n",
       "      <td>1137</td>\n",
       "      <td>32</td>\n",
       "    </tr>\n",
       "  </tbody>\n",
       "</table>\n",
       "</div>"
      ],
      "text/plain": [
       "       id  age education  city  country\n",
       "0  101492   32   среднее  1188       32\n",
       "1   42690   20    высшее  1134       32\n",
       "2  113001   27   среднее  1187       32\n",
       "3  163654   49    высшее  1160       32\n",
       "4   69523   44   среднее  1137       32"
      ]
     },
     "execution_count": 32,
     "metadata": {},
     "output_type": "execute_result"
    }
   ],
   "source": [
    "personal_data_ext_df.head()"
   ]
  },
  {
   "cell_type": "code",
   "execution_count": 47,
   "id": "5a850bb9",
   "metadata": {},
   "outputs": [
    {
     "data": {
      "text/plain": [
       "array([32, 35,  2, 17,  6, 38, 22, 39, 11, 37,  5, 48, 51,  7,  0, 15],\n",
       "      dtype=int64)"
      ]
     },
     "execution_count": 47,
     "metadata": {},
     "output_type": "execute_result"
    }
   ],
   "source": [
    "personal_data_ext_df.country.unique()"
   ]
  },
  {
   "cell_type": "code",
   "execution_count": null,
   "id": "e6fb180d",
   "metadata": {},
   "outputs": [],
   "source": []
  }
 ],
 "metadata": {
  "kernelspec": {
   "display_name": "Python 3 (ipykernel)",
   "language": "python",
   "name": "python3"
  },
  "language_info": {
   "codemirror_mode": {
    "name": "ipython",
    "version": 3
   },
   "file_extension": ".py",
   "mimetype": "text/x-python",
   "name": "python",
   "nbconvert_exporter": "python",
   "pygments_lexer": "ipython3",
   "version": "3.11.5"
  }
 },
 "nbformat": 4,
 "nbformat_minor": 5
}
