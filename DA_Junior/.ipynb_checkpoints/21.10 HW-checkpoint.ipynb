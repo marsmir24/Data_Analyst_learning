{
 "cells": [
  {
   "cell_type": "code",
   "execution_count": 12,
   "id": "46f5c415",
   "metadata": {},
   "outputs": [],
   "source": [
    "import os\n",
    "import pandas as pd\n",
    "from scipy import stats\n",
    "import matplotlib.pyplot as plt\n",
    "import seaborn as sns"
   ]
  },
  {
   "cell_type": "code",
   "execution_count": 13,
   "id": "ebcec219",
   "metadata": {
    "scrolled": true
   },
   "outputs": [
    {
     "data": {
      "text/html": [
       "<div>\n",
       "<style scoped>\n",
       "    .dataframe tbody tr th:only-of-type {\n",
       "        vertical-align: middle;\n",
       "    }\n",
       "\n",
       "    .dataframe tbody tr th {\n",
       "        vertical-align: top;\n",
       "    }\n",
       "\n",
       "    .dataframe thead th {\n",
       "        text-align: right;\n",
       "    }\n",
       "</style>\n",
       "<table border=\"1\" class=\"dataframe\">\n",
       "  <thead>\n",
       "    <tr style=\"text-align: right;\">\n",
       "      <th></th>\n",
       "      <th>contract_id</th>\n",
       "      <th>contract_num</th>\n",
       "      <th>product_name</th>\n",
       "      <th>client_id</th>\n",
       "      <th>contract_status</th>\n",
       "      <th>currency_name</th>\n",
       "      <th>duration</th>\n",
       "      <th>country</th>\n",
       "      <th>price</th>\n",
       "      <th>insurance_amount</th>\n",
       "    </tr>\n",
       "  </thead>\n",
       "  <tbody>\n",
       "    <tr>\n",
       "      <th>0</th>\n",
       "      <td>21111219</td>\n",
       "      <td>ТТЕ7227715*****</td>\n",
       "      <td>Страхование путешественников</td>\n",
       "      <td>10161870404</td>\n",
       "      <td>Действует</td>\n",
       "      <td>Российский рубль</td>\n",
       "      <td>10</td>\n",
       "      <td>Беларусь</td>\n",
       "      <td>1096</td>\n",
       "      <td>2000000</td>\n",
       "    </tr>\n",
       "    <tr>\n",
       "      <th>1</th>\n",
       "      <td>21111381</td>\n",
       "      <td>ТТЕ7227715*****</td>\n",
       "      <td>Страхование путешественников</td>\n",
       "      <td>1017159879</td>\n",
       "      <td>Действует</td>\n",
       "      <td>Российский рубль</td>\n",
       "      <td>7</td>\n",
       "      <td>Индонезия</td>\n",
       "      <td>1918</td>\n",
       "      <td>5000000</td>\n",
       "    </tr>\n",
       "    <tr>\n",
       "      <th>2</th>\n",
       "      <td>21112353</td>\n",
       "      <td>БАДАМСТЕ55*****</td>\n",
       "      <td>Страхование путешественников</td>\n",
       "      <td>10161883357</td>\n",
       "      <td>Действует</td>\n",
       "      <td>Российский рубль</td>\n",
       "      <td>10</td>\n",
       "      <td>Беларусь</td>\n",
       "      <td>1096</td>\n",
       "      <td>2000000</td>\n",
       "    </tr>\n",
       "    <tr>\n",
       "      <th>3</th>\n",
       "      <td>21113224</td>\n",
       "      <td>ТТЕ7227715*****</td>\n",
       "      <td>Страхование путешественников</td>\n",
       "      <td>100766461</td>\n",
       "      <td>Действует</td>\n",
       "      <td>Российский рубль</td>\n",
       "      <td>14</td>\n",
       "      <td>Грузия</td>\n",
       "      <td>1534</td>\n",
       "      <td>2000000</td>\n",
       "    </tr>\n",
       "    <tr>\n",
       "      <th>4</th>\n",
       "      <td>21113292</td>\n",
       "      <td>ТТЕ7227715*****</td>\n",
       "      <td>Страхование путешественников</td>\n",
       "      <td>10171604758</td>\n",
       "      <td>Действует</td>\n",
       "      <td>Российский рубль</td>\n",
       "      <td>7</td>\n",
       "      <td>Аргентина</td>\n",
       "      <td>1918</td>\n",
       "      <td>5000000</td>\n",
       "    </tr>\n",
       "  </tbody>\n",
       "</table>\n",
       "</div>"
      ],
      "text/plain": [
       "   contract_id     contract_num                  product_name    client_id  \\\n",
       "0     21111219  ТТЕ7227715*****  Страхование путешественников  10161870404   \n",
       "1     21111381  ТТЕ7227715*****  Страхование путешественников   1017159879   \n",
       "2     21112353  БАДАМСТЕ55*****  Страхование путешественников  10161883357   \n",
       "3     21113224  ТТЕ7227715*****  Страхование путешественников    100766461   \n",
       "4     21113292  ТТЕ7227715*****  Страхование путешественников  10171604758   \n",
       "\n",
       "  contract_status     currency_name  duration    country  price  \\\n",
       "0       Действует  Российский рубль        10   Беларусь   1096   \n",
       "1       Действует  Российский рубль         7  Индонезия   1918   \n",
       "2       Действует  Российский рубль        10   Беларусь   1096   \n",
       "3       Действует  Российский рубль        14     Грузия   1534   \n",
       "4       Действует  Российский рубль         7  Аргентина   1918   \n",
       "\n",
       "   insurance_amount  \n",
       "0           2000000  \n",
       "1           5000000  \n",
       "2           2000000  \n",
       "3           2000000  \n",
       "4           5000000  "
      ]
     },
     "execution_count": 13,
     "metadata": {},
     "output_type": "execute_result"
    }
   ],
   "source": [
    "# Загрузка данных\n",
    "contracts_df = pd.read_excel(r'D:\\DO_NOT_REMOVE\\Data_Analyst_Junior\\21\\CASE_CONTRACTS.xlsx')\n",
    "contracts_df.head()"
   ]
  },
  {
   "cell_type": "code",
   "execution_count": 14,
   "id": "304d3e95",
   "metadata": {},
   "outputs": [
    {
     "data": {
      "text/plain": [
       "(3711, 10)"
      ]
     },
     "execution_count": 14,
     "metadata": {},
     "output_type": "execute_result"
    }
   ],
   "source": [
    "contracts_df.shape"
   ]
  },
  {
   "cell_type": "code",
   "execution_count": 16,
   "id": "4ae56d4a",
   "metadata": {},
   "outputs": [
    {
     "data": {
      "text/plain": [
       "(3315, 10)"
      ]
     },
     "execution_count": 16,
     "metadata": {},
     "output_type": "execute_result"
    }
   ],
   "source": [
    "# Отбор только действующих полисах из contracts_df\n",
    "active_contracts_df = contracts_df[contracts_df['contract_status']=='Действует']\n",
    "active_contracts_df.shape"
   ]
  },
  {
   "cell_type": "code",
   "execution_count": 17,
   "id": "379ad9c4",
   "metadata": {
    "scrolled": true
   },
   "outputs": [
    {
     "data": {
      "text/html": [
       "<div>\n",
       "<style scoped>\n",
       "    .dataframe tbody tr th:only-of-type {\n",
       "        vertical-align: middle;\n",
       "    }\n",
       "\n",
       "    .dataframe tbody tr th {\n",
       "        vertical-align: top;\n",
       "    }\n",
       "\n",
       "    .dataframe thead th {\n",
       "        text-align: right;\n",
       "    }\n",
       "</style>\n",
       "<table border=\"1\" class=\"dataframe\">\n",
       "  <thead>\n",
       "    <tr style=\"text-align: right;\">\n",
       "      <th></th>\n",
       "      <th>client_id</th>\n",
       "      <th>last_name</th>\n",
       "      <th>first_name</th>\n",
       "      <th>middle_name</th>\n",
       "      <th>age</th>\n",
       "      <th>sex</th>\n",
       "    </tr>\n",
       "  </thead>\n",
       "  <tbody>\n",
       "    <tr>\n",
       "      <th>0</th>\n",
       "      <td>10000041307</td>\n",
       "      <td>З*****</td>\n",
       "      <td>Р*****</td>\n",
       "      <td>О*****</td>\n",
       "      <td>30</td>\n",
       "      <td>F</td>\n",
       "    </tr>\n",
       "    <tr>\n",
       "      <th>1</th>\n",
       "      <td>10000133158</td>\n",
       "      <td>И*****</td>\n",
       "      <td>М*****</td>\n",
       "      <td>Ю*****</td>\n",
       "      <td>37</td>\n",
       "      <td>M</td>\n",
       "    </tr>\n",
       "    <tr>\n",
       "      <th>2</th>\n",
       "      <td>100003773</td>\n",
       "      <td>Е*****</td>\n",
       "      <td>О*****</td>\n",
       "      <td>С*****</td>\n",
       "      <td>50</td>\n",
       "      <td>M</td>\n",
       "    </tr>\n",
       "    <tr>\n",
       "      <th>3</th>\n",
       "      <td>10000535718</td>\n",
       "      <td>Е*****</td>\n",
       "      <td>Ф*****</td>\n",
       "      <td>Ч*****</td>\n",
       "      <td>45</td>\n",
       "      <td>M</td>\n",
       "    </tr>\n",
       "    <tr>\n",
       "      <th>4</th>\n",
       "      <td>10000583119</td>\n",
       "      <td>И*****</td>\n",
       "      <td>Ф*****</td>\n",
       "      <td>Ф*****</td>\n",
       "      <td>28</td>\n",
       "      <td>M</td>\n",
       "    </tr>\n",
       "  </tbody>\n",
       "</table>\n",
       "</div>"
      ],
      "text/plain": [
       "     client_id last_name first_name middle_name  age sex\n",
       "0  10000041307    З*****     Р*****      О*****   30   F\n",
       "1  10000133158    И*****     М*****      Ю*****   37   M\n",
       "2    100003773    Е*****     О*****      С*****   50   M\n",
       "3  10000535718    Е*****     Ф*****      Ч*****   45   M\n",
       "4  10000583119    И*****     Ф*****      Ф*****   28   M"
      ]
     },
     "execution_count": 17,
     "metadata": {},
     "output_type": "execute_result"
    }
   ],
   "source": [
    "clients_df = pd.read_excel(r'D:\\DO_NOT_REMOVE\\Data_Analyst_Junior\\21\\CASE_CLIENTS.xlsx')\n",
    "clients_df.head()"
   ]
  },
  {
   "cell_type": "code",
   "execution_count": 18,
   "id": "cf22bd7d",
   "metadata": {},
   "outputs": [
    {
     "data": {
      "text/plain": [
       "(3711, 6)"
      ]
     },
     "execution_count": 18,
     "metadata": {},
     "output_type": "execute_result"
    }
   ],
   "source": [
    "clients_df.shape"
   ]
  },
  {
   "cell_type": "code",
   "execution_count": 19,
   "id": "0552968d",
   "metadata": {},
   "outputs": [
    {
     "data": {
      "text/plain": [
       "(3315, 15)"
      ]
     },
     "execution_count": 19,
     "metadata": {},
     "output_type": "execute_result"
    }
   ],
   "source": [
    "# Объединение таблиц active_contracts_df и clients_df\n",
    "active_contracts_with_names_df = active_contracts_df.merge(clients_df, on='client_id', how='left')\n",
    "active_contracts_with_names_df.shape"
   ]
  },
  {
   "cell_type": "code",
   "execution_count": 20,
   "id": "94031164",
   "metadata": {},
   "outputs": [
    {
     "data": {
      "text/html": [
       "<div>\n",
       "<style scoped>\n",
       "    .dataframe tbody tr th:only-of-type {\n",
       "        vertical-align: middle;\n",
       "    }\n",
       "\n",
       "    .dataframe tbody tr th {\n",
       "        vertical-align: top;\n",
       "    }\n",
       "\n",
       "    .dataframe thead th {\n",
       "        text-align: right;\n",
       "    }\n",
       "</style>\n",
       "<table border=\"1\" class=\"dataframe\">\n",
       "  <thead>\n",
       "    <tr style=\"text-align: right;\">\n",
       "      <th></th>\n",
       "      <th>contract_id</th>\n",
       "      <th>contract_num</th>\n",
       "      <th>product_name</th>\n",
       "      <th>client_id</th>\n",
       "      <th>contract_status</th>\n",
       "      <th>currency_name</th>\n",
       "      <th>duration</th>\n",
       "      <th>country</th>\n",
       "      <th>price</th>\n",
       "      <th>insurance_amount</th>\n",
       "      <th>last_name</th>\n",
       "      <th>first_name</th>\n",
       "      <th>middle_name</th>\n",
       "      <th>age</th>\n",
       "      <th>sex</th>\n",
       "    </tr>\n",
       "  </thead>\n",
       "  <tbody>\n",
       "    <tr>\n",
       "      <th>0</th>\n",
       "      <td>21111219</td>\n",
       "      <td>ТТЕ7227715*****</td>\n",
       "      <td>Страхование путешественников</td>\n",
       "      <td>10161870404</td>\n",
       "      <td>Действует</td>\n",
       "      <td>Российский рубль</td>\n",
       "      <td>10</td>\n",
       "      <td>Беларусь</td>\n",
       "      <td>1096</td>\n",
       "      <td>2000000</td>\n",
       "      <td>А*****</td>\n",
       "      <td>Х*****</td>\n",
       "      <td>А*****</td>\n",
       "      <td>20</td>\n",
       "      <td>M</td>\n",
       "    </tr>\n",
       "    <tr>\n",
       "      <th>1</th>\n",
       "      <td>21111381</td>\n",
       "      <td>ТТЕ7227715*****</td>\n",
       "      <td>Страхование путешественников</td>\n",
       "      <td>1017159879</td>\n",
       "      <td>Действует</td>\n",
       "      <td>Российский рубль</td>\n",
       "      <td>7</td>\n",
       "      <td>Индонезия</td>\n",
       "      <td>1918</td>\n",
       "      <td>5000000</td>\n",
       "      <td>З*****</td>\n",
       "      <td>Х*****</td>\n",
       "      <td>М*****</td>\n",
       "      <td>55</td>\n",
       "      <td>M</td>\n",
       "    </tr>\n",
       "    <tr>\n",
       "      <th>2</th>\n",
       "      <td>21112353</td>\n",
       "      <td>БАДАМСТЕ55*****</td>\n",
       "      <td>Страхование путешественников</td>\n",
       "      <td>10161883357</td>\n",
       "      <td>Действует</td>\n",
       "      <td>Российский рубль</td>\n",
       "      <td>10</td>\n",
       "      <td>Беларусь</td>\n",
       "      <td>1096</td>\n",
       "      <td>2000000</td>\n",
       "      <td>Б*****</td>\n",
       "      <td>В*****</td>\n",
       "      <td>Щ*****</td>\n",
       "      <td>61</td>\n",
       "      <td>F</td>\n",
       "    </tr>\n",
       "    <tr>\n",
       "      <th>3</th>\n",
       "      <td>21113224</td>\n",
       "      <td>ТТЕ7227715*****</td>\n",
       "      <td>Страхование путешественников</td>\n",
       "      <td>100766461</td>\n",
       "      <td>Действует</td>\n",
       "      <td>Российский рубль</td>\n",
       "      <td>14</td>\n",
       "      <td>Грузия</td>\n",
       "      <td>1534</td>\n",
       "      <td>2000000</td>\n",
       "      <td>И*****</td>\n",
       "      <td>У*****</td>\n",
       "      <td>Н*****</td>\n",
       "      <td>25</td>\n",
       "      <td>M</td>\n",
       "    </tr>\n",
       "    <tr>\n",
       "      <th>4</th>\n",
       "      <td>21113292</td>\n",
       "      <td>ТТЕ7227715*****</td>\n",
       "      <td>Страхование путешественников</td>\n",
       "      <td>10171604758</td>\n",
       "      <td>Действует</td>\n",
       "      <td>Российский рубль</td>\n",
       "      <td>7</td>\n",
       "      <td>Аргентина</td>\n",
       "      <td>1918</td>\n",
       "      <td>5000000</td>\n",
       "      <td>З*****</td>\n",
       "      <td>Ч*****</td>\n",
       "      <td>Г*****</td>\n",
       "      <td>33</td>\n",
       "      <td>M</td>\n",
       "    </tr>\n",
       "  </tbody>\n",
       "</table>\n",
       "</div>"
      ],
      "text/plain": [
       "   contract_id     contract_num                  product_name    client_id  \\\n",
       "0     21111219  ТТЕ7227715*****  Страхование путешественников  10161870404   \n",
       "1     21111381  ТТЕ7227715*****  Страхование путешественников   1017159879   \n",
       "2     21112353  БАДАМСТЕ55*****  Страхование путешественников  10161883357   \n",
       "3     21113224  ТТЕ7227715*****  Страхование путешественников    100766461   \n",
       "4     21113292  ТТЕ7227715*****  Страхование путешественников  10171604758   \n",
       "\n",
       "  contract_status     currency_name  duration    country  price  \\\n",
       "0       Действует  Российский рубль        10   Беларусь   1096   \n",
       "1       Действует  Российский рубль         7  Индонезия   1918   \n",
       "2       Действует  Российский рубль        10   Беларусь   1096   \n",
       "3       Действует  Российский рубль        14     Грузия   1534   \n",
       "4       Действует  Российский рубль         7  Аргентина   1918   \n",
       "\n",
       "   insurance_amount last_name first_name middle_name  age sex  \n",
       "0           2000000    А*****     Х*****      А*****   20   M  \n",
       "1           5000000    З*****     Х*****      М*****   55   M  \n",
       "2           2000000    Б*****     В*****      Щ*****   61   F  \n",
       "3           2000000    И*****     У*****      Н*****   25   M  \n",
       "4           5000000    З*****     Ч*****      Г*****   33   M  "
      ]
     },
     "execution_count": 20,
     "metadata": {},
     "output_type": "execute_result"
    }
   ],
   "source": [
    "active_contracts_with_names_df.head()"
   ]
  },
  {
   "cell_type": "code",
   "execution_count": 21,
   "id": "c629fd81",
   "metadata": {
    "scrolled": true
   },
   "outputs": [
    {
     "data": {
      "text/html": [
       "<div>\n",
       "<style scoped>\n",
       "    .dataframe tbody tr th:only-of-type {\n",
       "        vertical-align: middle;\n",
       "    }\n",
       "\n",
       "    .dataframe tbody tr th {\n",
       "        vertical-align: top;\n",
       "    }\n",
       "\n",
       "    .dataframe thead th {\n",
       "        text-align: right;\n",
       "    }\n",
       "</style>\n",
       "<table border=\"1\" class=\"dataframe\">\n",
       "  <thead>\n",
       "    <tr style=\"text-align: right;\">\n",
       "      <th></th>\n",
       "      <th>client_id</th>\n",
       "      <th>loss_name</th>\n",
       "      <th>loss_payout_amt</th>\n",
       "    </tr>\n",
       "    <tr>\n",
       "      <th>loss_id</th>\n",
       "      <th></th>\n",
       "      <th></th>\n",
       "      <th></th>\n",
       "    </tr>\n",
       "  </thead>\n",
       "  <tbody>\n",
       "    <tr>\n",
       "      <th>1</th>\n",
       "      <td>10000713193</td>\n",
       "      <td>Оказание медицинской помощи</td>\n",
       "      <td>100000</td>\n",
       "    </tr>\n",
       "    <tr>\n",
       "      <th>2</th>\n",
       "      <td>100014656</td>\n",
       "      <td>Оказание медицинской помощи</td>\n",
       "      <td>50000</td>\n",
       "    </tr>\n",
       "    <tr>\n",
       "      <th>3</th>\n",
       "      <td>10006545463</td>\n",
       "      <td>Оказание медицинской помощи</td>\n",
       "      <td>30000</td>\n",
       "    </tr>\n",
       "    <tr>\n",
       "      <th>4</th>\n",
       "      <td>10006611194</td>\n",
       "      <td>Оказание медицинской помощи</td>\n",
       "      <td>70000</td>\n",
       "    </tr>\n",
       "    <tr>\n",
       "      <th>5</th>\n",
       "      <td>1001091597</td>\n",
       "      <td>Оказание медицинской помощи</td>\n",
       "      <td>60000</td>\n",
       "    </tr>\n",
       "  </tbody>\n",
       "</table>\n",
       "</div>"
      ],
      "text/plain": [
       "           client_id                    loss_name  loss_payout_amt\n",
       "loss_id                                                           \n",
       "1        10000713193  Оказание медицинской помощи           100000\n",
       "2          100014656  Оказание медицинской помощи            50000\n",
       "3        10006545463  Оказание медицинской помощи            30000\n",
       "4        10006611194  Оказание медицинской помощи            70000\n",
       "5         1001091597  Оказание медицинской помощи            60000"
      ]
     },
     "execution_count": 21,
     "metadata": {},
     "output_type": "execute_result"
    }
   ],
   "source": [
    "losses_df = pd.read_excel(r'D:\\DO_NOT_REMOVE\\Data_Analyst_Junior\\21\\CASE_LOSSES.xlsx',index_col=0)\n",
    "losses_df.head()"
   ]
  },
  {
   "cell_type": "code",
   "execution_count": 22,
   "id": "85d7f065",
   "metadata": {},
   "outputs": [
    {
     "data": {
      "text/plain": [
       "(45, 3)"
      ]
     },
     "execution_count": 22,
     "metadata": {},
     "output_type": "execute_result"
    }
   ],
   "source": [
    "losses_df.shape"
   ]
  },
  {
   "cell_type": "code",
   "execution_count": 23,
   "id": "b92fd54c",
   "metadata": {},
   "outputs": [
    {
     "data": {
      "text/plain": [
       "(3315, 17)"
      ]
     },
     "execution_count": 23,
     "metadata": {},
     "output_type": "execute_result"
    }
   ],
   "source": [
    "# Объединение таблиц active_contracts_with_names_df и losses_df\n",
    "active_contracts_with_names_and_loses_df = active_contracts_with_names_df.merge(losses_df, on='client_id', how='left')\n",
    "active_contracts_with_names_and_loses_df.shape"
   ]
  },
  {
   "cell_type": "code",
   "execution_count": 24,
   "id": "f6f9e62c",
   "metadata": {},
   "outputs": [
    {
     "data": {
      "text/html": [
       "<div>\n",
       "<style scoped>\n",
       "    .dataframe tbody tr th:only-of-type {\n",
       "        vertical-align: middle;\n",
       "    }\n",
       "\n",
       "    .dataframe tbody tr th {\n",
       "        vertical-align: top;\n",
       "    }\n",
       "\n",
       "    .dataframe thead th {\n",
       "        text-align: right;\n",
       "    }\n",
       "</style>\n",
       "<table border=\"1\" class=\"dataframe\">\n",
       "  <thead>\n",
       "    <tr style=\"text-align: right;\">\n",
       "      <th></th>\n",
       "      <th>contract_id</th>\n",
       "      <th>contract_num</th>\n",
       "      <th>product_name</th>\n",
       "      <th>client_id</th>\n",
       "      <th>contract_status</th>\n",
       "      <th>currency_name</th>\n",
       "      <th>duration</th>\n",
       "      <th>country</th>\n",
       "      <th>price</th>\n",
       "      <th>insurance_amount</th>\n",
       "      <th>last_name</th>\n",
       "      <th>first_name</th>\n",
       "      <th>middle_name</th>\n",
       "      <th>age</th>\n",
       "      <th>sex</th>\n",
       "      <th>loss_name</th>\n",
       "      <th>loss_payout_amt</th>\n",
       "    </tr>\n",
       "  </thead>\n",
       "  <tbody>\n",
       "    <tr>\n",
       "      <th>0</th>\n",
       "      <td>21111219</td>\n",
       "      <td>ТТЕ7227715*****</td>\n",
       "      <td>Страхование путешественников</td>\n",
       "      <td>10161870404</td>\n",
       "      <td>Действует</td>\n",
       "      <td>Российский рубль</td>\n",
       "      <td>10</td>\n",
       "      <td>Беларусь</td>\n",
       "      <td>1096</td>\n",
       "      <td>2000000</td>\n",
       "      <td>А*****</td>\n",
       "      <td>Х*****</td>\n",
       "      <td>А*****</td>\n",
       "      <td>20</td>\n",
       "      <td>M</td>\n",
       "      <td>NaN</td>\n",
       "      <td>NaN</td>\n",
       "    </tr>\n",
       "    <tr>\n",
       "      <th>1</th>\n",
       "      <td>21111381</td>\n",
       "      <td>ТТЕ7227715*****</td>\n",
       "      <td>Страхование путешественников</td>\n",
       "      <td>1017159879</td>\n",
       "      <td>Действует</td>\n",
       "      <td>Российский рубль</td>\n",
       "      <td>7</td>\n",
       "      <td>Индонезия</td>\n",
       "      <td>1918</td>\n",
       "      <td>5000000</td>\n",
       "      <td>З*****</td>\n",
       "      <td>Х*****</td>\n",
       "      <td>М*****</td>\n",
       "      <td>55</td>\n",
       "      <td>M</td>\n",
       "      <td>NaN</td>\n",
       "      <td>NaN</td>\n",
       "    </tr>\n",
       "    <tr>\n",
       "      <th>2</th>\n",
       "      <td>21112353</td>\n",
       "      <td>БАДАМСТЕ55*****</td>\n",
       "      <td>Страхование путешественников</td>\n",
       "      <td>10161883357</td>\n",
       "      <td>Действует</td>\n",
       "      <td>Российский рубль</td>\n",
       "      <td>10</td>\n",
       "      <td>Беларусь</td>\n",
       "      <td>1096</td>\n",
       "      <td>2000000</td>\n",
       "      <td>Б*****</td>\n",
       "      <td>В*****</td>\n",
       "      <td>Щ*****</td>\n",
       "      <td>61</td>\n",
       "      <td>F</td>\n",
       "      <td>NaN</td>\n",
       "      <td>NaN</td>\n",
       "    </tr>\n",
       "    <tr>\n",
       "      <th>3</th>\n",
       "      <td>21113224</td>\n",
       "      <td>ТТЕ7227715*****</td>\n",
       "      <td>Страхование путешественников</td>\n",
       "      <td>100766461</td>\n",
       "      <td>Действует</td>\n",
       "      <td>Российский рубль</td>\n",
       "      <td>14</td>\n",
       "      <td>Грузия</td>\n",
       "      <td>1534</td>\n",
       "      <td>2000000</td>\n",
       "      <td>И*****</td>\n",
       "      <td>У*****</td>\n",
       "      <td>Н*****</td>\n",
       "      <td>25</td>\n",
       "      <td>M</td>\n",
       "      <td>NaN</td>\n",
       "      <td>NaN</td>\n",
       "    </tr>\n",
       "    <tr>\n",
       "      <th>4</th>\n",
       "      <td>21113292</td>\n",
       "      <td>ТТЕ7227715*****</td>\n",
       "      <td>Страхование путешественников</td>\n",
       "      <td>10171604758</td>\n",
       "      <td>Действует</td>\n",
       "      <td>Российский рубль</td>\n",
       "      <td>7</td>\n",
       "      <td>Аргентина</td>\n",
       "      <td>1918</td>\n",
       "      <td>5000000</td>\n",
       "      <td>З*****</td>\n",
       "      <td>Ч*****</td>\n",
       "      <td>Г*****</td>\n",
       "      <td>33</td>\n",
       "      <td>M</td>\n",
       "      <td>NaN</td>\n",
       "      <td>NaN</td>\n",
       "    </tr>\n",
       "  </tbody>\n",
       "</table>\n",
       "</div>"
      ],
      "text/plain": [
       "   contract_id     contract_num                  product_name    client_id  \\\n",
       "0     21111219  ТТЕ7227715*****  Страхование путешественников  10161870404   \n",
       "1     21111381  ТТЕ7227715*****  Страхование путешественников   1017159879   \n",
       "2     21112353  БАДАМСТЕ55*****  Страхование путешественников  10161883357   \n",
       "3     21113224  ТТЕ7227715*****  Страхование путешественников    100766461   \n",
       "4     21113292  ТТЕ7227715*****  Страхование путешественников  10171604758   \n",
       "\n",
       "  contract_status     currency_name  duration    country  price  \\\n",
       "0       Действует  Российский рубль        10   Беларусь   1096   \n",
       "1       Действует  Российский рубль         7  Индонезия   1918   \n",
       "2       Действует  Российский рубль        10   Беларусь   1096   \n",
       "3       Действует  Российский рубль        14     Грузия   1534   \n",
       "4       Действует  Российский рубль         7  Аргентина   1918   \n",
       "\n",
       "   insurance_amount last_name first_name middle_name  age sex loss_name  \\\n",
       "0           2000000    А*****     Х*****      А*****   20   M       NaN   \n",
       "1           5000000    З*****     Х*****      М*****   55   M       NaN   \n",
       "2           2000000    Б*****     В*****      Щ*****   61   F       NaN   \n",
       "3           2000000    И*****     У*****      Н*****   25   M       NaN   \n",
       "4           5000000    З*****     Ч*****      Г*****   33   M       NaN   \n",
       "\n",
       "   loss_payout_amt  \n",
       "0              NaN  \n",
       "1              NaN  \n",
       "2              NaN  \n",
       "3              NaN  \n",
       "4              NaN  "
      ]
     },
     "execution_count": 24,
     "metadata": {},
     "output_type": "execute_result"
    }
   ],
   "source": [
    "active_contracts_with_names_and_loses_df.head()"
   ]
  },
  {
   "cell_type": "code",
   "execution_count": 25,
   "id": "c5edc82b",
   "metadata": {},
   "outputs": [
    {
     "data": {
      "text/plain": [
       "(3315, 17)"
      ]
     },
     "execution_count": 25,
     "metadata": {},
     "output_type": "execute_result"
    }
   ],
   "source": [
    "final_df = active_contracts_with_names_and_loses_df.copy()\n",
    "final_df.shape"
   ]
  },
  {
   "cell_type": "code",
   "execution_count": 26,
   "id": "8ecfc71a",
   "metadata": {},
   "outputs": [],
   "source": [
    "# Рассчитываем базовые показатели качества данных\n",
    "def calculate_quality_metrics(df):\n",
    "    metrics = {}\n",
    "    metrics['Пропуски'] = df.isna().sum()\n",
    "    metrics['Процент ропущенных значений'] = df.isna().mean() * 100\n",
    "    metrics['Уникальные значения'] = df.nunique()\n",
    "    metrics['Дубликаты'] = df.duplicated().sum()\n",
    "    return pd.DataFrame(metrics)"
   ]
  },
  {
   "cell_type": "code",
   "execution_count": 27,
   "id": "1383a3c0",
   "metadata": {},
   "outputs": [
    {
     "name": "stdout",
     "output_type": "stream",
     "text": [
      "Показатели качества данных:\n",
      "                  Пропуски  Процент ропущенных значений  Уникальные значения  \\\n",
      "contract_id              0                     0.000000                 3315   \n",
      "contract_num             0                     0.000000                   75   \n",
      "product_name             0                     0.000000                    2   \n",
      "client_id                0                     0.000000                 3315   \n",
      "contract_status          0                     0.000000                    1   \n",
      "currency_name            0                     0.000000                    2   \n",
      "duration                 0                     0.000000                   23   \n",
      "country                  0                     0.000000                   18   \n",
      "price                    0                     0.000000                   44   \n",
      "insurance_amount         0                     0.000000                    5   \n",
      "last_name                0                     0.000000                   40   \n",
      "first_name              17                     0.512821                   59   \n",
      "middle_name            226                     6.817496                   53   \n",
      "age                      0                     0.000000                   52   \n",
      "sex                      0                     0.000000                    2   \n",
      "loss_name             3270                    98.642534                    1   \n",
      "loss_payout_amt       3270                    98.642534                   19   \n",
      "\n",
      "                  Дубликаты  \n",
      "contract_id               0  \n",
      "contract_num              0  \n",
      "product_name              0  \n",
      "client_id                 0  \n",
      "contract_status           0  \n",
      "currency_name             0  \n",
      "duration                  0  \n",
      "country                   0  \n",
      "price                     0  \n",
      "insurance_amount          0  \n",
      "last_name                 0  \n",
      "first_name                0  \n",
      "middle_name               0  \n",
      "age                       0  \n",
      "sex                       0  \n",
      "loss_name                 0  \n",
      "loss_payout_amt           0  \n"
     ]
    }
   ],
   "source": [
    "metrics = calculate_quality_metrics(final_df)\n",
    "print(\"Показатели качества данных:\")\n",
    "print(metrics)"
   ]
  },
  {
   "cell_type": "code",
   "execution_count": 34,
   "id": "18287970",
   "metadata": {},
   "outputs": [
    {
     "data": {
      "text/plain": [
       "(3315, 15)"
      ]
     },
     "execution_count": 34,
     "metadata": {},
     "output_type": "execute_result"
    }
   ],
   "source": [
    "final_df.drop(['first_name', 'middle_name'], axis=1, inplace=True)\n",
    "final_df.shape"
   ]
  },
  {
   "cell_type": "code",
   "execution_count": 35,
   "id": "ee787464",
   "metadata": {},
   "outputs": [],
   "source": [
    "# Функция для конвертации значений\n",
    "def convert_to_usd(row, column_name, exchange_rate):\n",
    "    return round(row[column_name] * exchange_rate, 2) if row['currency_name'] == 'Российский рубль' else row[column_name]"
   ]
  },
  {
   "cell_type": "code",
   "execution_count": 36,
   "id": "6cd28955",
   "metadata": {},
   "outputs": [],
   "source": [
    "# Применение функции к разным столбцам\n",
    "columns_to_convert = ['price', 'insurance_amount', 'loss_payout_amt']\n",
    "for column in columns_to_convert:\n",
    "    final_df[f'{column}_USD'] = final_df.apply(convert_to_usd, column_name=column, exchange_rate=80, axis=1)"
   ]
  },
  {
   "cell_type": "code",
   "execution_count": 37,
   "id": "0a639519",
   "metadata": {},
   "outputs": [],
   "source": [
    "#Заполняем пропуски в колонках loss_payout_amt,loss_payout_amt_usd  нулями\n",
    "final_df[['loss_payout_amt','loss_payout_amt_USD']] = final_df[['loss_payout_amt','loss_payout_amt_USD']].fillna(0)"
   ]
  },
  {
   "cell_type": "code",
   "execution_count": 38,
   "id": "3763dc9f",
   "metadata": {},
   "outputs": [],
   "source": [
    "#Заполняем пропуски в колонке loss_name\n",
    "final_df['loss_name'] = final_df['loss_name'].fillna(\"Иное\")"
   ]
  },
  {
   "cell_type": "code",
   "execution_count": 39,
   "id": "5ae18e53",
   "metadata": {},
   "outputs": [
    {
     "name": "stdout",
     "output_type": "stream",
     "text": [
      "Показатели качества данных:\n",
      "                      Пропуски  Процент ропущенных значений  \\\n",
      "contract_id                  0                          0.0   \n",
      "contract_num                 0                          0.0   \n",
      "product_name                 0                          0.0   \n",
      "client_id                    0                          0.0   \n",
      "contract_status              0                          0.0   \n",
      "currency_name                0                          0.0   \n",
      "duration                     0                          0.0   \n",
      "country                      0                          0.0   \n",
      "price                        0                          0.0   \n",
      "insurance_amount             0                          0.0   \n",
      "last_name                    0                          0.0   \n",
      "age                          0                          0.0   \n",
      "sex                          0                          0.0   \n",
      "loss_name                    0                          0.0   \n",
      "loss_payout_amt              0                          0.0   \n",
      "price_USD                    0                          0.0   \n",
      "insurance_amount_USD         0                          0.0   \n",
      "loss_payout_amt_USD          0                          0.0   \n",
      "\n",
      "                      Уникальные значения  Дубликаты  \n",
      "contract_id                          3315          0  \n",
      "contract_num                           75          0  \n",
      "product_name                            2          0  \n",
      "client_id                            3315          0  \n",
      "contract_status                         1          0  \n",
      "currency_name                           2          0  \n",
      "duration                               23          0  \n",
      "country                                18          0  \n",
      "price                                  44          0  \n",
      "insurance_amount                        5          0  \n",
      "last_name                              40          0  \n",
      "age                                    52          0  \n",
      "sex                                     2          0  \n",
      "loss_name                               2          0  \n",
      "loss_payout_amt                        20          0  \n",
      "price_USD                              44          0  \n",
      "insurance_amount_USD                    5          0  \n",
      "loss_payout_amt_USD                    22          0  \n"
     ]
    }
   ],
   "source": [
    "metrics = calculate_quality_metrics(final_df)\n",
    "print(\"Показатели качества данных:\")\n",
    "print(metrics)"
   ]
  },
  {
   "cell_type": "code",
   "execution_count": 40,
   "id": "e234bbf7",
   "metadata": {},
   "outputs": [
    {
     "data": {
      "text/html": [
       "<div>\n",
       "<style scoped>\n",
       "    .dataframe tbody tr th:only-of-type {\n",
       "        vertical-align: middle;\n",
       "    }\n",
       "\n",
       "    .dataframe tbody tr th {\n",
       "        vertical-align: top;\n",
       "    }\n",
       "\n",
       "    .dataframe thead th {\n",
       "        text-align: right;\n",
       "    }\n",
       "</style>\n",
       "<table border=\"1\" class=\"dataframe\">\n",
       "  <thead>\n",
       "    <tr style=\"text-align: right;\">\n",
       "      <th></th>\n",
       "      <th>client_id</th>\n",
       "      <th>group</th>\n",
       "      <th>experiment_id</th>\n",
       "    </tr>\n",
       "  </thead>\n",
       "  <tbody>\n",
       "    <tr>\n",
       "      <th>0</th>\n",
       "      <td>10001718</td>\n",
       "      <td>control</td>\n",
       "      <td>policy_pricing</td>\n",
       "    </tr>\n",
       "    <tr>\n",
       "      <th>1</th>\n",
       "      <td>1017180395</td>\n",
       "      <td>control</td>\n",
       "      <td>policy_pricing</td>\n",
       "    </tr>\n",
       "    <tr>\n",
       "      <th>2</th>\n",
       "      <td>1017178047</td>\n",
       "      <td>control</td>\n",
       "      <td>policy_pricing</td>\n",
       "    </tr>\n",
       "    <tr>\n",
       "      <th>3</th>\n",
       "      <td>1017174614</td>\n",
       "      <td>control</td>\n",
       "      <td>policy_pricing</td>\n",
       "    </tr>\n",
       "    <tr>\n",
       "      <th>4</th>\n",
       "      <td>1017174071</td>\n",
       "      <td>control</td>\n",
       "      <td>policy_pricing</td>\n",
       "    </tr>\n",
       "  </tbody>\n",
       "</table>\n",
       "</div>"
      ],
      "text/plain": [
       "    client_id    group   experiment_id\n",
       "0    10001718  control  policy_pricing\n",
       "1  1017180395  control  policy_pricing\n",
       "2  1017178047  control  policy_pricing\n",
       "3  1017174614  control  policy_pricing\n",
       "4  1017174071  control  policy_pricing"
      ]
     },
     "execution_count": 40,
     "metadata": {},
     "output_type": "execute_result"
    }
   ],
   "source": [
    "experiment_group_df = pd.read_excel(r'D:\\DO_NOT_REMOVE\\Data_Analyst_Junior\\21\\experiment_group.xlsx')\n",
    "experiment_group_df.head()"
   ]
  },
  {
   "cell_type": "code",
   "execution_count": 41,
   "id": "e049de59",
   "metadata": {},
   "outputs": [
    {
     "name": "stdout",
     "output_type": "stream",
     "text": [
      "<class 'pandas.core.frame.DataFrame'>\n",
      "RangeIndex: 14842 entries, 0 to 14841\n",
      "Data columns (total 3 columns):\n",
      " #   Column         Non-Null Count  Dtype \n",
      "---  ------         --------------  ----- \n",
      " 0   client_id      14842 non-null  int64 \n",
      " 1   group          12349 non-null  object\n",
      " 2   experiment_id  14842 non-null  object\n",
      "dtypes: int64(1), object(2)\n",
      "memory usage: 348.0+ KB\n"
     ]
    }
   ],
   "source": [
    "experiment_group_df.info()"
   ]
  },
  {
   "cell_type": "code",
   "execution_count": 42,
   "id": "62ebd1b9",
   "metadata": {},
   "outputs": [
    {
     "data": {
      "text/plain": [
       "(3315, 20)"
      ]
     },
     "execution_count": 42,
     "metadata": {},
     "output_type": "execute_result"
    }
   ],
   "source": [
    "# Объединение таблиц final_df и experiment_group_df\n",
    "extended_df = final_df.merge(experiment_group_df, on='client_id', how='left')\n",
    "extended_df.shape"
   ]
  },
  {
   "cell_type": "code",
   "execution_count": 43,
   "id": "8891f919",
   "metadata": {},
   "outputs": [
    {
     "data": {
      "text/plain": [
       "contract_id              0\n",
       "contract_num             0\n",
       "product_name             0\n",
       "client_id                0\n",
       "contract_status          0\n",
       "currency_name            0\n",
       "duration                 0\n",
       "country                  0\n",
       "price                    0\n",
       "insurance_amount         0\n",
       "last_name                0\n",
       "age                      0\n",
       "sex                      0\n",
       "loss_name                0\n",
       "loss_payout_amt          0\n",
       "price_USD                0\n",
       "insurance_amount_USD     0\n",
       "loss_payout_amt_USD      0\n",
       "group                   95\n",
       "experiment_id            0\n",
       "dtype: int64"
      ]
     },
     "execution_count": 43,
     "metadata": {},
     "output_type": "execute_result"
    }
   ],
   "source": [
    "extended_df.isna().sum()"
   ]
  },
  {
   "cell_type": "code",
   "execution_count": 44,
   "id": "20f80ae5",
   "metadata": {},
   "outputs": [
    {
     "data": {
      "text/plain": [
       "array(['test', 'control', nan], dtype=object)"
      ]
     },
     "execution_count": 44,
     "metadata": {},
     "output_type": "execute_result"
    }
   ],
   "source": [
    "extended_df.group.unique()"
   ]
  },
  {
   "cell_type": "code",
   "execution_count": 45,
   "id": "c055c2c8",
   "metadata": {},
   "outputs": [],
   "source": [
    "#Заполняем пропуски в колонке group\n",
    "extended_df['group'] = extended_df['group'].fillna('other')"
   ]
  },
  {
   "cell_type": "code",
   "execution_count": 46,
   "id": "e70f0348",
   "metadata": {},
   "outputs": [],
   "source": [
    "# Сохранить новый DataFrame в файл xlsx\n",
    "extended_df.to_excel(r'D:\\DO_NOT_REMOVE\\Data_Analyst_Junior\\21\\extended_df.xlsx', index=False)"
   ]
  },
  {
   "cell_type": "code",
   "execution_count": 47,
   "id": "9340e779",
   "metadata": {},
   "outputs": [],
   "source": [
    "# Разделим данные на тестовую и контрольную группы\n",
    "test_group = extended_df[extended_df['group'] == 'test']\n",
    "control_group = extended_df[extended_df['group'] == 'control']"
   ]
  },
  {
   "cell_type": "code",
   "execution_count": 48,
   "id": "7c108f59",
   "metadata": {},
   "outputs": [],
   "source": [
    "# Посчитаем средние значения метрик для каждой группы\n",
    "metrics_stat = {\n",
    "    'price_USD': ('Средняя цена (USD)', 'mean'),\n",
    "    'insurance_amount_USD': ('Средняя страховая сумма (USD)', 'mean'),\n",
    "    'loss_payout_amt_USD': ('Средняя выплата по убыткам (USD)', 'mean'),\n",
    "    'contract_id': ('Количество заключенных договоров', 'count')\n",
    "}\n",
    "\n",
    "test_metrics = test_group.agg({k: v[1] for k, v in metrics_stat.items()})\n",
    "control_metrics = control_group.agg({k: v[1] for k, v in metrics_stat.items()})"
   ]
  },
  {
   "cell_type": "code",
   "execution_count": 49,
   "id": "ea4b9f19",
   "metadata": {},
   "outputs": [
    {
     "data": {
      "text/plain": [
       "price_USD               4.442219e+05\n",
       "insurance_amount_USD    2.502878e+08\n",
       "loss_payout_amt_USD     2.027280e+05\n",
       "contract_id             1.338000e+03\n",
       "dtype: float64"
      ]
     },
     "execution_count": 49,
     "metadata": {},
     "output_type": "execute_result"
    }
   ],
   "source": [
    "test_metrics"
   ]
  },
  {
   "cell_type": "code",
   "execution_count": 50,
   "id": "ea3fbb6b",
   "metadata": {},
   "outputs": [
    {
     "data": {
      "text/plain": [
       "price_USD               2.965135e+05\n",
       "insurance_amount_USD    2.936899e+08\n",
       "loss_payout_amt_USD     2.712009e+05\n",
       "contract_id             1.882000e+03\n",
       "dtype: float64"
      ]
     },
     "execution_count": 50,
     "metadata": {},
     "output_type": "execute_result"
    }
   ],
   "source": [
    "control_metrics "
   ]
  },
  {
   "cell_type": "code",
   "execution_count": 57,
   "id": "4ce76cb9",
   "metadata": {},
   "outputs": [],
   "source": [
    "# Инициализация пустого словаря для хранения результатов t-теста\n",
    "t_test_results = {}"
   ]
  },
  {
   "cell_type": "code",
   "execution_count": 60,
   "id": "7525f2be",
   "metadata": {},
   "outputs": [
    {
     "name": "stdout",
     "output_type": "stream",
     "text": [
      "price_USD {'t_stat': 4.767721712139375, 'p_value': 1.987808270862779e-06}\n",
      "insurance_amount_USD {'t_stat': -10.338814698554883, 'p_value': 1.3161391300928746e-24}\n",
      "loss_payout_amt_USD {'t_stat': -0.48593400649598334, 'p_value': 0.6270521764012862}\n"
     ]
    }
   ],
   "source": [
    "# Проведем t-тест для значимых метрик\n",
    "for metric in ['price_USD', 'insurance_amount_USD', 'loss_payout_amt_USD']:\n",
    "    t_stat, p_value = stats.ttest_ind(test_group[metric], control_group[metric], equal_var=False)\n",
    "    t_test_results[metric] = {'t_stat': t_stat, 'p_value': p_value}\n",
    "    print (metric, t_test_results[metric])"
   ]
  },
  {
   "cell_type": "code",
   "execution_count": 61,
   "id": "37d4e683",
   "metadata": {},
   "outputs": [
    {
     "name": "stderr",
     "output_type": "stream",
     "text": [
      "C:\\Users\\felix\\AppData\\Local\\Temp\\ipykernel_21400\\1017986604.py:10: FutureWarning: \n",
      "\n",
      "`shade` is now deprecated in favor of `fill`; setting `fill=True`.\n",
      "This will become an error in seaborn v0.14.0; please update your code.\n",
      "\n",
      "  sns.kdeplot(test_group[metric], ax=axs[row, col], shade=True, color='#1f77b4', label='Test Group')\n",
      "C:\\Users\\felix\\AppData\\Local\\Temp\\ipykernel_21400\\1017986604.py:11: FutureWarning: \n",
      "\n",
      "`shade` is now deprecated in favor of `fill`; setting `fill=True`.\n",
      "This will become an error in seaborn v0.14.0; please update your code.\n",
      "\n",
      "  sns.kdeplot(control_group[metric], ax=axs[row, col], shade=True, color='#ff7f0e', label='Control Group')\n",
      "C:\\Users\\felix\\AppData\\Local\\Temp\\ipykernel_21400\\1017986604.py:10: FutureWarning: \n",
      "\n",
      "`shade` is now deprecated in favor of `fill`; setting `fill=True`.\n",
      "This will become an error in seaborn v0.14.0; please update your code.\n",
      "\n",
      "  sns.kdeplot(test_group[metric], ax=axs[row, col], shade=True, color='#1f77b4', label='Test Group')\n",
      "C:\\Users\\felix\\AppData\\Local\\Temp\\ipykernel_21400\\1017986604.py:11: FutureWarning: \n",
      "\n",
      "`shade` is now deprecated in favor of `fill`; setting `fill=True`.\n",
      "This will become an error in seaborn v0.14.0; please update your code.\n",
      "\n",
      "  sns.kdeplot(control_group[metric], ax=axs[row, col], shade=True, color='#ff7f0e', label='Control Group')\n",
      "C:\\Users\\felix\\AppData\\Local\\Temp\\ipykernel_21400\\1017986604.py:10: FutureWarning: \n",
      "\n",
      "`shade` is now deprecated in favor of `fill`; setting `fill=True`.\n",
      "This will become an error in seaborn v0.14.0; please update your code.\n",
      "\n",
      "  sns.kdeplot(test_group[metric], ax=axs[row, col], shade=True, color='#1f77b4', label='Test Group')\n",
      "C:\\Users\\felix\\AppData\\Local\\Temp\\ipykernel_21400\\1017986604.py:11: FutureWarning: \n",
      "\n",
      "`shade` is now deprecated in favor of `fill`; setting `fill=True`.\n",
      "This will become an error in seaborn v0.14.0; please update your code.\n",
      "\n",
      "  sns.kdeplot(control_group[metric], ax=axs[row, col], shade=True, color='#ff7f0e', label='Control Group')\n"
     ]
    },
    {
     "data": {
      "image/png": "[encoded data removed]",
      "text/plain": [
       "<Figure size 1500x1000 with 4 Axes>"
      ]
     },
     "metadata": {},
     "output_type": "display_data"
    }
   ],
   "source": [
    "# Создание общего холста для 4 подграфиков\n",
    "fig, axs = plt.subplots(2, 2, figsize=(15, 10))\n",
    "\n",
    "# Определение метрик и названий графиков\n",
    "metrics = ['price_USD', 'insurance_amount_USD', 'loss_payout_amt_USD']\n",
    "titles = ['Средняя цена (USD)', 'Средняя страховая сумма (USD)', 'Средняя выплата по убыткам (USD)']\n",
    "\n",
    "for i, (metric, title) in enumerate(zip(metrics, titles)):\n",
    "    row, col = divmod(i + 1, 2)  # Определение позиции графика\n",
    "    sns.kdeplot(test_group[metric], ax=axs[row, col], shade=True, color='#1f77b4', label='Test Group')\n",
    "    sns.kdeplot(control_group[metric], ax=axs[row, col], shade=True, color='#ff7f0e', label='Control Group')\n",
    "    axs[row, col].axvline(test_metrics[metric], color='#1f77b4', linestyle='--', label=f'{title} (Test Group)')\n",
    "    axs[row, col].axvline(control_metrics[metric], color='#ff7f0e', linestyle='--', label=f'{title} (Control Group)')\n",
    "    axs[row, col].set_title(title)\n",
    "    axs[row, col].legend()\n",
    "\n",
    "# График 1: Круговая диаграмма по количеству заключенных договоров (contract_id)\n",
    "contract_counts = [test_metrics['contract_id'], control_metrics['contract_id']]\n",
    "axs[0, 0].pie(contract_counts, labels=['Test Group', 'Control Group'], autopct='%1.1f%%', colors=['#1f77b4', '#ff7f0e'])\n",
    "axs[0, 0].set_title('Количество заключенных договоров')\n",
    "\n",
    "# Подгонка подграфиков и отображение\n",
    "plt.tight_layout()\n",
    "plt.show()"
   ]
  },
  {
   "cell_type": "markdown",
   "id": "d7b59a0b",
   "metadata": {},
   "source": [
    "Результаты анализа метрик между тестовой и контрольной группами:\n",
    "\n",
    "Средняя цена договора (price_USD):\n",
    "\n",
    "    Тестовая группа: $444,221.90\n",
    "Контрольная группа: $296,513.50\n",
    "    T-статистика: 4.77, p-значение: 1.99e-06\n",
    "    Заключение: Разница в цене значима (p < 0.05).\n",
    "\n",
    "Средняя страховая сумма (insurance_amount_USD):\n",
    "\n",
    "    Тестовая группа: $250,287,800\n",
    "Контрольная группа: $293,689,900\n",
    "    T-статистика: -10.34, p-значение: 1.32e-24\n",
    "    Заключение: Разница в страховой сумме значима (p < 0.05).\n",
    "\n",
    "Средняя выплата по убыткам (loss_payout_amt_USD):\n",
    "\n",
    "    Тестовая группа: $202,728\n",
    "Контрольная группа: $271,200.90\n",
    "    T-статистика: -0.49, p-значение: 0.63\n",
    "    Заключение: Разница в выплатах по убыткам незначима (p > 0.05)."
   ]
  },
  {
   "cell_type": "markdown",
   "id": "57745a5e",
   "metadata": {},
   "source": [
    "Рекомендация:\n",
    "\n",
    "    Позитивное влияние: Тестовая группа показала более высокую среднюю цену договора и более низкие выплаты по убыткам. Это может свидетельствовать о более выгодном финансовом результате для бизнеса при сохранении предложенного ценообразования в тестовой группе.\n",
    "\n",
    "    Негативное влияние: При этом наблюдается значительное снижение страховой суммы в тестовой группе, что может привести к недовольству клиентов, если они посчитают страховое покрытие недостаточным.\n",
    "\n",
    "На основе проведенного анализа можно рекомендовать внедрение новой модели ценообразования, однако стоит провести дополнительный анализ на удовлетворенность клиентов и возможное влияние на лояльность. ​"
   ]
  }
 ],
 "metadata": {
  "kernelspec": {
   "display_name": "Python 3 (ipykernel)",
   "language": "python",
   "name": "python3"
  },
  "language_info": {
   "codemirror_mode": {
    "name": "ipython",
    "version": 3
   },
   "file_extension": ".py",
   "mimetype": "text/x-python",
   "name": "python",
   "nbconvert_exporter": "python",
   "pygments_lexer": "ipython3",
   "version": "3.11.5"
  }
 },
 "nbformat": 4,
 "nbformat_minor": 5
}
