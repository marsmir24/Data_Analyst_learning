{
 "cells": [
  {
   "cell_type": "code",
   "execution_count": 1,
   "id": "8370eb3c",
   "metadata": {},
   "outputs": [],
   "source": [
    "import requests\n",
    "import xml.etree.ElementTree as ET\n",
    "import pandas as pd\n",
    "\n",
    "import csv\n",
    "import json"
   ]
  },
  {
   "cell_type": "markdown",
   "id": "542024f6",
   "metadata": {},
   "source": [
    "Руководители хотят получить в едином файле информацию о действующих полисах страхования, обогащённую дополнительными атрибутами:\n",
    "\n",
    "инициалами страхователя (в виде Ф. И. О.);\n",
    "полом;\n",
    "возрастом;\n",
    "суммой выплаты по убытку."
   ]
  },
  {
   "cell_type": "code",
   "execution_count": 13,
   "id": "2ed646d0",
   "metadata": {},
   "outputs": [
    {
     "data": {
      "text/html": [
       "<div>\n",
       "<style scoped>\n",
       "    .dataframe tbody tr th:only-of-type {\n",
       "        vertical-align: middle;\n",
       "    }\n",
       "\n",
       "    .dataframe tbody tr th {\n",
       "        vertical-align: top;\n",
       "    }\n",
       "\n",
       "    .dataframe thead th {\n",
       "        text-align: right;\n",
       "    }\n",
       "</style>\n",
       "<table border=\"1\" class=\"dataframe\">\n",
       "  <thead>\n",
       "    <tr style=\"text-align: right;\">\n",
       "      <th></th>\n",
       "      <th>contract_id</th>\n",
       "      <th>contract_num</th>\n",
       "      <th>product_name</th>\n",
       "      <th>client_id</th>\n",
       "      <th>contract_status</th>\n",
       "      <th>currency_name</th>\n",
       "      <th>duration</th>\n",
       "      <th>country</th>\n",
       "      <th>price</th>\n",
       "      <th>insurance_amount</th>\n",
       "    </tr>\n",
       "  </thead>\n",
       "  <tbody>\n",
       "    <tr>\n",
       "      <th>0</th>\n",
       "      <td>21111219</td>\n",
       "      <td>ТТЕ7227715*****</td>\n",
       "      <td>Страхование путешественников</td>\n",
       "      <td>10161870404</td>\n",
       "      <td>Действует</td>\n",
       "      <td>Российский рубль</td>\n",
       "      <td>10</td>\n",
       "      <td>Беларусь</td>\n",
       "      <td>1096</td>\n",
       "      <td>2000000</td>\n",
       "    </tr>\n",
       "    <tr>\n",
       "      <th>1</th>\n",
       "      <td>21111381</td>\n",
       "      <td>ТТЕ7227715*****</td>\n",
       "      <td>Страхование путешественников</td>\n",
       "      <td>1017159879</td>\n",
       "      <td>Действует</td>\n",
       "      <td>Российский рубль</td>\n",
       "      <td>7</td>\n",
       "      <td>Индонезия</td>\n",
       "      <td>1918</td>\n",
       "      <td>5000000</td>\n",
       "    </tr>\n",
       "    <tr>\n",
       "      <th>2</th>\n",
       "      <td>21112353</td>\n",
       "      <td>БАДАМСТЕ55*****</td>\n",
       "      <td>Страхование путешественников</td>\n",
       "      <td>10161883357</td>\n",
       "      <td>Действует</td>\n",
       "      <td>Российский рубль</td>\n",
       "      <td>10</td>\n",
       "      <td>Беларусь</td>\n",
       "      <td>1096</td>\n",
       "      <td>2000000</td>\n",
       "    </tr>\n",
       "    <tr>\n",
       "      <th>3</th>\n",
       "      <td>21113224</td>\n",
       "      <td>ТТЕ7227715*****</td>\n",
       "      <td>Страхование путешественников</td>\n",
       "      <td>100766461</td>\n",
       "      <td>Действует</td>\n",
       "      <td>Российский рубль</td>\n",
       "      <td>14</td>\n",
       "      <td>Грузия</td>\n",
       "      <td>1534</td>\n",
       "      <td>2000000</td>\n",
       "    </tr>\n",
       "    <tr>\n",
       "      <th>4</th>\n",
       "      <td>21113292</td>\n",
       "      <td>ТТЕ7227715*****</td>\n",
       "      <td>Страхование путешественников</td>\n",
       "      <td>10171604758</td>\n",
       "      <td>Действует</td>\n",
       "      <td>Российский рубль</td>\n",
       "      <td>7</td>\n",
       "      <td>Аргентина</td>\n",
       "      <td>1918</td>\n",
       "      <td>5000000</td>\n",
       "    </tr>\n",
       "  </tbody>\n",
       "</table>\n",
       "</div>"
      ],
      "text/plain": [
       "   contract_id     contract_num                  product_name    client_id  \\\n",
       "0     21111219  ТТЕ7227715*****  Страхование путешественников  10161870404   \n",
       "1     21111381  ТТЕ7227715*****  Страхование путешественников   1017159879   \n",
       "2     21112353  БАДАМСТЕ55*****  Страхование путешественников  10161883357   \n",
       "3     21113224  ТТЕ7227715*****  Страхование путешественников    100766461   \n",
       "4     21113292  ТТЕ7227715*****  Страхование путешественников  10171604758   \n",
       "\n",
       "  contract_status     currency_name  duration    country  price  \\\n",
       "0       Действует  Российский рубль        10   Беларусь   1096   \n",
       "1       Действует  Российский рубль         7  Индонезия   1918   \n",
       "2       Действует  Российский рубль        10   Беларусь   1096   \n",
       "3       Действует  Российский рубль        14     Грузия   1534   \n",
       "4       Действует  Российский рубль         7  Аргентина   1918   \n",
       "\n",
       "   insurance_amount  \n",
       "0           2000000  \n",
       "1           5000000  \n",
       "2           2000000  \n",
       "3           2000000  \n",
       "4           5000000  "
      ]
     },
     "execution_count": 13,
     "metadata": {},
     "output_type": "execute_result"
    }
   ],
   "source": [
    "contracts_df = pd.read_excel('D:/DO_NOT_REMOVE/Data_Analyst_Junior/17/CASE_CONTRACTS.xlsx')\n",
    "contracts_df.head()"
   ]
  },
  {
   "cell_type": "code",
   "execution_count": 10,
   "id": "8730b14f",
   "metadata": {
    "scrolled": true
   },
   "outputs": [
    {
     "name": "stdout",
     "output_type": "stream",
     "text": [
      "<class 'pandas.core.frame.DataFrame'>\n",
      "RangeIndex: 3711 entries, 0 to 3710\n",
      "Data columns (total 10 columns):\n",
      " #   Column            Non-Null Count  Dtype \n",
      "---  ------            --------------  ----- \n",
      " 0   contract_id       3711 non-null   int64 \n",
      " 1   contract_num      3711 non-null   object\n",
      " 2   product_name      3711 non-null   object\n",
      " 3   client_id         3711 non-null   int64 \n",
      " 4   contract_status   3711 non-null   object\n",
      " 5   currency_name     3711 non-null   object\n",
      " 6   duration          3711 non-null   int64 \n",
      " 7   country           3711 non-null   object\n",
      " 8   price             3711 non-null   int64 \n",
      " 9   insurance_amount  3711 non-null   int64 \n",
      "dtypes: int64(5), object(5)\n",
      "memory usage: 290.1+ KB\n"
     ]
    }
   ],
   "source": [
    "contracts_df.info()"
   ]
  },
  {
   "cell_type": "code",
   "execution_count": 19,
   "id": "bee7f21c",
   "metadata": {},
   "outputs": [
    {
     "data": {
      "text/plain": [
       "contract_status\n",
       "Действует    3315\n",
       "Завершен      396\n",
       "Name: count, dtype: int64"
      ]
     },
     "execution_count": 19,
     "metadata": {},
     "output_type": "execute_result"
    }
   ],
   "source": [
    "contracts_df['contract_status'].value_counts(dropna=False)"
   ]
  },
  {
   "cell_type": "code",
   "execution_count": 20,
   "id": "2351483f",
   "metadata": {},
   "outputs": [
    {
     "data": {
      "text/plain": [
       "(3315, 10)"
      ]
     },
     "execution_count": 20,
     "metadata": {},
     "output_type": "execute_result"
    }
   ],
   "source": [
    "# Отбор только действующих полисах из contracts_df\n",
    "active_contracts_df = contracts_df[contracts_df['contract_status']=='Действует']\n",
    "active_contracts_df.shape"
   ]
  },
  {
   "cell_type": "code",
   "execution_count": 14,
   "id": "c3af72d9",
   "metadata": {},
   "outputs": [
    {
     "data": {
      "text/html": [
       "<div>\n",
       "<style scoped>\n",
       "    .dataframe tbody tr th:only-of-type {\n",
       "        vertical-align: middle;\n",
       "    }\n",
       "\n",
       "    .dataframe tbody tr th {\n",
       "        vertical-align: top;\n",
       "    }\n",
       "\n",
       "    .dataframe thead th {\n",
       "        text-align: right;\n",
       "    }\n",
       "</style>\n",
       "<table border=\"1\" class=\"dataframe\">\n",
       "  <thead>\n",
       "    <tr style=\"text-align: right;\">\n",
       "      <th></th>\n",
       "      <th>client_id</th>\n",
       "      <th>last_name</th>\n",
       "      <th>first_name</th>\n",
       "      <th>middle_name</th>\n",
       "      <th>age</th>\n",
       "      <th>sex</th>\n",
       "    </tr>\n",
       "  </thead>\n",
       "  <tbody>\n",
       "    <tr>\n",
       "      <th>0</th>\n",
       "      <td>10000041307</td>\n",
       "      <td>З*****</td>\n",
       "      <td>Р*****</td>\n",
       "      <td>О*****</td>\n",
       "      <td>30</td>\n",
       "      <td>F</td>\n",
       "    </tr>\n",
       "    <tr>\n",
       "      <th>1</th>\n",
       "      <td>10000133158</td>\n",
       "      <td>И*****</td>\n",
       "      <td>М*****</td>\n",
       "      <td>Ю*****</td>\n",
       "      <td>37</td>\n",
       "      <td>M</td>\n",
       "    </tr>\n",
       "    <tr>\n",
       "      <th>2</th>\n",
       "      <td>100003773</td>\n",
       "      <td>Е*****</td>\n",
       "      <td>О*****</td>\n",
       "      <td>С*****</td>\n",
       "      <td>50</td>\n",
       "      <td>M</td>\n",
       "    </tr>\n",
       "    <tr>\n",
       "      <th>3</th>\n",
       "      <td>10000535718</td>\n",
       "      <td>Е*****</td>\n",
       "      <td>Ф*****</td>\n",
       "      <td>Ч*****</td>\n",
       "      <td>45</td>\n",
       "      <td>M</td>\n",
       "    </tr>\n",
       "    <tr>\n",
       "      <th>4</th>\n",
       "      <td>10000583119</td>\n",
       "      <td>И*****</td>\n",
       "      <td>Ф*****</td>\n",
       "      <td>Ф*****</td>\n",
       "      <td>28</td>\n",
       "      <td>M</td>\n",
       "    </tr>\n",
       "  </tbody>\n",
       "</table>\n",
       "</div>"
      ],
      "text/plain": [
       "     client_id last_name first_name middle_name  age sex\n",
       "0  10000041307    З*****     Р*****      О*****   30   F\n",
       "1  10000133158    И*****     М*****      Ю*****   37   M\n",
       "2    100003773    Е*****     О*****      С*****   50   M\n",
       "3  10000535718    Е*****     Ф*****      Ч*****   45   M\n",
       "4  10000583119    И*****     Ф*****      Ф*****   28   M"
      ]
     },
     "execution_count": 14,
     "metadata": {},
     "output_type": "execute_result"
    }
   ],
   "source": [
    "clients_df = pd.read_excel('D:/DO_NOT_REMOVE/Data_Analyst_Junior/17/CASE_CLIENTS.xlsx')\n",
    "clients_df.head()"
   ]
  },
  {
   "cell_type": "code",
   "execution_count": 15,
   "id": "36875fa4",
   "metadata": {
    "scrolled": true
   },
   "outputs": [
    {
     "name": "stdout",
     "output_type": "stream",
     "text": [
      "<class 'pandas.core.frame.DataFrame'>\n",
      "RangeIndex: 3711 entries, 0 to 3710\n",
      "Data columns (total 6 columns):\n",
      " #   Column       Non-Null Count  Dtype \n",
      "---  ------       --------------  ----- \n",
      " 0   client_id    3711 non-null   int64 \n",
      " 1   last_name    3711 non-null   object\n",
      " 2   first_name   3693 non-null   object\n",
      " 3   middle_name  3453 non-null   object\n",
      " 4   age          3711 non-null   int64 \n",
      " 5   sex          3711 non-null   object\n",
      "dtypes: int64(2), object(4)\n",
      "memory usage: 174.1+ KB\n"
     ]
    }
   ],
   "source": [
    "clients_df.info()"
   ]
  },
  {
   "cell_type": "code",
   "execution_count": 21,
   "id": "bc099ed5",
   "metadata": {},
   "outputs": [
    {
     "data": {
      "text/plain": [
       "(3315, 15)"
      ]
     },
     "execution_count": 21,
     "metadata": {},
     "output_type": "execute_result"
    }
   ],
   "source": [
    "# Объединение таблиц active_contracts_df и clients_df\n",
    "active_contracts_with_names_df = active_contracts_df.merge(clients_df, on='client_id', how='left')\n",
    "active_contracts_with_names_df.shape"
   ]
  },
  {
   "cell_type": "code",
   "execution_count": 16,
   "id": "80126033",
   "metadata": {},
   "outputs": [
    {
     "data": {
      "text/html": [
       "<div>\n",
       "<style scoped>\n",
       "    .dataframe tbody tr th:only-of-type {\n",
       "        vertical-align: middle;\n",
       "    }\n",
       "\n",
       "    .dataframe tbody tr th {\n",
       "        vertical-align: top;\n",
       "    }\n",
       "\n",
       "    .dataframe thead th {\n",
       "        text-align: right;\n",
       "    }\n",
       "</style>\n",
       "<table border=\"1\" class=\"dataframe\">\n",
       "  <thead>\n",
       "    <tr style=\"text-align: right;\">\n",
       "      <th></th>\n",
       "      <th>loss_id</th>\n",
       "      <th>client_id</th>\n",
       "      <th>loss_name</th>\n",
       "      <th>loss_payout_amt</th>\n",
       "    </tr>\n",
       "  </thead>\n",
       "  <tbody>\n",
       "    <tr>\n",
       "      <th>0</th>\n",
       "      <td>1</td>\n",
       "      <td>10000713193</td>\n",
       "      <td>Оказание медицинской помощи</td>\n",
       "      <td>100000</td>\n",
       "    </tr>\n",
       "    <tr>\n",
       "      <th>1</th>\n",
       "      <td>2</td>\n",
       "      <td>100014656</td>\n",
       "      <td>Оказание медицинской помощи</td>\n",
       "      <td>50000</td>\n",
       "    </tr>\n",
       "    <tr>\n",
       "      <th>2</th>\n",
       "      <td>3</td>\n",
       "      <td>10006545463</td>\n",
       "      <td>Оказание медицинской помощи</td>\n",
       "      <td>30000</td>\n",
       "    </tr>\n",
       "    <tr>\n",
       "      <th>3</th>\n",
       "      <td>4</td>\n",
       "      <td>10006611194</td>\n",
       "      <td>Оказание медицинской помощи</td>\n",
       "      <td>70000</td>\n",
       "    </tr>\n",
       "    <tr>\n",
       "      <th>4</th>\n",
       "      <td>5</td>\n",
       "      <td>1001091597</td>\n",
       "      <td>Оказание медицинской помощи</td>\n",
       "      <td>60000</td>\n",
       "    </tr>\n",
       "  </tbody>\n",
       "</table>\n",
       "</div>"
      ],
      "text/plain": [
       "   loss_id    client_id                    loss_name  loss_payout_amt\n",
       "0        1  10000713193  Оказание медицинской помощи           100000\n",
       "1        2    100014656  Оказание медицинской помощи            50000\n",
       "2        3  10006545463  Оказание медицинской помощи            30000\n",
       "3        4  10006611194  Оказание медицинской помощи            70000\n",
       "4        5   1001091597  Оказание медицинской помощи            60000"
      ]
     },
     "execution_count": 16,
     "metadata": {},
     "output_type": "execute_result"
    }
   ],
   "source": [
    "losses_df = pd.read_excel('D:/DO_NOT_REMOVE/Data_Analyst_Junior/17/CASE_LOSSES.xlsx')\n",
    "losses_df.head()"
   ]
  },
  {
   "cell_type": "code",
   "execution_count": 17,
   "id": "1fb60057",
   "metadata": {},
   "outputs": [
    {
     "name": "stdout",
     "output_type": "stream",
     "text": [
      "<class 'pandas.core.frame.DataFrame'>\n",
      "RangeIndex: 45 entries, 0 to 44\n",
      "Data columns (total 4 columns):\n",
      " #   Column           Non-Null Count  Dtype \n",
      "---  ------           --------------  ----- \n",
      " 0   loss_id          45 non-null     int64 \n",
      " 1   client_id        45 non-null     int64 \n",
      " 2   loss_name        45 non-null     object\n",
      " 3   loss_payout_amt  45 non-null     int64 \n",
      "dtypes: int64(3), object(1)\n",
      "memory usage: 1.5+ KB\n"
     ]
    }
   ],
   "source": [
    "losses_df.info()"
   ]
  },
  {
   "cell_type": "code",
   "execution_count": 23,
   "id": "698e1776",
   "metadata": {},
   "outputs": [
    {
     "data": {
      "text/plain": [
       "(3315, 16)"
      ]
     },
     "execution_count": 23,
     "metadata": {},
     "output_type": "execute_result"
    }
   ],
   "source": [
    "# Объединение таблиц active_contracts_with_names_df и losses_df\n",
    "extended_df = active_contracts_with_names_df.merge(losses_df[['client_id','loss_payout_amt']], on='client_id', how='left')\n",
    "extended_df.shape"
   ]
  },
  {
   "cell_type": "code",
   "execution_count": 24,
   "id": "01af00a6",
   "metadata": {},
   "outputs": [
    {
     "data": {
      "text/html": [
       "<div>\n",
       "<style scoped>\n",
       "    .dataframe tbody tr th:only-of-type {\n",
       "        vertical-align: middle;\n",
       "    }\n",
       "\n",
       "    .dataframe tbody tr th {\n",
       "        vertical-align: top;\n",
       "    }\n",
       "\n",
       "    .dataframe thead th {\n",
       "        text-align: right;\n",
       "    }\n",
       "</style>\n",
       "<table border=\"1\" class=\"dataframe\">\n",
       "  <thead>\n",
       "    <tr style=\"text-align: right;\">\n",
       "      <th></th>\n",
       "      <th>contract_id</th>\n",
       "      <th>contract_num</th>\n",
       "      <th>product_name</th>\n",
       "      <th>client_id</th>\n",
       "      <th>contract_status</th>\n",
       "      <th>currency_name</th>\n",
       "      <th>duration</th>\n",
       "      <th>country</th>\n",
       "      <th>price</th>\n",
       "      <th>insurance_amount</th>\n",
       "      <th>last_name</th>\n",
       "      <th>first_name</th>\n",
       "      <th>middle_name</th>\n",
       "      <th>age</th>\n",
       "      <th>sex</th>\n",
       "      <th>loss_payout_amt</th>\n",
       "    </tr>\n",
       "  </thead>\n",
       "  <tbody>\n",
       "    <tr>\n",
       "      <th>0</th>\n",
       "      <td>21111219</td>\n",
       "      <td>ТТЕ7227715*****</td>\n",
       "      <td>Страхование путешественников</td>\n",
       "      <td>10161870404</td>\n",
       "      <td>Действует</td>\n",
       "      <td>Российский рубль</td>\n",
       "      <td>10</td>\n",
       "      <td>Беларусь</td>\n",
       "      <td>1096</td>\n",
       "      <td>2000000</td>\n",
       "      <td>А*****</td>\n",
       "      <td>Х*****</td>\n",
       "      <td>А*****</td>\n",
       "      <td>20</td>\n",
       "      <td>M</td>\n",
       "      <td>NaN</td>\n",
       "    </tr>\n",
       "    <tr>\n",
       "      <th>1</th>\n",
       "      <td>21111381</td>\n",
       "      <td>ТТЕ7227715*****</td>\n",
       "      <td>Страхование путешественников</td>\n",
       "      <td>1017159879</td>\n",
       "      <td>Действует</td>\n",
       "      <td>Российский рубль</td>\n",
       "      <td>7</td>\n",
       "      <td>Индонезия</td>\n",
       "      <td>1918</td>\n",
       "      <td>5000000</td>\n",
       "      <td>З*****</td>\n",
       "      <td>Х*****</td>\n",
       "      <td>М*****</td>\n",
       "      <td>55</td>\n",
       "      <td>M</td>\n",
       "      <td>NaN</td>\n",
       "    </tr>\n",
       "    <tr>\n",
       "      <th>2</th>\n",
       "      <td>21112353</td>\n",
       "      <td>БАДАМСТЕ55*****</td>\n",
       "      <td>Страхование путешественников</td>\n",
       "      <td>10161883357</td>\n",
       "      <td>Действует</td>\n",
       "      <td>Российский рубль</td>\n",
       "      <td>10</td>\n",
       "      <td>Беларусь</td>\n",
       "      <td>1096</td>\n",
       "      <td>2000000</td>\n",
       "      <td>Б*****</td>\n",
       "      <td>В*****</td>\n",
       "      <td>Щ*****</td>\n",
       "      <td>61</td>\n",
       "      <td>F</td>\n",
       "      <td>NaN</td>\n",
       "    </tr>\n",
       "    <tr>\n",
       "      <th>3</th>\n",
       "      <td>21113224</td>\n",
       "      <td>ТТЕ7227715*****</td>\n",
       "      <td>Страхование путешественников</td>\n",
       "      <td>100766461</td>\n",
       "      <td>Действует</td>\n",
       "      <td>Российский рубль</td>\n",
       "      <td>14</td>\n",
       "      <td>Грузия</td>\n",
       "      <td>1534</td>\n",
       "      <td>2000000</td>\n",
       "      <td>И*****</td>\n",
       "      <td>У*****</td>\n",
       "      <td>Н*****</td>\n",
       "      <td>25</td>\n",
       "      <td>M</td>\n",
       "      <td>NaN</td>\n",
       "    </tr>\n",
       "    <tr>\n",
       "      <th>4</th>\n",
       "      <td>21113292</td>\n",
       "      <td>ТТЕ7227715*****</td>\n",
       "      <td>Страхование путешественников</td>\n",
       "      <td>10171604758</td>\n",
       "      <td>Действует</td>\n",
       "      <td>Российский рубль</td>\n",
       "      <td>7</td>\n",
       "      <td>Аргентина</td>\n",
       "      <td>1918</td>\n",
       "      <td>5000000</td>\n",
       "      <td>З*****</td>\n",
       "      <td>Ч*****</td>\n",
       "      <td>Г*****</td>\n",
       "      <td>33</td>\n",
       "      <td>M</td>\n",
       "      <td>NaN</td>\n",
       "    </tr>\n",
       "  </tbody>\n",
       "</table>\n",
       "</div>"
      ],
      "text/plain": [
       "   contract_id     contract_num                  product_name    client_id  \\\n",
       "0     21111219  ТТЕ7227715*****  Страхование путешественников  10161870404   \n",
       "1     21111381  ТТЕ7227715*****  Страхование путешественников   1017159879   \n",
       "2     21112353  БАДАМСТЕ55*****  Страхование путешественников  10161883357   \n",
       "3     21113224  ТТЕ7227715*****  Страхование путешественников    100766461   \n",
       "4     21113292  ТТЕ7227715*****  Страхование путешественников  10171604758   \n",
       "\n",
       "  contract_status     currency_name  duration    country  price  \\\n",
       "0       Действует  Российский рубль        10   Беларусь   1096   \n",
       "1       Действует  Российский рубль         7  Индонезия   1918   \n",
       "2       Действует  Российский рубль        10   Беларусь   1096   \n",
       "3       Действует  Российский рубль        14     Грузия   1534   \n",
       "4       Действует  Российский рубль         7  Аргентина   1918   \n",
       "\n",
       "   insurance_amount last_name first_name middle_name  age sex  loss_payout_amt  \n",
       "0           2000000    А*****     Х*****      А*****   20   M              NaN  \n",
       "1           5000000    З*****     Х*****      М*****   55   M              NaN  \n",
       "2           2000000    Б*****     В*****      Щ*****   61   F              NaN  \n",
       "3           2000000    И*****     У*****      Н*****   25   M              NaN  \n",
       "4           5000000    З*****     Ч*****      Г*****   33   M              NaN  "
      ]
     },
     "execution_count": 24,
     "metadata": {},
     "output_type": "execute_result"
    }
   ],
   "source": [
    "extended_df.head()"
   ]
  },
  {
   "cell_type": "code",
   "execution_count": 84,
   "id": "54bde62f",
   "metadata": {},
   "outputs": [],
   "source": [
    "# Сохранить новый DataFrame в файл CSV\n",
    "extended_df.to_csv('D:/DO_NOT_REMOVE/Data_Analyst_Junior/17/extended_df.csv', index=False) "
   ]
  },
  {
   "cell_type": "code",
   "execution_count": null,
   "id": "aa0fa47c",
   "metadata": {},
   "outputs": [],
   "source": []
  },
  {
   "cell_type": "markdown",
   "id": "8582562b",
   "metadata": {},
   "source": [
    "Все суммы (стоимость полиса price, страховую сумму insurance_amount, сумму выплаты по убытку loss_payout_amt) необходимо перевести в доллары США по последнему актуальному курсу (если страховая сумма значится в долларах США изначально, считаем, что курс актуальный) и добавить эту информацию в виде отдельных столбцов в витрину.\n",
    "\n"
   ]
  },
  {
   "cell_type": "code",
   "execution_count": 85,
   "id": "dd38c121",
   "metadata": {},
   "outputs": [
    {
     "data": {
      "text/plain": [
       "currency_name\n",
       "Российский рубль    3210\n",
       "Доллар США           105\n",
       "Name: count, dtype: int64"
      ]
     },
     "execution_count": 85,
     "metadata": {},
     "output_type": "execute_result"
    }
   ],
   "source": [
    "extended_df['currency_name'].value_counts(dropna=False)"
   ]
  },
  {
   "cell_type": "markdown",
   "id": "e96dd9ac",
   "metadata": {},
   "source": [
    "1. Получаем курс ЦБ на вчерашний день и делаем для него отдельный дф course_of_exchange_df"
   ]
  },
  {
   "cell_type": "code",
   "execution_count": 27,
   "id": "fcfb0411",
   "metadata": {},
   "outputs": [],
   "source": [
    "r = requests.get('https://cbr.ru/scripts/XML_daily.asp?date_req=10/07/2024')"
   ]
  },
  {
   "cell_type": "code",
   "execution_count": 29,
   "id": "046e72ce",
   "metadata": {},
   "outputs": [],
   "source": [
    "with open('cbr.xml', 'w', encoding='utf-8') as f:\n",
    "    f.write(r.text)"
   ]
  },
  {
   "cell_type": "code",
   "execution_count": 36,
   "id": "77479ce7",
   "metadata": {},
   "outputs": [],
   "source": [
    "def export_xml_to_csv_func(encoding='utf-8'): \n",
    "    parser = ET.XMLParser(encoding=encoding)\n",
    "    tree = ET.parse('cbr.xml', parser=parser)\n",
    "    root = tree.getroot()\n",
    "\n",
    "    with open('cbr.csv', 'w',newline='', encoding='utf-8') as csv_file:\n",
    "        writer = csv.writer(csv_file, delimiter=',', quotechar='\"', quoting=csv.QUOTE_MINIMAL)\n",
    "        for Valute in root.findall('Valute'):\n",
    "            NumCode = Valute.find('NumCode').text\n",
    "            CharCode = Valute.find('CharCode').text\n",
    "            Nominal = Valute.find('Nominal').text\n",
    "            Name = Valute.find('Name').text\n",
    "            Value = Valute.find('Value').text\n",
    "            writer.writerow([root.attrib['Date']] + [Valute.attrib['ID']] + [NumCode] + [CharCode] + [Nominal] +\n",
    "                            [Name] + [Value.replace(',', '.')])"
   ]
  },
  {
   "cell_type": "code",
   "execution_count": 37,
   "id": "3e55883d",
   "metadata": {},
   "outputs": [],
   "source": [
    "export_xml_to_csv_func(encoding='utf-8')"
   ]
  },
  {
   "cell_type": "code",
   "execution_count": 44,
   "id": "8487ac21",
   "metadata": {},
   "outputs": [
    {
     "data": {
      "text/html": [
       "<div>\n",
       "<style scoped>\n",
       "    .dataframe tbody tr th:only-of-type {\n",
       "        vertical-align: middle;\n",
       "    }\n",
       "\n",
       "    .dataframe tbody tr th {\n",
       "        vertical-align: top;\n",
       "    }\n",
       "\n",
       "    .dataframe thead th {\n",
       "        text-align: right;\n",
       "    }\n",
       "</style>\n",
       "<table border=\"1\" class=\"dataframe\">\n",
       "  <thead>\n",
       "    <tr style=\"text-align: right;\">\n",
       "      <th></th>\n",
       "      <th>0</th>\n",
       "      <th>1</th>\n",
       "      <th>2</th>\n",
       "      <th>3</th>\n",
       "      <th>4</th>\n",
       "      <th>5</th>\n",
       "      <th>6</th>\n",
       "    </tr>\n",
       "  </thead>\n",
       "  <tbody>\n",
       "    <tr>\n",
       "      <th>0</th>\n",
       "      <td>10.07.2024</td>\n",
       "      <td>R01010</td>\n",
       "      <td>36</td>\n",
       "      <td>AUD</td>\n",
       "      <td>1</td>\n",
       "      <td>Австралийский доллар</td>\n",
       "      <td>59.3493</td>\n",
       "    </tr>\n",
       "    <tr>\n",
       "      <th>1</th>\n",
       "      <td>10.07.2024</td>\n",
       "      <td>R01020A</td>\n",
       "      <td>944</td>\n",
       "      <td>AZN</td>\n",
       "      <td>1</td>\n",
       "      <td>Азербайджанский манат</td>\n",
       "      <td>51.7665</td>\n",
       "    </tr>\n",
       "    <tr>\n",
       "      <th>2</th>\n",
       "      <td>10.07.2024</td>\n",
       "      <td>R01035</td>\n",
       "      <td>826</td>\n",
       "      <td>GBP</td>\n",
       "      <td>1</td>\n",
       "      <td>Фунт стерлингов Соединенного королевства</td>\n",
       "      <td>112.9344</td>\n",
       "    </tr>\n",
       "    <tr>\n",
       "      <th>3</th>\n",
       "      <td>10.07.2024</td>\n",
       "      <td>R01060</td>\n",
       "      <td>51</td>\n",
       "      <td>AMD</td>\n",
       "      <td>100</td>\n",
       "      <td>Армянских драмов</td>\n",
       "      <td>22.6806</td>\n",
       "    </tr>\n",
       "    <tr>\n",
       "      <th>4</th>\n",
       "      <td>10.07.2024</td>\n",
       "      <td>R01090B</td>\n",
       "      <td>933</td>\n",
       "      <td>BYN</td>\n",
       "      <td>1</td>\n",
       "      <td>Белорусский рубль</td>\n",
       "      <td>27.4486</td>\n",
       "    </tr>\n",
       "  </tbody>\n",
       "</table>\n",
       "</div>"
      ],
      "text/plain": [
       "            0        1    2    3    4  \\\n",
       "0  10.07.2024   R01010   36  AUD    1   \n",
       "1  10.07.2024  R01020A  944  AZN    1   \n",
       "2  10.07.2024   R01035  826  GBP    1   \n",
       "3  10.07.2024   R01060   51  AMD  100   \n",
       "4  10.07.2024  R01090B  933  BYN    1   \n",
       "\n",
       "                                          5         6  \n",
       "0                      Австралийский доллар   59.3493  \n",
       "1                     Азербайджанский манат   51.7665  \n",
       "2  Фунт стерлингов Соединенного королевства  112.9344  \n",
       "3                          Армянских драмов   22.6806  \n",
       "4                         Белорусский рубль   27.4486  "
      ]
     },
     "execution_count": 44,
     "metadata": {},
     "output_type": "execute_result"
    }
   ],
   "source": [
    "df = pd.read_csv('cbr.csv', header=None)\n",
    "df.head()"
   ]
  },
  {
   "cell_type": "code",
   "execution_count": 45,
   "id": "43ea43b5",
   "metadata": {},
   "outputs": [
    {
     "data": {
      "text/html": [
       "<div>\n",
       "<style scoped>\n",
       "    .dataframe tbody tr th:only-of-type {\n",
       "        vertical-align: middle;\n",
       "    }\n",
       "\n",
       "    .dataframe tbody tr th {\n",
       "        vertical-align: top;\n",
       "    }\n",
       "\n",
       "    .dataframe thead th {\n",
       "        text-align: right;\n",
       "    }\n",
       "</style>\n",
       "<table border=\"1\" class=\"dataframe\">\n",
       "  <thead>\n",
       "    <tr style=\"text-align: right;\">\n",
       "      <th></th>\n",
       "      <th>rate_dt</th>\n",
       "      <th>currency_id</th>\n",
       "      <th>currency_cd</th>\n",
       "      <th>nominal_qty</th>\n",
       "      <th>currency_name</th>\n",
       "      <th>currency_rate</th>\n",
       "    </tr>\n",
       "  </thead>\n",
       "  <tbody>\n",
       "    <tr>\n",
       "      <th>0</th>\n",
       "      <td>10.07.2024</td>\n",
       "      <td>36</td>\n",
       "      <td>AUD</td>\n",
       "      <td>1</td>\n",
       "      <td>Австралийский доллар</td>\n",
       "      <td>59.3493</td>\n",
       "    </tr>\n",
       "    <tr>\n",
       "      <th>1</th>\n",
       "      <td>10.07.2024</td>\n",
       "      <td>944</td>\n",
       "      <td>AZN</td>\n",
       "      <td>1</td>\n",
       "      <td>Азербайджанский манат</td>\n",
       "      <td>51.7665</td>\n",
       "    </tr>\n",
       "    <tr>\n",
       "      <th>2</th>\n",
       "      <td>10.07.2024</td>\n",
       "      <td>826</td>\n",
       "      <td>GBP</td>\n",
       "      <td>1</td>\n",
       "      <td>Фунт стерлингов Соединенного королевства</td>\n",
       "      <td>112.9344</td>\n",
       "    </tr>\n",
       "    <tr>\n",
       "      <th>3</th>\n",
       "      <td>10.07.2024</td>\n",
       "      <td>51</td>\n",
       "      <td>AMD</td>\n",
       "      <td>100</td>\n",
       "      <td>Армянских драмов</td>\n",
       "      <td>22.6806</td>\n",
       "    </tr>\n",
       "    <tr>\n",
       "      <th>4</th>\n",
       "      <td>10.07.2024</td>\n",
       "      <td>933</td>\n",
       "      <td>BYN</td>\n",
       "      <td>1</td>\n",
       "      <td>Белорусский рубль</td>\n",
       "      <td>27.4486</td>\n",
       "    </tr>\n",
       "  </tbody>\n",
       "</table>\n",
       "</div>"
      ],
      "text/plain": [
       "      rate_dt  currency_id currency_cd  nominal_qty  \\\n",
       "0  10.07.2024           36         AUD            1   \n",
       "1  10.07.2024          944         AZN            1   \n",
       "2  10.07.2024          826         GBP            1   \n",
       "3  10.07.2024           51         AMD          100   \n",
       "4  10.07.2024          933         BYN            1   \n",
       "\n",
       "                              currency_name  currency_rate  \n",
       "0                      Австралийский доллар        59.3493  \n",
       "1                     Азербайджанский манат        51.7665  \n",
       "2  Фунт стерлингов Соединенного королевства       112.9344  \n",
       "3                          Армянских драмов        22.6806  \n",
       "4                         Белорусский рубль        27.4486  "
      ]
     },
     "execution_count": 45,
     "metadata": {},
     "output_type": "execute_result"
    }
   ],
   "source": [
    "course_of_exchange_df = df.rename(columns={\n",
    "    0: 'rate_dt', \n",
    "    2: 'currency_id', \n",
    "    3: 'currency_cd', \n",
    "    4: 'nominal_qty', \n",
    "    5: 'currency_name',\n",
    "    6: 'currency_rate'})[['rate_dt', 'currency_id', 'currency_cd', 'nominal_qty','currency_name', 'currency_rate']]\n",
    "\n",
    "course_of_exchange_df.head()"
   ]
  },
  {
   "cell_type": "code",
   "execution_count": 86,
   "id": "2d5943e7",
   "metadata": {},
   "outputs": [
    {
     "data": {
      "text/plain": [
       "88.0031"
      ]
     },
     "execution_count": 86,
     "metadata": {},
     "output_type": "execute_result"
    }
   ],
   "source": [
    "exch_rate = course_of_exchange_df[course_of_exchange_df['currency_cd']=='USD'].currency_rate.iloc[0]\n",
    "exch_rate"
   ]
  },
  {
   "cell_type": "markdown",
   "id": "c1d4ed7c",
   "metadata": {},
   "source": [
    "2. Дополняем extended_df колонками для цен в валюте и информацией из course_of_exchange_df"
   ]
  },
  {
   "cell_type": "code",
   "execution_count": 87,
   "id": "5a55b5ee",
   "metadata": {},
   "outputs": [
    {
     "data": {
      "text/plain": [
       "(3315, 16)"
      ]
     },
     "execution_count": 87,
     "metadata": {},
     "output_type": "execute_result"
    }
   ],
   "source": [
    "final_df = extended_df.copy()\n",
    "final_df.shape"
   ]
  },
  {
   "cell_type": "code",
   "execution_count": 88,
   "id": "b91d4f4b",
   "metadata": {},
   "outputs": [],
   "source": [
    "# Функция для конвертации значений\n",
    "def convert_to_usd(row, column_name, exchange_rate):\n",
    "    return round(row[column_name] * exchange_rate, 2) if row['currency_name'] == 'Российский рубль' else row[column_name]"
   ]
  },
  {
   "cell_type": "code",
   "execution_count": 89,
   "id": "b15aeed4",
   "metadata": {},
   "outputs": [],
   "source": [
    "# Применение функции к разным столбцам\n",
    "columns_to_convert = ['price', 'insurance_amount', 'loss_payout_amt']\n",
    "for column in columns_to_convert:\n",
    "    final_df[f'{column}_USD'] = final_df.apply(convert_to_usd, column_name=column, exchange_rate=exch_rate, axis=1)"
   ]
  },
  {
   "cell_type": "code",
   "execution_count": 90,
   "id": "7e069404",
   "metadata": {},
   "outputs": [
    {
     "data": {
      "text/plain": [
       "(3315, 19)"
      ]
     },
     "execution_count": 90,
     "metadata": {},
     "output_type": "execute_result"
    }
   ],
   "source": [
    "final_df.shape"
   ]
  },
  {
   "cell_type": "code",
   "execution_count": 93,
   "id": "f07af812",
   "metadata": {},
   "outputs": [
    {
     "data": {
      "text/html": [
       "<div>\n",
       "<style scoped>\n",
       "    .dataframe tbody tr th:only-of-type {\n",
       "        vertical-align: middle;\n",
       "    }\n",
       "\n",
       "    .dataframe tbody tr th {\n",
       "        vertical-align: top;\n",
       "    }\n",
       "\n",
       "    .dataframe thead th {\n",
       "        text-align: right;\n",
       "    }\n",
       "</style>\n",
       "<table border=\"1\" class=\"dataframe\">\n",
       "  <thead>\n",
       "    <tr style=\"text-align: right;\">\n",
       "      <th></th>\n",
       "      <th>contract_id</th>\n",
       "      <th>contract_num</th>\n",
       "      <th>product_name</th>\n",
       "      <th>client_id</th>\n",
       "      <th>contract_status</th>\n",
       "      <th>currency_name</th>\n",
       "      <th>duration</th>\n",
       "      <th>country</th>\n",
       "      <th>price</th>\n",
       "      <th>insurance_amount</th>\n",
       "      <th>last_name</th>\n",
       "      <th>first_name</th>\n",
       "      <th>middle_name</th>\n",
       "      <th>age</th>\n",
       "      <th>sex</th>\n",
       "      <th>loss_payout_amt</th>\n",
       "      <th>price_USD</th>\n",
       "      <th>insurance_amount_USD</th>\n",
       "      <th>loss_payout_amt_USD</th>\n",
       "    </tr>\n",
       "  </thead>\n",
       "  <tbody>\n",
       "    <tr>\n",
       "      <th>0</th>\n",
       "      <td>21111219</td>\n",
       "      <td>ТТЕ7227715*****</td>\n",
       "      <td>Страхование путешественников</td>\n",
       "      <td>10161870404</td>\n",
       "      <td>Действует</td>\n",
       "      <td>Российский рубль</td>\n",
       "      <td>10</td>\n",
       "      <td>Беларусь</td>\n",
       "      <td>1096</td>\n",
       "      <td>2000000</td>\n",
       "      <td>А*****</td>\n",
       "      <td>Х*****</td>\n",
       "      <td>А*****</td>\n",
       "      <td>20</td>\n",
       "      <td>M</td>\n",
       "      <td>NaN</td>\n",
       "      <td>96451.40</td>\n",
       "      <td>176006200.0</td>\n",
       "      <td>NaN</td>\n",
       "    </tr>\n",
       "    <tr>\n",
       "      <th>1</th>\n",
       "      <td>21111381</td>\n",
       "      <td>ТТЕ7227715*****</td>\n",
       "      <td>Страхование путешественников</td>\n",
       "      <td>1017159879</td>\n",
       "      <td>Действует</td>\n",
       "      <td>Российский рубль</td>\n",
       "      <td>7</td>\n",
       "      <td>Индонезия</td>\n",
       "      <td>1918</td>\n",
       "      <td>5000000</td>\n",
       "      <td>З*****</td>\n",
       "      <td>Х*****</td>\n",
       "      <td>М*****</td>\n",
       "      <td>55</td>\n",
       "      <td>M</td>\n",
       "      <td>NaN</td>\n",
       "      <td>168789.95</td>\n",
       "      <td>440015500.0</td>\n",
       "      <td>NaN</td>\n",
       "    </tr>\n",
       "    <tr>\n",
       "      <th>2</th>\n",
       "      <td>21112353</td>\n",
       "      <td>БАДАМСТЕ55*****</td>\n",
       "      <td>Страхование путешественников</td>\n",
       "      <td>10161883357</td>\n",
       "      <td>Действует</td>\n",
       "      <td>Российский рубль</td>\n",
       "      <td>10</td>\n",
       "      <td>Беларусь</td>\n",
       "      <td>1096</td>\n",
       "      <td>2000000</td>\n",
       "      <td>Б*****</td>\n",
       "      <td>В*****</td>\n",
       "      <td>Щ*****</td>\n",
       "      <td>61</td>\n",
       "      <td>F</td>\n",
       "      <td>NaN</td>\n",
       "      <td>96451.40</td>\n",
       "      <td>176006200.0</td>\n",
       "      <td>NaN</td>\n",
       "    </tr>\n",
       "    <tr>\n",
       "      <th>3</th>\n",
       "      <td>21113224</td>\n",
       "      <td>ТТЕ7227715*****</td>\n",
       "      <td>Страхование путешественников</td>\n",
       "      <td>100766461</td>\n",
       "      <td>Действует</td>\n",
       "      <td>Российский рубль</td>\n",
       "      <td>14</td>\n",
       "      <td>Грузия</td>\n",
       "      <td>1534</td>\n",
       "      <td>2000000</td>\n",
       "      <td>И*****</td>\n",
       "      <td>У*****</td>\n",
       "      <td>Н*****</td>\n",
       "      <td>25</td>\n",
       "      <td>M</td>\n",
       "      <td>NaN</td>\n",
       "      <td>134996.76</td>\n",
       "      <td>176006200.0</td>\n",
       "      <td>NaN</td>\n",
       "    </tr>\n",
       "    <tr>\n",
       "      <th>4</th>\n",
       "      <td>21113292</td>\n",
       "      <td>ТТЕ7227715*****</td>\n",
       "      <td>Страхование путешественников</td>\n",
       "      <td>10171604758</td>\n",
       "      <td>Действует</td>\n",
       "      <td>Российский рубль</td>\n",
       "      <td>7</td>\n",
       "      <td>Аргентина</td>\n",
       "      <td>1918</td>\n",
       "      <td>5000000</td>\n",
       "      <td>З*****</td>\n",
       "      <td>Ч*****</td>\n",
       "      <td>Г*****</td>\n",
       "      <td>33</td>\n",
       "      <td>M</td>\n",
       "      <td>NaN</td>\n",
       "      <td>168789.95</td>\n",
       "      <td>440015500.0</td>\n",
       "      <td>NaN</td>\n",
       "    </tr>\n",
       "  </tbody>\n",
       "</table>\n",
       "</div>"
      ],
      "text/plain": [
       "   contract_id     contract_num                  product_name    client_id  \\\n",
       "0     21111219  ТТЕ7227715*****  Страхование путешественников  10161870404   \n",
       "1     21111381  ТТЕ7227715*****  Страхование путешественников   1017159879   \n",
       "2     21112353  БАДАМСТЕ55*****  Страхование путешественников  10161883357   \n",
       "3     21113224  ТТЕ7227715*****  Страхование путешественников    100766461   \n",
       "4     21113292  ТТЕ7227715*****  Страхование путешественников  10171604758   \n",
       "\n",
       "  contract_status     currency_name  duration    country  price  \\\n",
       "0       Действует  Российский рубль        10   Беларусь   1096   \n",
       "1       Действует  Российский рубль         7  Индонезия   1918   \n",
       "2       Действует  Российский рубль        10   Беларусь   1096   \n",
       "3       Действует  Российский рубль        14     Грузия   1534   \n",
       "4       Действует  Российский рубль         7  Аргентина   1918   \n",
       "\n",
       "   insurance_amount last_name first_name middle_name  age sex  \\\n",
       "0           2000000    А*****     Х*****      А*****   20   M   \n",
       "1           5000000    З*****     Х*****      М*****   55   M   \n",
       "2           2000000    Б*****     В*****      Щ*****   61   F   \n",
       "3           2000000    И*****     У*****      Н*****   25   M   \n",
       "4           5000000    З*****     Ч*****      Г*****   33   M   \n",
       "\n",
       "   loss_payout_amt  price_USD  insurance_amount_USD  loss_payout_amt_USD  \n",
       "0              NaN   96451.40           176006200.0                  NaN  \n",
       "1              NaN  168789.95           440015500.0                  NaN  \n",
       "2              NaN   96451.40           176006200.0                  NaN  \n",
       "3              NaN  134996.76           176006200.0                  NaN  \n",
       "4              NaN  168789.95           440015500.0                  NaN  "
      ]
     },
     "execution_count": 93,
     "metadata": {},
     "output_type": "execute_result"
    }
   ],
   "source": [
    "final_df.head()"
   ]
  },
  {
   "cell_type": "code",
   "execution_count": 94,
   "id": "b3c15345",
   "metadata": {},
   "outputs": [
    {
     "data": {
      "text/plain": [
       "(3315, 19)"
      ]
     },
     "execution_count": 94,
     "metadata": {},
     "output_type": "execute_result"
    }
   ],
   "source": [
    "#Удаляем дубликаты\n",
    "final_df = final_df.drop_duplicates()\n",
    "final_df.shape"
   ]
  },
  {
   "cell_type": "code",
   "execution_count": 96,
   "id": "f756a051",
   "metadata": {},
   "outputs": [],
   "source": [
    "# Сохранить новый DataFrame в файл xlsx\n",
    "final_df.to_excel('D:/DO_NOT_REMOVE/Data_Analyst_Junior/17/final_df.xlsx', index=False)"
   ]
  }
 ],
 "metadata": {
  "kernelspec": {
   "display_name": "Python 3 (ipykernel)",
   "language": "python",
   "name": "python3"
  },
  "language_info": {
   "codemirror_mode": {
    "name": "ipython",
    "version": 3
   },
   "file_extension": ".py",
   "mimetype": "text/x-python",
   "name": "python",
   "nbconvert_exporter": "python",
   "pygments_lexer": "ipython3",
   "version": "3.11.5"
  }
 },
 "nbformat": 4,
 "nbformat_minor": 5
}
