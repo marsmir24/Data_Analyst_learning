{
 "cells": [
  {
   "cell_type": "markdown",
   "id": "179bb50f",
   "metadata": {
    "id": "179bb50f"
   },
   "source": [
    "# Аномалии и выбросы"
   ]
  },
  {
   "cell_type": "markdown",
   "id": "OVyPup7_Lcxf",
   "metadata": {
    "id": "OVyPup7_Lcxf"
   },
   "source": [
    "Продолжим работу с  набором данных с подержанными автомобилями, чтобы познакомиться с решением задачи нахождения выбросов. "
   ]
  },
  {
   "cell_type": "markdown",
   "id": "327675c6-ada0-44f4-a675-70e13f92bada",
   "metadata": {
    "id": "327675c6-ada0-44f4-a675-70e13f92bada"
   },
   "source": [
    "Импортируем pandas."
   ]
  },
  {
   "cell_type": "code",
   "execution_count": 1,
   "id": "5f08e5c2-e158-4efb-9458-35f5c92123e7",
   "metadata": {
    "id": "5f08e5c2-e158-4efb-9458-35f5c92123e7"
   },
   "outputs": [],
   "source": [
    "import pandas as pd"
   ]
  },
  {
   "cell_type": "markdown",
   "id": "da6223d3-4df7-49dc-863a-41a4a0fe56a7",
   "metadata": {
    "id": "da6223d3-4df7-49dc-863a-41a4a0fe56a7"
   },
   "source": [
    "Загрузим датасет, с которым мы работали ранее, из файла `df_types.csv`."
   ]
  },
  {
   "cell_type": "code",
   "execution_count": 2,
   "id": "f92c7864",
   "metadata": {
    "id": "f92c7864",
    "outputId": "51c7bcb2-1483-486c-c11e-fb289bf48e40",
    "scrolled": true,
    "tags": []
   },
   "outputs": [
    {
     "data": {
      "text/html": [
       "<div>\n",
       "<style scoped>\n",
       "    .dataframe tbody tr th:only-of-type {\n",
       "        vertical-align: middle;\n",
       "    }\n",
       "\n",
       "    .dataframe tbody tr th {\n",
       "        vertical-align: top;\n",
       "    }\n",
       "\n",
       "    .dataframe thead th {\n",
       "        text-align: right;\n",
       "    }\n",
       "</style>\n",
       "<table border=\"1\" class=\"dataframe\">\n",
       "  <thead>\n",
       "    <tr style=\"text-align: right;\">\n",
       "      <th></th>\n",
       "      <th>id</th>\n",
       "      <th>url</th>\n",
       "      <th>region</th>\n",
       "      <th>region_url</th>\n",
       "      <th>price</th>\n",
       "      <th>year</th>\n",
       "      <th>manufacturer</th>\n",
       "      <th>model</th>\n",
       "      <th>fuel</th>\n",
       "      <th>odometer</th>\n",
       "      <th>title_status</th>\n",
       "      <th>transmission</th>\n",
       "      <th>image_url</th>\n",
       "      <th>description</th>\n",
       "      <th>state</th>\n",
       "      <th>lat</th>\n",
       "      <th>long</th>\n",
       "      <th>posting_date</th>\n",
       "      <th>price_category</th>\n",
       "      <th>date</th>\n",
       "    </tr>\n",
       "  </thead>\n",
       "  <tbody>\n",
       "    <tr>\n",
       "      <th>0</th>\n",
       "      <td>7308295377</td>\n",
       "      <td>https://chattanooga.craigslist.org/ctd/d/chatt...</td>\n",
       "      <td>chattanooga</td>\n",
       "      <td>https://chattanooga.craigslist.org</td>\n",
       "      <td>54990</td>\n",
       "      <td>2020.0</td>\n",
       "      <td>ram</td>\n",
       "      <td>2500 crew cab big horn</td>\n",
       "      <td>diesel</td>\n",
       "      <td>27442</td>\n",
       "      <td>clean</td>\n",
       "      <td>other</td>\n",
       "      <td>https://images.craigslist.org/00N0N_1xMPvfxRAI...</td>\n",
       "      <td>Carvana is the safer way to buy a car During t...</td>\n",
       "      <td>tn</td>\n",
       "      <td>35.060000</td>\n",
       "      <td>-85.250000</td>\n",
       "      <td>2021-04-17T12:30:50-0400</td>\n",
       "      <td>high</td>\n",
       "      <td>2021-04-17 16:30:50+00:00</td>\n",
       "    </tr>\n",
       "    <tr>\n",
       "      <th>1</th>\n",
       "      <td>7316380095</td>\n",
       "      <td>https://newjersey.craigslist.org/ctd/d/carlsta...</td>\n",
       "      <td>north jersey</td>\n",
       "      <td>https://newjersey.craigslist.org</td>\n",
       "      <td>16942</td>\n",
       "      <td>2016.0</td>\n",
       "      <td>ford</td>\n",
       "      <td>explorer 4wd 4dr xlt</td>\n",
       "      <td>NaN</td>\n",
       "      <td>60023</td>\n",
       "      <td>clean</td>\n",
       "      <td>automatic</td>\n",
       "      <td>https://images.craigslist.org/00x0x_26jl9F0cnL...</td>\n",
       "      <td>***Call Us for more information at: 201-635-14...</td>\n",
       "      <td>nj</td>\n",
       "      <td>40.821805</td>\n",
       "      <td>-74.061962</td>\n",
       "      <td>2021-05-03T15:40:21-0400</td>\n",
       "      <td>medium</td>\n",
       "      <td>2021-05-03 19:40:21+00:00</td>\n",
       "    </tr>\n",
       "    <tr>\n",
       "      <th>2</th>\n",
       "      <td>7313733749</td>\n",
       "      <td>https://reno.craigslist.org/ctd/d/atlanta-2017...</td>\n",
       "      <td>reno / tahoe</td>\n",
       "      <td>https://reno.craigslist.org</td>\n",
       "      <td>35590</td>\n",
       "      <td>2017.0</td>\n",
       "      <td>volkswagen</td>\n",
       "      <td>golf r hatchback</td>\n",
       "      <td>gas</td>\n",
       "      <td>14048</td>\n",
       "      <td>clean</td>\n",
       "      <td>other</td>\n",
       "      <td>https://images.craigslist.org/00y0y_eeZjWeiSfb...</td>\n",
       "      <td>Carvana is the safer way to buy a car During t...</td>\n",
       "      <td>ca</td>\n",
       "      <td>33.779214</td>\n",
       "      <td>-84.411811</td>\n",
       "      <td>2021-04-28T03:52:20-0700</td>\n",
       "      <td>high</td>\n",
       "      <td>2021-04-28 10:52:20+00:00</td>\n",
       "    </tr>\n",
       "    <tr>\n",
       "      <th>3</th>\n",
       "      <td>7308210929</td>\n",
       "      <td>https://fayetteville.craigslist.org/ctd/d/rale...</td>\n",
       "      <td>fayetteville</td>\n",
       "      <td>https://fayetteville.craigslist.org</td>\n",
       "      <td>14500</td>\n",
       "      <td>2013.0</td>\n",
       "      <td>toyota</td>\n",
       "      <td>rav4</td>\n",
       "      <td>gas</td>\n",
       "      <td>117291</td>\n",
       "      <td>clean</td>\n",
       "      <td>automatic</td>\n",
       "      <td>https://images.craigslist.org/00606_iGe5iXidib...</td>\n",
       "      <td>2013 Toyota RAV4 XLE 4dr SUV     Offered by: R...</td>\n",
       "      <td>nc</td>\n",
       "      <td>35.715954</td>\n",
       "      <td>-78.655304</td>\n",
       "      <td>2021-04-17T10:08:57-0400</td>\n",
       "      <td>medium</td>\n",
       "      <td>2021-04-17 14:08:57+00:00</td>\n",
       "    </tr>\n",
       "    <tr>\n",
       "      <th>4</th>\n",
       "      <td>7316474668</td>\n",
       "      <td>https://newyork.craigslist.org/lgi/cto/d/baldw...</td>\n",
       "      <td>new york city</td>\n",
       "      <td>https://newyork.craigslist.org</td>\n",
       "      <td>21800</td>\n",
       "      <td>2021.0</td>\n",
       "      <td>nissan</td>\n",
       "      <td>altima</td>\n",
       "      <td>gas</td>\n",
       "      <td>8000</td>\n",
       "      <td>clean</td>\n",
       "      <td>automatic</td>\n",
       "      <td>https://images.craigslist.org/00V0V_3pSOiPZ3Sd...</td>\n",
       "      <td>2021 Nissan Altima Sv with Only 8 K Miles Titl...</td>\n",
       "      <td>ny</td>\n",
       "      <td>40.654800</td>\n",
       "      <td>-73.609700</td>\n",
       "      <td>2021-05-03T18:32:06-0400</td>\n",
       "      <td>medium</td>\n",
       "      <td>2021-05-03 22:32:06+00:00</td>\n",
       "    </tr>\n",
       "  </tbody>\n",
       "</table>\n",
       "</div>"
      ],
      "text/plain": [
       "           id                                                url  \\\n",
       "0  7308295377  https://chattanooga.craigslist.org/ctd/d/chatt...   \n",
       "1  7316380095  https://newjersey.craigslist.org/ctd/d/carlsta...   \n",
       "2  7313733749  https://reno.craigslist.org/ctd/d/atlanta-2017...   \n",
       "3  7308210929  https://fayetteville.craigslist.org/ctd/d/rale...   \n",
       "4  7316474668  https://newyork.craigslist.org/lgi/cto/d/baldw...   \n",
       "\n",
       "          region                           region_url  price    year  \\\n",
       "0    chattanooga   https://chattanooga.craigslist.org  54990  2020.0   \n",
       "1   north jersey     https://newjersey.craigslist.org  16942  2016.0   \n",
       "2   reno / tahoe          https://reno.craigslist.org  35590  2017.0   \n",
       "3   fayetteville  https://fayetteville.craigslist.org  14500  2013.0   \n",
       "4  new york city       https://newyork.craigslist.org  21800  2021.0   \n",
       "\n",
       "  manufacturer                   model    fuel  odometer title_status  \\\n",
       "0          ram  2500 crew cab big horn  diesel     27442        clean   \n",
       "1         ford    explorer 4wd 4dr xlt     NaN     60023        clean   \n",
       "2   volkswagen        golf r hatchback     gas     14048        clean   \n",
       "3       toyota                    rav4     gas    117291        clean   \n",
       "4       nissan                  altima     gas      8000        clean   \n",
       "\n",
       "  transmission                                          image_url  \\\n",
       "0        other  https://images.craigslist.org/00N0N_1xMPvfxRAI...   \n",
       "1    automatic  https://images.craigslist.org/00x0x_26jl9F0cnL...   \n",
       "2        other  https://images.craigslist.org/00y0y_eeZjWeiSfb...   \n",
       "3    automatic  https://images.craigslist.org/00606_iGe5iXidib...   \n",
       "4    automatic  https://images.craigslist.org/00V0V_3pSOiPZ3Sd...   \n",
       "\n",
       "                                         description state        lat  \\\n",
       "0  Carvana is the safer way to buy a car During t...    tn  35.060000   \n",
       "1  ***Call Us for more information at: 201-635-14...    nj  40.821805   \n",
       "2  Carvana is the safer way to buy a car During t...    ca  33.779214   \n",
       "3  2013 Toyota RAV4 XLE 4dr SUV     Offered by: R...    nc  35.715954   \n",
       "4  2021 Nissan Altima Sv with Only 8 K Miles Titl...    ny  40.654800   \n",
       "\n",
       "        long              posting_date price_category  \\\n",
       "0 -85.250000  2021-04-17T12:30:50-0400           high   \n",
       "1 -74.061962  2021-05-03T15:40:21-0400         medium   \n",
       "2 -84.411811  2021-04-28T03:52:20-0700           high   \n",
       "3 -78.655304  2021-04-17T10:08:57-0400         medium   \n",
       "4 -73.609700  2021-05-03T18:32:06-0400         medium   \n",
       "\n",
       "                        date  \n",
       "0  2021-04-17 16:30:50+00:00  \n",
       "1  2021-05-03 19:40:21+00:00  \n",
       "2  2021-04-28 10:52:20+00:00  \n",
       "3  2021-04-17 14:08:57+00:00  \n",
       "4  2021-05-03 22:32:06+00:00  "
      ]
     },
     "execution_count": 2,
     "metadata": {},
     "output_type": "execute_result"
    }
   ],
   "source": [
    "df_types = pd.read_csv('C:/Users/felix/18/df_types.csv')\n",
    "df_out = df_types.copy()\n",
    "df_out.head()"
   ]
  },
  {
   "cell_type": "markdown",
   "id": "he1RJOZhMMOu",
   "metadata": {
    "id": "he1RJOZhMMOu"
   },
   "source": [
    "Продолжим исследовать уже известный признак с количеством пройденных миль транспортным средством. Выведем статистики по этому признаку.\n"
   ]
  },
  {
   "cell_type": "code",
   "execution_count": 3,
   "id": "13156c1e",
   "metadata": {
    "id": "13156c1e",
    "outputId": "dd980701-f282-4aa6-a1da-569ebc3decad"
   },
   "outputs": [
    {
     "data": {
      "text/plain": [
       "count    1.000000e+04\n",
       "mean     9.567468e+04\n",
       "std      8.647265e+04\n",
       "min      0.000000e+00\n",
       "25%      3.914725e+04\n",
       "50%      8.900000e+04\n",
       "75%      1.368750e+05\n",
       "max      3.245000e+06\n",
       "Name: odometer, dtype: float64"
      ]
     },
     "execution_count": 3,
     "metadata": {},
     "output_type": "execute_result"
    }
   ],
   "source": [
    "df_out['odometer'].describe()"
   ]
  },
  {
   "cell_type": "markdown",
   "id": "2yl7S-8YMOJX",
   "metadata": {
    "id": "2yl7S-8YMOJX"
   },
   "source": [
    "Не самое удобное отображение значений. Давайте укажем, чтобы отображалось только три знака после запятой. С методом `apply` и lambda-выражениями, которые мы использовали, вы познакомитесь позднее. \n",
    "\n"
   ]
  },
  {
   "cell_type": "code",
   "execution_count": 4,
   "id": "52b9be03",
   "metadata": {
    "id": "52b9be03",
    "outputId": "28460420-b751-4b42-aed5-1f91145555c6"
   },
   "outputs": [
    {
     "data": {
      "text/plain": [
       "count      10000.000\n",
       "mean       95674.678\n",
       "std        86472.655\n",
       "min            0.000\n",
       "25%        39147.250\n",
       "50%        89000.000\n",
       "75%       136875.000\n",
       "max      3245000.000\n",
       "Name: odometer, dtype: object"
      ]
     },
     "execution_count": 4,
     "metadata": {},
     "output_type": "execute_result"
    }
   ],
   "source": [
    "df_out['odometer'].describe().apply(lambda x: f'{x:0.3f}')"
   ]
  },
  {
   "cell_type": "markdown",
   "id": "jBpwUTaeMZCZ",
   "metadata": {
    "id": "jBpwUTaeMZCZ"
   },
   "source": [
    "Видим, что средний пробег автомобиля равен почти 100 000 миль. 0,25-й квантиль, или 25-й перцентиль, так как отображён в процентах, равен 39 147, то есть для 25% автомобилей количество миль пробега не превысит данное значение, а 75-й перцентиль — 136 875.  \n",
    "\n",
    "Также посчитать квантиль можно отдельно, с помощью метода `quantile`, передав границу вероятности.\n",
    "\n",
    "\n"
   ]
  },
  {
   "cell_type": "code",
   "execution_count": 5,
   "id": "d1dabceb",
   "metadata": {
    "id": "d1dabceb",
    "outputId": "7aa8dc62-da0b-4ac2-e7af-75b879b13285"
   },
   "outputs": [
    {
     "data": {
      "text/plain": [
       "136875.0"
      ]
     },
     "execution_count": 5,
     "metadata": {},
     "output_type": "execute_result"
    }
   ],
   "source": [
    "df_out['odometer'].quantile(0.75)"
   ]
  },
  {
   "cell_type": "markdown",
   "id": "VjfKXihQMhbA",
   "metadata": {
    "id": "VjfKXihQMhbA"
   },
   "source": [
    "При этом максимальное значение выбивается из выборки почти на порядок и, вероятно, является выбросом. Найдём пороги для отнесения значения к выбросам.\n",
    "\n",
    "Напишем функцию, вычисляющую границы, в которые должны попадать нормальные значения. Нижняя граница рассчитывается как разница между нижним квартилем и интерквартильным размахом, помноженным на 1,5, а верхняя — как сумма интерквартильного размаха и верхнего квартиля, умноженного на 1,5.\n",
    "\n",
    "\n"
   ]
  },
  {
   "cell_type": "code",
   "execution_count": 6,
   "id": "0c093f15",
   "metadata": {
    "id": "0c093f15"
   },
   "outputs": [],
   "source": [
    "def calculate_outliers(data):\n",
    "    q25 = data.quantile(0.25)\n",
    "    q75 = data.quantile(0.75)\n",
    "    iqr = q75 - q25\n",
    "    boundaries = (q25 - 1.5 * iqr, q75 + 1.5 * iqr)\n",
    "\n",
    "    return boundaries"
   ]
  },
  {
   "cell_type": "markdown",
   "id": "VTZwfUNzMs7X",
   "metadata": {
    "id": "VTZwfUNzMs7X"
   },
   "source": [
    "Выведем  границы с помощью нашей функции.\n",
    "\n"
   ]
  },
  {
   "cell_type": "code",
   "execution_count": 7,
   "id": "de8c21eb",
   "metadata": {
    "id": "de8c21eb",
    "outputId": "96fc6aec-697e-4243-b80e-0f8101704b34"
   },
   "outputs": [
    {
     "data": {
      "text/plain": [
       "(-107444.375, 283466.625)"
      ]
     },
     "execution_count": 7,
     "metadata": {},
     "output_type": "execute_result"
    }
   ],
   "source": [
    "boundaries = calculate_outliers(df_out['odometer'])\n",
    "boundaries"
   ]
  },
  {
   "cell_type": "markdown",
   "id": "MGIi_-BlMuud",
   "metadata": {
    "id": "MGIi_-BlMuud"
   },
   "source": [
    "Итого нормальные значения выборки должны быть от −107444.375 до 283466.625. У нас значения пробега в выборке больше нуля, но нижняя граница получилась отрицательная, что меньше минимального значения, поэтому среди минимальных значений выбросов нет.\n",
    "\n",
    "Если посмотреть на статистики, то видно, что верхняя граница меньше максимального значения, поэтому как минимум одно значение является выбросом.\n",
    "\n",
    "Давайте найдём все выбросы. \n",
    "Запишем в переменную `is_outlier` информацию о том, какие значения меньше нижней границы или больше верхней.\n",
    "\n"
   ]
  },
  {
   "cell_type": "code",
   "execution_count": 8,
   "id": "07029afc",
   "metadata": {
    "id": "07029afc",
    "outputId": "6d0d326a-aae1-4602-8013-d464a5955b3f"
   },
   "outputs": [
    {
     "data": {
      "text/plain": [
       "0       False\n",
       "1       False\n",
       "2       False\n",
       "3       False\n",
       "4       False\n",
       "        ...  \n",
       "9995    False\n",
       "9996    False\n",
       "9997    False\n",
       "9998    False\n",
       "9999    False\n",
       "Name: odometer, Length: 10000, dtype: bool"
      ]
     },
     "execution_count": 8,
     "metadata": {},
     "output_type": "execute_result"
    }
   ],
   "source": [
    "is_outlier = (df_out['odometer'] < boundaries[0]) | (df_out['odometer'] > boundaries[1])\n",
    "is_outlier"
   ]
  },
  {
   "cell_type": "markdown",
   "id": "NcF_wB0ZM8cW",
   "metadata": {
    "id": "NcF_wB0ZM8cW"
   },
   "source": [
    "Посчитаем количество таких значений.\n",
    "\n"
   ]
  },
  {
   "cell_type": "code",
   "execution_count": 9,
   "id": "f24dcb27",
   "metadata": {
    "id": "f24dcb27",
    "outputId": "17fee25e-c74a-4168-f0a5-9f3b9a2b50ff"
   },
   "outputs": [
    {
     "data": {
      "text/plain": [
       "91"
      ]
     },
     "execution_count": 9,
     "metadata": {},
     "output_type": "execute_result"
    }
   ],
   "source": [
    "is_outlier.sum()"
   ]
  },
  {
   "cell_type": "code",
   "execution_count": 10,
   "id": "7d853faa",
   "metadata": {
    "id": "7d853faa",
    "outputId": "28766f37-3af6-4526-94d8-5f29f68ec92d"
   },
   "outputs": [
    {
     "data": {
      "text/plain": [
       "0.0091"
      ]
     },
     "execution_count": 10,
     "metadata": {},
     "output_type": "execute_result"
    }
   ],
   "source": [
    "is_outlier.sum() / len(df_out)"
   ]
  },
  {
   "cell_type": "markdown",
   "id": "3yo9hubhM-VF",
   "metadata": {
    "id": "3yo9hubhM-VF"
   },
   "source": [
    "Доля выбросов меньше 1%, что неплохо.\n",
    "Выведем строки с предполагаемыми выбросами.\n",
    "\n",
    "\n"
   ]
  },
  {
   "cell_type": "code",
   "execution_count": 11,
   "id": "3f394b25",
   "metadata": {
    "id": "3f394b25",
    "outputId": "da376285-da85-462f-f756-0c1e9655d37e",
    "scrolled": true,
    "tags": []
   },
   "outputs": [
    {
     "data": {
      "text/html": [
       "<div>\n",
       "<style scoped>\n",
       "    .dataframe tbody tr th:only-of-type {\n",
       "        vertical-align: middle;\n",
       "    }\n",
       "\n",
       "    .dataframe tbody tr th {\n",
       "        vertical-align: top;\n",
       "    }\n",
       "\n",
       "    .dataframe thead th {\n",
       "        text-align: right;\n",
       "    }\n",
       "</style>\n",
       "<table border=\"1\" class=\"dataframe\">\n",
       "  <thead>\n",
       "    <tr style=\"text-align: right;\">\n",
       "      <th></th>\n",
       "      <th>id</th>\n",
       "      <th>url</th>\n",
       "      <th>region</th>\n",
       "      <th>region_url</th>\n",
       "      <th>price</th>\n",
       "      <th>year</th>\n",
       "      <th>manufacturer</th>\n",
       "      <th>model</th>\n",
       "      <th>fuel</th>\n",
       "      <th>odometer</th>\n",
       "      <th>title_status</th>\n",
       "      <th>transmission</th>\n",
       "      <th>image_url</th>\n",
       "      <th>description</th>\n",
       "      <th>state</th>\n",
       "      <th>lat</th>\n",
       "      <th>long</th>\n",
       "      <th>posting_date</th>\n",
       "      <th>price_category</th>\n",
       "      <th>date</th>\n",
       "    </tr>\n",
       "  </thead>\n",
       "  <tbody>\n",
       "    <tr>\n",
       "      <th>27</th>\n",
       "      <td>7311516735</td>\n",
       "      <td>https://easttexas.craigslist.org/cto/d/lufkin-...</td>\n",
       "      <td>tyler / east TX</td>\n",
       "      <td>https://easttexas.craigslist.org</td>\n",
       "      <td>17000</td>\n",
       "      <td>2003.0</td>\n",
       "      <td>dodge</td>\n",
       "      <td>3500</td>\n",
       "      <td>diesel</td>\n",
       "      <td>307000</td>\n",
       "      <td>clean</td>\n",
       "      <td>automatic</td>\n",
       "      <td>https://images.craigslist.org/00Q0Q_8WsRzpw9LV...</td>\n",
       "      <td>2003 Dodge 3500 4x4 diesel dually. It has 307k...</td>\n",
       "      <td>tx</td>\n",
       "      <td>31.270000</td>\n",
       "      <td>-94.646900</td>\n",
       "      <td>2021-04-23T14:27:25-0500</td>\n",
       "      <td>medium</td>\n",
       "      <td>2021-04-23 19:27:25+00:00</td>\n",
       "    </tr>\n",
       "    <tr>\n",
       "      <th>114</th>\n",
       "      <td>7310943842</td>\n",
       "      <td>https://showlow.craigslist.org/ctd/d/pinetop-2...</td>\n",
       "      <td>show low</td>\n",
       "      <td>https://showlow.craigslist.org</td>\n",
       "      <td>2795</td>\n",
       "      <td>2004.0</td>\n",
       "      <td>mazda</td>\n",
       "      <td>tribute</td>\n",
       "      <td>gas</td>\n",
       "      <td>999999</td>\n",
       "      <td>clean</td>\n",
       "      <td>automatic</td>\n",
       "      <td>https://images.craigslist.org/00y0y_9hjvC3qkk3...</td>\n",
       "      <td>ACCUSHINE AUTO SALES 1827 E. WHITE MTN. BLVD. ...</td>\n",
       "      <td>az</td>\n",
       "      <td>34.117500</td>\n",
       "      <td>-109.919700</td>\n",
       "      <td>2021-04-22T10:52:07-0700</td>\n",
       "      <td>low</td>\n",
       "      <td>2021-04-22 17:52:07+00:00</td>\n",
       "    </tr>\n",
       "    <tr>\n",
       "      <th>385</th>\n",
       "      <td>7306101528</td>\n",
       "      <td>https://desmoines.craigslist.org/ctd/d/windom-...</td>\n",
       "      <td>des moines</td>\n",
       "      <td>https://desmoines.craigslist.org</td>\n",
       "      <td>59950</td>\n",
       "      <td>2013.0</td>\n",
       "      <td>other</td>\n",
       "      <td>CATERPILLAR CT660S</td>\n",
       "      <td>diesel</td>\n",
       "      <td>345256</td>\n",
       "      <td>clean</td>\n",
       "      <td>automatic</td>\n",
       "      <td>https://images.craigslist.org/00I0I_UkoGuDPqYZ...</td>\n",
       "      <td>LA MOTORSPORTS DIESELTRUCKSMN.COM  2013 CATERP...</td>\n",
       "      <td>ia</td>\n",
       "      <td>43.863689</td>\n",
       "      <td>-95.113792</td>\n",
       "      <td>2021-04-13T08:34:24-0500</td>\n",
       "      <td>high</td>\n",
       "      <td>2021-04-13 13:34:24+00:00</td>\n",
       "    </tr>\n",
       "    <tr>\n",
       "      <th>444</th>\n",
       "      <td>7304168190</td>\n",
       "      <td>https://elpaso.craigslist.org/ctd/d/las-cruces...</td>\n",
       "      <td>el paso</td>\n",
       "      <td>https://elpaso.craigslist.org</td>\n",
       "      <td>16999</td>\n",
       "      <td>2016.0</td>\n",
       "      <td>jeep</td>\n",
       "      <td>renegade</td>\n",
       "      <td>gas</td>\n",
       "      <td>999999</td>\n",
       "      <td>clean</td>\n",
       "      <td>automatic</td>\n",
       "      <td>https://images.craigslist.org/00Q0Q_ajHii9qB6e...</td>\n",
       "      <td>‘16 Jeep Renegade Limited, auto, air, power wi...</td>\n",
       "      <td>tx</td>\n",
       "      <td>32.288990</td>\n",
       "      <td>-106.781616</td>\n",
       "      <td>2021-04-09T09:26:05-0600</td>\n",
       "      <td>medium</td>\n",
       "      <td>2021-04-09 15:26:05+00:00</td>\n",
       "    </tr>\n",
       "    <tr>\n",
       "      <th>552</th>\n",
       "      <td>7314722320</td>\n",
       "      <td>https://nh.craigslist.org/ctd/d/medford-2015-h...</td>\n",
       "      <td>new hampshire</td>\n",
       "      <td>https://nh.craigslist.org</td>\n",
       "      <td>26500</td>\n",
       "      <td>2015.0</td>\n",
       "      <td>other</td>\n",
       "      <td>HINO 268A</td>\n",
       "      <td>diesel</td>\n",
       "      <td>429194</td>\n",
       "      <td>clean</td>\n",
       "      <td>automatic</td>\n",
       "      <td>https://images.craigslist.org/01111_aEpkHS4iop...</td>\n",
       "      <td>2015 HINO 268A 24' REFRIG NCDL 260 HP, ALLISIO...</td>\n",
       "      <td>nh</td>\n",
       "      <td>42.417300</td>\n",
       "      <td>-71.108700</td>\n",
       "      <td>2021-04-30T07:30:45-0400</td>\n",
       "      <td>high</td>\n",
       "      <td>2021-04-30 11:30:45+00:00</td>\n",
       "    </tr>\n",
       "    <tr>\n",
       "      <th>...</th>\n",
       "      <td>...</td>\n",
       "      <td>...</td>\n",
       "      <td>...</td>\n",
       "      <td>...</td>\n",
       "      <td>...</td>\n",
       "      <td>...</td>\n",
       "      <td>...</td>\n",
       "      <td>...</td>\n",
       "      <td>...</td>\n",
       "      <td>...</td>\n",
       "      <td>...</td>\n",
       "      <td>...</td>\n",
       "      <td>...</td>\n",
       "      <td>...</td>\n",
       "      <td>...</td>\n",
       "      <td>...</td>\n",
       "      <td>...</td>\n",
       "      <td>...</td>\n",
       "      <td>...</td>\n",
       "      <td>...</td>\n",
       "    </tr>\n",
       "    <tr>\n",
       "      <th>9157</th>\n",
       "      <td>7314148003</td>\n",
       "      <td>https://kansascity.craigslist.org/cto/d/lees-s...</td>\n",
       "      <td>kansas city, MO</td>\n",
       "      <td>https://kansascity.craigslist.org</td>\n",
       "      <td>2999</td>\n",
       "      <td>2010.0</td>\n",
       "      <td>chevrolet</td>\n",
       "      <td>hhr ls</td>\n",
       "      <td>gas</td>\n",
       "      <td>344000</td>\n",
       "      <td>clean</td>\n",
       "      <td>automatic</td>\n",
       "      <td>https://images.craigslist.org/00n0n_h4YYCjZeD9...</td>\n",
       "      <td>2010 CHEVY HHR LS --- POWER LOCKS/WINDOWS/MIRR...</td>\n",
       "      <td>ks</td>\n",
       "      <td>38.851800</td>\n",
       "      <td>-94.394400</td>\n",
       "      <td>2021-04-28T20:15:49-0500</td>\n",
       "      <td>low</td>\n",
       "      <td>2021-04-29 01:15:49+00:00</td>\n",
       "    </tr>\n",
       "    <tr>\n",
       "      <th>9275</th>\n",
       "      <td>7313696556</td>\n",
       "      <td>https://mcallen.craigslist.org/cto/d/mcallen-2...</td>\n",
       "      <td>mcallen / edinburg</td>\n",
       "      <td>https://mcallen.craigslist.org</td>\n",
       "      <td>4500</td>\n",
       "      <td>2003.0</td>\n",
       "      <td>chevrolet</td>\n",
       "      <td>avalanche</td>\n",
       "      <td>gas</td>\n",
       "      <td>298968</td>\n",
       "      <td>clean</td>\n",
       "      <td>automatic</td>\n",
       "      <td>https://images.craigslist.org/00m0m_ey8pcui9d1...</td>\n",
       "      <td>Vendo mi Chevrolet Avalanche 2003 que está en ...</td>\n",
       "      <td>tx</td>\n",
       "      <td>26.215400</td>\n",
       "      <td>-98.235900</td>\n",
       "      <td>2021-04-27T23:10:38-0500</td>\n",
       "      <td>low</td>\n",
       "      <td>2021-04-28 04:10:38+00:00</td>\n",
       "    </tr>\n",
       "    <tr>\n",
       "      <th>9389</th>\n",
       "      <td>7306697432</td>\n",
       "      <td>https://knoxville.craigslist.org/cto/d/knoxvil...</td>\n",
       "      <td>knoxville</td>\n",
       "      <td>https://knoxville.craigslist.org</td>\n",
       "      <td>3550</td>\n",
       "      <td>2012.0</td>\n",
       "      <td>nissan</td>\n",
       "      <td>nv2500</td>\n",
       "      <td>gas</td>\n",
       "      <td>370000</td>\n",
       "      <td>clean</td>\n",
       "      <td>automatic</td>\n",
       "      <td>https://images.craigslist.org/00404_guoJBc6u6o...</td>\n",
       "      <td>Good running and driving van</td>\n",
       "      <td>tn</td>\n",
       "      <td>35.991800</td>\n",
       "      <td>-83.849600</td>\n",
       "      <td>2021-04-14T11:54:41-0400</td>\n",
       "      <td>low</td>\n",
       "      <td>2021-04-14 15:54:41+00:00</td>\n",
       "    </tr>\n",
       "    <tr>\n",
       "      <th>9500</th>\n",
       "      <td>7311709925</td>\n",
       "      <td>https://greatfalls.craigslist.org/cto/d/havre-...</td>\n",
       "      <td>great falls</td>\n",
       "      <td>https://greatfalls.craigslist.org</td>\n",
       "      <td>7000</td>\n",
       "      <td>2005.0</td>\n",
       "      <td>chevrolet</td>\n",
       "      <td>silverado</td>\n",
       "      <td>gas</td>\n",
       "      <td>290000</td>\n",
       "      <td>clean</td>\n",
       "      <td>automatic</td>\n",
       "      <td>https://images.craigslist.org/00808_hX52l6571o...</td>\n",
       "      <td>2005 Chevy 1500 LS, has 290k miles on it but h...</td>\n",
       "      <td>mt</td>\n",
       "      <td>48.542862</td>\n",
       "      <td>-109.695310</td>\n",
       "      <td>2021-04-23T20:41:47-0600</td>\n",
       "      <td>low</td>\n",
       "      <td>2021-04-24 02:41:47+00:00</td>\n",
       "    </tr>\n",
       "    <tr>\n",
       "      <th>9792</th>\n",
       "      <td>7305237859</td>\n",
       "      <td>https://delaware.craigslist.org/cto/d/delaware...</td>\n",
       "      <td>delaware</td>\n",
       "      <td>https://delaware.craigslist.org</td>\n",
       "      <td>1000000</td>\n",
       "      <td>2022.0</td>\n",
       "      <td>other</td>\n",
       "      <td>Any make any model</td>\n",
       "      <td>other</td>\n",
       "      <td>364747</td>\n",
       "      <td>clean</td>\n",
       "      <td>other</td>\n",
       "      <td>https://images.craigslist.org/00S0S_k3A68PVXRC...</td>\n",
       "      <td>We come to you and give you an easy quick tran...</td>\n",
       "      <td>de</td>\n",
       "      <td>39.572500</td>\n",
       "      <td>-75.595700</td>\n",
       "      <td>2021-04-11T13:51:42-0400</td>\n",
       "      <td>high</td>\n",
       "      <td>2021-04-11 17:51:42+00:00</td>\n",
       "    </tr>\n",
       "  </tbody>\n",
       "</table>\n",
       "<p>91 rows × 20 columns</p>\n",
       "</div>"
      ],
      "text/plain": [
       "              id                                                url  \\\n",
       "27    7311516735  https://easttexas.craigslist.org/cto/d/lufkin-...   \n",
       "114   7310943842  https://showlow.craigslist.org/ctd/d/pinetop-2...   \n",
       "385   7306101528  https://desmoines.craigslist.org/ctd/d/windom-...   \n",
       "444   7304168190  https://elpaso.craigslist.org/ctd/d/las-cruces...   \n",
       "552   7314722320  https://nh.craigslist.org/ctd/d/medford-2015-h...   \n",
       "...          ...                                                ...   \n",
       "9157  7314148003  https://kansascity.craigslist.org/cto/d/lees-s...   \n",
       "9275  7313696556  https://mcallen.craigslist.org/cto/d/mcallen-2...   \n",
       "9389  7306697432  https://knoxville.craigslist.org/cto/d/knoxvil...   \n",
       "9500  7311709925  https://greatfalls.craigslist.org/cto/d/havre-...   \n",
       "9792  7305237859  https://delaware.craigslist.org/cto/d/delaware...   \n",
       "\n",
       "                  region                         region_url    price    year  \\\n",
       "27       tyler / east TX   https://easttexas.craigslist.org    17000  2003.0   \n",
       "114             show low     https://showlow.craigslist.org     2795  2004.0   \n",
       "385           des moines   https://desmoines.craigslist.org    59950  2013.0   \n",
       "444              el paso      https://elpaso.craigslist.org    16999  2016.0   \n",
       "552        new hampshire          https://nh.craigslist.org    26500  2015.0   \n",
       "...                  ...                                ...      ...     ...   \n",
       "9157     kansas city, MO  https://kansascity.craigslist.org     2999  2010.0   \n",
       "9275  mcallen / edinburg     https://mcallen.craigslist.org     4500  2003.0   \n",
       "9389           knoxville   https://knoxville.craigslist.org     3550  2012.0   \n",
       "9500         great falls  https://greatfalls.craigslist.org     7000  2005.0   \n",
       "9792            delaware    https://delaware.craigslist.org  1000000  2022.0   \n",
       "\n",
       "     manufacturer               model    fuel  odometer title_status  \\\n",
       "27          dodge                3500  diesel    307000        clean   \n",
       "114         mazda             tribute     gas    999999        clean   \n",
       "385         other  CATERPILLAR CT660S  diesel    345256        clean   \n",
       "444          jeep            renegade     gas    999999        clean   \n",
       "552         other           HINO 268A  diesel    429194        clean   \n",
       "...           ...                 ...     ...       ...          ...   \n",
       "9157    chevrolet              hhr ls     gas    344000        clean   \n",
       "9275    chevrolet           avalanche     gas    298968        clean   \n",
       "9389       nissan              nv2500     gas    370000        clean   \n",
       "9500    chevrolet           silverado     gas    290000        clean   \n",
       "9792        other  Any make any model   other    364747        clean   \n",
       "\n",
       "     transmission                                          image_url  \\\n",
       "27      automatic  https://images.craigslist.org/00Q0Q_8WsRzpw9LV...   \n",
       "114     automatic  https://images.craigslist.org/00y0y_9hjvC3qkk3...   \n",
       "385     automatic  https://images.craigslist.org/00I0I_UkoGuDPqYZ...   \n",
       "444     automatic  https://images.craigslist.org/00Q0Q_ajHii9qB6e...   \n",
       "552     automatic  https://images.craigslist.org/01111_aEpkHS4iop...   \n",
       "...           ...                                                ...   \n",
       "9157    automatic  https://images.craigslist.org/00n0n_h4YYCjZeD9...   \n",
       "9275    automatic  https://images.craigslist.org/00m0m_ey8pcui9d1...   \n",
       "9389    automatic  https://images.craigslist.org/00404_guoJBc6u6o...   \n",
       "9500    automatic  https://images.craigslist.org/00808_hX52l6571o...   \n",
       "9792        other  https://images.craigslist.org/00S0S_k3A68PVXRC...   \n",
       "\n",
       "                                            description state        lat  \\\n",
       "27    2003 Dodge 3500 4x4 diesel dually. It has 307k...    tx  31.270000   \n",
       "114   ACCUSHINE AUTO SALES 1827 E. WHITE MTN. BLVD. ...    az  34.117500   \n",
       "385   LA MOTORSPORTS DIESELTRUCKSMN.COM  2013 CATERP...    ia  43.863689   \n",
       "444   ‘16 Jeep Renegade Limited, auto, air, power wi...    tx  32.288990   \n",
       "552   2015 HINO 268A 24' REFRIG NCDL 260 HP, ALLISIO...    nh  42.417300   \n",
       "...                                                 ...   ...        ...   \n",
       "9157  2010 CHEVY HHR LS --- POWER LOCKS/WINDOWS/MIRR...    ks  38.851800   \n",
       "9275  Vendo mi Chevrolet Avalanche 2003 que está en ...    tx  26.215400   \n",
       "9389                       Good running and driving van    tn  35.991800   \n",
       "9500  2005 Chevy 1500 LS, has 290k miles on it but h...    mt  48.542862   \n",
       "9792  We come to you and give you an easy quick tran...    de  39.572500   \n",
       "\n",
       "            long              posting_date price_category  \\\n",
       "27    -94.646900  2021-04-23T14:27:25-0500         medium   \n",
       "114  -109.919700  2021-04-22T10:52:07-0700            low   \n",
       "385   -95.113792  2021-04-13T08:34:24-0500           high   \n",
       "444  -106.781616  2021-04-09T09:26:05-0600         medium   \n",
       "552   -71.108700  2021-04-30T07:30:45-0400           high   \n",
       "...          ...                       ...            ...   \n",
       "9157  -94.394400  2021-04-28T20:15:49-0500            low   \n",
       "9275  -98.235900  2021-04-27T23:10:38-0500            low   \n",
       "9389  -83.849600  2021-04-14T11:54:41-0400            low   \n",
       "9500 -109.695310  2021-04-23T20:41:47-0600            low   \n",
       "9792  -75.595700  2021-04-11T13:51:42-0400           high   \n",
       "\n",
       "                           date  \n",
       "27    2021-04-23 19:27:25+00:00  \n",
       "114   2021-04-22 17:52:07+00:00  \n",
       "385   2021-04-13 13:34:24+00:00  \n",
       "444   2021-04-09 15:26:05+00:00  \n",
       "552   2021-04-30 11:30:45+00:00  \n",
       "...                         ...  \n",
       "9157  2021-04-29 01:15:49+00:00  \n",
       "9275  2021-04-28 04:10:38+00:00  \n",
       "9389  2021-04-14 15:54:41+00:00  \n",
       "9500  2021-04-24 02:41:47+00:00  \n",
       "9792  2021-04-11 17:51:42+00:00  \n",
       "\n",
       "[91 rows x 20 columns]"
      ]
     },
     "execution_count": 11,
     "metadata": {},
     "output_type": "execute_result"
    }
   ],
   "source": [
    "df_out[is_outlier]"
   ]
  },
  {
   "cell_type": "markdown",
   "id": "_y_Vrzu3NDyp",
   "metadata": {
    "id": "_y_Vrzu3NDyp"
   },
   "source": [
    "Можно внимательно изучить их, чтобы понять, есть ли какая-то зависимость между аномальным значением и другими признаками (тогда его стоит оставить для учёта этой аномалии) или это выброс.\n",
    "\n",
    "Например, все автомобили с большим пробегом могут входить в низкую ценовую категорию или быть произведены очень давно, и поэтому год выпуска этих автомобилей будет находиться среди минимальных значений в выборке. Зависимости мы будем исследовать позднее, а сейчас заменим найденные выбросы. Если для пропущенных значений обычно выбирают средние значения, то для выбросов выбирают значения границ. Выбросы у нас только среди максимальных значений, поэтому заменим их верхним граничным значением. \n"
   ]
  },
  {
   "cell_type": "code",
   "execution_count": 12,
   "id": "391c151b",
   "metadata": {
    "id": "391c151b"
   },
   "outputs": [],
   "source": [
    "df_out.loc[is_outlier, 'odometer'] = int(boundaries[1])"
   ]
  },
  {
   "cell_type": "markdown",
   "id": "FbH3kTxpNOOG",
   "metadata": {
    "id": "FbH3kTxpNOOG"
   },
   "source": [
    "Проверим, что получилось.\n",
    "\n"
   ]
  },
  {
   "cell_type": "code",
   "execution_count": 14,
   "id": "893335d2",
   "metadata": {
    "id": "893335d2",
    "outputId": "714327ca-b30d-47e3-82c2-97c83e888423"
   },
   "outputs": [
    {
     "data": {
      "text/plain": [
       "count     10000.00000\n",
       "mean      93324.13400\n",
       "std       63181.17499\n",
       "min           0.00000\n",
       "25%       39147.25000\n",
       "50%       89000.00000\n",
       "75%      136875.00000\n",
       "max      283466.00000\n",
       "Name: odometer, dtype: float64"
      ]
     },
     "execution_count": 14,
     "metadata": {},
     "output_type": "execute_result"
    }
   ],
   "source": [
    "df_out['odometer'].describe()"
   ]
  },
  {
   "cell_type": "code",
   "execution_count": 15,
   "id": "844cf3cf",
   "metadata": {
    "id": "844cf3cf",
    "outputId": "08bb39dd-834d-46d4-eacd-bd5530ddf800"
   },
   "outputs": [
    {
     "data": {
      "text/plain": [
       "(-107444.375, 283466.625)"
      ]
     },
     "execution_count": 15,
     "metadata": {},
     "output_type": "execute_result"
    }
   ],
   "source": [
    "calculate_outliers(df_out['odometer'])"
   ]
  },
  {
   "cell_type": "markdown",
   "id": "Udrb0nxcNPod",
   "metadata": {
    "id": "Udrb0nxcNPod"
   },
   "source": [
    "Максимум уменьшился и стал тем числом, которое мы задали. За счёт замены больших значений чуть меньшими уменьшилось и среднее.\n",
    "А если посмотреть ещё раз на границы распределения, то мы увидим, что наша выборка теперь вписывается в эти границы."
   ]
  },
  {
   "cell_type": "code",
   "execution_count": 16,
   "id": "abe579da",
   "metadata": {
    "id": "abe579da"
   },
   "outputs": [],
   "source": [
    "df_out.to_csv('C:/Users/felix/18/df_out.csv', index=False)"
   ]
  }
 ],
 "metadata": {
  "colab": {
   "collapsed_sections": [],
   "provenance": []
  },
  "kernelspec": {
   "display_name": "Python 3 (ipykernel)",
   "language": "python",
   "name": "python3"
  },
  "language_info": {
   "codemirror_mode": {
    "name": "ipython",
    "version": 3
   },
   "file_extension": ".py",
   "mimetype": "text/x-python",
   "name": "python",
   "nbconvert_exporter": "python",
   "pygments_lexer": "ipython3",
   "version": "3.9.12"
  }
 },
 "nbformat": 4,
 "nbformat_minor": 5
}
